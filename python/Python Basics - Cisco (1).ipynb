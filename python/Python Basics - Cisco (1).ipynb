{
 "cells": [
  {
   "cell_type": "markdown",
   "id": "9a896f63-97e8-4bda-817f-37950c0336d6",
   "metadata": {},
   "source": [
    "Python Basics"
   ]
  },
  {
   "cell_type": "markdown",
   "id": "e5525efa-f0c7-4657-a05c-3556de62184c",
   "metadata": {},
   "source": [
    "# Python Basics"
   ]
  },
  {
   "cell_type": "markdown",
   "id": "55c2cb5b-829f-41b5-81b1-3f07c4f88e26",
   "metadata": {},
   "source": [
    "## Python Basics"
   ]
  },
  {
   "cell_type": "code",
   "execution_count": null,
   "id": "ad39c82e-914f-4574-891c-c9e8e2038e94",
   "metadata": {},
   "outputs": [],
   "source": [
    "keyboard shortcuts\n",
    "\n",
    "a - to create a cell above any selected cell\n",
    "b - to create a cell below any selected cell\n",
    "dd - to delete a selected cell \n",
    "Esc + m - to convert a cell to markdown"
   ]
  },
  {
   "cell_type": "code",
   "execution_count": 2,
   "id": "4d137f81-796c-4f9b-9663-63fdd83b6608",
   "metadata": {},
   "outputs": [
    {
     "data": {
      "text/plain": [
       "202"
      ]
     },
     "execution_count": 2,
     "metadata": {},
     "output_type": "execute_result"
    }
   ],
   "source": [
    "12+23+89+78  # shift + enter to execute codes"
   ]
  },
  {
   "cell_type": "code",
   "execution_count": 4,
   "id": "20c7da1c-550d-4944-ade2-748b828018f6",
   "metadata": {},
   "outputs": [
    {
     "data": {
      "text/plain": [
       "218"
      ]
     },
     "execution_count": 4,
     "metadata": {},
     "output_type": "execute_result"
    }
   ],
   "source": [
    "12+23+89+78\n",
    "+98+78+42\n",
    "\n",
    "# One instruction in mutltiple lines - only last line is printed"
   ]
  },
  {
   "cell_type": "code",
   "execution_count": 7,
   "id": "85ea5fdd-4f17-4298-bbf6-6d867e004d61",
   "metadata": {},
   "outputs": [
    {
     "data": {
      "text/plain": [
       "420"
      ]
     },
     "execution_count": 7,
     "metadata": {},
     "output_type": "execute_result"
    }
   ],
   "source": [
    "# Line continuation operator\n",
    "# multiline comments -  use ctrl + /\n",
    "# addition of numbers - operation\n",
    "# spead in multiple lines\n",
    "\n",
    "12+23+89+78\\\n",
    "+98+78+42"
   ]
  },
  {
   "cell_type": "code",
   "execution_count": 8,
   "id": "20f674d5-0d34-49cc-aa71-8b71a62ae5f2",
   "metadata": {},
   "outputs": [
    {
     "data": {
      "text/plain": [
       "420"
      ]
     },
     "execution_count": 8,
     "metadata": {},
     "output_type": "execute_result"
    }
   ],
   "source": [
    "(12+23+89+78\n",
    "+98+78+42)"
   ]
  },
  {
   "cell_type": "code",
   "execution_count": 9,
   "id": "9ec598f6-0724-40aa-ab3f-3a89667346b5",
   "metadata": {},
   "outputs": [
    {
     "data": {
      "text/plain": [
       "[420]"
      ]
     },
     "execution_count": 9,
     "metadata": {},
     "output_type": "execute_result"
    }
   ],
   "source": [
    "[12+23+89+78\n",
    "+98+78+42]"
   ]
  },
  {
   "cell_type": "code",
   "execution_count": 10,
   "id": "cbd0b6fb-240b-4561-844f-1307c9f3ab1d",
   "metadata": {},
   "outputs": [
    {
     "data": {
      "text/plain": [
       "{420}"
      ]
     },
     "execution_count": 10,
     "metadata": {},
     "output_type": "execute_result"
    }
   ],
   "source": [
    "{12+23+89+78\n",
    "+98+78+42}"
   ]
  },
  {
   "cell_type": "markdown",
   "id": "4668b0d5-7060-4bc3-b166-a726810c1e43",
   "metadata": {},
   "source": [
    "## Assignment Operation"
   ]
  },
  {
   "cell_type": "code",
   "execution_count": 11,
   "id": "45e68477-edea-497d-a090-e64efc75004d",
   "metadata": {},
   "outputs": [],
   "source": [
    "x = 2"
   ]
  },
  {
   "cell_type": "code",
   "execution_count": 12,
   "id": "b3c1b346-ea04-4bb7-8ed8-461a34e11a3b",
   "metadata": {},
   "outputs": [],
   "source": [
    "x = x + 2"
   ]
  },
  {
   "cell_type": "code",
   "execution_count": 14,
   "id": "e248e918-7f6f-42bc-a57a-2b9c0acc588e",
   "metadata": {},
   "outputs": [
    {
     "name": "stdout",
     "output_type": "stream",
     "text": [
      "4\n"
     ]
    }
   ],
   "source": [
    "print(x)  # explicit printing"
   ]
  },
  {
   "cell_type": "code",
   "execution_count": 15,
   "id": "1c93dbc2-eda1-4c2c-8be5-4e6a38e851a2",
   "metadata": {},
   "outputs": [
    {
     "data": {
      "text/plain": [
       "4"
      ]
     },
     "execution_count": 15,
     "metadata": {},
     "output_type": "execute_result"
    }
   ],
   "source": [
    "x"
   ]
  },
  {
   "cell_type": "code",
   "execution_count": 16,
   "id": "9332c2ba-eb7b-46ee-a386-4255faf0e261",
   "metadata": {},
   "outputs": [],
   "source": [
    "y = 5"
   ]
  },
  {
   "cell_type": "code",
   "execution_count": 17,
   "id": "0b988a9d-7473-41c4-a3d2-e2fc4a23d0df",
   "metadata": {},
   "outputs": [
    {
     "data": {
      "text/plain": [
       "5"
      ]
     },
     "execution_count": 17,
     "metadata": {},
     "output_type": "execute_result"
    }
   ],
   "source": [
    "x\n",
    "y"
   ]
  },
  {
   "cell_type": "code",
   "execution_count": 18,
   "id": "774fbc06-29ff-4e7d-9f12-ba5148c4c66f",
   "metadata": {},
   "outputs": [
    {
     "name": "stdout",
     "output_type": "stream",
     "text": [
      "4\n",
      "5\n"
     ]
    }
   ],
   "source": [
    "print(x)\n",
    "print(y)"
   ]
  },
  {
   "cell_type": "code",
   "execution_count": null,
   "id": "c202a35f-231a-4b49-ba16-ae5fb7d9d3e5",
   "metadata": {},
   "outputs": [],
   "source": [
    "Identifier naming convention\n",
    "\n",
    "1. case sensitive\n",
    "2. may start from small/capital alphabets or an underscore\n",
    "3. cannt start with numbers\n",
    "4. dont have to declare explicitly"
   ]
  },
  {
   "cell_type": "code",
   "execution_count": 20,
   "id": "d9f0d786-f879-45ea-9409-a5ac815c746e",
   "metadata": {},
   "outputs": [],
   "source": [
    "x = 4\n",
    "a = b = c = 'Python'  # text(string) values are specified within single(double) quotes\n",
    "p, q, r = \"Shubham\", 40, True\n",
    "\n",
    "s = 15; t = 18; u = 89  # 3(mutiple) instructions in one line"
   ]
  },
  {
   "cell_type": "code",
   "execution_count": 21,
   "id": "e4dbdef2-7045-431c-93bf-e0da05030603",
   "metadata": {},
   "outputs": [
    {
     "name": "stdout",
     "output_type": "stream",
     "text": [
      "4 Python Python Python Shubham 40 True 15 18 89\n"
     ]
    }
   ],
   "source": [
    "print(x, a, b, c, p, q, r, s, t, u)"
   ]
  },
  {
   "cell_type": "code",
   "execution_count": 22,
   "id": "72ae4fc9-a1f8-4e9f-8adf-cd6b64846709",
   "metadata": {},
   "outputs": [
    {
     "name": "stdout",
     "output_type": "stream",
     "text": [
      "Shubham Pandey\n"
     ]
    }
   ],
   "source": [
    "print('Shubham', 'Pandey')"
   ]
  },
  {
   "cell_type": "code",
   "execution_count": 23,
   "id": "dd05dc46-2940-4576-9d4a-4fe767974eb7",
   "metadata": {},
   "outputs": [
    {
     "data": {
      "text/plain": [
       "\u001b[0;31mDocstring:\u001b[0m\n",
       "print(value, ..., sep=' ', end='\\n', file=sys.stdout, flush=False)\n",
       "\n",
       "Prints the values to a stream, or to sys.stdout by default.\n",
       "Optional keyword arguments:\n",
       "file:  a file-like object (stream); defaults to the current sys.stdout.\n",
       "sep:   string inserted between values, default a space.\n",
       "end:   string appended after the last value, default a newline.\n",
       "flush: whether to forcibly flush the stream.\n",
       "\u001b[0;31mType:\u001b[0m      builtin_function_or_method\n"
      ]
     },
     "metadata": {},
     "output_type": "display_data"
    }
   ],
   "source": [
    "?print"
   ]
  },
  {
   "cell_type": "code",
   "execution_count": 24,
   "id": "4934ca97-d0d6-4571-b13d-d189abb153b5",
   "metadata": {},
   "outputs": [
    {
     "name": "stdout",
     "output_type": "stream",
     "text": [
      "ShubhamPandey\n"
     ]
    }
   ],
   "source": [
    "print('Shubham', 'Pandey', sep = '')"
   ]
  },
  {
   "cell_type": "code",
   "execution_count": null,
   "id": "b669b412-528c-4c77-862f-20ff27c47d66",
   "metadata": {},
   "outputs": [],
   "source": [
    "To get the documentation popped up - keep your cursor with in parenthesis and hit  - shift + tab"
   ]
  },
  {
   "cell_type": "markdown",
   "id": "be564cb6-8cf7-41d9-96d1-ac89b52da155",
   "metadata": {},
   "source": [
    "### Basic Data Types"
   ]
  },
  {
   "cell_type": "code",
   "execution_count": 25,
   "id": "2df19c17-c925-403a-bb5c-20e0ffad11c0",
   "metadata": {},
   "outputs": [],
   "source": [
    "a = 5          # int\n",
    "b = 5.0        # float\n",
    "c = 4 + 1j     # complex\n",
    "d = 'hello'    # str\n",
    "e = False      # boolean"
   ]
  },
  {
   "cell_type": "code",
   "execution_count": 26,
   "id": "b4de2ae3-cc5b-4616-ae19-e123e3825d2f",
   "metadata": {},
   "outputs": [
    {
     "data": {
      "text/plain": [
       "int"
      ]
     },
     "execution_count": 26,
     "metadata": {},
     "output_type": "execute_result"
    }
   ],
   "source": [
    "type(a)"
   ]
  },
  {
   "cell_type": "markdown",
   "id": "9420fa56-4213-4e15-82d8-818234cbbb81",
   "metadata": {},
   "source": [
    "## Arithmetic Operators"
   ]
  },
  {
   "cell_type": "code",
   "execution_count": 29,
   "id": "d9cacf29-186e-46ce-86e7-63a92dbfb653",
   "metadata": {},
   "outputs": [
    {
     "data": {
      "text/plain": [
       "90"
      ]
     },
     "execution_count": 29,
     "metadata": {},
     "output_type": "execute_result"
    }
   ],
   "source": [
    "23 + 67  # addition"
   ]
  },
  {
   "cell_type": "code",
   "execution_count": 30,
   "id": "6c08391a-960b-488f-8c1a-0952d6674a8c",
   "metadata": {},
   "outputs": [
    {
     "data": {
      "text/plain": [
       "'shubhampandey'"
      ]
     },
     "execution_count": 30,
     "metadata": {},
     "output_type": "execute_result"
    }
   ],
   "source": [
    "'shubham' + 'pandey'  # concatenation"
   ]
  },
  {
   "cell_type": "code",
   "execution_count": 31,
   "id": "5fe9da93-0dd7-478b-a4b7-67ab07565709",
   "metadata": {},
   "outputs": [
    {
     "data": {
      "text/plain": [
       "6"
      ]
     },
     "execution_count": 31,
     "metadata": {},
     "output_type": "execute_result"
    }
   ],
   "source": [
    "2*3"
   ]
  },
  {
   "cell_type": "code",
   "execution_count": 32,
   "id": "f4d0c213-4838-48a7-82f5-b1c48f17344a",
   "metadata": {},
   "outputs": [
    {
     "data": {
      "text/plain": [
       "'aaaaaa'"
      ]
     },
     "execution_count": 32,
     "metadata": {},
     "output_type": "execute_result"
    }
   ],
   "source": [
    "'a'*6"
   ]
  },
  {
   "cell_type": "code",
   "execution_count": 34,
   "id": "7e6ef173-6b6a-4b8a-b869-86666c4580a8",
   "metadata": {},
   "outputs": [
    {
     "data": {
      "text/plain": [
       "2"
      ]
     },
     "execution_count": 34,
     "metadata": {},
     "output_type": "execute_result"
    }
   ],
   "source": [
    "12%5"
   ]
  },
  {
   "cell_type": "code",
   "execution_count": null,
   "id": "5de153db-7a96-4db0-bc32-cbd154fba0fd",
   "metadata": {},
   "outputs": [],
   "source": [
    "12"
   ]
  },
  {
   "cell_type": "code",
   "execution_count": 35,
   "id": "f72d7cdc-249b-4caa-821b-2161e9074fb0",
   "metadata": {},
   "outputs": [
    {
     "data": {
      "text/plain": [
       "2"
      ]
     },
     "execution_count": 35,
     "metadata": {},
     "output_type": "execute_result"
    }
   ],
   "source": [
    "12//5"
   ]
  },
  {
   "cell_type": "code",
   "execution_count": null,
   "id": "a6584e71-f85c-4a57-892e-41711508792f",
   "metadata": {},
   "outputs": [],
   "source": [
    "+   ---  addition/concatenation\n",
    "-   ---  subtraction\n",
    "*\n",
    "/\n",
    "%   ---  modulus operator - remainder\n",
    "//  ---  integer division or floor division or quotient\n",
    "**  ---  exponentiation"
   ]
  },
  {
   "cell_type": "code",
   "execution_count": 36,
   "id": "98c2c6b0-5706-446c-824d-a1fdc3877257",
   "metadata": {},
   "outputs": [
    {
     "data": {
      "text/plain": [
       "32"
      ]
     },
     "execution_count": 36,
     "metadata": {},
     "output_type": "execute_result"
    }
   ],
   "source": [
    "2**5"
   ]
  },
  {
   "cell_type": "code",
   "execution_count": 37,
   "id": "f6a1d27f-9149-4c85-9016-6438abdb1b1b",
   "metadata": {},
   "outputs": [
    {
     "data": {
      "text/plain": [
       "32"
      ]
     },
     "execution_count": 37,
     "metadata": {},
     "output_type": "execute_result"
    }
   ],
   "source": [
    "pow(2,5)"
   ]
  },
  {
   "cell_type": "code",
   "execution_count": 38,
   "id": "be11438d-1d19-4172-b534-4c3c800d7e32",
   "metadata": {},
   "outputs": [
    {
     "ename": "TypeError",
     "evalue": "can only concatenate str (not \"int\") to str",
     "output_type": "error",
     "traceback": [
      "\u001b[0;31m---------------------------------------------------------------------------\u001b[0m",
      "\u001b[0;31mTypeError\u001b[0m                                 Traceback (most recent call last)",
      "\u001b[0;32m/tmp/ipykernel_88/2709448172.py\u001b[0m in \u001b[0;36m<cell line: 1>\u001b[0;34m()\u001b[0m\n\u001b[0;32m----> 1\u001b[0;31m \u001b[0mvar\u001b[0m \u001b[0;34m=\u001b[0m \u001b[0;34m'I have savings for the month as '\u001b[0m \u001b[0;34m+\u001b[0m \u001b[0;36m2300\u001b[0m\u001b[0;34m\u001b[0m\u001b[0;34m\u001b[0m\u001b[0m\n\u001b[0m",
      "\u001b[0;31mTypeError\u001b[0m: can only concatenate str (not \"int\") to str"
     ]
    }
   ],
   "source": [
    "var = 'I have savings for the month as ' + 2300"
   ]
  },
  {
   "cell_type": "code",
   "execution_count": 39,
   "id": "0c5e9561-2b59-4ef0-899f-d17e5edc894e",
   "metadata": {},
   "outputs": [],
   "source": [
    "var = 'I have savings for the month as ' + str(2300)"
   ]
  },
  {
   "cell_type": "code",
   "execution_count": 40,
   "id": "a0d6f460-fc3f-485e-bdea-0dd553b3c297",
   "metadata": {},
   "outputs": [
    {
     "data": {
      "text/plain": [
       "'I have savings for the month as 2300'"
      ]
     },
     "execution_count": 40,
     "metadata": {},
     "output_type": "execute_result"
    }
   ],
   "source": [
    "var"
   ]
  },
  {
   "cell_type": "code",
   "execution_count": 41,
   "id": "574a54ec-24ef-47b5-859b-fefb404ce01b",
   "metadata": {},
   "outputs": [
    {
     "data": {
      "text/plain": [
       "1"
      ]
     },
     "execution_count": 41,
     "metadata": {},
     "output_type": "execute_result"
    }
   ],
   "source": [
    "int(True)"
   ]
  },
  {
   "cell_type": "code",
   "execution_count": 42,
   "id": "ff7b3638-3d07-407b-b67d-60ebdeedb67d",
   "metadata": {},
   "outputs": [
    {
     "data": {
      "text/plain": [
       "0"
      ]
     },
     "execution_count": 42,
     "metadata": {},
     "output_type": "execute_result"
    }
   ],
   "source": [
    "int(False)"
   ]
  },
  {
   "cell_type": "markdown",
   "id": "f96d60ac-6251-48de-aec8-5258d198ad9f",
   "metadata": {},
   "source": [
    "## Data structures"
   ]
  },
  {
   "cell_type": "code",
   "execution_count": null,
   "id": "dc6698f5-0132-4bc4-ac41-3332c88c89dc",
   "metadata": {},
   "outputs": [],
   "source": [
    "1. list - a mutable ordered collection of hetrogenous/homogenous items\n",
    "2. tuple - a immutable ordered collection of hetrogenous/homogenous items\n",
    "3. set - a mutable unordered collection of unique hetrogenous/homogenous items\n",
    "4. dictionary\n",
    "5. array\n",
    "6. series\n",
    "7. dataframe"
   ]
  },
  {
   "cell_type": "code",
   "execution_count": 43,
   "id": "c2d0f18c-d6f4-49df-ad84-56501c8ef627",
   "metadata": {},
   "outputs": [],
   "source": [
    "tpp = 20, True, 'new', 34.8, 89"
   ]
  },
  {
   "cell_type": "code",
   "execution_count": 44,
   "id": "44c3ded4-8f56-49fa-88b7-b45772965f65",
   "metadata": {},
   "outputs": [
    {
     "data": {
      "text/plain": [
       "(20, True, 'new', 34.8, 89)"
      ]
     },
     "execution_count": 44,
     "metadata": {},
     "output_type": "execute_result"
    }
   ],
   "source": [
    "tpp"
   ]
  },
  {
   "cell_type": "code",
   "execution_count": 45,
   "id": "fb001824-453b-4369-a228-81a0ec9eb25e",
   "metadata": {},
   "outputs": [
    {
     "data": {
      "text/plain": [
       "tuple"
      ]
     },
     "execution_count": 45,
     "metadata": {},
     "output_type": "execute_result"
    }
   ],
   "source": [
    "type(tpp)"
   ]
  },
  {
   "cell_type": "code",
   "execution_count": 46,
   "id": "77728e34-76cb-4fdd-b9f5-6fa782931540",
   "metadata": {},
   "outputs": [],
   "source": [
    "lst = [20, True, 'new', 34.8, 89]"
   ]
  },
  {
   "cell_type": "code",
   "execution_count": 47,
   "id": "b15d879e-6bae-4cf4-93fb-d17b130167df",
   "metadata": {},
   "outputs": [
    {
     "data": {
      "text/plain": [
       "list"
      ]
     },
     "execution_count": 47,
     "metadata": {},
     "output_type": "execute_result"
    }
   ],
   "source": [
    "type(lst)"
   ]
  },
  {
   "cell_type": "code",
   "execution_count": 48,
   "id": "e5d42e83-1187-4a74-9a1f-2c0a7afb6418",
   "metadata": {},
   "outputs": [],
   "source": [
    "sst = {20, True, 'new', 34.8, 89}"
   ]
  },
  {
   "cell_type": "code",
   "execution_count": 49,
   "id": "31aa539b-65d9-4465-b5b3-597285138a88",
   "metadata": {},
   "outputs": [
    {
     "data": {
      "text/plain": [
       "set"
      ]
     },
     "execution_count": 49,
     "metadata": {},
     "output_type": "execute_result"
    }
   ],
   "source": [
    "type(sst)"
   ]
  },
  {
   "cell_type": "code",
   "execution_count": 50,
   "id": "423afc91-fc3b-4a2d-825f-01919c414e65",
   "metadata": {},
   "outputs": [
    {
     "name": "stdout",
     "output_type": "stream",
     "text": [
      "['__add__', '__class__', '__class_getitem__', '__contains__', '__delattr__', '__dir__', '__doc__', '__eq__', '__format__', '__ge__', '__getattribute__', '__getitem__', '__getnewargs__', '__gt__', '__hash__', '__init__', '__init_subclass__', '__iter__', '__le__', '__len__', '__lt__', '__mul__', '__ne__', '__new__', '__reduce__', '__reduce_ex__', '__repr__', '__rmul__', '__setattr__', '__sizeof__', '__str__', '__subclasshook__', 'count', 'index']\n"
     ]
    }
   ],
   "source": [
    "print(dir(tpp))"
   ]
  },
  {
   "cell_type": "code",
   "execution_count": 51,
   "id": "19d1d05f-e3d2-4c14-99db-4e252410bafb",
   "metadata": {},
   "outputs": [
    {
     "name": "stdout",
     "output_type": "stream",
     "text": [
      "['__add__', '__class__', '__class_getitem__', '__contains__', '__delattr__', '__delitem__', '__dir__', '__doc__', '__eq__', '__format__', '__ge__', '__getattribute__', '__getitem__', '__gt__', '__hash__', '__iadd__', '__imul__', '__init__', '__init_subclass__', '__iter__', '__le__', '__len__', '__lt__', '__mul__', '__ne__', '__new__', '__reduce__', '__reduce_ex__', '__repr__', '__reversed__', '__rmul__', '__setattr__', '__setitem__', '__sizeof__', '__str__', '__subclasshook__', 'append', 'clear', 'copy', 'count', 'extend', 'index', 'insert', 'pop', 'remove', 'reverse', 'sort']\n"
     ]
    }
   ],
   "source": [
    "print(dir(lst))"
   ]
  },
  {
   "cell_type": "code",
   "execution_count": 52,
   "id": "8cc22251-8ddc-486b-a5e9-e820d8f4701e",
   "metadata": {},
   "outputs": [
    {
     "data": {
      "text/plain": [
       "(20, True, 'new', 34.8, 89)"
      ]
     },
     "execution_count": 52,
     "metadata": {},
     "output_type": "execute_result"
    }
   ],
   "source": [
    "tpp"
   ]
  },
  {
   "cell_type": "code",
   "execution_count": 53,
   "id": "48710f2f-43ba-443d-85b6-177bc4979fb5",
   "metadata": {},
   "outputs": [],
   "source": [
    "tpp = 20, True, 'new', 34.8, 89, 89, 'new', 'new', 20"
   ]
  },
  {
   "cell_type": "code",
   "execution_count": 54,
   "id": "4e4b28ab-f666-40ef-92fa-ac970cbdca94",
   "metadata": {},
   "outputs": [
    {
     "data": {
      "text/plain": [
       "(20, True, 'new', 34.8, 89, 89, 'new', 'new', 20)"
      ]
     },
     "execution_count": 54,
     "metadata": {},
     "output_type": "execute_result"
    }
   ],
   "source": [
    "tpp"
   ]
  },
  {
   "cell_type": "code",
   "execution_count": 55,
   "id": "bc93cf87-a987-491b-85b8-e4e420e4d551",
   "metadata": {},
   "outputs": [
    {
     "data": {
      "text/plain": [
       "4"
      ]
     },
     "execution_count": 55,
     "metadata": {},
     "output_type": "execute_result"
    }
   ],
   "source": [
    "tpp.index(89)"
   ]
  },
  {
   "cell_type": "code",
   "execution_count": 57,
   "id": "71fb0c37-9448-4ac8-82af-6b46669b3c2f",
   "metadata": {},
   "outputs": [
    {
     "data": {
      "text/plain": [
       "4"
      ]
     },
     "execution_count": 57,
     "metadata": {},
     "output_type": "execute_result"
    }
   ],
   "source": [
    "tpp.index(89, 0)"
   ]
  },
  {
   "cell_type": "code",
   "execution_count": 58,
   "id": "b9202dc0-9be4-4820-9253-9f962fb8f62b",
   "metadata": {},
   "outputs": [
    {
     "data": {
      "text/plain": [
       "4"
      ]
     },
     "execution_count": 58,
     "metadata": {},
     "output_type": "execute_result"
    }
   ],
   "source": [
    "tpp.index(89, 1)"
   ]
  },
  {
   "cell_type": "code",
   "execution_count": 59,
   "id": "3b568236-e1f2-4493-a348-f3e01fbbc100",
   "metadata": {},
   "outputs": [
    {
     "data": {
      "text/plain": [
       "5"
      ]
     },
     "execution_count": 59,
     "metadata": {},
     "output_type": "execute_result"
    }
   ],
   "source": [
    "tpp.index(89, 5)"
   ]
  },
  {
   "cell_type": "code",
   "execution_count": 60,
   "id": "5529e476-0463-4a2d-b6ad-bef8252dbb85",
   "metadata": {},
   "outputs": [
    {
     "data": {
      "text/plain": [
       "3"
      ]
     },
     "execution_count": 60,
     "metadata": {},
     "output_type": "execute_result"
    }
   ],
   "source": [
    "tpp.count('new')"
   ]
  },
  {
   "cell_type": "code",
   "execution_count": 62,
   "id": "1a79d333-48f8-4529-9c92-f5e7a97e9f1f",
   "metadata": {},
   "outputs": [
    {
     "data": {
      "text/plain": [
       "(20, True, 'new', 34.8, 89, 89, 'new', 'new', 20)"
      ]
     },
     "execution_count": 62,
     "metadata": {},
     "output_type": "execute_result"
    }
   ],
   "source": [
    "tpp"
   ]
  },
  {
   "cell_type": "code",
   "execution_count": 61,
   "id": "e068e6f6-74ee-4f56-b1d8-bface05c4c12",
   "metadata": {},
   "outputs": [
    {
     "data": {
      "text/plain": [
       "20"
      ]
     },
     "execution_count": 61,
     "metadata": {},
     "output_type": "execute_result"
    }
   ],
   "source": [
    "tpp[0]"
   ]
  },
  {
   "cell_type": "code",
   "execution_count": 63,
   "id": "69c9c22e-7d4a-4512-8af2-8ff71344922c",
   "metadata": {},
   "outputs": [
    {
     "data": {
      "text/plain": [
       "20"
      ]
     },
     "execution_count": 63,
     "metadata": {},
     "output_type": "execute_result"
    }
   ],
   "source": [
    "tpp[-9]"
   ]
  },
  {
   "cell_type": "code",
   "execution_count": 64,
   "id": "ed817731-5866-4759-978b-d1c42129c631",
   "metadata": {},
   "outputs": [
    {
     "data": {
      "text/plain": [
       "9"
      ]
     },
     "execution_count": 64,
     "metadata": {},
     "output_type": "execute_result"
    }
   ],
   "source": [
    "len(tpp)"
   ]
  },
  {
   "cell_type": "code",
   "execution_count": 66,
   "id": "861218a0-628d-4f66-87f2-f36769288687",
   "metadata": {},
   "outputs": [
    {
     "data": {
      "text/plain": [
       "20"
      ]
     },
     "execution_count": 66,
     "metadata": {},
     "output_type": "execute_result"
    }
   ],
   "source": [
    "tpp[len(tpp)-1]"
   ]
  },
  {
   "cell_type": "code",
   "execution_count": 67,
   "id": "670610dd-ac46-4811-ba95-c61d0f7f2473",
   "metadata": {},
   "outputs": [
    {
     "data": {
      "text/plain": [
       "20"
      ]
     },
     "execution_count": 67,
     "metadata": {},
     "output_type": "execute_result"
    }
   ],
   "source": [
    "tpp[-1]"
   ]
  },
  {
   "cell_type": "code",
   "execution_count": 68,
   "id": "0ef2b663-08a0-4220-807f-1727f10270d8",
   "metadata": {},
   "outputs": [
    {
     "data": {
      "text/plain": [
       "[20, True, 'new', 34.8, 89]"
      ]
     },
     "execution_count": 68,
     "metadata": {},
     "output_type": "execute_result"
    }
   ],
   "source": [
    "lst"
   ]
  },
  {
   "cell_type": "code",
   "execution_count": 69,
   "id": "a439f153-ee7d-4193-8fe1-3831f411abf0",
   "metadata": {},
   "outputs": [
    {
     "data": {
      "text/plain": [
       "20"
      ]
     },
     "execution_count": 69,
     "metadata": {},
     "output_type": "execute_result"
    }
   ],
   "source": [
    "lst[0]"
   ]
  },
  {
   "cell_type": "code",
   "execution_count": 70,
   "id": "1e6c70ad-9592-4023-aa42-9f05e8ef42e7",
   "metadata": {},
   "outputs": [
    {
     "data": {
      "text/plain": [
       "89"
      ]
     },
     "execution_count": 70,
     "metadata": {},
     "output_type": "execute_result"
    }
   ],
   "source": [
    "lst[-1]"
   ]
  },
  {
   "cell_type": "code",
   "execution_count": 71,
   "id": "8f13d17a-793f-4616-b766-a2b521be1d62",
   "metadata": {},
   "outputs": [],
   "source": [
    "lst[0] = 55"
   ]
  },
  {
   "cell_type": "code",
   "execution_count": 72,
   "id": "c022d3d5-fe96-4352-8abb-f0c09d7d3bb8",
   "metadata": {},
   "outputs": [
    {
     "data": {
      "text/plain": [
       "[55, True, 'new', 34.8, 89]"
      ]
     },
     "execution_count": 72,
     "metadata": {},
     "output_type": "execute_result"
    }
   ],
   "source": [
    "lst"
   ]
  },
  {
   "cell_type": "code",
   "execution_count": 73,
   "id": "715c344d-fb11-435e-b406-093072fcfb18",
   "metadata": {},
   "outputs": [
    {
     "data": {
      "text/plain": [
       "(20, True, 'new', 34.8, 89, 89, 'new', 'new', 20)"
      ]
     },
     "execution_count": 73,
     "metadata": {},
     "output_type": "execute_result"
    }
   ],
   "source": [
    "tpp"
   ]
  },
  {
   "cell_type": "code",
   "execution_count": 74,
   "id": "d86125dc-bcb3-494e-9555-022ec89f40c6",
   "metadata": {},
   "outputs": [
    {
     "ename": "TypeError",
     "evalue": "'tuple' object does not support item assignment",
     "output_type": "error",
     "traceback": [
      "\u001b[0;31m---------------------------------------------------------------------------\u001b[0m",
      "\u001b[0;31mTypeError\u001b[0m                                 Traceback (most recent call last)",
      "\u001b[0;32m/tmp/ipykernel_88/2387104233.py\u001b[0m in \u001b[0;36m<cell line: 1>\u001b[0;34m()\u001b[0m\n\u001b[0;32m----> 1\u001b[0;31m \u001b[0mtpp\u001b[0m\u001b[0;34m[\u001b[0m\u001b[0;36m1\u001b[0m\u001b[0;34m]\u001b[0m \u001b[0;34m=\u001b[0m \u001b[0;34m\"True\"\u001b[0m\u001b[0;34m\u001b[0m\u001b[0;34m\u001b[0m\u001b[0m\n\u001b[0m",
      "\u001b[0;31mTypeError\u001b[0m: 'tuple' object does not support item assignment"
     ]
    }
   ],
   "source": [
    "tpp[1] = \"True\""
   ]
  },
  {
   "cell_type": "code",
   "execution_count": 75,
   "id": "dba9276b-0400-49ea-983a-de539578baf6",
   "metadata": {},
   "outputs": [],
   "source": [
    "name = \"shubham\""
   ]
  },
  {
   "cell_type": "code",
   "execution_count": 76,
   "id": "2620dcea-bfaf-4720-94e9-9bc41ef4131f",
   "metadata": {},
   "outputs": [
    {
     "data": {
      "text/plain": [
       "'s'"
      ]
     },
     "execution_count": 76,
     "metadata": {},
     "output_type": "execute_result"
    }
   ],
   "source": [
    "name[0]"
   ]
  },
  {
   "cell_type": "code",
   "execution_count": 77,
   "id": "7c4b5b17-2783-4430-b6f9-59374abdac7f",
   "metadata": {},
   "outputs": [
    {
     "data": {
      "text/plain": [
       "'m'"
      ]
     },
     "execution_count": 77,
     "metadata": {},
     "output_type": "execute_result"
    }
   ],
   "source": [
    "name[-1]"
   ]
  },
  {
   "cell_type": "code",
   "execution_count": 78,
   "id": "82f3d116-64d4-4192-b6b9-1c9309c9ebe5",
   "metadata": {},
   "outputs": [
    {
     "ename": "TypeError",
     "evalue": "'str' object does not support item assignment",
     "output_type": "error",
     "traceback": [
      "\u001b[0;31m---------------------------------------------------------------------------\u001b[0m",
      "\u001b[0;31mTypeError\u001b[0m                                 Traceback (most recent call last)",
      "\u001b[0;32m/tmp/ipykernel_88/1142650269.py\u001b[0m in \u001b[0;36m<cell line: 1>\u001b[0;34m()\u001b[0m\n\u001b[0;32m----> 1\u001b[0;31m \u001b[0mname\u001b[0m\u001b[0;34m[\u001b[0m\u001b[0;36m0\u001b[0m\u001b[0;34m]\u001b[0m \u001b[0;34m=\u001b[0m \u001b[0;34m'S'\u001b[0m\u001b[0;34m\u001b[0m\u001b[0;34m\u001b[0m\u001b[0m\n\u001b[0m",
      "\u001b[0;31mTypeError\u001b[0m: 'str' object does not support item assignment"
     ]
    }
   ],
   "source": [
    "name[0] = 'S'"
   ]
  },
  {
   "cell_type": "markdown",
   "id": "44da0cbd-31b1-43a0-996b-665dbf88fbd0",
   "metadata": {},
   "source": [
    "#### subsetting or slicing"
   ]
  },
  {
   "cell_type": "code",
   "execution_count": 79,
   "id": "dad7161c-121e-46cf-9bca-7bb3ec2a4e2d",
   "metadata": {},
   "outputs": [
    {
     "data": {
      "text/plain": [
       "(20, True, 'new', 34.8, 89, 89, 'new', 'new', 20)"
      ]
     },
     "execution_count": 79,
     "metadata": {},
     "output_type": "execute_result"
    }
   ],
   "source": [
    "tpp"
   ]
  },
  {
   "cell_type": "code",
   "execution_count": null,
   "id": "e2aed217-02dd-4fdb-8ef1-8212ac8fd935",
   "metadata": {},
   "outputs": [],
   "source": [
    "syntax:\n",
    "    \n",
    "tpp[<start>:<stop>:<step size>]\n",
    "\n",
    "<start> - included\n",
    "<stop>  - not included"
   ]
  },
  {
   "cell_type": "code",
   "execution_count": 80,
   "id": "ef7804a2-39b5-46be-b5a2-c5d8589cdc35",
   "metadata": {},
   "outputs": [
    {
     "data": {
      "text/plain": [
       "(True, 'new', 34.8, 89, 89)"
      ]
     },
     "execution_count": 80,
     "metadata": {},
     "output_type": "execute_result"
    }
   ],
   "source": [
    "tpp[1:6:1]"
   ]
  },
  {
   "cell_type": "code",
   "execution_count": 81,
   "id": "5df65b91-c863-4d13-9485-2dcb961e5cf8",
   "metadata": {},
   "outputs": [
    {
     "data": {
      "text/plain": [
       "(True, 34.8, 89)"
      ]
     },
     "execution_count": 81,
     "metadata": {},
     "output_type": "execute_result"
    }
   ],
   "source": [
    "tpp[1:6:2]"
   ]
  },
  {
   "cell_type": "code",
   "execution_count": 83,
   "id": "b49810e9-572a-4fbb-9341-01d36b758f9a",
   "metadata": {},
   "outputs": [
    {
     "data": {
      "text/plain": [
       "(True, 'new', 34.8, 89, 89, 'new')"
      ]
     },
     "execution_count": 83,
     "metadata": {},
     "output_type": "execute_result"
    }
   ],
   "source": [
    "tpp[1:7:1]"
   ]
  },
  {
   "cell_type": "code",
   "execution_count": 85,
   "id": "878e3c86-48ec-4b73-9ee5-cc1160ae9465",
   "metadata": {},
   "outputs": [
    {
     "data": {
      "text/plain": [
       "(True, 'new', 34.8, 89, 89, 'new')"
      ]
     },
     "execution_count": 85,
     "metadata": {},
     "output_type": "execute_result"
    }
   ],
   "source": [
    "# if we dont provide step size - 1 step is taken by default\n",
    "\n",
    "tpp[1:7]"
   ]
  },
  {
   "cell_type": "code",
   "execution_count": 87,
   "id": "f09727a5-3549-4c9f-b89f-ad5265fefde4",
   "metadata": {},
   "outputs": [
    {
     "data": {
      "text/plain": [
       "(20, True, 'new', 34.8, 89, 89, 'new')"
      ]
     },
     "execution_count": 87,
     "metadata": {},
     "output_type": "execute_result"
    }
   ],
   "source": [
    "# if we dont provide start - it starts from the begining - begining depends on step size\n",
    "\n",
    "tpp[:7:1]"
   ]
  },
  {
   "cell_type": "code",
   "execution_count": 88,
   "id": "b48cb5bd-4400-4ca2-95b8-a5cb19a2a43b",
   "metadata": {},
   "outputs": [
    {
     "data": {
      "text/plain": [
       "(20,)"
      ]
     },
     "execution_count": 88,
     "metadata": {},
     "output_type": "execute_result"
    }
   ],
   "source": [
    "tpp[:7:-1]"
   ]
  },
  {
   "cell_type": "code",
   "execution_count": 89,
   "id": "f0683950-04d2-4a9a-8bb8-20dbb588bdd9",
   "metadata": {},
   "outputs": [
    {
     "data": {
      "text/plain": [
       "(20, True, 'new', 34.8, 89, 89, 'new', 'new', 20)"
      ]
     },
     "execution_count": 89,
     "metadata": {},
     "output_type": "execute_result"
    }
   ],
   "source": [
    "tpp"
   ]
  },
  {
   "cell_type": "code",
   "execution_count": 90,
   "id": "293cb8aa-c28f-4f91-ab46-abf0a65d1458",
   "metadata": {},
   "outputs": [],
   "source": [
    "tpp = 20, True, 'new', 34.8, 89, 89, 'new', 'new', 78"
   ]
  },
  {
   "cell_type": "code",
   "execution_count": 91,
   "id": "c91480d8-55ad-4c9d-85f2-36df7b33c48c",
   "metadata": {},
   "outputs": [
    {
     "data": {
      "text/plain": [
       "(78, 'new', 'new', 89, 89, 34.8)"
      ]
     },
     "execution_count": 91,
     "metadata": {},
     "output_type": "execute_result"
    }
   ],
   "source": [
    "tpp[:2:-1]"
   ]
  },
  {
   "cell_type": "code",
   "execution_count": 92,
   "id": "af5cad8f-968e-41ef-b9af-9aebfdff7bd5",
   "metadata": {},
   "outputs": [
    {
     "data": {
      "text/plain": [
       "(20, True, 'new', 34.8, 89, 89, 'new', 'new', 78)"
      ]
     },
     "execution_count": 92,
     "metadata": {},
     "output_type": "execute_result"
    }
   ],
   "source": [
    "tpp"
   ]
  },
  {
   "cell_type": "code",
   "execution_count": 93,
   "id": "469b3e1a-1249-4fc8-a242-0c8b24374d77",
   "metadata": {},
   "outputs": [
    {
     "data": {
      "text/plain": [
       "('new', 89, 'new', 78)"
      ]
     },
     "execution_count": 93,
     "metadata": {},
     "output_type": "execute_result"
    }
   ],
   "source": [
    "# if stop position is not given\n",
    "\n",
    "tpp[2::2]"
   ]
  },
  {
   "cell_type": "code",
   "execution_count": 94,
   "id": "17f4390c-8791-4058-8e2b-31b19b753ac5",
   "metadata": {},
   "outputs": [],
   "source": [
    "txt = 'python'"
   ]
  },
  {
   "cell_type": "code",
   "execution_count": 95,
   "id": "e21db2aa-74c8-4e9a-aa27-4324d7c73f61",
   "metadata": {},
   "outputs": [
    {
     "data": {
      "text/plain": [
       "'p'"
      ]
     },
     "execution_count": 95,
     "metadata": {},
     "output_type": "execute_result"
    }
   ],
   "source": [
    "txt[0]"
   ]
  },
  {
   "cell_type": "code",
   "execution_count": 96,
   "id": "09a666d5-dfe1-44d2-bf62-889fe1f042dc",
   "metadata": {},
   "outputs": [
    {
     "data": {
      "text/plain": [
       "'ython'"
      ]
     },
     "execution_count": 96,
     "metadata": {},
     "output_type": "execute_result"
    }
   ],
   "source": [
    "txt[1:]"
   ]
  },
  {
   "cell_type": "code",
   "execution_count": null,
   "id": "983628d7-083b-4ba8-9132-e2320b7398ea",
   "metadata": {},
   "outputs": [],
   "source": [
    "Task:\n",
    "    \n",
    "Using slicing - reverse the text - Python. The result should be - 'nohtyP'"
   ]
  },
  {
   "cell_type": "code",
   "execution_count": 97,
   "id": "52a7dafa-8105-46d2-8edc-b51ebb97d892",
   "metadata": {},
   "outputs": [],
   "source": [
    "txt = 'Python'"
   ]
  },
  {
   "cell_type": "code",
   "execution_count": 98,
   "id": "24ae9ad8-9136-4995-9610-66473fcd88bb",
   "metadata": {},
   "outputs": [
    {
     "data": {
      "text/plain": [
       "'nohtyP'"
      ]
     },
     "execution_count": 98,
     "metadata": {},
     "output_type": "execute_result"
    }
   ],
   "source": [
    "txt[5::-1]"
   ]
  },
  {
   "cell_type": "code",
   "execution_count": 99,
   "id": "5b2ed8c1-2b51-49fb-829c-3ba69f8c430e",
   "metadata": {},
   "outputs": [
    {
     "data": {
      "text/plain": [
       "'nohtyP'"
      ]
     },
     "execution_count": 99,
     "metadata": {},
     "output_type": "execute_result"
    }
   ],
   "source": [
    "txt[-1::-1]"
   ]
  },
  {
   "cell_type": "code",
   "execution_count": 100,
   "id": "eec46601-d48c-4298-80c7-3d684344abda",
   "metadata": {},
   "outputs": [
    {
     "data": {
      "text/plain": [
       "'nohtyP'"
      ]
     },
     "execution_count": 100,
     "metadata": {},
     "output_type": "execute_result"
    }
   ],
   "source": [
    "txt[::-1]"
   ]
  },
  {
   "cell_type": "code",
   "execution_count": 101,
   "id": "25ad31d8-7b89-4e2c-af56-29f581e38c10",
   "metadata": {},
   "outputs": [
    {
     "data": {
      "text/plain": [
       "''"
      ]
     },
     "execution_count": 101,
     "metadata": {},
     "output_type": "execute_result"
    }
   ],
   "source": [
    "txt[5:0]"
   ]
  },
  {
   "cell_type": "markdown",
   "id": "f7039bba-2f0a-46da-9e56-534a4917b0bd",
   "metadata": {},
   "source": [
    "### List methods"
   ]
  },
  {
   "cell_type": "raw",
   "id": "b482b275-f9e8-44bb-88ea-f51d257725f0",
   "metadata": {},
   "source": [
    "append', 'clear', 'copy', 'count', 'extend', 'index', 'insert', 'pop', 'remove', 'reverse', 'sort'"
   ]
  },
  {
   "cell_type": "code",
   "execution_count": null,
   "id": "abde23d2-b812-4a89-97a9-777a61bb330f",
   "metadata": {},
   "outputs": [],
   "source": [
    "Removing items from a list\n",
    "\n",
    "clear - Remove all items from list\n",
    "pop - Remove and return item at index (default last)\n",
    "remove - Remove first occurrence of value"
   ]
  },
  {
   "cell_type": "code",
   "execution_count": 104,
   "id": "a99e4db6-ce9b-4eb0-b3aa-467a255a5fe9",
   "metadata": {},
   "outputs": [],
   "source": [
    "lst = [55, True, 'new', 34.8, 89]"
   ]
  },
  {
   "cell_type": "code",
   "execution_count": 105,
   "id": "af1c5f79-4f45-49fb-9a09-7398450841a6",
   "metadata": {},
   "outputs": [],
   "source": [
    "lst.clear()"
   ]
  },
  {
   "cell_type": "code",
   "execution_count": 106,
   "id": "d1db5566-83eb-46bc-b684-17853bafd09f",
   "metadata": {},
   "outputs": [
    {
     "data": {
      "text/plain": [
       "[]"
      ]
     },
     "execution_count": 106,
     "metadata": {},
     "output_type": "execute_result"
    }
   ],
   "source": [
    "lst"
   ]
  },
  {
   "cell_type": "code",
   "execution_count": 107,
   "id": "3ef0e185-87d1-41f4-b802-9373eb208787",
   "metadata": {},
   "outputs": [],
   "source": [
    "lst = [55, True, 'new', 34.8, 89]"
   ]
  },
  {
   "cell_type": "code",
   "execution_count": 108,
   "id": "b396a268-a56c-43e6-9c9f-4bc09b4243ea",
   "metadata": {},
   "outputs": [
    {
     "data": {
      "text/plain": [
       "89"
      ]
     },
     "execution_count": 108,
     "metadata": {},
     "output_type": "execute_result"
    }
   ],
   "source": [
    "lst.pop()"
   ]
  },
  {
   "cell_type": "code",
   "execution_count": 109,
   "id": "c80b0cf4-9f22-41a8-a385-415107a49f21",
   "metadata": {},
   "outputs": [
    {
     "data": {
      "text/plain": [
       "[55, True, 'new', 34.8]"
      ]
     },
     "execution_count": 109,
     "metadata": {},
     "output_type": "execute_result"
    }
   ],
   "source": [
    "lst"
   ]
  },
  {
   "cell_type": "code",
   "execution_count": 110,
   "id": "b5d0582c-d9b0-4a0a-b7f7-f75dfc18fdda",
   "metadata": {},
   "outputs": [],
   "source": [
    "lst = [55, True, 'new', 34.8, 89]"
   ]
  },
  {
   "cell_type": "code",
   "execution_count": 111,
   "id": "3dceffe0-9d50-47d0-a903-9925687e3461",
   "metadata": {},
   "outputs": [
    {
     "data": {
      "text/plain": [
       "'new'"
      ]
     },
     "execution_count": 111,
     "metadata": {},
     "output_type": "execute_result"
    }
   ],
   "source": [
    "lst.pop(2)"
   ]
  },
  {
   "cell_type": "code",
   "execution_count": 112,
   "id": "e1fde9dc-a996-47ee-ac5e-21534324cc92",
   "metadata": {},
   "outputs": [
    {
     "data": {
      "text/plain": [
       "[55, True, 34.8, 89]"
      ]
     },
     "execution_count": 112,
     "metadata": {},
     "output_type": "execute_result"
    }
   ],
   "source": [
    "lst"
   ]
  },
  {
   "cell_type": "code",
   "execution_count": 113,
   "id": "7c267ac3-20ab-4833-8efa-77520492fcdb",
   "metadata": {},
   "outputs": [],
   "source": [
    "lst = [55, True, 'new', 34.8, 89]"
   ]
  },
  {
   "cell_type": "code",
   "execution_count": 116,
   "id": "cfd04d9c-d739-41b4-af23-92a28d581fd0",
   "metadata": {},
   "outputs": [
    {
     "data": {
      "text/plain": [
       "\u001b[0;31mSignature:\u001b[0m \u001b[0mlst\u001b[0m\u001b[0;34m.\u001b[0m\u001b[0mremove\u001b[0m\u001b[0;34m(\u001b[0m\u001b[0mvalue\u001b[0m\u001b[0;34m,\u001b[0m \u001b[0;34m/\u001b[0m\u001b[0;34m)\u001b[0m\u001b[0;34m\u001b[0m\u001b[0;34m\u001b[0m\u001b[0m\n",
       "\u001b[0;31mDocstring:\u001b[0m\n",
       "Remove first occurrence of value.\n",
       "\n",
       "Raises ValueError if the value is not present.\n",
       "\u001b[0;31mType:\u001b[0m      builtin_function_or_method\n"
      ]
     },
     "metadata": {},
     "output_type": "display_data"
    }
   ],
   "source": [
    "?lst.remove"
   ]
  },
  {
   "cell_type": "code",
   "execution_count": 117,
   "id": "5f46c2d1-8db0-4d3e-a072-34097e924c28",
   "metadata": {},
   "outputs": [],
   "source": [
    "lst.remove('new')"
   ]
  },
  {
   "cell_type": "code",
   "execution_count": 118,
   "id": "c5477346-55c7-4507-b5e3-fa81dcd21249",
   "metadata": {},
   "outputs": [
    {
     "data": {
      "text/plain": [
       "[55, True, 34.8, 89]"
      ]
     },
     "execution_count": 118,
     "metadata": {},
     "output_type": "execute_result"
    }
   ],
   "source": [
    "lst"
   ]
  },
  {
   "cell_type": "code",
   "execution_count": 120,
   "id": "0aba26bd-91a3-49a1-a048-d02b84364b05",
   "metadata": {},
   "outputs": [],
   "source": [
    "lst1 = [55, True, 34.8, 89, [55, True, 34.8, 89]]"
   ]
  },
  {
   "cell_type": "code",
   "execution_count": 122,
   "id": "48903087-2226-4b3c-bfed-d306653119f1",
   "metadata": {},
   "outputs": [],
   "source": [
    "lst1[-1].remove(89)"
   ]
  },
  {
   "cell_type": "code",
   "execution_count": null,
   "id": "46a0cc47-3907-490a-be94-f7adc38a4349",
   "metadata": {},
   "outputs": [],
   "source": [
    "Adding items to a list\n",
    "\n",
    "Append - Append object to the end of the list\n",
    "extend - Extend list by appending elements from the iterable\n",
    "insert - Insert object before index"
   ]
  },
  {
   "cell_type": "code",
   "execution_count": 123,
   "id": "f09edfde-92a0-457e-a5d9-93eea83425e7",
   "metadata": {},
   "outputs": [
    {
     "data": {
      "text/plain": [
       "[55, True, 34.8, 89]"
      ]
     },
     "execution_count": 123,
     "metadata": {},
     "output_type": "execute_result"
    }
   ],
   "source": [
    "lst"
   ]
  },
  {
   "cell_type": "code",
   "execution_count": 124,
   "id": "d80846f1-e9b3-4c85-aadb-9e746c88944c",
   "metadata": {},
   "outputs": [
    {
     "data": {
      "text/plain": [
       "\u001b[0;31mSignature:\u001b[0m \u001b[0mlst\u001b[0m\u001b[0;34m.\u001b[0m\u001b[0mappend\u001b[0m\u001b[0;34m(\u001b[0m\u001b[0mobject\u001b[0m\u001b[0;34m,\u001b[0m \u001b[0;34m/\u001b[0m\u001b[0;34m)\u001b[0m\u001b[0;34m\u001b[0m\u001b[0;34m\u001b[0m\u001b[0m\n",
       "\u001b[0;31mDocstring:\u001b[0m Append object to the end of the list.\n",
       "\u001b[0;31mType:\u001b[0m      builtin_function_or_method\n"
      ]
     },
     "metadata": {},
     "output_type": "display_data"
    }
   ],
   "source": [
    "?lst.append"
   ]
  },
  {
   "cell_type": "code",
   "execution_count": 126,
   "id": "9817e0cd-398f-430e-8947-425e1e0e7ad7",
   "metadata": {},
   "outputs": [],
   "source": [
    "lst.append(78)"
   ]
  },
  {
   "cell_type": "code",
   "execution_count": 127,
   "id": "e103da65-1b2c-4539-be9a-6d4254b28b92",
   "metadata": {},
   "outputs": [
    {
     "data": {
      "text/plain": [
       "[55, True, 34.8, 89, 78]"
      ]
     },
     "execution_count": 127,
     "metadata": {},
     "output_type": "execute_result"
    }
   ],
   "source": [
    "lst"
   ]
  },
  {
   "cell_type": "code",
   "execution_count": 128,
   "id": "04991e67-f9e8-46a6-ac0d-f77959ae687e",
   "metadata": {},
   "outputs": [
    {
     "data": {
      "text/plain": [
       "\u001b[0;31mSignature:\u001b[0m \u001b[0mlst\u001b[0m\u001b[0;34m.\u001b[0m\u001b[0mextend\u001b[0m\u001b[0;34m(\u001b[0m\u001b[0miterable\u001b[0m\u001b[0;34m,\u001b[0m \u001b[0;34m/\u001b[0m\u001b[0;34m)\u001b[0m\u001b[0;34m\u001b[0m\u001b[0;34m\u001b[0m\u001b[0m\n",
       "\u001b[0;31mDocstring:\u001b[0m Extend list by appending elements from the iterable.\n",
       "\u001b[0;31mType:\u001b[0m      builtin_function_or_method\n"
      ]
     },
     "metadata": {},
     "output_type": "display_data"
    }
   ],
   "source": [
    "?lst.extend"
   ]
  },
  {
   "cell_type": "code",
   "execution_count": 129,
   "id": "eaa69664-53d8-4e0c-a671-90adca967652",
   "metadata": {},
   "outputs": [
    {
     "ename": "TypeError",
     "evalue": "'int' object is not iterable",
     "output_type": "error",
     "traceback": [
      "\u001b[0;31m---------------------------------------------------------------------------\u001b[0m",
      "\u001b[0;31mTypeError\u001b[0m                                 Traceback (most recent call last)",
      "\u001b[0;32m/tmp/ipykernel_88/3598938716.py\u001b[0m in \u001b[0;36m<cell line: 1>\u001b[0;34m()\u001b[0m\n\u001b[0;32m----> 1\u001b[0;31m \u001b[0mlst\u001b[0m\u001b[0;34m.\u001b[0m\u001b[0mextend\u001b[0m\u001b[0;34m(\u001b[0m\u001b[0;36m34\u001b[0m\u001b[0;34m)\u001b[0m\u001b[0;34m\u001b[0m\u001b[0;34m\u001b[0m\u001b[0m\n\u001b[0m",
      "\u001b[0;31mTypeError\u001b[0m: 'int' object is not iterable"
     ]
    }
   ],
   "source": [
    "lst.extend(34)"
   ]
  },
  {
   "cell_type": "code",
   "execution_count": 130,
   "id": "a7c5dc93-a331-4515-9304-52c2aea021bd",
   "metadata": {},
   "outputs": [],
   "source": [
    "lst.extend('text')"
   ]
  },
  {
   "cell_type": "code",
   "execution_count": 131,
   "id": "cc1f82c5-e84f-420f-9068-b3339f855f9d",
   "metadata": {},
   "outputs": [
    {
     "data": {
      "text/plain": [
       "[55, True, 34.8, 89, 78, 't', 'e', 'x', 't']"
      ]
     },
     "execution_count": 131,
     "metadata": {},
     "output_type": "execute_result"
    }
   ],
   "source": [
    "lst"
   ]
  },
  {
   "cell_type": "code",
   "execution_count": 133,
   "id": "60f2269e-851a-4653-8c4c-94b9b347fd5a",
   "metadata": {},
   "outputs": [],
   "source": [
    "lst.insert(1,'True')"
   ]
  },
  {
   "cell_type": "code",
   "execution_count": 134,
   "id": "ec042f5e-11b7-43b0-a52f-1c14bb011cc5",
   "metadata": {},
   "outputs": [
    {
     "data": {
      "text/plain": [
       "[55, 'True', True, 34.8, 89, 78, 't', 'e', 'x', 't']"
      ]
     },
     "execution_count": 134,
     "metadata": {},
     "output_type": "execute_result"
    }
   ],
   "source": [
    "lst"
   ]
  },
  {
   "cell_type": "code",
   "execution_count": null,
   "id": "d7ae2326-26fa-4baf-877d-b76deaf60001",
   "metadata": {},
   "outputs": [],
   "source": [
    "Ordering items\n",
    "\n",
    "sort\n",
    "reverse"
   ]
  },
  {
   "cell_type": "code",
   "execution_count": 135,
   "id": "dac47994-2182-49b0-a44d-e0de7c57e85a",
   "metadata": {},
   "outputs": [],
   "source": [
    "lst = [2,3,45,67,89,34,23]"
   ]
  },
  {
   "cell_type": "code",
   "execution_count": 136,
   "id": "e6f48955-2c47-4af7-a861-8ce0ba9f0413",
   "metadata": {},
   "outputs": [],
   "source": [
    "lst.sort()"
   ]
  },
  {
   "cell_type": "code",
   "execution_count": 137,
   "id": "efe3e1e3-2013-4c08-89ed-44cf97da2a56",
   "metadata": {},
   "outputs": [
    {
     "data": {
      "text/plain": [
       "[2, 3, 23, 34, 45, 67, 89]"
      ]
     },
     "execution_count": 137,
     "metadata": {},
     "output_type": "execute_result"
    }
   ],
   "source": [
    "lst"
   ]
  },
  {
   "cell_type": "code",
   "execution_count": 142,
   "id": "5bf5ae26-de65-41f1-a429-6f82f8fd1daf",
   "metadata": {},
   "outputs": [],
   "source": [
    "lst.sort(reverse=True)"
   ]
  },
  {
   "cell_type": "code",
   "execution_count": 143,
   "id": "5f3c2644-5cd5-4347-ae42-5d2b2b16d153",
   "metadata": {},
   "outputs": [
    {
     "data": {
      "text/plain": [
       "[89, 67, 45, 34, 23, 3, 2]"
      ]
     },
     "execution_count": 143,
     "metadata": {},
     "output_type": "execute_result"
    }
   ],
   "source": [
    "lst"
   ]
  },
  {
   "cell_type": "code",
   "execution_count": 144,
   "id": "44d7d89b-6f70-4945-a77d-217cd6546b89",
   "metadata": {},
   "outputs": [
    {
     "data": {
      "text/plain": [
       "\u001b[0;31mSignature:\u001b[0m \u001b[0mlst\u001b[0m\u001b[0;34m.\u001b[0m\u001b[0mreverse\u001b[0m\u001b[0;34m(\u001b[0m\u001b[0;34m)\u001b[0m\u001b[0;34m\u001b[0m\u001b[0;34m\u001b[0m\u001b[0m\n",
       "\u001b[0;31mDocstring:\u001b[0m Reverse *IN PLACE*.\n",
       "\u001b[0;31mType:\u001b[0m      builtin_function_or_method\n"
      ]
     },
     "metadata": {},
     "output_type": "display_data"
    }
   ],
   "source": [
    "?lst.reverse"
   ]
  },
  {
   "cell_type": "code",
   "execution_count": 145,
   "id": "ec07e126-4d7c-4829-92bd-63d23baefd7d",
   "metadata": {},
   "outputs": [],
   "source": [
    "lst.reverse()"
   ]
  },
  {
   "cell_type": "code",
   "execution_count": 146,
   "id": "d2e3715f-8033-432e-a702-e0db8f85b00d",
   "metadata": {},
   "outputs": [
    {
     "data": {
      "text/plain": [
       "[2, 3, 23, 34, 45, 67, 89]"
      ]
     },
     "execution_count": 146,
     "metadata": {},
     "output_type": "execute_result"
    }
   ],
   "source": [
    "lst"
   ]
  },
  {
   "cell_type": "code",
   "execution_count": 147,
   "id": "f90b1cd8-d6aa-4c45-94f3-6a84078247da",
   "metadata": {},
   "outputs": [],
   "source": [
    "lst1 = ['a', 'b', 'c', 'd']"
   ]
  },
  {
   "cell_type": "code",
   "execution_count": 149,
   "id": "1c6b59d7-5332-4df2-90bb-c47b2d15fc9f",
   "metadata": {},
   "outputs": [],
   "source": [
    "new_lst1 = lst1"
   ]
  },
  {
   "cell_type": "code",
   "execution_count": 150,
   "id": "f7eee192-7d13-431d-8381-331c65a55911",
   "metadata": {},
   "outputs": [],
   "source": [
    "lst1[1] = 'bbbb'"
   ]
  },
  {
   "cell_type": "code",
   "execution_count": 151,
   "id": "c132d338-a0b8-499f-be86-ec66ee012283",
   "metadata": {},
   "outputs": [
    {
     "data": {
      "text/plain": [
       "['a', 'bbbb', 'c', 'd']"
      ]
     },
     "execution_count": 151,
     "metadata": {},
     "output_type": "execute_result"
    }
   ],
   "source": [
    "lst1"
   ]
  },
  {
   "cell_type": "code",
   "execution_count": 152,
   "id": "8ef80dd7-2be3-425c-88c3-8087236f18fb",
   "metadata": {},
   "outputs": [
    {
     "data": {
      "text/plain": [
       "['a', 'bbbb', 'c', 'd']"
      ]
     },
     "execution_count": 152,
     "metadata": {},
     "output_type": "execute_result"
    }
   ],
   "source": [
    "new_lst1"
   ]
  },
  {
   "cell_type": "code",
   "execution_count": 159,
   "id": "048fe4d6-7a8d-4700-8622-b3f38867a0c4",
   "metadata": {},
   "outputs": [],
   "source": [
    "lst1 = ['a', 'b', 'c', 'd']"
   ]
  },
  {
   "cell_type": "code",
   "execution_count": 158,
   "id": "0ad36604-c3eb-49df-a89b-93a5ccd690c1",
   "metadata": {},
   "outputs": [],
   "source": [
    "new_lst1 = lst1.copy()"
   ]
  },
  {
   "cell_type": "code",
   "execution_count": 160,
   "id": "55e22409-35c7-4bc7-9496-729f0cf564cd",
   "metadata": {},
   "outputs": [],
   "source": [
    "lst1[1] = 'bbbb'"
   ]
  },
  {
   "cell_type": "code",
   "execution_count": 161,
   "id": "eba560fc-418d-4dbf-b9eb-ae9a2759549a",
   "metadata": {},
   "outputs": [
    {
     "data": {
      "text/plain": [
       "['a', 'b', 'c', 'd']"
      ]
     },
     "execution_count": 161,
     "metadata": {},
     "output_type": "execute_result"
    }
   ],
   "source": [
    "new_lst1"
   ]
  },
  {
   "cell_type": "markdown",
   "id": "a62f45ae-aa84-4759-aad7-b03fbb5a4533",
   "metadata": {},
   "source": [
    "## working with sets"
   ]
  },
  {
   "cell_type": "code",
   "execution_count": 162,
   "id": "237a0563-a95d-4f31-9b6b-594b2aa3d2bd",
   "metadata": {},
   "outputs": [],
   "source": [
    "sst = {12,'item1', True, 12, 'item2'}"
   ]
  },
  {
   "cell_type": "code",
   "execution_count": 163,
   "id": "469e1f11-9dc0-40bb-844c-b95e7f8243b6",
   "metadata": {},
   "outputs": [
    {
     "name": "stdout",
     "output_type": "stream",
     "text": [
      "['__and__', '__class__', '__class_getitem__', '__contains__', '__delattr__', '__dir__', '__doc__', '__eq__', '__format__', '__ge__', '__getattribute__', '__gt__', '__hash__', '__iand__', '__init__', '__init_subclass__', '__ior__', '__isub__', '__iter__', '__ixor__', '__le__', '__len__', '__lt__', '__ne__', '__new__', '__or__', '__rand__', '__reduce__', '__reduce_ex__', '__repr__', '__ror__', '__rsub__', '__rxor__', '__setattr__', '__sizeof__', '__str__', '__sub__', '__subclasshook__', '__xor__', 'add', 'clear', 'copy', 'difference', 'difference_update', 'discard', 'intersection', 'intersection_update', 'isdisjoint', 'issubset', 'issuperset', 'pop', 'remove', 'symmetric_difference', 'symmetric_difference_update', 'union', 'update']\n"
     ]
    }
   ],
   "source": [
    "print(dir(sst))"
   ]
  },
  {
   "cell_type": "code",
   "execution_count": null,
   "id": "171a49e7-a7ca-475d-a5dd-3182b32cd64c",
   "metadata": {},
   "outputs": [],
   "source": [
    "??? Which functions are not present here in sets which are present in tuple as well as list???"
   ]
  },
  {
   "cell_type": "code",
   "execution_count": null,
   "id": "5f4c615b-a4ab-45fd-942f-d27cdc0b1cf2",
   "metadata": {},
   "outputs": [],
   "source": [
    "count\n",
    "index"
   ]
  },
  {
   "cell_type": "code",
   "execution_count": 164,
   "id": "f8055e15-3878-43ec-a46d-7c9aaebadb16",
   "metadata": {},
   "outputs": [
    {
     "data": {
      "text/plain": [
       "{12, True, 'item1', 'item2'}"
      ]
     },
     "execution_count": 164,
     "metadata": {},
     "output_type": "execute_result"
    }
   ],
   "source": [
    "sst"
   ]
  },
  {
   "cell_type": "code",
   "execution_count": null,
   "id": "de3c833b-e827-49e4-a0bb-3c1b795872a4",
   "metadata": {},
   "outputs": [],
   "source": [
    "a set cannot have duplicates"
   ]
  },
  {
   "cell_type": "code",
   "execution_count": null,
   "id": "61c48294-66af-4fcf-a395-a0d1e0fd2c61",
   "metadata": {},
   "outputs": [],
   "source": [
    "set is unordered - no specific position(index) is decided for items"
   ]
  },
  {
   "cell_type": "code",
   "execution_count": 165,
   "id": "2508e170-82c7-4e8f-89a6-4ba78ac9ccf0",
   "metadata": {},
   "outputs": [],
   "source": [
    "set1 = {'a', 'b', 'c', 'd'}"
   ]
  },
  {
   "cell_type": "code",
   "execution_count": 166,
   "id": "484b8dbb-9a21-4d5b-8d9d-22be948e8a3a",
   "metadata": {},
   "outputs": [],
   "source": [
    "set1.clear()"
   ]
  },
  {
   "cell_type": "code",
   "execution_count": 167,
   "id": "2ca43ba2-a057-4ce2-99e8-7f4c6a365073",
   "metadata": {},
   "outputs": [
    {
     "data": {
      "text/plain": [
       "set()"
      ]
     },
     "execution_count": 167,
     "metadata": {},
     "output_type": "execute_result"
    }
   ],
   "source": [
    "set1"
   ]
  },
  {
   "cell_type": "code",
   "execution_count": 170,
   "id": "831fb978-7310-4d1b-8238-8e652b41f2a3",
   "metadata": {},
   "outputs": [
    {
     "data": {
      "text/plain": [
       "list"
      ]
     },
     "execution_count": 170,
     "metadata": {},
     "output_type": "execute_result"
    }
   ],
   "source": [
    "type([])  # empty list"
   ]
  },
  {
   "cell_type": "code",
   "execution_count": 172,
   "id": "78b1b06e-e75c-4eca-8ed6-cfeac313b0c0",
   "metadata": {},
   "outputs": [
    {
     "data": {
      "text/plain": [
       "tuple"
      ]
     },
     "execution_count": 172,
     "metadata": {},
     "output_type": "execute_result"
    }
   ],
   "source": [
    "type(())  # empty tuple"
   ]
  },
  {
   "cell_type": "code",
   "execution_count": 174,
   "id": "71788cfc-f713-4aad-98a8-3a6117c570c4",
   "metadata": {},
   "outputs": [
    {
     "data": {
      "text/plain": [
       "set"
      ]
     },
     "execution_count": 174,
     "metadata": {},
     "output_type": "execute_result"
    }
   ],
   "source": [
    "type(set())  # empty set"
   ]
  },
  {
   "cell_type": "code",
   "execution_count": 175,
   "id": "a70e5afe-2dbc-40dd-9947-c3acfb485215",
   "metadata": {},
   "outputs": [
    {
     "data": {
      "text/plain": [
       "dict"
      ]
     },
     "execution_count": 175,
     "metadata": {},
     "output_type": "execute_result"
    }
   ],
   "source": [
    "type({})  # empty dictionary"
   ]
  },
  {
   "cell_type": "code",
   "execution_count": 2,
   "id": "643bd61a-40d9-418c-b51b-adc34c25f1b4",
   "metadata": {},
   "outputs": [],
   "source": [
    "set1 = {'a', 'b', 'c', 'd'}\n",
    "set2 = {'p', 'q', 'r', 'b', 'd'}"
   ]
  },
  {
   "cell_type": "code",
   "execution_count": 178,
   "id": "213b0cc3-56ee-4e30-81c0-984411003b34",
   "metadata": {},
   "outputs": [
    {
     "data": {
      "text/plain": [
       "{'a', 'b', 'c', 'd', 'p', 'q', 'r'}"
      ]
     },
     "execution_count": 178,
     "metadata": {},
     "output_type": "execute_result"
    }
   ],
   "source": [
    "set1.union(set2)"
   ]
  },
  {
   "cell_type": "code",
   "execution_count": 179,
   "id": "7e1112c9-f549-4367-91ab-2eb5c19d872b",
   "metadata": {},
   "outputs": [
    {
     "data": {
      "text/plain": [
       "{'b', 'd'}"
      ]
     },
     "execution_count": 179,
     "metadata": {},
     "output_type": "execute_result"
    }
   ],
   "source": [
    "set1.intersection(set2)"
   ]
  },
  {
   "cell_type": "code",
   "execution_count": 180,
   "id": "63b52242-e01d-4deb-9fbb-0a9908304af6",
   "metadata": {},
   "outputs": [
    {
     "data": {
      "text/plain": [
       "{'a', 'c', 'p', 'q', 'r'}"
      ]
     },
     "execution_count": 180,
     "metadata": {},
     "output_type": "execute_result"
    }
   ],
   "source": [
    "set1.symmetric_difference(set2)"
   ]
  },
  {
   "cell_type": "code",
   "execution_count": 3,
   "id": "88a46ee4-cee7-429a-be41-115ddcca2383",
   "metadata": {},
   "outputs": [
    {
     "data": {
      "text/plain": [
       "{'a', 'c'}"
      ]
     },
     "execution_count": 3,
     "metadata": {},
     "output_type": "execute_result"
    }
   ],
   "source": [
    "set1.difference(set2)"
   ]
  },
  {
   "cell_type": "code",
   "execution_count": 4,
   "id": "4a05d2cb-70ac-4f2f-bc64-a8daa8a7f65b",
   "metadata": {},
   "outputs": [
    {
     "data": {
      "text/plain": [
       "{'p', 'q', 'r'}"
      ]
     },
     "execution_count": 4,
     "metadata": {},
     "output_type": "execute_result"
    }
   ],
   "source": [
    "set2.difference(set1)"
   ]
  },
  {
   "cell_type": "code",
   "execution_count": 5,
   "id": "fd2e0de9-2864-4027-9d74-cdbe42d2bb6c",
   "metadata": {},
   "outputs": [],
   "source": [
    "set1.add('e')"
   ]
  },
  {
   "cell_type": "code",
   "execution_count": 6,
   "id": "aff63960-5101-4a9e-a3e0-ed76d77f30d4",
   "metadata": {},
   "outputs": [
    {
     "data": {
      "text/plain": [
       "{'a', 'b', 'c', 'd', 'e'}"
      ]
     },
     "execution_count": 6,
     "metadata": {},
     "output_type": "execute_result"
    }
   ],
   "source": [
    "set1"
   ]
  },
  {
   "cell_type": "code",
   "execution_count": 8,
   "id": "a9da27dc-80b8-4c2c-83cb-629a84fc05b9",
   "metadata": {},
   "outputs": [],
   "source": [
    "set1 = {'a', 'b', 'c', 'd'}\n",
    "set2 = {'p', 'q', 'r', 'b', 'd'}"
   ]
  },
  {
   "cell_type": "code",
   "execution_count": 9,
   "id": "16d5dd8c-54ba-4254-acdd-c6924c80c582",
   "metadata": {},
   "outputs": [
    {
     "data": {
      "text/plain": [
       "{'p', 'q', 'r'}"
      ]
     },
     "execution_count": 9,
     "metadata": {},
     "output_type": "execute_result"
    }
   ],
   "source": [
    "set2.difference(set1)"
   ]
  },
  {
   "cell_type": "code",
   "execution_count": 10,
   "id": "cb5713c2-f6d0-4ed4-9a3d-26eae1dfee9a",
   "metadata": {},
   "outputs": [],
   "source": [
    "set2.difference_update(set1)"
   ]
  },
  {
   "cell_type": "code",
   "execution_count": 11,
   "id": "bdb5b341-410c-4a6c-accc-d079e5acc9ff",
   "metadata": {},
   "outputs": [
    {
     "data": {
      "text/plain": [
       "{'a', 'b', 'c', 'd'}"
      ]
     },
     "execution_count": 11,
     "metadata": {},
     "output_type": "execute_result"
    }
   ],
   "source": [
    "set1"
   ]
  },
  {
   "cell_type": "code",
   "execution_count": 12,
   "id": "f70ac899-b9f0-495a-812c-1226d8361391",
   "metadata": {},
   "outputs": [
    {
     "data": {
      "text/plain": [
       "{'p', 'q', 'r'}"
      ]
     },
     "execution_count": 12,
     "metadata": {},
     "output_type": "execute_result"
    }
   ],
   "source": [
    "set2"
   ]
  },
  {
   "cell_type": "code",
   "execution_count": 13,
   "id": "13fcd427-17ac-4e02-a0ca-33321013bd82",
   "metadata": {},
   "outputs": [],
   "source": [
    "set1 = {'a', 'b', 'c', 'd'}\n",
    "set2 = {'p', 'q', 'r', 'b', 'd'}"
   ]
  },
  {
   "cell_type": "code",
   "execution_count": 14,
   "id": "a8118c2b-2fab-44be-b200-9f9d7f229edb",
   "metadata": {},
   "outputs": [
    {
     "data": {
      "text/plain": [
       "{'a', 'c', 'p', 'q', 'r'}"
      ]
     },
     "execution_count": 14,
     "metadata": {},
     "output_type": "execute_result"
    }
   ],
   "source": [
    "set1.symmetric_difference(set2)"
   ]
  },
  {
   "cell_type": "code",
   "execution_count": 15,
   "id": "c9cb23bf-83de-4fee-a2c3-eceee6cea7b8",
   "metadata": {},
   "outputs": [
    {
     "data": {
      "text/plain": [
       "({'a', 'b', 'c', 'd'}, {'b', 'd', 'p', 'q', 'r'})"
      ]
     },
     "execution_count": 15,
     "metadata": {},
     "output_type": "execute_result"
    }
   ],
   "source": [
    "set1, set2"
   ]
  },
  {
   "cell_type": "code",
   "execution_count": 16,
   "id": "21150641-bbf1-4173-a937-bd2a81313fac",
   "metadata": {},
   "outputs": [],
   "source": [
    "set1.symmetric_difference_update(set2)"
   ]
  },
  {
   "cell_type": "code",
   "execution_count": 17,
   "id": "62d0c86e-194d-4581-a3e0-6da74f5051fd",
   "metadata": {},
   "outputs": [
    {
     "data": {
      "text/plain": [
       "{'a', 'c', 'p', 'q', 'r'}"
      ]
     },
     "execution_count": 17,
     "metadata": {},
     "output_type": "execute_result"
    }
   ],
   "source": [
    "set1"
   ]
  },
  {
   "cell_type": "code",
   "execution_count": 18,
   "id": "74eb1a36-440c-477e-b502-19aa12196079",
   "metadata": {},
   "outputs": [
    {
     "data": {
      "text/plain": [
       "{'b', 'd', 'p', 'q', 'r'}"
      ]
     },
     "execution_count": 18,
     "metadata": {},
     "output_type": "execute_result"
    }
   ],
   "source": [
    "set2"
   ]
  },
  {
   "cell_type": "markdown",
   "id": "b8fa36ce-54ab-4a34-b60d-d728ee1be8bc",
   "metadata": {},
   "source": [
    "### Dictionary"
   ]
  },
  {
   "cell_type": "code",
   "execution_count": 19,
   "id": "8240f10b-6910-436c-b087-66e84ee4cce7",
   "metadata": {},
   "outputs": [],
   "source": [
    "country = ['a', 'b', 'c']\n",
    "population = [200, 300, 400]"
   ]
  },
  {
   "cell_type": "code",
   "execution_count": null,
   "id": "8d8c8b8a-1e21-47b0-8c91-6713e00e7ca1",
   "metadata": {},
   "outputs": [],
   "source": [
    "population of country 'b'"
   ]
  },
  {
   "cell_type": "code",
   "execution_count": 20,
   "id": "5f0b9a74-ce33-4ca0-accf-91a751c99bb7",
   "metadata": {},
   "outputs": [
    {
     "data": {
      "text/plain": [
       "1"
      ]
     },
     "execution_count": 20,
     "metadata": {},
     "output_type": "execute_result"
    }
   ],
   "source": [
    "country.index('b')"
   ]
  },
  {
   "cell_type": "code",
   "execution_count": 21,
   "id": "bdd7799a-64fd-4ff4-a710-ceb9b713e08c",
   "metadata": {},
   "outputs": [
    {
     "data": {
      "text/plain": [
       "300"
      ]
     },
     "execution_count": 21,
     "metadata": {},
     "output_type": "execute_result"
    }
   ],
   "source": [
    "population[country.index('b')]"
   ]
  },
  {
   "cell_type": "code",
   "execution_count": 22,
   "id": "b91edc6b-cc97-4d68-af7c-a48e7d59e66a",
   "metadata": {},
   "outputs": [],
   "source": [
    "world = {'a': 200, 'b':300, 'c':400}"
   ]
  },
  {
   "cell_type": "code",
   "execution_count": 23,
   "id": "310ec744-5214-46e0-8927-b44af5d8fade",
   "metadata": {},
   "outputs": [
    {
     "data": {
      "text/plain": [
       "300"
      ]
     },
     "execution_count": 23,
     "metadata": {},
     "output_type": "execute_result"
    }
   ],
   "source": [
    "world['b']"
   ]
  },
  {
   "cell_type": "code",
   "execution_count": 24,
   "id": "4fcc8787-fb61-4c46-ab9c-b7d73eab3541",
   "metadata": {},
   "outputs": [
    {
     "name": "stdout",
     "output_type": "stream",
     "text": [
      "['__class__', '__class_getitem__', '__contains__', '__delattr__', '__delitem__', '__dir__', '__doc__', '__eq__', '__format__', '__ge__', '__getattribute__', '__getitem__', '__gt__', '__hash__', '__init__', '__init_subclass__', '__ior__', '__iter__', '__le__', '__len__', '__lt__', '__ne__', '__new__', '__or__', '__reduce__', '__reduce_ex__', '__repr__', '__reversed__', '__ror__', '__setattr__', '__setitem__', '__sizeof__', '__str__', '__subclasshook__', 'clear', 'copy', 'fromkeys', 'get', 'items', 'keys', 'pop', 'popitem', 'setdefault', 'update', 'values']\n"
     ]
    }
   ],
   "source": [
    "print(dir(world))"
   ]
  },
  {
   "cell_type": "code",
   "execution_count": 25,
   "id": "11acc78d-6c61-4d3f-859d-a4bd01f3305c",
   "metadata": {},
   "outputs": [
    {
     "data": {
      "text/plain": [
       "dict_keys(['a', 'b', 'c'])"
      ]
     },
     "execution_count": 25,
     "metadata": {},
     "output_type": "execute_result"
    }
   ],
   "source": [
    "world.keys()"
   ]
  },
  {
   "cell_type": "code",
   "execution_count": 26,
   "id": "a557d166-3026-4751-b04b-134ef4460584",
   "metadata": {},
   "outputs": [
    {
     "data": {
      "text/plain": [
       "dict_items([('a', 200), ('b', 300), ('c', 400)])"
      ]
     },
     "execution_count": 26,
     "metadata": {},
     "output_type": "execute_result"
    }
   ],
   "source": [
    "world.items()"
   ]
  },
  {
   "cell_type": "code",
   "execution_count": 27,
   "id": "169ab024-8a30-4ead-b8c1-e9aab3c61e85",
   "metadata": {},
   "outputs": [
    {
     "data": {
      "text/plain": [
       "dict_values([200, 300, 400])"
      ]
     },
     "execution_count": 27,
     "metadata": {},
     "output_type": "execute_result"
    }
   ],
   "source": [
    "world.values()"
   ]
  },
  {
   "cell_type": "code",
   "execution_count": 28,
   "id": "7f731ca8-ede9-4b72-950e-f1bb9f4f4ced",
   "metadata": {},
   "outputs": [
    {
     "data": {
      "text/plain": [
       "{'a': 200, 'b': 300, 'c': 400}"
      ]
     },
     "execution_count": 28,
     "metadata": {},
     "output_type": "execute_result"
    }
   ],
   "source": [
    "world"
   ]
  },
  {
   "cell_type": "code",
   "execution_count": 29,
   "id": "3b918a4f-3a33-4652-a003-474a42233881",
   "metadata": {},
   "outputs": [],
   "source": [
    "world['d'] = 500"
   ]
  },
  {
   "cell_type": "code",
   "execution_count": 30,
   "id": "4f438298-5e04-4726-ad1d-bbaaad03b6d7",
   "metadata": {},
   "outputs": [
    {
     "data": {
      "text/plain": [
       "{'a': 200, 'b': 300, 'c': 400, 'd': 500}"
      ]
     },
     "execution_count": 30,
     "metadata": {},
     "output_type": "execute_result"
    }
   ],
   "source": [
    "world"
   ]
  },
  {
   "cell_type": "code",
   "execution_count": 31,
   "id": "29e2fb08-9fbd-4cbb-8320-37cbd796083f",
   "metadata": {},
   "outputs": [],
   "source": [
    "world.update({'e':800})"
   ]
  },
  {
   "cell_type": "code",
   "execution_count": 32,
   "id": "18ca1987-27bf-455e-9117-2fdf1881c98b",
   "metadata": {},
   "outputs": [
    {
     "data": {
      "text/plain": [
       "{'a': 200, 'b': 300, 'c': 400, 'd': 500, 'e': 800}"
      ]
     },
     "execution_count": 32,
     "metadata": {},
     "output_type": "execute_result"
    }
   ],
   "source": [
    "world"
   ]
  },
  {
   "cell_type": "code",
   "execution_count": 33,
   "id": "5466cc88-f61a-4961-84bf-11afabb3526f",
   "metadata": {},
   "outputs": [],
   "source": [
    "world['b'] = 1000"
   ]
  },
  {
   "cell_type": "code",
   "execution_count": 34,
   "id": "501e1ded-0901-40eb-b753-aa174b59f088",
   "metadata": {},
   "outputs": [
    {
     "data": {
      "text/plain": [
       "{'a': 200, 'b': 1000, 'c': 400, 'd': 500, 'e': 800}"
      ]
     },
     "execution_count": 34,
     "metadata": {},
     "output_type": "execute_result"
    }
   ],
   "source": [
    "world"
   ]
  },
  {
   "cell_type": "code",
   "execution_count": 35,
   "id": "3ae8a657-3080-4df0-8590-4dced417d31a",
   "metadata": {},
   "outputs": [
    {
     "data": {
      "text/plain": [
       "{'a': 200, 'b': 1000, 'c': 400, 'd': 500, 'e': 2000}"
      ]
     },
     "execution_count": 35,
     "metadata": {},
     "output_type": "execute_result"
    }
   ],
   "source": [
    "{'a': 200, 'b': 1000, 'c': 400, 'd': 500, 'e': 800, 'e': 2000}"
   ]
  },
  {
   "cell_type": "markdown",
   "id": "cc6a6142-de9a-4047-a856-cf7cc429a9ac",
   "metadata": {},
   "source": [
    "## Loops and conditional statements"
   ]
  },
  {
   "cell_type": "code",
   "execution_count": 36,
   "id": "b3620067-2a4d-40ec-aef6-e2b4666d5b1b",
   "metadata": {},
   "outputs": [],
   "source": [
    "height = [175, 180, 165]\n",
    "weight = [75, 80, 68]"
   ]
  },
  {
   "cell_type": "code",
   "execution_count": null,
   "id": "eedb2dab-f8e9-40c0-84d6-423a0eb636cf",
   "metadata": {},
   "outputs": [],
   "source": [
    "BMI = ?"
   ]
  },
  {
   "cell_type": "code",
   "execution_count": 37,
   "id": "34085b25-b342-434b-9d70-f4202d588e71",
   "metadata": {},
   "outputs": [
    {
     "ename": "TypeError",
     "evalue": "unsupported operand type(s) for /: 'list' and 'int'",
     "output_type": "error",
     "traceback": [
      "\u001b[0;31m---------------------------------------------------------------------------\u001b[0m",
      "\u001b[0;31mTypeError\u001b[0m                                 Traceback (most recent call last)",
      "\u001b[0;32m/tmp/ipykernel_71/1804604363.py\u001b[0m in \u001b[0;36m<cell line: 1>\u001b[0;34m()\u001b[0m\n\u001b[0;32m----> 1\u001b[0;31m \u001b[0mweight\u001b[0m\u001b[0;34m/\u001b[0m\u001b[0mpow\u001b[0m\u001b[0;34m(\u001b[0m\u001b[0mheight\u001b[0m\u001b[0;34m/\u001b[0m\u001b[0;36m100\u001b[0m\u001b[0;34m,\u001b[0m\u001b[0;36m2\u001b[0m\u001b[0;34m)\u001b[0m\u001b[0;34m\u001b[0m\u001b[0;34m\u001b[0m\u001b[0m\n\u001b[0m",
      "\u001b[0;31mTypeError\u001b[0m: unsupported operand type(s) for /: 'list' and 'int'"
     ]
    }
   ],
   "source": [
    "weight/pow(height/100,2)"
   ]
  },
  {
   "cell_type": "code",
   "execution_count": 38,
   "id": "839a6458-00a2-4bc9-993e-f607e3f918a0",
   "metadata": {},
   "outputs": [],
   "source": [
    "sales_quarter_2020 = [20,30,40,50]\n",
    "sales_quarter_2021 = [45,35,34,21]"
   ]
  },
  {
   "cell_type": "code",
   "execution_count": null,
   "id": "c2ead3f1-4672-4ab0-8618-7e898cc45a8f",
   "metadata": {},
   "outputs": [],
   "source": [
    "I want quarter-wise total for both the years\n",
    "\n",
    "[20+45, 30+35, 40+34, 50+21]"
   ]
  },
  {
   "cell_type": "code",
   "execution_count": 39,
   "id": "551107ad-0e9e-4cdd-b426-0ecc05145bd6",
   "metadata": {},
   "outputs": [
    {
     "data": {
      "text/plain": [
       "[20, 30, 40, 50, 45, 35, 34, 21]"
      ]
     },
     "execution_count": 39,
     "metadata": {},
     "output_type": "execute_result"
    }
   ],
   "source": [
    "sales_quarter_2020 + sales_quarter_2021"
   ]
  },
  {
   "cell_type": "code",
   "execution_count": 41,
   "id": "5b155445-d507-4ec9-9a22-02bab46c9bc6",
   "metadata": {},
   "outputs": [
    {
     "data": {
      "text/plain": [
       "65"
      ]
     },
     "execution_count": 41,
     "metadata": {},
     "output_type": "execute_result"
    }
   ],
   "source": [
    "sales_quarter_2020[0] + sales_quarter_2021[0]"
   ]
  },
  {
   "cell_type": "code",
   "execution_count": 42,
   "id": "2f54f050-1db2-491f-bd1c-b20eeb5bac5a",
   "metadata": {},
   "outputs": [
    {
     "data": {
      "text/plain": [
       "65"
      ]
     },
     "execution_count": 42,
     "metadata": {},
     "output_type": "execute_result"
    }
   ],
   "source": [
    "sales_quarter_2020[1] + sales_quarter_2021[1]"
   ]
  },
  {
   "cell_type": "code",
   "execution_count": 43,
   "id": "6adbfd5c-3ba0-457f-851e-57dfbb5d1ff3",
   "metadata": {},
   "outputs": [
    {
     "data": {
      "text/plain": [
       "74"
      ]
     },
     "execution_count": 43,
     "metadata": {},
     "output_type": "execute_result"
    }
   ],
   "source": [
    "sales_quarter_2020[2] + sales_quarter_2021[2]"
   ]
  },
  {
   "cell_type": "code",
   "execution_count": 44,
   "id": "cea856ad-c0bd-4bd5-a4e7-8c22db10cf4e",
   "metadata": {},
   "outputs": [
    {
     "name": "stdout",
     "output_type": "stream",
     "text": [
      "65\n",
      "65\n",
      "74\n",
      "71\n"
     ]
    }
   ],
   "source": [
    "for i in [0, 1, 2, 3]:\n",
    "    print(sales_quarter_2020[i] + sales_quarter_2021[i])"
   ]
  },
  {
   "cell_type": "code",
   "execution_count": 45,
   "id": "b5292d51-efc5-4788-94cc-f907c13cad36",
   "metadata": {},
   "outputs": [
    {
     "data": {
      "text/plain": [
       "range(1, 100, 2)"
      ]
     },
     "execution_count": 45,
     "metadata": {},
     "output_type": "execute_result"
    }
   ],
   "source": [
    "range(1,100,2)"
   ]
  },
  {
   "cell_type": "code",
   "execution_count": 48,
   "id": "a9990714-fb89-44ff-9f80-40cbca0dc05b",
   "metadata": {},
   "outputs": [
    {
     "name": "stdout",
     "output_type": "stream",
     "text": [
      "[1, 6, 11, 16, 21, 26, 31, 36, 41, 46, 51, 56, 61, 66, 71, 76, 81, 86, 91, 96]\n"
     ]
    }
   ],
   "source": [
    "print(list(range(1,100,5)))"
   ]
  },
  {
   "cell_type": "code",
   "execution_count": 49,
   "id": "26d9b566-b705-47a7-a7ad-954c668d2b71",
   "metadata": {},
   "outputs": [
    {
     "name": "stdout",
     "output_type": "stream",
     "text": [
      "[0, 1, 2, 3, 4, 5, 6, 7, 8, 9, 10, 11, 12, 13, 14, 15, 16, 17, 18, 19]\n"
     ]
    }
   ],
   "source": [
    "print(list(range(20)))"
   ]
  },
  {
   "cell_type": "code",
   "execution_count": 50,
   "id": "976cbc29-01df-43ab-8eb7-efd9529ac2dd",
   "metadata": {},
   "outputs": [
    {
     "name": "stdout",
     "output_type": "stream",
     "text": [
      "65\n",
      "65\n",
      "74\n",
      "71\n"
     ]
    }
   ],
   "source": [
    "for i in range(4):\n",
    "    print(sales_quarter_2020[i] + sales_quarter_2021[i])"
   ]
  },
  {
   "cell_type": "code",
   "execution_count": 53,
   "id": "84d805ed-e367-45b7-8458-5b9c35dbc977",
   "metadata": {},
   "outputs": [],
   "source": [
    "total = []\n",
    "\n",
    "for i in range(4):\n",
    "    \n",
    "    total.append(sales_quarter_2020[i] + sales_quarter_2021[i])"
   ]
  },
  {
   "cell_type": "code",
   "execution_count": 54,
   "id": "c61ca53d-faf0-44e2-a93c-70749232a856",
   "metadata": {},
   "outputs": [
    {
     "data": {
      "text/plain": [
       "[65, 65, 74, 71]"
      ]
     },
     "execution_count": 54,
     "metadata": {},
     "output_type": "execute_result"
    }
   ],
   "source": [
    "total"
   ]
  },
  {
   "cell_type": "code",
   "execution_count": 55,
   "id": "37b0082e-990b-4d90-a751-16e54b35e251",
   "metadata": {},
   "outputs": [
    {
     "data": {
      "text/plain": [
       "4"
      ]
     },
     "execution_count": 55,
     "metadata": {},
     "output_type": "execute_result"
    }
   ],
   "source": [
    "len(sales_quarter_2020)"
   ]
  },
  {
   "cell_type": "code",
   "execution_count": 56,
   "id": "d939d99a-d485-4b02-92e8-a6c467b4570a",
   "metadata": {},
   "outputs": [],
   "source": [
    "total = []\n",
    "\n",
    "for i in range(len(sales_quarter_2020)):\n",
    "    \n",
    "    total.append(sales_quarter_2020[i] + sales_quarter_2021[i])"
   ]
  },
  {
   "cell_type": "code",
   "execution_count": null,
   "id": "84f86aee-5e28-4750-a98d-be9036cbcc38",
   "metadata": {},
   "outputs": [],
   "source": [
    "height = [175, 180, 165]\n",
    "weight = [75, 80, 68]"
   ]
  },
  {
   "cell_type": "code",
   "execution_count": 58,
   "id": "2155828d-47c9-4b04-bf4a-41848b6dc9e6",
   "metadata": {},
   "outputs": [
    {
     "name": "stdout",
     "output_type": "stream",
     "text": [
      "24.489795918367346\n",
      "24.691358024691358\n",
      "24.977043158861342\n"
     ]
    }
   ],
   "source": [
    "BMI = []\n",
    "\n",
    "for i in range(len(height)):\n",
    "    \n",
    "    bmi = weight[i]/pow(height[i]/100,2)\n",
    "    \n",
    "    print(bmi)\n",
    "    \n",
    "    BMI.append(bmi)"
   ]
  },
  {
   "cell_type": "code",
   "execution_count": 59,
   "id": "c13f144e-5185-4aa3-bcb7-5f344f42b860",
   "metadata": {},
   "outputs": [
    {
     "data": {
      "text/plain": [
       "[24.489795918367346, 24.691358024691358, 24.977043158861342]"
      ]
     },
     "execution_count": 59,
     "metadata": {},
     "output_type": "execute_result"
    }
   ],
   "source": [
    "BMI"
   ]
  },
  {
   "cell_type": "code",
   "execution_count": 60,
   "id": "20406fed-7dbb-40f9-b728-8dae6dda6bca",
   "metadata": {},
   "outputs": [],
   "source": [
    "names = ['a', 'b', 'c']\n",
    "height = [175, 180, 165]\n",
    "weight = [75, 80, 68]"
   ]
  },
  {
   "cell_type": "code",
   "execution_count": null,
   "id": "fad2d15b-c2bf-452f-af3b-b3dc4520b604",
   "metadata": {},
   "outputs": [],
   "source": [
    "{'a':24.489, 'b': 24.6, 'c': 24.97}"
   ]
  },
  {
   "cell_type": "code",
   "execution_count": 61,
   "id": "8c504661-9313-44f1-80f7-a598a36fc42c",
   "metadata": {},
   "outputs": [],
   "source": [
    "BMI_dic = {}\n",
    "\n",
    "for i in range(len(names)):\n",
    "    \n",
    "    bmi = weight[i]/pow(height[i]/100,2)\n",
    "    \n",
    "    BMI_dic[names[i]] = bmi"
   ]
  },
  {
   "cell_type": "code",
   "execution_count": 62,
   "id": "2e1d5f70-9485-45bf-bc0b-61eb6e85c46a",
   "metadata": {},
   "outputs": [
    {
     "data": {
      "text/plain": [
       "{'a': 24.489795918367346, 'b': 24.691358024691358, 'c': 24.977043158861342}"
      ]
     },
     "execution_count": 62,
     "metadata": {},
     "output_type": "execute_result"
    }
   ],
   "source": [
    "BMI_dic"
   ]
  },
  {
   "cell_type": "code",
   "execution_count": 63,
   "id": "91c9876a-7c47-41be-83dd-fabde6d5f5c7",
   "metadata": {},
   "outputs": [
    {
     "name": "stdout",
     "output_type": "stream",
     "text": [
      "24.489795918367346\n",
      "24.691358024691358\n",
      "24.977043158861342\n"
     ]
    }
   ],
   "source": [
    "for i, j in zip(weight,height):\n",
    "    \n",
    "    bmi = i/pow(j/100,2)\n",
    "    \n",
    "    print(bmi)"
   ]
  },
  {
   "cell_type": "code",
   "execution_count": 65,
   "id": "85532910-3ddf-4a6a-b990-2e8bf469d138",
   "metadata": {},
   "outputs": [
    {
     "name": "stdout",
     "output_type": "stream",
     "text": [
      "175\n",
      "180\n",
      "165\n"
     ]
    }
   ],
   "source": [
    "for i in [0,1,2]:\n",
    "    \n",
    "    print(height[i])"
   ]
  },
  {
   "cell_type": "code",
   "execution_count": 66,
   "id": "2d7fc96b-25da-4f56-ab5f-0852c9ccc6c5",
   "metadata": {},
   "outputs": [
    {
     "name": "stdout",
     "output_type": "stream",
     "text": [
      "175\n",
      "180\n",
      "165\n"
     ]
    }
   ],
   "source": [
    "for i in height:\n",
    "    \n",
    "    print(i)"
   ]
  },
  {
   "cell_type": "code",
   "execution_count": 67,
   "id": "2342758e-44d4-404f-9bb3-bb3bc26678c1",
   "metadata": {},
   "outputs": [
    {
     "name": "stdout",
     "output_type": "stream",
     "text": [
      "P\n",
      "y\n",
      "t\n",
      "h\n",
      "o\n",
      "n\n"
     ]
    }
   ],
   "source": [
    "for i in 'Python':\n",
    "    print(i)"
   ]
  },
  {
   "cell_type": "code",
   "execution_count": 68,
   "id": "6d304648-e8f2-443e-8e18-505c21e74eec",
   "metadata": {},
   "outputs": [
    {
     "data": {
      "text/plain": [
       "[175, 180, 165]"
      ]
     },
     "execution_count": 68,
     "metadata": {},
     "output_type": "execute_result"
    }
   ],
   "source": [
    "height"
   ]
  },
  {
   "cell_type": "code",
   "execution_count": 69,
   "id": "56618b66-b517-4343-9a5a-72cdd5a0dacd",
   "metadata": {},
   "outputs": [
    {
     "data": {
      "text/plain": [
       "[175, 180, 165]"
      ]
     },
     "execution_count": 69,
     "metadata": {},
     "output_type": "execute_result"
    }
   ],
   "source": [
    "[i for i in height]"
   ]
  },
  {
   "cell_type": "code",
   "execution_count": 70,
   "id": "39d72674-b59e-4d84-bcaa-0bd8f91782bb",
   "metadata": {},
   "outputs": [
    {
     "data": {
      "text/plain": [
       "[87.5, 90.0, 82.5]"
      ]
     },
     "execution_count": 70,
     "metadata": {},
     "output_type": "execute_result"
    }
   ],
   "source": [
    "[i/2 for i in height]"
   ]
  },
  {
   "cell_type": "code",
   "execution_count": null,
   "id": "1888bdf0-4b53-453d-9ed8-4619f73bfb74",
   "metadata": {},
   "outputs": [],
   "source": [
    "ask\n",
    "\n",
    "create a list using list comprehension containing cube values of all the even numbers from 1 to 50"
   ]
  },
  {
   "cell_type": "code",
   "execution_count": 77,
   "id": "237c0ad4-2f58-4af4-b0dd-fac1f0a37069",
   "metadata": {},
   "outputs": [],
   "source": [
    "cubes = []\n",
    "\n",
    "for i in range(2,51,2):\n",
    "    \n",
    "    c = pow(i, 3)\n",
    "    \n",
    "    cubes.append(c)"
   ]
  },
  {
   "cell_type": "code",
   "execution_count": 78,
   "id": "0c8166af-f9f9-408e-92d7-0fe173680d61",
   "metadata": {},
   "outputs": [
    {
     "name": "stdout",
     "output_type": "stream",
     "text": [
      "[8, 64, 216, 512, 1000, 1728, 2744, 4096, 5832, 8000, 10648, 13824, 17576, 21952, 27000, 32768, 39304, 46656, 54872, 64000, 74088, 85184, 97336, 110592, 125000]\n"
     ]
    }
   ],
   "source": [
    "print(cubes)"
   ]
  },
  {
   "cell_type": "code",
   "execution_count": 79,
   "id": "186fb422-6f2e-47da-8039-17acc42f3c77",
   "metadata": {},
   "outputs": [
    {
     "data": {
      "text/plain": [
       "[8,\n",
       " 64,\n",
       " 216,\n",
       " 512,\n",
       " 1000,\n",
       " 1728,\n",
       " 2744,\n",
       " 4096,\n",
       " 5832,\n",
       " 8000,\n",
       " 10648,\n",
       " 13824,\n",
       " 17576,\n",
       " 21952,\n",
       " 27000,\n",
       " 32768,\n",
       " 39304,\n",
       " 46656,\n",
       " 54872,\n",
       " 64000,\n",
       " 74088,\n",
       " 85184,\n",
       " 97336,\n",
       " 110592,\n",
       " 125000]"
      ]
     },
     "execution_count": 79,
     "metadata": {},
     "output_type": "execute_result"
    }
   ],
   "source": [
    "[pow(i,3) for i in range(2,51,2)]"
   ]
  },
  {
   "cell_type": "code",
   "execution_count": 80,
   "id": "a2a1fa50-65f0-4006-a167-1ee91fd2a0de",
   "metadata": {},
   "outputs": [
    {
     "data": {
      "text/plain": [
       "([175, 180, 165], [75, 80, 68])"
      ]
     },
     "execution_count": 80,
     "metadata": {},
     "output_type": "execute_result"
    }
   ],
   "source": [
    "height, weight"
   ]
  },
  {
   "cell_type": "code",
   "execution_count": 82,
   "id": "4d29c73b-3833-4a3a-a85c-0228108c3163",
   "metadata": {},
   "outputs": [
    {
     "data": {
      "text/plain": [
       "[24.489795918367346, 24.691358024691358, 24.977043158861342]"
      ]
     },
     "execution_count": 82,
     "metadata": {},
     "output_type": "execute_result"
    }
   ],
   "source": [
    "[i/pow(j/100,2) for i, j in zip(weight, height)]"
   ]
  },
  {
   "cell_type": "code",
   "execution_count": 83,
   "id": "0e299666-33de-4df0-b2f2-0624be05b56c",
   "metadata": {},
   "outputs": [
    {
     "data": {
      "text/plain": [
       "(['a', 'b', 'c'], [200, 300, 400])"
      ]
     },
     "execution_count": 83,
     "metadata": {},
     "output_type": "execute_result"
    }
   ],
   "source": [
    "country, population"
   ]
  },
  {
   "cell_type": "code",
   "execution_count": 84,
   "id": "eac85705-c699-4ea2-b7f5-7f0315c1ff1e",
   "metadata": {},
   "outputs": [
    {
     "data": {
      "text/plain": [
       "{'a': 200, 'b': 300, 'c': 400}"
      ]
     },
     "execution_count": 84,
     "metadata": {},
     "output_type": "execute_result"
    }
   ],
   "source": [
    "{c:p for c,p in zip(country, population)}"
   ]
  },
  {
   "cell_type": "code",
   "execution_count": 85,
   "id": "6993474b-e2b7-4a56-8285-6fe91da46ac9",
   "metadata": {},
   "outputs": [
    {
     "data": {
      "text/plain": [
       "{'a': 200, 'b': 300, 'c': 400}"
      ]
     },
     "execution_count": 85,
     "metadata": {},
     "output_type": "execute_result"
    }
   ],
   "source": [
    "dict(zip(country, population))"
   ]
  },
  {
   "cell_type": "code",
   "execution_count": 86,
   "id": "6216bbfa-95aa-43d0-b44f-48bfe8b8b5ae",
   "metadata": {},
   "outputs": [],
   "source": [
    "names = ['a','b','c']\n",
    "BMI = [24.489795918367346, 24.691358024691358, 24.977043158861342]"
   ]
  },
  {
   "cell_type": "code",
   "execution_count": 87,
   "id": "57b2c91d-5ecb-41e2-afde-e1c4b2120127",
   "metadata": {},
   "outputs": [
    {
     "data": {
      "text/plain": [
       "{'a': 24.489795918367346, 'b': 24.691358024691358, 'c': 24.977043158861342}"
      ]
     },
     "execution_count": 87,
     "metadata": {},
     "output_type": "execute_result"
    }
   ],
   "source": [
    "{i:j for i,j in zip(names, BMI)}"
   ]
  },
  {
   "cell_type": "code",
   "execution_count": 88,
   "id": "451b403b-3970-470d-97ae-eeca8eb39dc9",
   "metadata": {},
   "outputs": [],
   "source": [
    "names = ['a', 'b', 'c']\n",
    "height = [175, 180, 165]\n",
    "weight = [75, 80, 68]"
   ]
  },
  {
   "cell_type": "code",
   "execution_count": 90,
   "id": "7512642d-1d1f-4469-93ad-e5f3a7bb7d9d",
   "metadata": {},
   "outputs": [
    {
     "data": {
      "text/plain": [
       "{'a': 24.489795918367346, 'b': 24.691358024691358, 'c': 24.977043158861342}"
      ]
     },
     "execution_count": 90,
     "metadata": {},
     "output_type": "execute_result"
    }
   ],
   "source": [
    "{n:w/pow(h/100,2) for n,w,h in zip(names,weight,height)}"
   ]
  },
  {
   "cell_type": "code",
   "execution_count": null,
   "id": "a90767d0-24f2-4692-ba21-4655efd824f0",
   "metadata": {},
   "outputs": [],
   "source": [
    "if <condition>:\n",
    "    <action>\n",
    "elif <condition>:    \n",
    "    <action>\n",
    "elif <condition>:    \n",
    "    <action>\n",
    "else:\n",
    "    <action>"
   ]
  },
  {
   "cell_type": "code",
   "execution_count": null,
   "id": "f0fdd082-64ee-4580-b13f-aa4d1ebbbff2",
   "metadata": {},
   "outputs": [],
   "source": [
    "How to provide conditions?\n",
    "\n",
    "logical operators"
   ]
  },
  {
   "cell_type": "code",
   "execution_count": null,
   "id": "4e8e2f68-6e69-428e-8875-13ebd0c4d94f",
   "metadata": {},
   "outputs": [],
   "source": [
    "==   --- whether equal\n",
    "!=   --- whether not equal\n",
    ">\n",
    "<\n",
    ">=   --- greater than or equal to\n",
    "<=   --- less than or equal to\n",
    "\n",
    "in       -- whether contains \n",
    "not in   -- whether does not contain\n",
    "\n",
    "Following operators are used to combine multiple conditions\n",
    "\n",
    "and\n",
    "or \n",
    "not\n",
    "\n",
    "For bitwise operation\n",
    "\n",
    "&  --- and\n",
    "|  --- or\n",
    "~  --- not"
   ]
  },
  {
   "cell_type": "code",
   "execution_count": 91,
   "id": "edcb8c91-1a7e-41fe-93b9-68f065ec6bb3",
   "metadata": {},
   "outputs": [
    {
     "data": {
      "text/plain": [
       "True"
      ]
     },
     "execution_count": 91,
     "metadata": {},
     "output_type": "execute_result"
    }
   ],
   "source": [
    "2==2"
   ]
  },
  {
   "cell_type": "code",
   "execution_count": 92,
   "id": "7d07d45e-17e6-49f8-bcb1-ebb73eee995f",
   "metadata": {},
   "outputs": [
    {
     "data": {
      "text/plain": [
       "False"
      ]
     },
     "execution_count": 92,
     "metadata": {},
     "output_type": "execute_result"
    }
   ],
   "source": [
    "2!=2"
   ]
  },
  {
   "cell_type": "code",
   "execution_count": 93,
   "id": "be988e35-5afc-4165-885c-316a13655054",
   "metadata": {},
   "outputs": [
    {
     "data": {
      "text/plain": [
       "True"
      ]
     },
     "execution_count": 93,
     "metadata": {},
     "output_type": "execute_result"
    }
   ],
   "source": [
    "(10>5) and (10>6)"
   ]
  },
  {
   "cell_type": "code",
   "execution_count": 94,
   "id": "e8378489-7689-4c7f-b8c9-f0c8394e59f5",
   "metadata": {},
   "outputs": [
    {
     "data": {
      "text/plain": [
       "False"
      ]
     },
     "execution_count": 94,
     "metadata": {},
     "output_type": "execute_result"
    }
   ],
   "source": [
    "(10<5) and (10>6)"
   ]
  },
  {
   "cell_type": "code",
   "execution_count": 95,
   "id": "fa5d9398-8d60-422a-8dc8-8866454fe42d",
   "metadata": {},
   "outputs": [
    {
     "data": {
      "text/plain": [
       "False"
      ]
     },
     "execution_count": 95,
     "metadata": {},
     "output_type": "execute_result"
    }
   ],
   "source": [
    "(10<5) and (10<6)"
   ]
  },
  {
   "cell_type": "code",
   "execution_count": 96,
   "id": "b4768ad8-0cc4-4c5f-821d-b33f51d2a326",
   "metadata": {},
   "outputs": [
    {
     "data": {
      "text/plain": [
       "False"
      ]
     },
     "execution_count": 96,
     "metadata": {},
     "output_type": "execute_result"
    }
   ],
   "source": [
    "(10>5) and (10<6)"
   ]
  },
  {
   "cell_type": "code",
   "execution_count": 97,
   "id": "2ab9c2f7-395b-47ea-b8ac-7fe8d4e87e20",
   "metadata": {},
   "outputs": [
    {
     "data": {
      "text/plain": [
       "(True, False, False, False)"
      ]
     },
     "execution_count": 97,
     "metadata": {},
     "output_type": "execute_result"
    }
   ],
   "source": [
    "(10>5) and (10>6), (10<5) and (10>6), (10<5) and (10<6), (10>5) and (10<6)"
   ]
  },
  {
   "cell_type": "code",
   "execution_count": 98,
   "id": "92c3ed75-b9f6-4f22-9678-600259692b52",
   "metadata": {},
   "outputs": [
    {
     "data": {
      "text/plain": [
       "(True, True, False, True)"
      ]
     },
     "execution_count": 98,
     "metadata": {},
     "output_type": "execute_result"
    }
   ],
   "source": [
    "(10>5) or (10>6), (10<5) or (10>6), (10<5) or (10<6), (10>5) or (10<6)"
   ]
  },
  {
   "cell_type": "code",
   "execution_count": null,
   "id": "935ac3ee-18b3-476d-8242-d37d6090ec71",
   "metadata": {},
   "outputs": [],
   "source": [
    "How to take input from the user?"
   ]
  },
  {
   "cell_type": "code",
   "execution_count": 101,
   "id": "ba2311e7-46a5-437f-818f-abd52357b8b1",
   "metadata": {},
   "outputs": [
    {
     "name": "stdin",
     "output_type": "stream",
     "text": [
      "Enter the amount 2000\n"
     ]
    }
   ],
   "source": [
    "amt = input(\"Enter the amount\")"
   ]
  },
  {
   "cell_type": "code",
   "execution_count": null,
   "id": "8d062ef6-4599-431f-9f52-8e6142c0a09b",
   "metadata": {},
   "outputs": [],
   "source": [
    "Task\n",
    "\n",
    "Create a program which takes input from the user for the transaction amount\n",
    "\n",
    "provide discount and find net payable under the following condition\n",
    "\n",
    "if amount is less than 2000 - no discount\n",
    "for any amount more than or equal to 2000 - 15% discount"
   ]
  },
  {
   "cell_type": "code",
   "execution_count": null,
   "id": "e0b11136-350c-43f8-9310-fea9ee2095a2",
   "metadata": {},
   "outputs": [],
   "source": [
    "5 mins"
   ]
  },
  {
   "cell_type": "code",
   "execution_count": 105,
   "id": "6a8fb62e-a7a5-4140-9451-5dbe3afe5ec8",
   "metadata": {},
   "outputs": [
    {
     "name": "stdin",
     "output_type": "stream",
     "text": [
      "Enter the amount 2500\n"
     ]
    }
   ],
   "source": [
    "amt = float(input(\"Enter the amount\"))"
   ]
  },
  {
   "cell_type": "code",
   "execution_count": 107,
   "id": "6111fb62-a36f-4097-85d5-2d64f28b41cf",
   "metadata": {},
   "outputs": [
    {
     "name": "stdout",
     "output_type": "stream",
     "text": [
      "2125.0\n"
     ]
    }
   ],
   "source": [
    "if amt<2000:\n",
    "    discount = 0\n",
    "else:\n",
    "    discount = amt*.15\n",
    "    \n",
    "net_payable = amt - discount\n",
    "\n",
    "print(net_payable)"
   ]
  },
  {
   "cell_type": "code",
   "execution_count": null,
   "id": "d2810189-e7e8-4f14-9e5b-329d93795d69",
   "metadata": {},
   "outputs": [],
   "source": [
    "Task\n",
    "\n",
    "Create a program which takes input from the user for the transaction amount\n",
    "\n",
    "provide discount and find net payable under the following condition\n",
    "\n",
    "if amount is less than 2000 - no discount\n",
    "for any amount between 2000 and 5000 - 15% discount (2000 included but 5000 excluded)\n",
    "for any amount more than or equal to 5000 - 20% discount"
   ]
  },
  {
   "cell_type": "code",
   "execution_count": 108,
   "id": "04549581-8646-407b-905b-550996a1305e",
   "metadata": {},
   "outputs": [
    {
     "name": "stdout",
     "output_type": "stream",
     "text": [
      "2125.0\n"
     ]
    }
   ],
   "source": [
    "if amt<2000:\n",
    "    discount = 0\n",
    "elif amt<5000:\n",
    "    discount = amt*.15\n",
    "else:\n",
    "    discount = amt*.20\n",
    "    \n",
    "net_payable = amt - discount\n",
    "\n",
    "print(net_payable)"
   ]
  },
  {
   "cell_type": "raw",
   "id": "bda9f03b-675a-45e5-b913-9ff12166d6cf",
   "metadata": {},
   "source": [
    "Task\n",
    "\n",
    "lst = [12,23,34,45,67,89,99]"
   ]
  },
  {
   "cell_type": "code",
   "execution_count": null,
   "id": "5024aa2e-b452-4d6d-a119-483cb84014ee",
   "metadata": {},
   "outputs": [],
   "source": [
    "Use lst and create a program which returns a list with only numbers divisible by 3"
   ]
  },
  {
   "cell_type": "code",
   "execution_count": 112,
   "id": "2752b082-f24f-4ac4-a715-08ab89cb9eb6",
   "metadata": {},
   "outputs": [
    {
     "name": "stdout",
     "output_type": "stream",
     "text": [
      "12\n",
      "45\n",
      "99\n"
     ]
    }
   ],
   "source": [
    "lst = [12,23,34,45,67,89,99]\n",
    "\n",
    "for n in lst:\n",
    "    \n",
    "    if n%3 == 0:\n",
    "        print(n)"
   ]
  },
  {
   "cell_type": "code",
   "execution_count": 113,
   "id": "265ebbad-b160-48a4-bb84-49196aa06ab7",
   "metadata": {},
   "outputs": [],
   "source": [
    "lst = [12,23,34,45,67,89,99]\n",
    "\n",
    "lst_div_3 = []\n",
    "\n",
    "for n in lst:\n",
    "    \n",
    "    if n%3 == 0:\n",
    "        \n",
    "        lst_div_3.append(n)"
   ]
  },
  {
   "cell_type": "code",
   "execution_count": 114,
   "id": "ebfbfb75-290f-42cc-bf6d-2604b167291a",
   "metadata": {},
   "outputs": [
    {
     "data": {
      "text/plain": [
       "[12, 45, 99]"
      ]
     },
     "execution_count": 114,
     "metadata": {},
     "output_type": "execute_result"
    }
   ],
   "source": [
    "lst_div_3"
   ]
  },
  {
   "cell_type": "code",
   "execution_count": 116,
   "id": "5af62de6-85bd-40dd-a946-cefa3e578b90",
   "metadata": {},
   "outputs": [
    {
     "data": {
      "text/plain": [
       "[12, 45, 99]"
      ]
     },
     "execution_count": 116,
     "metadata": {},
     "output_type": "execute_result"
    }
   ],
   "source": [
    "[i for i in lst if i%3==0]"
   ]
  },
  {
   "cell_type": "markdown",
   "id": "abd7e173-1950-466c-a2e3-427a3c7e34d4",
   "metadata": {},
   "source": [
    "### Create a use defined function"
   ]
  },
  {
   "cell_type": "code",
   "execution_count": 117,
   "id": "7757147f-873f-45d1-9bed-f2f2d768b41b",
   "metadata": {},
   "outputs": [],
   "source": [
    "def my_function(a,b,c):\n",
    "    \n",
    "    return 2*a+b/2+c**3"
   ]
  },
  {
   "cell_type": "code",
   "execution_count": 118,
   "id": "35020243-9f3d-4cab-a710-184392aa3c1f",
   "metadata": {},
   "outputs": [
    {
     "data": {
      "text/plain": [
       "521.0"
      ]
     },
     "execution_count": 118,
     "metadata": {},
     "output_type": "execute_result"
    }
   ],
   "source": [
    "my_function(3,6,8)"
   ]
  },
  {
   "cell_type": "code",
   "execution_count": null,
   "id": "65a6d3de-c296-4e13-a128-57e6bca75316",
   "metadata": {},
   "outputs": [],
   "source": [
    "Task\n",
    "\n",
    "Create a function which takes input as the transaction amount\n",
    "\n",
    "the function should return net payable under the following condition\n",
    "\n",
    "if amount is less than 2000 - no discount\n",
    "for any amount between 2000 and 5000 - 15% discount (2000 included but 5000 excluded)\n",
    "for any amount more than or equal to 5000 - 20% discount"
   ]
  },
  {
   "cell_type": "code",
   "execution_count": 122,
   "id": "6ed44866-a855-49b4-90c8-9f6ffb4aba77",
   "metadata": {},
   "outputs": [],
   "source": [
    "def net_payable(trans_amt):\n",
    "    \n",
    "    if trans_amt<2000:\n",
    "        discount = 0\n",
    "    \n",
    "    elif trans_amt<5000:\n",
    "        discount = trans_amt*.15\n",
    "    \n",
    "    else:\n",
    "        discount = trans_amt*.20\n",
    "    \n",
    "    net_payable = trans_amt - discount\n",
    "\n",
    "    return net_payable\n",
    "    "
   ]
  },
  {
   "cell_type": "code",
   "execution_count": 123,
   "id": "cd12fb12-2784-408b-b4dd-88ef9126fbd2",
   "metadata": {},
   "outputs": [
    {
     "data": {
      "text/plain": [
       "4800.0"
      ]
     },
     "execution_count": 123,
     "metadata": {},
     "output_type": "execute_result"
    }
   ],
   "source": [
    "net_payable(6000)"
   ]
  },
  {
   "cell_type": "code",
   "execution_count": 125,
   "id": "413ed631-17fc-4bc9-bee6-7123cb544d01",
   "metadata": {},
   "outputs": [
    {
     "data": {
      "text/plain": [
       "4800.0"
      ]
     },
     "execution_count": 125,
     "metadata": {},
     "output_type": "execute_result"
    }
   ],
   "source": [
    "6000 - 6000*.2"
   ]
  },
  {
   "cell_type": "code",
   "execution_count": 126,
   "id": "4b48d212-d091-45a5-90f7-e7500cd36d50",
   "metadata": {},
   "outputs": [],
   "source": [
    "def function():\n",
    "    \n",
    "    amt=float(input('Enter a number'))\n",
    "    \n",
    "    if amt<2000:\n",
    "            discount = 0\n",
    "    elif amt<5000: \n",
    "            discount = amt*.15\n",
    "    else:\n",
    "            discount=amt*.20\n",
    "    return (amt-discount)"
   ]
  },
  {
   "cell_type": "code",
   "execution_count": 127,
   "id": "aa8ac24e-055a-4587-bd58-aa899e4daebc",
   "metadata": {},
   "outputs": [
    {
     "name": "stdin",
     "output_type": "stream",
     "text": [
      "Enter a number 6000\n"
     ]
    },
    {
     "data": {
      "text/plain": [
       "4800.0"
      ]
     },
     "execution_count": 127,
     "metadata": {},
     "output_type": "execute_result"
    }
   ],
   "source": [
    "function()"
   ]
  },
  {
   "cell_type": "code",
   "execution_count": null,
   "id": "b5b478a7-23fc-4e6e-b5d0-4733f4d5c275",
   "metadata": {},
   "outputs": [],
   "source": [
    "Non-keyword arguments(positional) and keyword arguments"
   ]
  },
  {
   "cell_type": "code",
   "execution_count": 128,
   "id": "0d5f8b10-67f4-4a8f-b26d-14b751045e12",
   "metadata": {},
   "outputs": [],
   "source": [
    "def my_function(a,b,c):\n",
    "    \n",
    "    return 2*a+b/2+c**3"
   ]
  },
  {
   "cell_type": "code",
   "execution_count": 129,
   "id": "d9e5fe23-3986-46cb-8832-6dcd510bb2dd",
   "metadata": {},
   "outputs": [
    {
     "data": {
      "text/plain": [
       "521.0"
      ]
     },
     "execution_count": 129,
     "metadata": {},
     "output_type": "execute_result"
    }
   ],
   "source": [
    "my_function(3,6,8)"
   ]
  },
  {
   "cell_type": "code",
   "execution_count": 130,
   "id": "cce5686a-ad24-4954-83cc-6c27cdcaeb4c",
   "metadata": {},
   "outputs": [
    {
     "data": {
      "text/plain": [
       "46.0"
      ]
     },
     "execution_count": 130,
     "metadata": {},
     "output_type": "execute_result"
    }
   ],
   "source": [
    "my_function(8,6,3)"
   ]
  },
  {
   "cell_type": "code",
   "execution_count": null,
   "id": "9e233d14-0f5d-42c6-a995-9d25d30b9766",
   "metadata": {},
   "outputs": [],
   "source": [
    "In this way we need to take care of the positions of the arguments\n",
    "if position changes output will also change"
   ]
  },
  {
   "cell_type": "code",
   "execution_count": 136,
   "id": "90149df0-da15-49b5-89ce-8ebf18c64228",
   "metadata": {},
   "outputs": [],
   "source": [
    "def my_function(a=0,b=0,c=0):\n",
    "    \n",
    "    '''\n",
    "    This function takes 3 arguments. We used it for learning purposes\n",
    "    \n",
    "    '''\n",
    "    return 2*a+b/2+c**3"
   ]
  },
  {
   "cell_type": "code",
   "execution_count": 132,
   "id": "4b5531d9-af45-4f1c-8db3-3abf2ba2c83b",
   "metadata": {},
   "outputs": [
    {
     "data": {
      "text/plain": [
       "521.0"
      ]
     },
     "execution_count": 132,
     "metadata": {},
     "output_type": "execute_result"
    }
   ],
   "source": [
    "my_function(a=3,b=6,c=8)"
   ]
  },
  {
   "cell_type": "code",
   "execution_count": 133,
   "id": "48eb679f-973a-492c-a7cc-3f3e4683ae55",
   "metadata": {},
   "outputs": [
    {
     "data": {
      "text/plain": [
       "521.0"
      ]
     },
     "execution_count": 133,
     "metadata": {},
     "output_type": "execute_result"
    }
   ],
   "source": [
    "my_function(c=8,b=6,a=3)"
   ]
  },
  {
   "cell_type": "code",
   "execution_count": 135,
   "id": "8e46c9c4-4868-46cb-9237-4a25a38c6790",
   "metadata": {},
   "outputs": [
    {
     "data": {
      "text/plain": [
       "0.0"
      ]
     },
     "execution_count": 135,
     "metadata": {},
     "output_type": "execute_result"
    }
   ],
   "source": [
    "my_function()"
   ]
  },
  {
   "cell_type": "code",
   "execution_count": null,
   "id": "7eb2f0b0-ebda-4caa-a5ae-0582a8254ac4",
   "metadata": {},
   "outputs": [],
   "source": [
    "args   -- non-keyword arguments\n",
    "kwargs -- keyword arguments"
   ]
  },
  {
   "cell_type": "code",
   "execution_count": null,
   "id": "447aea93-ec80-49ac-96fe-20e58a9aa713",
   "metadata": {},
   "outputs": [],
   "source": [
    "When we are not sure about the number of arguments"
   ]
  },
  {
   "cell_type": "code",
   "execution_count": 1,
   "id": "96c200c1-b958-47fd-9ff9-1911add2373c",
   "metadata": {},
   "outputs": [],
   "source": [
    "def add_numbers(*args):\n",
    "    \n",
    "    tot = 0\n",
    "    \n",
    "    for i in args:\n",
    "        \n",
    "        tot = tot + i\n",
    "    \n",
    "    return tot"
   ]
  },
  {
   "cell_type": "code",
   "execution_count": 2,
   "id": "c1f4f551-28d4-48f6-8483-68bd6048f3ee",
   "metadata": {},
   "outputs": [
    {
     "data": {
      "text/plain": [
       "57"
      ]
     },
     "execution_count": 2,
     "metadata": {},
     "output_type": "execute_result"
    }
   ],
   "source": [
    "add_numbers(23,34)"
   ]
  },
  {
   "cell_type": "code",
   "execution_count": 3,
   "id": "98d32c95-4c18-4359-9ea5-4e1edfd308a4",
   "metadata": {},
   "outputs": [
    {
     "data": {
      "text/plain": [
       "113"
      ]
     },
     "execution_count": 3,
     "metadata": {},
     "output_type": "execute_result"
    }
   ],
   "source": [
    "add_numbers(23,34,56)"
   ]
  },
  {
   "cell_type": "code",
   "execution_count": 4,
   "id": "2654aa2b-f8bb-4c05-9bca-8ac953b2ff15",
   "metadata": {},
   "outputs": [],
   "source": [
    "def info(name, age, **kwargs):\n",
    "    \n",
    "    print(name, age, kwargs)\n",
    "    "
   ]
  },
  {
   "cell_type": "code",
   "execution_count": 5,
   "id": "27f4860a-d561-4761-a4b1-d2be477ab479",
   "metadata": {},
   "outputs": [
    {
     "name": "stdout",
     "output_type": "stream",
     "text": [
      "shubham 40 {'designation': 'trainer'}\n"
     ]
    }
   ],
   "source": [
    "info('shubham', 40, designation = 'trainer')"
   ]
  },
  {
   "cell_type": "code",
   "execution_count": 11,
   "id": "e30c9f6c-f970-435f-b4b5-d076bde1bff6",
   "metadata": {},
   "outputs": [],
   "source": [
    "i = None\n",
    "\n",
    "def pow(x,y):\n",
    "    \n",
    "    res = 1\n",
    "    \n",
    "    for i in range(y):\n",
    "        \n",
    "        res = res*x\n",
    "        \n",
    "    print(res)"
   ]
  },
  {
   "cell_type": "code",
   "execution_count": 7,
   "id": "27fd5bb2-be73-40ee-9d1b-db458d3aa8a9",
   "metadata": {},
   "outputs": [
    {
     "name": "stdout",
     "output_type": "stream",
     "text": [
      "1000\n"
     ]
    }
   ],
   "source": [
    "pow(10,3)"
   ]
  },
  {
   "cell_type": "code",
   "execution_count": 9,
   "id": "4083f88b-c226-448b-8de5-06146fab34e3",
   "metadata": {},
   "outputs": [
    {
     "name": "stdout",
     "output_type": "stream",
     "text": [
      "None\n"
     ]
    }
   ],
   "source": [
    "print(i)  # value of i is from outside the function"
   ]
  },
  {
   "cell_type": "code",
   "execution_count": 10,
   "id": "aa90630b-40d4-4ffe-8ede-18b71377df5f",
   "metadata": {},
   "outputs": [
    {
     "ename": "NameError",
     "evalue": "name 'res' is not defined",
     "output_type": "error",
     "traceback": [
      "\u001b[0;31m---------------------------------------------------------------------------\u001b[0m",
      "\u001b[0;31mNameError\u001b[0m                                 Traceback (most recent call last)",
      "\u001b[0;32m/tmp/ipykernel_70/1978155317.py\u001b[0m in \u001b[0;36m<cell line: 1>\u001b[0;34m()\u001b[0m\n\u001b[0;32m----> 1\u001b[0;31m \u001b[0mprint\u001b[0m\u001b[0;34m(\u001b[0m\u001b[0mres\u001b[0m\u001b[0;34m)\u001b[0m\u001b[0;34m\u001b[0m\u001b[0;34m\u001b[0m\u001b[0m\n\u001b[0m",
      "\u001b[0;31mNameError\u001b[0m: name 'res' is not defined"
     ]
    }
   ],
   "source": [
    "print(res)  # error: cannt access 'res' out of scope of function 'pow'"
   ]
  },
  {
   "cell_type": "raw",
   "id": "b5715fe9-7198-4ce9-bb28-3bb80da3d4ab",
   "metadata": {},
   "source": [
    "res is local variable"
   ]
  },
  {
   "cell_type": "code",
   "execution_count": 16,
   "id": "3da7662a-9fea-486b-b38d-1824a917f452",
   "metadata": {},
   "outputs": [
    {
     "name": "stdout",
     "output_type": "stream",
     "text": [
      "i before loop 10\n",
      "res before loop 20\n",
      "j after loop def 30\n",
      "res in loop 1000\n",
      "j in pow 30\n",
      "i after function call 10\n",
      "j after function call 30\n",
      "res after function call 20\n"
     ]
    }
   ],
   "source": [
    "i = 10\n",
    "res = 20\n",
    "j = 30\n",
    "\n",
    "# i, j and res are global variables\n",
    "\n",
    "print('i before loop', i)\n",
    "print('res before loop',res)\n",
    "\n",
    "def pow(x,y):\n",
    "    \n",
    "    res = 1\n",
    "\n",
    "# local variable is hiding the global variable(defined earlier) within the scope of this function\n",
    "\n",
    "    for i in range(y):\n",
    "        \n",
    "        res = res*x\n",
    "        \n",
    "    print('res in loop', res) # i and res are as per values in pow\n",
    "    print('j in pow', j) \n",
    "\n",
    "    \n",
    "print('j after loop def', j) # j assined before pow is available\n",
    "\n",
    "pow(10,3)\n",
    "\n",
    "print('i after function call', i); print('j after function call',j); print('res after function call',res)"
   ]
  },
  {
   "cell_type": "code",
   "execution_count": 17,
   "id": "a0e29d80-04bb-47ab-8c9d-89cd4d1475a8",
   "metadata": {},
   "outputs": [],
   "source": [
    "def func():\n",
    "    \n",
    "    global i\n",
    "    \n",
    "    i = 10\n",
    "    print('i in function', i)\n"
   ]
  },
  {
   "cell_type": "code",
   "execution_count": 18,
   "id": "584796bb-163a-4035-8d21-2d5bd9a323b2",
   "metadata": {},
   "outputs": [
    {
     "name": "stdout",
     "output_type": "stream",
     "text": [
      "i in function 10\n"
     ]
    }
   ],
   "source": [
    "func()"
   ]
  },
  {
   "cell_type": "code",
   "execution_count": 19,
   "id": "840bd9c8-d09a-4870-b8d5-e9641b7ca163",
   "metadata": {},
   "outputs": [
    {
     "name": "stdout",
     "output_type": "stream",
     "text": [
      "10\n"
     ]
    }
   ],
   "source": [
    "print(i)"
   ]
  },
  {
   "cell_type": "code",
   "execution_count": 23,
   "id": "b978b401-7f7e-4edb-bcfe-d1d0d57c7304",
   "metadata": {},
   "outputs": [
    {
     "name": "stdout",
     "output_type": "stream",
     "text": [
      "i before loop 10\n",
      "res before loop 20\n",
      "j after loop def 30\n",
      "res in loop 1000\n",
      "j in pow 30\n",
      "i after function call 10\n",
      "j after function call 30\n",
      "res after function call 1000\n"
     ]
    }
   ],
   "source": [
    "i = 10\n",
    "res = 20\n",
    "j = 30\n",
    "\n",
    "# i, j and res are global variables\n",
    "\n",
    "print('i before loop', i)\n",
    "print('res before loop',res)\n",
    "\n",
    "def pow(x,y):\n",
    "    \n",
    "    global res\n",
    "    res = 1\n",
    "\n",
    "# local variable is hiding the global variable(defined earlier) within the scope of this function\n",
    "\n",
    "    for i in range(y):\n",
    "        \n",
    "        res = res*x\n",
    "        \n",
    "    print('res in loop', res) # i and res are as per values in pow\n",
    "    print('j in pow', j) \n",
    "\n",
    "    \n",
    "print('j after loop def', j) # j assined before pow is available\n",
    "\n",
    "pow(10,3)\n",
    "\n",
    "print('i after function call', i); print('j after function call',j); print('res after function call',res)"
   ]
  },
  {
   "cell_type": "markdown",
   "id": "054964d7-e255-41c6-be07-463d1f837f37",
   "metadata": {},
   "source": [
    "#### One line if condition"
   ]
  },
  {
   "cell_type": "code",
   "execution_count": 20,
   "id": "891952b8-2907-45d7-94b5-32578bee66ff",
   "metadata": {},
   "outputs": [],
   "source": [
    "var = 500"
   ]
  },
  {
   "cell_type": "code",
   "execution_count": 21,
   "id": "21a6f6b1-589a-467f-a29e-4313c161878d",
   "metadata": {},
   "outputs": [
    {
     "name": "stdout",
     "output_type": "stream",
     "text": [
      "value is more than 100\n"
     ]
    }
   ],
   "source": [
    "if var>100:\n",
    "    print('value is more than 100')"
   ]
  },
  {
   "cell_type": "code",
   "execution_count": 22,
   "id": "35e91eab-a9bb-4c76-ad9b-0c92c656cd4f",
   "metadata": {},
   "outputs": [
    {
     "name": "stdout",
     "output_type": "stream",
     "text": [
      "value is more than 100\n"
     ]
    }
   ],
   "source": [
    "if var>100: print('value is more than 100')"
   ]
  },
  {
   "cell_type": "code",
   "execution_count": 24,
   "id": "0341f3d1-e445-4f1f-8cb1-069019f998d0",
   "metadata": {},
   "outputs": [
    {
     "name": "stdout",
     "output_type": "stream",
     "text": [
      "value is more than 100\n"
     ]
    }
   ],
   "source": [
    "print('value is more than 100') if var > 100 else print('value less than or equal to 100')"
   ]
  },
  {
   "cell_type": "code",
   "execution_count": 25,
   "id": "cba2a898-1e41-44a9-af59-7fc2c066b40f",
   "metadata": {},
   "outputs": [],
   "source": [
    "var = 60"
   ]
  },
  {
   "cell_type": "code",
   "execution_count": 26,
   "id": "b8e235af-dfc3-4344-937a-085c77020348",
   "metadata": {},
   "outputs": [
    {
     "name": "stdout",
     "output_type": "stream",
     "text": [
      "value less than or equal to 100\n"
     ]
    }
   ],
   "source": [
    "print('value is more than 100') if var > 100 else print('value less than or equal to 100')"
   ]
  },
  {
   "cell_type": "code",
   "execution_count": 28,
   "id": "038c2bc3-c14c-41da-aa52-f75f4ed3cbaf",
   "metadata": {},
   "outputs": [
    {
     "name": "stdout",
     "output_type": "stream",
     "text": [
      "a\n",
      "b\n",
      "c\n",
      "d\n"
     ]
    }
   ],
   "source": [
    "for l in ['a', 'b', 'c', 'd']:\n",
    "    \n",
    "    print(l)"
   ]
  },
  {
   "cell_type": "code",
   "execution_count": 29,
   "id": "f1daa1b3-9e28-4009-b057-1d2f16c2cc00",
   "metadata": {},
   "outputs": [
    {
     "name": "stdout",
     "output_type": "stream",
     "text": [
      "a\n",
      "b\n",
      "c\n",
      "d\n"
     ]
    }
   ],
   "source": [
    "for l in 'abcd':\n",
    "    \n",
    "    print(l)"
   ]
  },
  {
   "cell_type": "code",
   "execution_count": 32,
   "id": "3e66e397-ab30-45a7-b1e1-c1a0cde93cb5",
   "metadata": {},
   "outputs": [
    {
     "name": "stdout",
     "output_type": "stream",
     "text": [
      "a\n"
     ]
    }
   ],
   "source": [
    "for l in 'abcd':\n",
    "    if l == 'b':\n",
    "        break\n",
    "    print(l)"
   ]
  },
  {
   "cell_type": "code",
   "execution_count": 33,
   "id": "96ac26ac-6a6e-4032-98f4-a2c718a138b0",
   "metadata": {},
   "outputs": [
    {
     "name": "stdout",
     "output_type": "stream",
     "text": [
      "a\n",
      "c\n",
      "d\n"
     ]
    }
   ],
   "source": [
    "for l in 'abcd':\n",
    "    if l == 'b':\n",
    "        continue\n",
    "    print(l)"
   ]
  },
  {
   "cell_type": "code",
   "execution_count": 34,
   "id": "ca145dcb-cd69-4f73-a1a1-33f62e22b5a4",
   "metadata": {},
   "outputs": [
    {
     "data": {
      "text/plain": [
       "True"
      ]
     },
     "execution_count": 34,
     "metadata": {},
     "output_type": "execute_result"
    }
   ],
   "source": [
    "'a' in 'abcd'"
   ]
  },
  {
   "cell_type": "code",
   "execution_count": 35,
   "id": "cb2b22d7-1346-4fdb-a2c1-32746804d194",
   "metadata": {},
   "outputs": [
    {
     "data": {
      "text/plain": [
       "False"
      ]
     },
     "execution_count": 35,
     "metadata": {},
     "output_type": "execute_result"
    }
   ],
   "source": [
    "'z' in 'abcd'"
   ]
  },
  {
   "cell_type": "code",
   "execution_count": 36,
   "id": "1f74f79f-b670-4b8a-8c5b-faadc4e4ed7e",
   "metadata": {},
   "outputs": [
    {
     "data": {
      "text/plain": [
       "True"
      ]
     },
     "execution_count": 36,
     "metadata": {},
     "output_type": "execute_result"
    }
   ],
   "source": [
    "'z' not in 'abcd'"
   ]
  },
  {
   "cell_type": "code",
   "execution_count": null,
   "id": "85edc75f-e8b4-4189-97ff-635b73f82575",
   "metadata": {},
   "outputs": [],
   "source": [
    "Task\n",
    "\n",
    "'Python' - print only the consonants"
   ]
  },
  {
   "cell_type": "code",
   "execution_count": 38,
   "id": "e5befd14-8148-48cd-9b07-f42f2e274c5c",
   "metadata": {},
   "outputs": [
    {
     "name": "stdout",
     "output_type": "stream",
     "text": [
      "P\n",
      "y\n",
      "t\n",
      "h\n",
      "n\n"
     ]
    }
   ],
   "source": [
    "for l in 'Python':\n",
    "    \n",
    "    if l not in 'aeiou':\n",
    "        \n",
    "        print(l)"
   ]
  },
  {
   "cell_type": "code",
   "execution_count": 41,
   "id": "48045b3e-9614-4151-b67d-09b9b9cba870",
   "metadata": {},
   "outputs": [],
   "source": [
    "char = ''\n",
    "\n",
    "for l in 'Python':\n",
    "    \n",
    "    if l not in 'aeiou':\n",
    "        \n",
    "        #print(l)\n",
    "        \n",
    "        char = char + l"
   ]
  },
  {
   "cell_type": "code",
   "execution_count": 42,
   "id": "14856323-7e69-40fa-ada2-cc909fbac654",
   "metadata": {},
   "outputs": [
    {
     "data": {
      "text/plain": [
       "'Pythn'"
      ]
     },
     "execution_count": 42,
     "metadata": {},
     "output_type": "execute_result"
    }
   ],
   "source": [
    "char"
   ]
  },
  {
   "cell_type": "code",
   "execution_count": 44,
   "id": "054dc215-285b-48d9-8e99-a0cd95fbd6ec",
   "metadata": {},
   "outputs": [
    {
     "name": "stdout",
     "output_type": "stream",
     "text": [
      "p\n",
      "y\n",
      "t\n",
      "h\n",
      "n\n"
     ]
    }
   ],
   "source": [
    "x='python'\n",
    "\n",
    "for i in x:\n",
    "    if i in 'aeiou':\n",
    "        continue\n",
    "    else:\n",
    "        print(i)"
   ]
  },
  {
   "cell_type": "code",
   "execution_count": 46,
   "id": "0b949c18-4fa6-4c95-8747-7cc04ed11ee6",
   "metadata": {},
   "outputs": [
    {
     "name": "stdout",
     "output_type": "stream",
     "text": [
      "i\n",
      "o\n",
      "u\n"
     ]
    }
   ],
   "source": [
    "for l in 'aeiou':\n",
    "    \n",
    "    if l == 'a' or l == 'e':\n",
    "        continue\n",
    "    print(l)"
   ]
  },
  {
   "cell_type": "code",
   "execution_count": 48,
   "id": "757943d6-8d38-40d5-95f5-33c09a05996e",
   "metadata": {},
   "outputs": [
    {
     "name": "stdout",
     "output_type": "stream",
     "text": [
      "p\n",
      "y\n",
      "t\n",
      "h\n",
      "n\n"
     ]
    }
   ],
   "source": [
    "for i in 'python':\n",
    "    \n",
    "    if (i == 'a') or (i == 'e') or (i == 'i') or (i == 'o') or (i == 'u'):\n",
    "        \n",
    "        continue\n",
    "        \n",
    "    else:\n",
    "        print(i) "
   ]
  },
  {
   "cell_type": "code",
   "execution_count": 49,
   "id": "74486389-e6ce-4c36-9d2f-20aef4a74997",
   "metadata": {},
   "outputs": [
    {
     "data": {
      "text/plain": [
       "['P', 'y', 't', 'h', 'n']"
      ]
     },
     "execution_count": 49,
     "metadata": {},
     "output_type": "execute_result"
    }
   ],
   "source": [
    "[i for i in 'Python' if i not in 'aeiou']"
   ]
  },
  {
   "cell_type": "code",
   "execution_count": 50,
   "id": "4144bdfe-32c0-4f30-aa76-a8c753c0b627",
   "metadata": {},
   "outputs": [
    {
     "name": "stdout",
     "output_type": "stream",
     "text": [
      "0 P\n",
      "1 y\n",
      "2 t\n",
      "3 h\n",
      "4 o\n",
      "5 n\n"
     ]
    }
   ],
   "source": [
    "for i, x in enumerate('Python'):\n",
    "    \n",
    "    print(i, x)"
   ]
  },
  {
   "cell_type": "code",
   "execution_count": 51,
   "id": "6dfe3ba3-e45b-49b6-ad2d-f90de235ebfc",
   "metadata": {},
   "outputs": [
    {
     "name": "stdout",
     "output_type": "stream",
     "text": [
      "1 P\n",
      "2 y\n",
      "3 t\n",
      "4 h\n",
      "5 o\n",
      "6 n\n"
     ]
    }
   ],
   "source": [
    "for i, x in enumerate('Python', start=1):\n",
    "    \n",
    "    print(i, x)"
   ]
  },
  {
   "cell_type": "code",
   "execution_count": null,
   "id": "35af2376-c68d-4688-877b-d9d03ff12722",
   "metadata": {},
   "outputs": [],
   "source": [
    "Task:\n",
    "    \n",
    "Find list of employees joined betweeen 1995 and 2005\n",
    "\n",
    "Each emp id is a numeric string where first 4 digits signigy the year of joining"
   ]
  },
  {
   "cell_type": "code",
   "execution_count": 52,
   "id": "863c8fe4-9062-42c3-81e3-15cb5283bb19",
   "metadata": {},
   "outputs": [],
   "source": [
    "empids = ['2017001', '2016001', '2017002', '1995091', '1996002', '199910','2003100', '2007301']"
   ]
  },
  {
   "cell_type": "code",
   "execution_count": 53,
   "id": "c604392e-ee8e-42a8-bffa-6b06f9107fbd",
   "metadata": {},
   "outputs": [],
   "source": [
    "new_list = []\n",
    "\n",
    "for index, item in enumerate(empids):\n",
    "\n",
    "    if (int(empids[index][:4]) >= 1995) and (int(empids[index][:4]) <= 2005):\n",
    "        \n",
    "        new_list.append(empids[index])"
   ]
  },
  {
   "cell_type": "code",
   "execution_count": 54,
   "id": "d53b2311-8ed8-4df9-a4a2-e818ae19e2bf",
   "metadata": {},
   "outputs": [
    {
     "data": {
      "text/plain": [
       "['1995091', '1996002', '199910', '2003100']"
      ]
     },
     "execution_count": 54,
     "metadata": {},
     "output_type": "execute_result"
    }
   ],
   "source": [
    "new_list"
   ]
  },
  {
   "cell_type": "code",
   "execution_count": 55,
   "id": "7a6c298f-f0a0-4098-9301-b99b8e862c42",
   "metadata": {},
   "outputs": [],
   "source": [
    "s = {'zebra', 'elephant', 'penguine', 'python', 'serpant', 'viper'}"
   ]
  },
  {
   "cell_type": "code",
   "execution_count": null,
   "id": "4ab05d0f-a201-4283-b208-925217880723",
   "metadata": {},
   "outputs": [],
   "source": [
    "create a list of animal names starting from 'p'"
   ]
  },
  {
   "cell_type": "code",
   "execution_count": 58,
   "id": "d5a5fca8-6934-4691-a9f3-e473db5edbe3",
   "metadata": {},
   "outputs": [],
   "source": [
    "lst_animals = []\n",
    "\n",
    "for animal in s:\n",
    "    \n",
    "    if animal[0] == 'p':\n",
    "        \n",
    "        lst_animals.append(animal)"
   ]
  },
  {
   "cell_type": "code",
   "execution_count": 59,
   "id": "3df92810-d0dd-4b1e-8d4f-d6595092b53d",
   "metadata": {},
   "outputs": [
    {
     "data": {
      "text/plain": [
       "['python', 'penguine']"
      ]
     },
     "execution_count": 59,
     "metadata": {},
     "output_type": "execute_result"
    }
   ],
   "source": [
    "lst_animals"
   ]
  },
  {
   "cell_type": "code",
   "execution_count": 56,
   "id": "80a1b493-b3bb-447f-8ae0-3a290033e692",
   "metadata": {},
   "outputs": [],
   "source": [
    "name_age = {'a':40,'b':50,'c':30,'d':30,'e':40,'f':18,'g':15,'h':25}"
   ]
  },
  {
   "cell_type": "code",
   "execution_count": null,
   "id": "3682819c-17f7-40f8-8e85-49090a54a446",
   "metadata": {},
   "outputs": [],
   "source": [
    "find those names where age is less than 30 years"
   ]
  },
  {
   "cell_type": "code",
   "execution_count": 66,
   "id": "1ede4488-038a-4b47-97a5-26c4b6dc0860",
   "metadata": {},
   "outputs": [
    {
     "data": {
      "text/plain": [
       "dict_items([('a', 40), ('b', 50), ('c', 30), ('d', 30), ('e', 40), ('f', 18), ('g', 15), ('h', 25)])"
      ]
     },
     "execution_count": 66,
     "metadata": {},
     "output_type": "execute_result"
    }
   ],
   "source": [
    "name_age.items()"
   ]
  },
  {
   "cell_type": "code",
   "execution_count": 65,
   "id": "64e5e9a5-610c-4ff4-a55b-bfcc43f4d4c5",
   "metadata": {},
   "outputs": [
    {
     "name": "stdout",
     "output_type": "stream",
     "text": [
      "c\n",
      "d\n",
      "f\n",
      "g\n",
      "h\n"
     ]
    }
   ],
   "source": [
    "for name,age in name_age.items():\n",
    "    if age<=30:\n",
    "        print(name)"
   ]
  },
  {
   "cell_type": "code",
   "execution_count": null,
   "id": "78271a12-56e5-4527-a8c3-401518778bbf",
   "metadata": {
    "tags": []
   },
   "outputs": [],
   "source": [
    "create a dictionary of 100 items\n",
    "\n",
    "the items are like\n",
    "\n",
    "{101:'file1', 102:'file2', 103:'file3'........200:'file100'}"
   ]
  },
  {
   "cell_type": "code",
   "execution_count": 68,
   "id": "73760898-4a20-4296-becf-024a3f629ed3",
   "metadata": {},
   "outputs": [],
   "source": [
    "dict= {}\n",
    "\n",
    "for key in range(101, 201):\n",
    "    value = \"file\" + str(key - 100)\n",
    "    dict[key] = value"
   ]
  },
  {
   "cell_type": "code",
   "execution_count": 70,
   "id": "a33fb266-35b8-4a58-85fa-6f8a0ff42827",
   "metadata": {},
   "outputs": [
    {
     "name": "stdout",
     "output_type": "stream",
     "text": [
      "{101: 'file1', 102: 'file2', 103: 'file3', 104: 'file4', 105: 'file5', 106: 'file6', 107: 'file7', 108: 'file8', 109: 'file9', 110: 'file10', 111: 'file11', 112: 'file12', 113: 'file13', 114: 'file14', 115: 'file15', 116: 'file16', 117: 'file17', 118: 'file18', 119: 'file19', 120: 'file20', 121: 'file21', 122: 'file22', 123: 'file23', 124: 'file24', 125: 'file25', 126: 'file26', 127: 'file27', 128: 'file28', 129: 'file29', 130: 'file30', 131: 'file31', 132: 'file32', 133: 'file33', 134: 'file34', 135: 'file35', 136: 'file36', 137: 'file37', 138: 'file38', 139: 'file39', 140: 'file40', 141: 'file41', 142: 'file42', 143: 'file43', 144: 'file44', 145: 'file45', 146: 'file46', 147: 'file47', 148: 'file48', 149: 'file49', 150: 'file50', 151: 'file51', 152: 'file52', 153: 'file53', 154: 'file54', 155: 'file55', 156: 'file56', 157: 'file57', 158: 'file58', 159: 'file59', 160: 'file60', 161: 'file61', 162: 'file62', 163: 'file63', 164: 'file64', 165: 'file65', 166: 'file66', 167: 'file67', 168: 'file68', 169: 'file69', 170: 'file70', 171: 'file71', 172: 'file72', 173: 'file73', 174: 'file74', 175: 'file75', 176: 'file76', 177: 'file77', 178: 'file78', 179: 'file79', 180: 'file80', 181: 'file81', 182: 'file82', 183: 'file83', 184: 'file84', 185: 'file85', 186: 'file86', 187: 'file87', 188: 'file88', 189: 'file89', 190: 'file90', 191: 'file91', 192: 'file92', 193: 'file93', 194: 'file94', 195: 'file95', 196: 'file96', 197: 'file97', 198: 'file98', 199: 'file99', 200: 'file100'}\n"
     ]
    }
   ],
   "source": [
    "print(dict)"
   ]
  },
  {
   "cell_type": "code",
   "execution_count": 71,
   "id": "c2ed8bb9-0a7c-45ea-a690-f3d69dc9cacf",
   "metadata": {},
   "outputs": [
    {
     "name": "stdout",
     "output_type": "stream",
     "text": [
      "{101: 'file1', 102: 'file2', 103: 'file3', 104: 'file4', 105: 'file5', 106: 'file6', 107: 'file7', 108: 'file8', 109: 'file9', 110: 'file10', 111: 'file11', 112: 'file12', 113: 'file13', 114: 'file14', 115: 'file15', 116: 'file16', 117: 'file17', 118: 'file18', 119: 'file19', 120: 'file20', 121: 'file21', 122: 'file22', 123: 'file23', 124: 'file24', 125: 'file25', 126: 'file26', 127: 'file27', 128: 'file28', 129: 'file29', 130: 'file30', 131: 'file31', 132: 'file32', 133: 'file33', 134: 'file34', 135: 'file35', 136: 'file36', 137: 'file37', 138: 'file38', 139: 'file39', 140: 'file40', 141: 'file41', 142: 'file42', 143: 'file43', 144: 'file44', 145: 'file45', 146: 'file46', 147: 'file47', 148: 'file48', 149: 'file49', 150: 'file50', 151: 'file51', 152: 'file52', 153: 'file53', 154: 'file54', 155: 'file55', 156: 'file56', 157: 'file57', 158: 'file58', 159: 'file59', 160: 'file60', 161: 'file61', 162: 'file62', 163: 'file63', 164: 'file64', 165: 'file65', 166: 'file66', 167: 'file67', 168: 'file68', 169: 'file69', 170: 'file70', 171: 'file71', 172: 'file72', 173: 'file73', 174: 'file74', 175: 'file75', 176: 'file76', 177: 'file77', 178: 'file78', 179: 'file79', 180: 'file80', 181: 'file81', 182: 'file82', 183: 'file83', 184: 'file84', 185: 'file85', 186: 'file86', 187: 'file87', 188: 'file88', 189: 'file89', 190: 'file90', 191: 'file91', 192: 'file92', 193: 'file93', 194: 'file94', 195: 'file95', 196: 'file96', 197: 'file97', 198: 'file98', 199: 'file99', 200: 'file100'}\n"
     ]
    }
   ],
   "source": [
    "name_age = {}\n",
    "\n",
    "count = 1\n",
    "\n",
    "for key in range(101, 201):\n",
    "    value = 'file' + str(count)\n",
    "    name_age[key] = value\n",
    "    count += 1\n",
    "print(name_age)"
   ]
  },
  {
   "cell_type": "code",
   "execution_count": 73,
   "id": "74f2bd8f-3edb-446c-9e59-48df115b5ddd",
   "metadata": {},
   "outputs": [
    {
     "name": "stdout",
     "output_type": "stream",
     "text": [
      "{101: 'file1', 102: 'file2', 103: 'file3', 104: 'file4', 105: 'file5', 106: 'file6', 107: 'file7', 108: 'file8', 109: 'file9', 110: 'file10', 111: 'file11', 112: 'file12', 113: 'file13', 114: 'file14', 115: 'file15', 116: 'file16', 117: 'file17', 118: 'file18', 119: 'file19', 120: 'file20', 121: 'file21', 122: 'file22', 123: 'file23', 124: 'file24', 125: 'file25', 126: 'file26', 127: 'file27', 128: 'file28', 129: 'file29', 130: 'file30', 131: 'file31', 132: 'file32', 133: 'file33', 134: 'file34', 135: 'file35', 136: 'file36', 137: 'file37', 138: 'file38', 139: 'file39', 140: 'file40', 141: 'file41', 142: 'file42', 143: 'file43', 144: 'file44', 145: 'file45', 146: 'file46', 147: 'file47', 148: 'file48', 149: 'file49', 150: 'file50', 151: 'file51', 152: 'file52', 153: 'file53', 154: 'file54', 155: 'file55', 156: 'file56', 157: 'file57', 158: 'file58', 159: 'file59', 160: 'file60', 161: 'file61', 162: 'file62', 163: 'file63', 164: 'file64', 165: 'file65', 166: 'file66', 167: 'file67', 168: 'file68', 169: 'file69', 170: 'file70', 171: 'file71', 172: 'file72', 173: 'file73', 174: 'file74', 175: 'file75', 176: 'file76', 177: 'file77', 178: 'file78', 179: 'file79', 180: 'file80', 181: 'file81', 182: 'file82', 183: 'file83', 184: 'file84', 185: 'file85', 186: 'file86', 187: 'file87', 188: 'file88', 189: 'file89', 190: 'file90', 191: 'file91', 192: 'file92', 193: 'file93', 194: 'file94', 195: 'file95', 196: 'file96', 197: 'file97', 198: 'file98', 199: 'file99', 200: 'file100'}\n"
     ]
    }
   ],
   "source": [
    "print({i:'file'+str(j) for i, j in zip(range(101, 201),range(1,101))})"
   ]
  },
  {
   "cell_type": "raw",
   "id": "bcd7f827-be7d-49a2-9601-39ab61ab20a7",
   "metadata": {
    "tags": []
   },
   "source": [
    "Create a list of all employees who are neither in grp1 nor in grp2 \n",
    "\n",
    "empAll = ['emp1', 'emp2', 'emp3', 'emp4', 'emp5', 'emp6']\n",
    "\n",
    "grp1 = ['emp1', 'emp3']\n",
    "grp2 = ['emp22', 'emp1', 'emp5']"
   ]
  },
  {
   "cell_type": "code",
   "execution_count": 74,
   "id": "77175f06-47b2-49b3-b7b2-a6fea674d3b4",
   "metadata": {},
   "outputs": [
    {
     "data": {
      "text/plain": [
       "['emp2', 'emp4', 'emp6']"
      ]
     },
     "execution_count": 74,
     "metadata": {},
     "output_type": "execute_result"
    }
   ],
   "source": [
    "[emp for emp in empAll if emp not in grp1 and emp not in grp2]"
   ]
  },
  {
   "cell_type": "code",
   "execution_count": 76,
   "id": "e0338b8b-4dd6-4f39-a1e3-04aec63a82a0",
   "metadata": {},
   "outputs": [
    {
     "name": "stdout",
     "output_type": "stream",
     "text": [
      "emp2\n",
      "emp4\n",
      "emp6\n"
     ]
    }
   ],
   "source": [
    "lst = []\n",
    "for i in empAll:\n",
    "    if i in (grp1) or i in (grp2):\n",
    "        continue\n",
    "    else:\n",
    "        print(i)\n",
    "    lst.append(i)"
   ]
  },
  {
   "cell_type": "code",
   "execution_count": 77,
   "id": "7b9bd126-1c7b-42cd-ab7e-42888d9cad1b",
   "metadata": {},
   "outputs": [
    {
     "name": "stdout",
     "output_type": "stream",
     "text": [
      "['emp2', 'emp4', 'emp6']\n"
     ]
    }
   ],
   "source": [
    "empAll = ['emp1', 'emp2', 'emp3', 'emp4', 'emp5', 'emp6']\n",
    "grp1 = ['emp1', 'emp3']\n",
    "grp2 = ['emp22', 'emp1', 'emp5']\n",
    "\n",
    "\n",
    "for i in empAll:\n",
    "    if i in grp1 or i in grp2:\n",
    "        empAll.remove(i)\n",
    "\n",
    "\n",
    "print(empAll)"
   ]
  },
  {
   "cell_type": "code",
   "execution_count": 78,
   "id": "34e6913f-7d78-47bf-a6c5-b369d665a1cd",
   "metadata": {},
   "outputs": [
    {
     "data": {
      "text/plain": [
       "{'emp2', 'emp4', 'emp6'}"
      ]
     },
     "execution_count": 78,
     "metadata": {},
     "output_type": "execute_result"
    }
   ],
   "source": [
    "set(empAll) - set(grp1+grp2)"
   ]
  },
  {
   "cell_type": "code",
   "execution_count": 81,
   "id": "7298480f-27ef-47ef-a6d9-b9cd91f2b058",
   "metadata": {},
   "outputs": [
    {
     "name": "stdout",
     "output_type": "stream",
     "text": [
      "emp2\n",
      "emp4\n",
      "emp6\n",
      "['emp2', 'emp4', 'emp6']\n"
     ]
    }
   ],
   "source": [
    "emp = []\n",
    "\n",
    "for i in empAll:\n",
    "    if i in grp1 or i in grp2:\n",
    "        continue\n",
    "    print(i)\n",
    "    emp.append(i)\n",
    "    \n",
    "print(empAll)"
   ]
  },
  {
   "cell_type": "code",
   "execution_count": 82,
   "id": "c33fb77c-d0e0-4779-8690-bf7ecd347459",
   "metadata": {},
   "outputs": [
    {
     "data": {
      "text/plain": [
       "['emp2', 'emp4', 'emp6']"
      ]
     },
     "execution_count": 82,
     "metadata": {},
     "output_type": "execute_result"
    }
   ],
   "source": [
    "emp"
   ]
  },
  {
   "cell_type": "markdown",
   "id": "61834a06-e475-4bc3-897b-d0809dae78b4",
   "metadata": {},
   "source": [
    "## Basic string functions"
   ]
  },
  {
   "cell_type": "code",
   "execution_count": 83,
   "id": "4b457680-69b0-4fb3-a4a2-a7334177c649",
   "metadata": {},
   "outputs": [],
   "source": [
    "string = 'Python'"
   ]
  },
  {
   "cell_type": "code",
   "execution_count": 84,
   "id": "77bbd322-af28-4607-93d9-8a8f7dbbce3e",
   "metadata": {},
   "outputs": [
    {
     "data": {
      "text/plain": [
       "'yth'"
      ]
     },
     "execution_count": 84,
     "metadata": {},
     "output_type": "execute_result"
    }
   ],
   "source": [
    "string[1:4:1]"
   ]
  },
  {
   "cell_type": "code",
   "execution_count": 85,
   "id": "ef63b5fe-5f24-409f-a059-5318dfcdced8",
   "metadata": {},
   "outputs": [
    {
     "data": {
      "text/plain": [
       "'PYTHON'"
      ]
     },
     "execution_count": 85,
     "metadata": {},
     "output_type": "execute_result"
    }
   ],
   "source": [
    "string.upper()"
   ]
  },
  {
   "cell_type": "code",
   "execution_count": 86,
   "id": "f892d4e3-3b02-41d2-919d-067bede9b0fc",
   "metadata": {},
   "outputs": [
    {
     "data": {
      "text/plain": [
       "'python'"
      ]
     },
     "execution_count": 86,
     "metadata": {},
     "output_type": "execute_result"
    }
   ],
   "source": [
    "string.lower()"
   ]
  },
  {
   "cell_type": "code",
   "execution_count": 87,
   "id": "551f7f17-f47d-4f47-9d6a-00d6770912ee",
   "metadata": {},
   "outputs": [
    {
     "data": {
      "text/plain": [
       "'Python'"
      ]
     },
     "execution_count": 87,
     "metadata": {},
     "output_type": "execute_result"
    }
   ],
   "source": [
    "string.title()"
   ]
  },
  {
   "cell_type": "code",
   "execution_count": 88,
   "id": "601972a1-c0a9-4b58-baeb-6a4c878366e2",
   "metadata": {},
   "outputs": [
    {
     "data": {
      "text/plain": [
       "'Shubham Pandey'"
      ]
     },
     "execution_count": 88,
     "metadata": {},
     "output_type": "execute_result"
    }
   ],
   "source": [
    "'sHuBham pAndey'.title()"
   ]
  },
  {
   "cell_type": "code",
   "execution_count": 89,
   "id": "9f5e4c89-5103-4894-a0bc-a40fb27c0c56",
   "metadata": {},
   "outputs": [
    {
     "data": {
      "text/plain": [
       "'P_y_t_h_o_n'"
      ]
     },
     "execution_count": 89,
     "metadata": {},
     "output_type": "execute_result"
    }
   ],
   "source": [
    "'_'.join('Python')"
   ]
  },
  {
   "cell_type": "code",
   "execution_count": 91,
   "id": "3a41b2bf-d5e1-4fd5-a276-2b9e43a99183",
   "metadata": {},
   "outputs": [
    {
     "data": {
      "text/plain": [
       "'23_45'"
      ]
     },
     "execution_count": 91,
     "metadata": {},
     "output_type": "execute_result"
    }
   ],
   "source": [
    "'_'.join(['23','45'])"
   ]
  },
  {
   "cell_type": "code",
   "execution_count": null,
   "id": "c4c4c9a1-79f4-487a-8ed9-d87127343b20",
   "metadata": {},
   "outputs": [],
   "source": [
    "create a string as follows\n",
    "\n",
    "'y ~ x1 + x2 + x3 +.......x200'"
   ]
  },
  {
   "cell_type": "code",
   "execution_count": 95,
   "id": "23170157-1378-49b3-8b2e-81c7ccf436cd",
   "metadata": {},
   "outputs": [
    {
     "data": {
      "text/plain": [
       "'x1 + x2 + x3 + x4 + x5 + x6 + x7 + x8 + x9 + x10 + x11 + x12 + x13 + x14 + x15 + x16 + x17 + x18 + x19 + x20 + x21 + x22 + x23 + x24 + x25 + x26 + x27 + x28 + x29 + x30 + x31 + x32 + x33 + x34 + x35 + x36 + x37 + x38 + x39 + x40 + x41 + x42 + x43 + x44 + x45 + x46 + x47 + x48 + x49 + x50 + x51 + x52 + x53 + x54 + x55 + x56 + x57 + x58 + x59 + x60 + x61 + x62 + x63 + x64 + x65 + x66 + x67 + x68 + x69 + x70 + x71 + x72 + x73 + x74 + x75 + x76 + x77 + x78 + x79 + x80 + x81 + x82 + x83 + x84 + x85 + x86 + x87 + x88 + x89 + x90 + x91 + x92 + x93 + x94 + x95 + x96 + x97 + x98 + x99 + x100 + x101 + x102 + x103 + x104 + x105 + x106 + x107 + x108 + x109 + x110 + x111 + x112 + x113 + x114 + x115 + x116 + x117 + x118 + x119 + x120 + x121 + x122 + x123 + x124 + x125 + x126 + x127 + x128 + x129 + x130 + x131 + x132 + x133 + x134 + x135 + x136 + x137 + x138 + x139 + x140 + x141 + x142 + x143 + x144 + x145 + x146 + x147 + x148 + x149 + x150 + x151 + x152 + x153 + x154 + x155 + x156 + x157 + x158 + x159 + x160 + x161 + x162 + x163 + x164 + x165 + x166 + x167 + x168 + x169 + x170 + x171 + x172 + x173 + x174 + x175 + x176 + x177 + x178 + x179 + x180 + x181 + x182 + x183 + x184 + x185 + x186 + x187 + x188 + x189 + x190 + x191 + x192 + x193 + x194 + x195 + x196 + x197 + x198 + x199 + x200'"
      ]
     },
     "execution_count": 95,
     "metadata": {},
     "output_type": "execute_result"
    }
   ],
   "source": [
    "' + '.join(['x'+ str(i) for i in range(1,201)])"
   ]
  },
  {
   "cell_type": "code",
   "execution_count": 96,
   "id": "93ff4e1a-58b3-47de-ae64-50dd5d0e6f20",
   "metadata": {},
   "outputs": [
    {
     "data": {
      "text/plain": [
       "'y ~ x1 + x2 + x3 + x4 + x5 + x6 + x7 + x8 + x9 + x10 + x11 + x12 + x13 + x14 + x15 + x16 + x17 + x18 + x19 + x20 + x21 + x22 + x23 + x24 + x25 + x26 + x27 + x28 + x29 + x30 + x31 + x32 + x33 + x34 + x35 + x36 + x37 + x38 + x39 + x40 + x41 + x42 + x43 + x44 + x45 + x46 + x47 + x48 + x49 + x50 + x51 + x52 + x53 + x54 + x55 + x56 + x57 + x58 + x59 + x60 + x61 + x62 + x63 + x64 + x65 + x66 + x67 + x68 + x69 + x70 + x71 + x72 + x73 + x74 + x75 + x76 + x77 + x78 + x79 + x80 + x81 + x82 + x83 + x84 + x85 + x86 + x87 + x88 + x89 + x90 + x91 + x92 + x93 + x94 + x95 + x96 + x97 + x98 + x99 + x100 + x101 + x102 + x103 + x104 + x105 + x106 + x107 + x108 + x109 + x110 + x111 + x112 + x113 + x114 + x115 + x116 + x117 + x118 + x119 + x120 + x121 + x122 + x123 + x124 + x125 + x126 + x127 + x128 + x129 + x130 + x131 + x132 + x133 + x134 + x135 + x136 + x137 + x138 + x139 + x140 + x141 + x142 + x143 + x144 + x145 + x146 + x147 + x148 + x149 + x150 + x151 + x152 + x153 + x154 + x155 + x156 + x157 + x158 + x159 + x160 + x161 + x162 + x163 + x164 + x165 + x166 + x167 + x168 + x169 + x170 + x171 + x172 + x173 + x174 + x175 + x176 + x177 + x178 + x179 + x180 + x181 + x182 + x183 + x184 + x185 + x186 + x187 + x188 + x189 + x190 + x191 + x192 + x193 + x194 + x195 + x196 + x197 + x198 + x199 + x200'"
      ]
     },
     "execution_count": 96,
     "metadata": {},
     "output_type": "execute_result"
    }
   ],
   "source": [
    "'y ~ ' + ' + '.join(['x'+ str(i) for i in range(1,201)])"
   ]
  },
  {
   "cell_type": "code",
   "execution_count": 97,
   "id": "5dcfcc54-18da-402d-87b1-0dbefb6f1e99",
   "metadata": {},
   "outputs": [],
   "source": [
    "txt = 'I love excel but python is much better tool for AI'"
   ]
  },
  {
   "cell_type": "code",
   "execution_count": 99,
   "id": "0980e891-c712-4daa-bc24-d2b1db196ff2",
   "metadata": {},
   "outputs": [
    {
     "data": {
      "text/plain": [
       "['I',\n",
       " 'love',\n",
       " 'excel',\n",
       " 'but',\n",
       " 'python',\n",
       " 'is',\n",
       " 'much',\n",
       " 'better',\n",
       " 'tool',\n",
       " 'for',\n",
       " 'AI']"
      ]
     },
     "execution_count": 99,
     "metadata": {},
     "output_type": "execute_result"
    }
   ],
   "source": [
    "txt.split()"
   ]
  },
  {
   "cell_type": "code",
   "execution_count": 100,
   "id": "c5c08e12-e5cb-4c97-a6b2-942d9bba0efd",
   "metadata": {},
   "outputs": [],
   "source": [
    "txt = 'I_love_excel_but_python_is_much_better_tool_for_AI'"
   ]
  },
  {
   "cell_type": "code",
   "execution_count": 101,
   "id": "b2599791-a7cd-447f-8bd9-0193975d46ae",
   "metadata": {},
   "outputs": [
    {
     "data": {
      "text/plain": [
       "['I',\n",
       " 'love',\n",
       " 'excel',\n",
       " 'but',\n",
       " 'python',\n",
       " 'is',\n",
       " 'much',\n",
       " 'better',\n",
       " 'tool',\n",
       " 'for',\n",
       " 'AI']"
      ]
     },
     "execution_count": 101,
     "metadata": {},
     "output_type": "execute_result"
    }
   ],
   "source": [
    "txt.split(sep='_')"
   ]
  },
  {
   "cell_type": "code",
   "execution_count": 102,
   "id": "2980f6a7-65cb-4708-9c4e-65e738e73b09",
   "metadata": {},
   "outputs": [],
   "source": [
    "txt = 'I_love_excel; but_python_is_much_better_tool_for_AI, you know'"
   ]
  },
  {
   "cell_type": "code",
   "execution_count": 104,
   "id": "299afe1f-93bb-4ec6-b0c5-8d893d4aaeee",
   "metadata": {},
   "outputs": [
    {
     "data": {
      "text/plain": [
       "['I_love_excel; but_python_is_much_better_tool_for_AI, you know']"
      ]
     },
     "execution_count": 104,
     "metadata": {},
     "output_type": "execute_result"
    }
   ],
   "source": [
    "txt.split(sep='; | ,')"
   ]
  },
  {
   "cell_type": "code",
   "execution_count": 105,
   "id": "9289525b-149c-4077-800c-8aec8e30294d",
   "metadata": {},
   "outputs": [],
   "source": [
    "import re"
   ]
  },
  {
   "cell_type": "code",
   "execution_count": 107,
   "id": "6d33a6f0-ef87-4de9-8188-5d2b3d5119eb",
   "metadata": {},
   "outputs": [
    {
     "data": {
      "text/plain": [
       "['I_love_excel', ' but_python_is_much_better_tool_for_AI', ' you know']"
      ]
     },
     "execution_count": 107,
     "metadata": {},
     "output_type": "execute_result"
    }
   ],
   "source": [
    "re.split(';|,',txt)"
   ]
  },
  {
   "cell_type": "code",
   "execution_count": 109,
   "id": "1338a88f-62fa-4a08-a060-484334108843",
   "metadata": {},
   "outputs": [
    {
     "data": {
      "text/plain": [
       "'I love excel; but python is much better tool for AI, you know'"
      ]
     },
     "execution_count": 109,
     "metadata": {},
     "output_type": "execute_result"
    }
   ],
   "source": [
    "txt.replace('_',' ')"
   ]
  },
  {
   "cell_type": "code",
   "execution_count": 110,
   "id": "f39b0adc-a0dd-4046-a5e0-96253d2a9886",
   "metadata": {},
   "outputs": [
    {
     "data": {
      "text/plain": [
       "'I love excel  but python is much better tool for AI, you know'"
      ]
     },
     "execution_count": 110,
     "metadata": {},
     "output_type": "execute_result"
    }
   ],
   "source": [
    "txt.replace('_',' ').replace(';',' ')"
   ]
  },
  {
   "cell_type": "code",
   "execution_count": 111,
   "id": "6ffeb512-7b5d-4249-bda7-26695686eff2",
   "metadata": {},
   "outputs": [
    {
     "data": {
      "text/plain": [
       "'I love excel  but python is much better tool for AI  you know'"
      ]
     },
     "execution_count": 111,
     "metadata": {},
     "output_type": "execute_result"
    }
   ],
   "source": [
    "txt.replace('_',' ').replace(';',' ').replace(',',' ')"
   ]
  },
  {
   "cell_type": "code",
   "execution_count": 112,
   "id": "4e83c1b0-6a8e-4b5b-a593-11dcbc5c0773",
   "metadata": {},
   "outputs": [
    {
     "data": {
      "text/plain": [
       "49"
      ]
     },
     "execution_count": 112,
     "metadata": {},
     "output_type": "execute_result"
    }
   ],
   "source": [
    "txt.find('AI')"
   ]
  },
  {
   "cell_type": "code",
   "execution_count": 114,
   "id": "239d6237-3a7c-45ca-a6de-604d73776762",
   "metadata": {},
   "outputs": [],
   "source": [
    "txt = 'I love excel  but python is much better tool for AI, you know AI'"
   ]
  },
  {
   "cell_type": "code",
   "execution_count": 115,
   "id": "afc586dd-5d04-4a33-8662-eba1e1541dcb",
   "metadata": {},
   "outputs": [
    {
     "data": {
      "text/plain": [
       "49"
      ]
     },
     "execution_count": 115,
     "metadata": {},
     "output_type": "execute_result"
    }
   ],
   "source": [
    "txt.find('AI')"
   ]
  },
  {
   "cell_type": "code",
   "execution_count": 116,
   "id": "1617a417-6afe-4e34-8f34-6916cf62648e",
   "metadata": {},
   "outputs": [
    {
     "data": {
      "text/plain": [
       "62"
      ]
     },
     "execution_count": 116,
     "metadata": {},
     "output_type": "execute_result"
    }
   ],
   "source": [
    "txt.find('AI', 50)"
   ]
  },
  {
   "cell_type": "code",
   "execution_count": null,
   "id": "b7f2ff2b-12db-477c-9179-770925b41eb2",
   "metadata": {},
   "outputs": [],
   "source": [
    "Task\n",
    "\n",
    "Find all the numbers from 1-1000 that have a 3 in them"
   ]
  },
  {
   "cell_type": "code",
   "execution_count": 121,
   "id": "55b4f755-cd6f-4416-b8fb-f344dd9da801",
   "metadata": {},
   "outputs": [],
   "source": [
    "num_3 = []\n",
    "\n",
    "for i in range(1001):\n",
    "    \n",
    "    if '3' in str(i):\n",
    "        \n",
    "        num_3.append(i)"
   ]
  },
  {
   "cell_type": "code",
   "execution_count": 123,
   "id": "86319d5a-28d2-40e5-a3ae-39ac5dcdcf72",
   "metadata": {},
   "outputs": [
    {
     "name": "stdout",
     "output_type": "stream",
     "text": [
      "[3, 13, 23, 30, 31, 32, 33, 34, 35, 36, 37, 38, 39, 43, 53, 63, 73, 83, 93, 103, 113, 123, 130, 131, 132, 133, 134, 135, 136, 137, 138, 139, 143, 153, 163, 173, 183, 193, 203, 213, 223, 230, 231, 232, 233, 234, 235, 236, 237, 238, 239, 243, 253, 263, 273, 283, 293, 300, 301, 302, 303, 304, 305, 306, 307, 308, 309, 310, 311, 312, 313, 314, 315, 316, 317, 318, 319, 320, 321, 322, 323, 324, 325, 326, 327, 328, 329, 330, 331, 332, 333, 334, 335, 336, 337, 338, 339, 340, 341, 342, 343, 344, 345, 346, 347, 348, 349, 350, 351, 352, 353, 354, 355, 356, 357, 358, 359, 360, 361, 362, 363, 364, 365, 366, 367, 368, 369, 370, 371, 372, 373, 374, 375, 376, 377, 378, 379, 380, 381, 382, 383, 384, 385, 386, 387, 388, 389, 390, 391, 392, 393, 394, 395, 396, 397, 398, 399, 403, 413, 423, 430, 431, 432, 433, 434, 435, 436, 437, 438, 439, 443, 453, 463, 473, 483, 493, 503, 513, 523, 530, 531, 532, 533, 534, 535, 536, 537, 538, 539, 543, 553, 563, 573, 583, 593, 603, 613, 623, 630, 631, 632, 633, 634, 635, 636, 637, 638, 639, 643, 653, 663, 673, 683, 693, 703, 713, 723, 730, 731, 732, 733, 734, 735, 736, 737, 738, 739, 743, 753, 763, 773, 783, 793, 803, 813, 823, 830, 831, 832, 833, 834, 835, 836, 837, 838, 839, 843, 853, 863, 873, 883, 893, 903, 913, 923, 930, 931, 932, 933, 934, 935, 936, 937, 938, 939, 943, 953, 963, 973, 983, 993]\n"
     ]
    }
   ],
   "source": [
    "print(num_3)"
   ]
  },
  {
   "cell_type": "code",
   "execution_count": 124,
   "id": "e4454d24-23dd-46b5-875d-7b52ca710a87",
   "metadata": {},
   "outputs": [
    {
     "data": {
      "text/plain": [
       "271"
      ]
     },
     "execution_count": 124,
     "metadata": {},
     "output_type": "execute_result"
    }
   ],
   "source": [
    "len(num_3)"
   ]
  },
  {
   "cell_type": "code",
   "execution_count": 128,
   "id": "28de722c-655e-4105-bc40-fd234ff31041",
   "metadata": {},
   "outputs": [],
   "source": [
    "for i in (1,1001):\n",
    "    \n",
    "    z = str(i)\n",
    "    \n",
    "    if z.find('3') > 0:\n",
    "        print(i)"
   ]
  },
  {
   "cell_type": "code",
   "execution_count": 135,
   "id": "6bc56a41-caa1-446f-ade9-92fb556665da",
   "metadata": {},
   "outputs": [],
   "source": [
    "lst_3within = []\n",
    "\n",
    "for i in range(1,1001):\n",
    "    \n",
    "    z = str(i)\n",
    "    \n",
    "    if str(i).find('3') >= 0:\n",
    "        lst_3within.append(i)"
   ]
  },
  {
   "cell_type": "code",
   "execution_count": 136,
   "id": "55ac6faa-c50f-49d2-89a6-44c11788b0e9",
   "metadata": {},
   "outputs": [
    {
     "name": "stdout",
     "output_type": "stream",
     "text": [
      "[3, 13, 23, 30, 31, 32, 33, 34, 35, 36, 37, 38, 39, 43, 53, 63, 73, 83, 93, 103, 113, 123, 130, 131, 132, 133, 134, 135, 136, 137, 138, 139, 143, 153, 163, 173, 183, 193, 203, 213, 223, 230, 231, 232, 233, 234, 235, 236, 237, 238, 239, 243, 253, 263, 273, 283, 293, 300, 301, 302, 303, 304, 305, 306, 307, 308, 309, 310, 311, 312, 313, 314, 315, 316, 317, 318, 319, 320, 321, 322, 323, 324, 325, 326, 327, 328, 329, 330, 331, 332, 333, 334, 335, 336, 337, 338, 339, 340, 341, 342, 343, 344, 345, 346, 347, 348, 349, 350, 351, 352, 353, 354, 355, 356, 357, 358, 359, 360, 361, 362, 363, 364, 365, 366, 367, 368, 369, 370, 371, 372, 373, 374, 375, 376, 377, 378, 379, 380, 381, 382, 383, 384, 385, 386, 387, 388, 389, 390, 391, 392, 393, 394, 395, 396, 397, 398, 399, 403, 413, 423, 430, 431, 432, 433, 434, 435, 436, 437, 438, 439, 443, 453, 463, 473, 483, 493, 503, 513, 523, 530, 531, 532, 533, 534, 535, 536, 537, 538, 539, 543, 553, 563, 573, 583, 593, 603, 613, 623, 630, 631, 632, 633, 634, 635, 636, 637, 638, 639, 643, 653, 663, 673, 683, 693, 703, 713, 723, 730, 731, 732, 733, 734, 735, 736, 737, 738, 739, 743, 753, 763, 773, 783, 793, 803, 813, 823, 830, 831, 832, 833, 834, 835, 836, 837, 838, 839, 843, 853, 863, 873, 883, 893, 903, 913, 923, 930, 931, 932, 933, 934, 935, 936, 937, 938, 939, 943, 953, 963, 973, 983, 993]\n"
     ]
    }
   ],
   "source": [
    "print(lst_3within)"
   ]
  },
  {
   "cell_type": "code",
   "execution_count": null,
   "id": "347b5660-9375-4cbf-bf62-ccb3a8af38c2",
   "metadata": {},
   "outputs": [],
   "source": [
    "Remove all the vowels in a string"
   ]
  },
  {
   "cell_type": "code",
   "execution_count": 140,
   "id": "082fc657-7bb3-4faf-b7c0-3edfc9e952a8",
   "metadata": {},
   "outputs": [],
   "source": [
    "text = 'My love Python'"
   ]
  },
  {
   "cell_type": "code",
   "execution_count": 141,
   "id": "ba8b283e-951b-43a1-b1d6-071a55aaba9b",
   "metadata": {},
   "outputs": [
    {
     "name": "stdout",
     "output_type": "stream",
     "text": [
      "my lv pythn\n"
     ]
    }
   ],
   "source": [
    "for i in 'aeiou':\n",
    "    \n",
    "    text = text.lower().replace(i, '')\n",
    "    \n",
    "print(text)"
   ]
  },
  {
   "cell_type": "code",
   "execution_count": 1,
   "id": "724f26f9-e2b5-4b19-953f-e9d690a4b9dd",
   "metadata": {},
   "outputs": [
    {
     "name": "stdout",
     "output_type": "stream",
     "text": [
      "1 2 3 4 5 6 7 8 9 2 4 6 8 10 12 14 16 18 3 6 9 12 15 18 21 24 27 4 8 12 16 20 24 28 32 36 5 10 15 20 25 30 35 40 45 6 12 18 24 30 36 42 48 54 7 14 21 28 35 42 49 56 63 8 16 24 32 40 48 56 64 72 9 18 27 36 45 54 63 72 81 "
     ]
    }
   ],
   "source": [
    "for i in range(1,10):  # outer loop\n",
    "    \n",
    "    for j in range(1,10): # inner loop\n",
    "        \n",
    "        k = i*j\n",
    "        \n",
    "        print(k, end = ' ')"
   ]
  },
  {
   "cell_type": "code",
   "execution_count": null,
   "id": "2406b338-814a-4e18-9854-31c74139bba4",
   "metadata": {},
   "outputs": [],
   "source": [
    "First iteration of outer loop\n",
    "\n",
    "i = 1\n",
    "\n",
    "--- inner loop will go through the complete cycle - it will execute completely\n",
    "\n",
    "first iteration of inner loop\n",
    "\n",
    "j = 1\n",
    "i = 1\n",
    "\n",
    "k = 1*1 = 1\n",
    "\n",
    "second iteration of inner loop\n",
    "\n",
    "j = 2\n",
    "i = 1\n",
    "\n",
    "k = 1*2 = 2"
   ]
  },
  {
   "cell_type": "code",
   "execution_count": 4,
   "id": "9e34f59a-d07f-404b-87da-e1cdb22bac97",
   "metadata": {},
   "outputs": [
    {
     "name": "stdout",
     "output_type": "stream",
     "text": [
      "9\n",
      "8\n",
      "7\n",
      "6\n",
      "5\n",
      "4\n",
      "3\n",
      "2\n",
      "1\n",
      "0\n"
     ]
    }
   ],
   "source": [
    "# While loop\n",
    "\n",
    "var = 10\n",
    "\n",
    "while var > 0:\n",
    "    \n",
    "    var = var - 1\n",
    "    \n",
    "    print(var)"
   ]
  },
  {
   "cell_type": "code",
   "execution_count": 5,
   "id": "ca5ac74f-51c6-4f51-8dbf-b2904af3794b",
   "metadata": {},
   "outputs": [
    {
     "name": "stdout",
     "output_type": "stream",
     "text": [
      "9\n",
      "8\n",
      "7\n",
      "6\n",
      "4\n",
      "3\n",
      "2\n",
      "1\n",
      "0\n"
     ]
    }
   ],
   "source": [
    "var = 10\n",
    "\n",
    "while var > 0:\n",
    "    \n",
    "    var = var - 1\n",
    "    \n",
    "    if var == 5:\n",
    "        \n",
    "        continue\n",
    "    \n",
    "    print(var)"
   ]
  },
  {
   "cell_type": "code",
   "execution_count": 6,
   "id": "3e535e2c-efb4-4f78-bb6a-4e0ec208febb",
   "metadata": {},
   "outputs": [
    {
     "name": "stdout",
     "output_type": "stream",
     "text": [
      "9\n",
      "8\n",
      "7\n",
      "6\n"
     ]
    }
   ],
   "source": [
    "var = 10\n",
    "\n",
    "while var > 0:\n",
    "    \n",
    "    var = var - 1\n",
    "    \n",
    "    if var == 5:\n",
    "        \n",
    "        break\n",
    "    \n",
    "    print(var)"
   ]
  },
  {
   "cell_type": "markdown",
   "id": "a39d45a6-c9f3-4d2e-a47b-6460d8b809ff",
   "metadata": {},
   "source": [
    "## Numpy array"
   ]
  },
  {
   "cell_type": "code",
   "execution_count": 7,
   "id": "d7772f0f-f472-4ca5-9226-455b48c9a3ec",
   "metadata": {},
   "outputs": [],
   "source": [
    "import numpy"
   ]
  },
  {
   "cell_type": "code",
   "execution_count": 9,
   "id": "d6d84692-a2e6-4a2e-9b60-d3b5b45f3b5e",
   "metadata": {},
   "outputs": [],
   "source": [
    "height = [175, 180, 165]\n",
    "weight = [75, 80, 68]\n",
    "sales_quarter_2020 = [20,30,40,50]\n",
    "sales_quarter_2021 = [45,35,34,21]"
   ]
  },
  {
   "cell_type": "code",
   "execution_count": 10,
   "id": "8443d484-3326-498f-ac04-e1dc2d532417",
   "metadata": {},
   "outputs": [
    {
     "data": {
      "text/plain": [
       "array([175, 180, 165])"
      ]
     },
     "execution_count": 10,
     "metadata": {},
     "output_type": "execute_result"
    }
   ],
   "source": [
    "numpy.array(height)"
   ]
  },
  {
   "cell_type": "code",
   "execution_count": 11,
   "id": "7654dd3e-272e-4091-9e90-04e0658dffd7",
   "metadata": {},
   "outputs": [],
   "source": [
    "height_array = numpy.array(height)"
   ]
  },
  {
   "cell_type": "code",
   "execution_count": 12,
   "id": "ca34fd8b-a9d0-43fa-89cf-4509dc96969c",
   "metadata": {},
   "outputs": [
    {
     "data": {
      "text/plain": [
       "array([75, 80, 68])"
      ]
     },
     "execution_count": 12,
     "metadata": {},
     "output_type": "execute_result"
    }
   ],
   "source": [
    "numpy.array(weight)"
   ]
  },
  {
   "cell_type": "code",
   "execution_count": 13,
   "id": "002d4361-1fa1-4768-9800-db5954220292",
   "metadata": {},
   "outputs": [],
   "source": [
    "weight_array = numpy.array(weight)"
   ]
  },
  {
   "cell_type": "code",
   "execution_count": null,
   "id": "3aa86623-d22a-4869-bcdd-6a1fd1c1fc15",
   "metadata": {},
   "outputs": [],
   "source": [
    "Calculate BMI"
   ]
  },
  {
   "cell_type": "code",
   "execution_count": 14,
   "id": "5472d4a6-bb50-49e7-a161-c268b3620efb",
   "metadata": {},
   "outputs": [
    {
     "data": {
      "text/plain": [
       "array([24.48979592, 24.69135802, 24.97704316])"
      ]
     },
     "execution_count": 14,
     "metadata": {},
     "output_type": "execute_result"
    }
   ],
   "source": [
    "weight_array/pow(height_array/100,2)"
   ]
  },
  {
   "cell_type": "code",
   "execution_count": 16,
   "id": "1f40fed9-36b7-4459-a0e6-da0bc1a82a31",
   "metadata": {},
   "outputs": [],
   "source": [
    "import numpy as np"
   ]
  },
  {
   "cell_type": "code",
   "execution_count": 17,
   "id": "8911d791-c634-4b7b-beba-297760aba499",
   "metadata": {},
   "outputs": [
    {
     "data": {
      "text/plain": [
       "array([175, 180, 165])"
      ]
     },
     "execution_count": 17,
     "metadata": {},
     "output_type": "execute_result"
    }
   ],
   "source": [
    "np.array(height)"
   ]
  },
  {
   "cell_type": "code",
   "execution_count": 18,
   "id": "8475e8e1-2fc2-4918-8ff0-55d0b796f028",
   "metadata": {},
   "outputs": [],
   "source": [
    "from numpy import array,sum"
   ]
  },
  {
   "cell_type": "code",
   "execution_count": 20,
   "id": "08ab0cc7-4285-4eb2-8417-388a0dfd20f2",
   "metadata": {},
   "outputs": [
    {
     "data": {
      "text/plain": [
       "array([175, 180, 165])"
      ]
     },
     "execution_count": 20,
     "metadata": {},
     "output_type": "execute_result"
    }
   ],
   "source": [
    "np.array(height)  # 1 D array"
   ]
  },
  {
   "cell_type": "code",
   "execution_count": 22,
   "id": "20184918-8dc3-4dab-8153-bf3f085b9f65",
   "metadata": {},
   "outputs": [
    {
     "data": {
      "text/plain": [
       "array([[2, 4, 7],\n",
       "       [8, 3, 9]])"
      ]
     },
     "execution_count": 22,
     "metadata": {},
     "output_type": "execute_result"
    }
   ],
   "source": [
    "np.array([[2,4,7],[8,3,9]])  # 2 D array"
   ]
  },
  {
   "cell_type": "code",
   "execution_count": 23,
   "id": "95d11c51-82a1-45c1-8c99-0b40e8b86096",
   "metadata": {},
   "outputs": [
    {
     "data": {
      "text/plain": [
       "array([[ 2,  4,  7],\n",
       "       [ 8,  3,  9],\n",
       "       [12,  1,  8]])"
      ]
     },
     "execution_count": 23,
     "metadata": {},
     "output_type": "execute_result"
    }
   ],
   "source": [
    "np.array([[2,4,7],[8,3,9],[12,1,8]])  # 2 D array"
   ]
  },
  {
   "cell_type": "code",
   "execution_count": 24,
   "id": "4dffc59c-b56a-49f6-8c5e-df66b0e7db9c",
   "metadata": {},
   "outputs": [],
   "source": [
    "arr_2d = np.array([[2,4,7],[8,3,9],[12,1,8]])  # 2 D array"
   ]
  },
  {
   "cell_type": "code",
   "execution_count": 25,
   "id": "bc7433d6-3ded-4937-9dc6-83db2f037745",
   "metadata": {},
   "outputs": [
    {
     "data": {
      "text/plain": [
       "array([[ 2,  4,  7],\n",
       "       [ 8,  3,  9],\n",
       "       [12,  1,  8]])"
      ]
     },
     "execution_count": 25,
     "metadata": {},
     "output_type": "execute_result"
    }
   ],
   "source": [
    "arr_2d"
   ]
  },
  {
   "cell_type": "code",
   "execution_count": 37,
   "id": "50947a8e-7d93-41bb-9907-cba153e0c988",
   "metadata": {},
   "outputs": [
    {
     "data": {
      "text/plain": [
       "(3, 3)"
      ]
     },
     "execution_count": 37,
     "metadata": {},
     "output_type": "execute_result"
    }
   ],
   "source": [
    "arr_2d.shape"
   ]
  },
  {
   "cell_type": "code",
   "execution_count": 26,
   "id": "ffe85c53-9bd8-4c1b-aa49-79f2e696527e",
   "metadata": {},
   "outputs": [],
   "source": [
    "my_array = np.array(['Shubham', True, 40, 25])"
   ]
  },
  {
   "cell_type": "code",
   "execution_count": 27,
   "id": "88f56652-5b38-472a-a780-77c0bde3c77d",
   "metadata": {},
   "outputs": [
    {
     "data": {
      "text/plain": [
       "array(['Shubham', 'True', '40', '25'], dtype='<U21')"
      ]
     },
     "execution_count": 27,
     "metadata": {},
     "output_type": "execute_result"
    }
   ],
   "source": [
    "my_array"
   ]
  },
  {
   "cell_type": "code",
   "execution_count": 28,
   "id": "c230550f-743c-4e4a-84c5-a9f1f7804f2d",
   "metadata": {},
   "outputs": [
    {
     "data": {
      "text/plain": [
       "'Shubham'"
      ]
     },
     "execution_count": 28,
     "metadata": {},
     "output_type": "execute_result"
    }
   ],
   "source": [
    "my_array[0]"
   ]
  },
  {
   "cell_type": "code",
   "execution_count": 29,
   "id": "42ced3c6-79e8-4013-82f7-f22b29aad135",
   "metadata": {},
   "outputs": [
    {
     "data": {
      "text/plain": [
       "array(['Shubham', 'True', '40'], dtype='<U21')"
      ]
     },
     "execution_count": 29,
     "metadata": {},
     "output_type": "execute_result"
    }
   ],
   "source": [
    "my_array[0:3]"
   ]
  },
  {
   "cell_type": "code",
   "execution_count": 30,
   "id": "b356021b-57e1-4b26-ad6c-873bf79704cc",
   "metadata": {},
   "outputs": [],
   "source": [
    "my_array[0] = 'Vishal'"
   ]
  },
  {
   "cell_type": "code",
   "execution_count": 31,
   "id": "76b11015-bdac-4bca-940b-bbb894cb72f1",
   "metadata": {},
   "outputs": [
    {
     "data": {
      "text/plain": [
       "array(['Vishal', 'True', '40', '25'], dtype='<U21')"
      ]
     },
     "execution_count": 31,
     "metadata": {},
     "output_type": "execute_result"
    }
   ],
   "source": [
    "my_array"
   ]
  },
  {
   "cell_type": "code",
   "execution_count": null,
   "id": "af16dd9d-58f3-47a4-bf30-f2f92034bfdd",
   "metadata": {},
   "outputs": [],
   "source": [
    "Learning\n",
    "\n",
    "Array are\n",
    "\n",
    "homogenous\n",
    "ordered\n",
    "mutable\n",
    "n-dimensional"
   ]
  },
  {
   "cell_type": "code",
   "execution_count": 32,
   "id": "8f5dd8f0-4f45-45f8-8c39-13dcd3bbdd65",
   "metadata": {},
   "outputs": [],
   "source": [
    "array_3d = np.array([[[2,5,10],[12,14,16],[10,19,18],[10,9,7],[9,12,17],[0,8,0]]])"
   ]
  },
  {
   "cell_type": "code",
   "execution_count": 33,
   "id": "2845efd4-8b96-4cdb-a26f-aa2d02a0973b",
   "metadata": {},
   "outputs": [
    {
     "data": {
      "text/plain": [
       "array([[[ 2,  5, 10],\n",
       "        [12, 14, 16],\n",
       "        [10, 19, 18],\n",
       "        [10,  9,  7],\n",
       "        [ 9, 12, 17],\n",
       "        [ 0,  8,  0]]])"
      ]
     },
     "execution_count": 33,
     "metadata": {},
     "output_type": "execute_result"
    }
   ],
   "source": [
    "array_3d"
   ]
  },
  {
   "cell_type": "code",
   "execution_count": 36,
   "id": "f83d2cb4-2f8c-4481-ad2c-252590602e4f",
   "metadata": {},
   "outputs": [
    {
     "data": {
      "text/plain": [
       "(1, 6, 3)"
      ]
     },
     "execution_count": 36,
     "metadata": {},
     "output_type": "execute_result"
    }
   ],
   "source": [
    "array_3d.shape"
   ]
  },
  {
   "cell_type": "code",
   "execution_count": 38,
   "id": "7d2f1d47-8060-4384-9bd0-6d4a2bf7aff2",
   "metadata": {},
   "outputs": [],
   "source": [
    "array_3d = np.array([[[2,5,10],[12,14,16],[10,19,18]],[[10,9,7],[9,12,17],[0,8,0]]])"
   ]
  },
  {
   "cell_type": "code",
   "execution_count": 39,
   "id": "263e0357-e2db-482e-ac6f-a96be9531609",
   "metadata": {},
   "outputs": [
    {
     "data": {
      "text/plain": [
       "array([[[ 2,  5, 10],\n",
       "        [12, 14, 16],\n",
       "        [10, 19, 18]],\n",
       "\n",
       "       [[10,  9,  7],\n",
       "        [ 9, 12, 17],\n",
       "        [ 0,  8,  0]]])"
      ]
     },
     "execution_count": 39,
     "metadata": {},
     "output_type": "execute_result"
    }
   ],
   "source": [
    "array_3d"
   ]
  },
  {
   "cell_type": "code",
   "execution_count": 40,
   "id": "d0efde4d-9a65-4120-9199-15068e5a50e9",
   "metadata": {},
   "outputs": [
    {
     "data": {
      "text/plain": [
       "(2, 3, 3)"
      ]
     },
     "execution_count": 40,
     "metadata": {},
     "output_type": "execute_result"
    }
   ],
   "source": [
    "array_3d.shape"
   ]
  },
  {
   "cell_type": "code",
   "execution_count": 34,
   "id": "46f7b851-a7d0-4eb4-9e2f-51c25f24ae61",
   "metadata": {},
   "outputs": [
    {
     "data": {
      "text/plain": [
       "array([['True', 'False', 'Array'],\n",
       "       ['40', '20', '30']], dtype='<U21')"
      ]
     },
     "execution_count": 34,
     "metadata": {},
     "output_type": "execute_result"
    }
   ],
   "source": [
    "np.array([[True,False,'Array'],[40,20,30]])"
   ]
  },
  {
   "cell_type": "code",
   "execution_count": 35,
   "id": "ea48861e-c747-457d-935b-ebc9bdff538f",
   "metadata": {},
   "outputs": [
    {
     "data": {
      "text/plain": [
       "array([[ 1,  0,  2],\n",
       "       [40, 20, 30]])"
      ]
     },
     "execution_count": 35,
     "metadata": {},
     "output_type": "execute_result"
    }
   ],
   "source": [
    "np.array([[True,False,2],[40,20,30]])"
   ]
  },
  {
   "cell_type": "code",
   "execution_count": 41,
   "id": "22dd203b-ab3b-481b-bbce-4e5cdde11b4b",
   "metadata": {},
   "outputs": [],
   "source": [
    "arr_2d = np.array([[2,4,7],[8,3,9],[12,1,8]])"
   ]
  },
  {
   "cell_type": "code",
   "execution_count": 42,
   "id": "4ae16d26-b456-4ffd-aea5-99a5daf7bf29",
   "metadata": {},
   "outputs": [
    {
     "data": {
      "text/plain": [
       "array([[ 2,  4,  7],\n",
       "       [ 8,  3,  9],\n",
       "       [12,  1,  8]])"
      ]
     },
     "execution_count": 42,
     "metadata": {},
     "output_type": "execute_result"
    }
   ],
   "source": [
    "arr_2d"
   ]
  },
  {
   "cell_type": "code",
   "execution_count": 43,
   "id": "37a0c3aa-3bfa-45dc-a525-acc33d782f5c",
   "metadata": {},
   "outputs": [
    {
     "data": {
      "text/plain": [
       "54"
      ]
     },
     "execution_count": 43,
     "metadata": {},
     "output_type": "execute_result"
    }
   ],
   "source": [
    "arr_2d.sum()"
   ]
  },
  {
   "cell_type": "code",
   "execution_count": 44,
   "id": "bbd6a66c-bff6-4885-b474-dd2f18497899",
   "metadata": {},
   "outputs": [
    {
     "data": {
      "text/plain": [
       "array([22,  8, 24])"
      ]
     },
     "execution_count": 44,
     "metadata": {},
     "output_type": "execute_result"
    }
   ],
   "source": [
    "arr_2d.sum(axis=0)"
   ]
  },
  {
   "cell_type": "code",
   "execution_count": 45,
   "id": "08326eba-5b82-4909-8e4b-3e641b8304a7",
   "metadata": {},
   "outputs": [
    {
     "data": {
      "text/plain": [
       "array([13, 20, 21])"
      ]
     },
     "execution_count": 45,
     "metadata": {},
     "output_type": "execute_result"
    }
   ],
   "source": [
    "arr_2d.sum(axis=1)"
   ]
  },
  {
   "cell_type": "code",
   "execution_count": 46,
   "id": "a7930c22-2739-47b0-ae88-09ceef58a070",
   "metadata": {},
   "outputs": [
    {
     "data": {
      "text/plain": [
       "array([7.33333333, 2.66666667, 8.        ])"
      ]
     },
     "execution_count": 46,
     "metadata": {},
     "output_type": "execute_result"
    }
   ],
   "source": [
    "arr_2d.mean(axis=0)"
   ]
  },
  {
   "cell_type": "code",
   "execution_count": 47,
   "id": "54d6f1e6-8471-4492-8d12-398e994fc69b",
   "metadata": {},
   "outputs": [
    {
     "data": {
      "text/plain": [
       "array([4.33333333, 6.66666667, 7.        ])"
      ]
     },
     "execution_count": 47,
     "metadata": {},
     "output_type": "execute_result"
    }
   ],
   "source": [
    "arr_2d.mean(axis=1)"
   ]
  },
  {
   "cell_type": "markdown",
   "id": "b05d4cd9-71b2-458a-a0b9-dba8f2a01a3a",
   "metadata": {},
   "source": [
    "### Subsetting/Slicing"
   ]
  },
  {
   "cell_type": "code",
   "execution_count": 48,
   "id": "be0f790f-b8b5-4285-b74e-f0d353ea8053",
   "metadata": {},
   "outputs": [
    {
     "data": {
      "text/plain": [
       "array([[ 2,  4,  7],\n",
       "       [ 8,  3,  9],\n",
       "       [12,  1,  8]])"
      ]
     },
     "execution_count": 48,
     "metadata": {},
     "output_type": "execute_result"
    }
   ],
   "source": [
    "arr_2d"
   ]
  },
  {
   "cell_type": "code",
   "execution_count": 49,
   "id": "9fc1aa8e-dc14-4286-8bff-1187b5860876",
   "metadata": {},
   "outputs": [
    {
     "data": {
      "text/plain": [
       "9"
      ]
     },
     "execution_count": 49,
     "metadata": {},
     "output_type": "execute_result"
    }
   ],
   "source": [
    "arr_2d[1,2]"
   ]
  },
  {
   "cell_type": "code",
   "execution_count": 50,
   "id": "a83828a9-16ef-4453-adb2-7a3c1f29b5f0",
   "metadata": {},
   "outputs": [
    {
     "data": {
      "text/plain": [
       "array([9, 8])"
      ]
     },
     "execution_count": 50,
     "metadata": {},
     "output_type": "execute_result"
    }
   ],
   "source": [
    "arr_2d[1:,2]"
   ]
  },
  {
   "cell_type": "markdown",
   "id": "208f6276-4827-481e-a109-5799c9eb1f8f",
   "metadata": {},
   "source": [
    "### subsetting based on conditions"
   ]
  },
  {
   "cell_type": "code",
   "execution_count": 51,
   "id": "d4ffe5ad-9f13-42e6-b358-f9a17f4a1323",
   "metadata": {},
   "outputs": [],
   "source": [
    "arr1 = np.array([23,26,76,20,15,10,12])"
   ]
  },
  {
   "cell_type": "code",
   "execution_count": null,
   "id": "3ed02a91-0d4a-4dcc-8bd5-3f190b3b41e6",
   "metadata": {},
   "outputs": [],
   "source": [
    "Items that are less than 20?"
   ]
  },
  {
   "cell_type": "code",
   "execution_count": 52,
   "id": "23013ff0-aec8-4291-8f4e-a8aac4cd6b9d",
   "metadata": {},
   "outputs": [
    {
     "data": {
      "text/plain": [
       "array([False, False, False, False,  True,  True,  True])"
      ]
     },
     "execution_count": 52,
     "metadata": {},
     "output_type": "execute_result"
    }
   ],
   "source": [
    "arr1<20"
   ]
  },
  {
   "cell_type": "code",
   "execution_count": 53,
   "id": "fbbb89ee-08e4-458c-b431-f03562c0f671",
   "metadata": {},
   "outputs": [
    {
     "data": {
      "text/plain": [
       "array([15, 10, 12])"
      ]
     },
     "execution_count": 53,
     "metadata": {},
     "output_type": "execute_result"
    }
   ],
   "source": [
    "arr1[arr1<20]"
   ]
  },
  {
   "cell_type": "code",
   "execution_count": null,
   "id": "67cb7a23-fd1c-4f23-8cd2-3259f5bc9075",
   "metadata": {},
   "outputs": [],
   "source": [
    "Items which are more than 10 but less than 20"
   ]
  },
  {
   "cell_type": "code",
   "execution_count": 55,
   "id": "a003c0b7-9133-4070-99d1-50d36459903a",
   "metadata": {},
   "outputs": [
    {
     "ename": "ValueError",
     "evalue": "The truth value of an array with more than one element is ambiguous. Use a.any() or a.all()",
     "output_type": "error",
     "traceback": [
      "\u001b[0;31m---------------------------------------------------------------------------\u001b[0m",
      "\u001b[0;31mValueError\u001b[0m                                Traceback (most recent call last)",
      "\u001b[0;32m/tmp/ipykernel_71/17461241.py\u001b[0m in \u001b[0;36m<cell line: 1>\u001b[0;34m()\u001b[0m\n\u001b[0;32m----> 1\u001b[0;31m \u001b[0;34m(\u001b[0m\u001b[0marr1\u001b[0m\u001b[0;34m<\u001b[0m\u001b[0;36m20\u001b[0m\u001b[0;34m)\u001b[0m \u001b[0;32mand\u001b[0m \u001b[0;34m(\u001b[0m\u001b[0marr1\u001b[0m\u001b[0;34m>\u001b[0m\u001b[0;36m10\u001b[0m\u001b[0;34m)\u001b[0m\u001b[0;34m\u001b[0m\u001b[0;34m\u001b[0m\u001b[0m\n\u001b[0m",
      "\u001b[0;31mValueError\u001b[0m: The truth value of an array with more than one element is ambiguous. Use a.any() or a.all()"
     ]
    }
   ],
   "source": [
    "(arr1<20) and (arr1>10)"
   ]
  },
  {
   "cell_type": "code",
   "execution_count": 56,
   "id": "08a7d26f-32cd-4779-a08e-00e2f0b256cf",
   "metadata": {},
   "outputs": [
    {
     "data": {
      "text/plain": [
       "array([False, False, False, False,  True, False,  True])"
      ]
     },
     "execution_count": 56,
     "metadata": {},
     "output_type": "execute_result"
    }
   ],
   "source": [
    "(arr1<20) & (arr1>10)"
   ]
  },
  {
   "cell_type": "code",
   "execution_count": 57,
   "id": "12a17f16-af03-430e-99e2-da9d96c82089",
   "metadata": {},
   "outputs": [
    {
     "data": {
      "text/plain": [
       "array([False, False, False, False,  True,  True,  True])"
      ]
     },
     "execution_count": 57,
     "metadata": {},
     "output_type": "execute_result"
    }
   ],
   "source": [
    "(arr1<20)"
   ]
  },
  {
   "cell_type": "code",
   "execution_count": 58,
   "id": "613f478a-b2ee-4c1b-a95f-1af77f25d3b7",
   "metadata": {},
   "outputs": [
    {
     "data": {
      "text/plain": [
       "array([ True,  True,  True,  True,  True, False,  True])"
      ]
     },
     "execution_count": 58,
     "metadata": {},
     "output_type": "execute_result"
    }
   ],
   "source": [
    "(arr1>10)"
   ]
  },
  {
   "cell_type": "code",
   "execution_count": 59,
   "id": "7c7149ca-d6ab-4435-9358-db84d7d984ff",
   "metadata": {},
   "outputs": [
    {
     "data": {
      "text/plain": [
       "array([15, 12])"
      ]
     },
     "execution_count": 59,
     "metadata": {},
     "output_type": "execute_result"
    }
   ],
   "source": [
    "arr1[(arr1<20) & (arr1>10)]"
   ]
  },
  {
   "cell_type": "markdown",
   "id": "4ea2d3a3-1b77-4552-9a68-b3ffa6efd5ae",
   "metadata": {},
   "source": [
    "#### Distance between 2 points"
   ]
  },
  {
   "cell_type": "code",
   "execution_count": 60,
   "id": "7ff556ac-6c82-409b-a2dc-1fc90a16eed6",
   "metadata": {},
   "outputs": [],
   "source": [
    "pt1 = np.array([1,5])\n",
    "pt2 = np.array([4,3])"
   ]
  },
  {
   "cell_type": "code",
   "execution_count": 61,
   "id": "27e002c9-d620-4046-8710-f899c7fc1d7a",
   "metadata": {},
   "outputs": [
    {
     "data": {
      "text/plain": [
       "array([-3,  2])"
      ]
     },
     "execution_count": 61,
     "metadata": {},
     "output_type": "execute_result"
    }
   ],
   "source": [
    "pt1 - pt2"
   ]
  },
  {
   "cell_type": "code",
   "execution_count": 62,
   "id": "b02c1a9c-1163-4989-b063-0acc3e7e2f6d",
   "metadata": {},
   "outputs": [
    {
     "data": {
      "text/plain": [
       "array([9, 4])"
      ]
     },
     "execution_count": 62,
     "metadata": {},
     "output_type": "execute_result"
    }
   ],
   "source": [
    "np.square(pt1 - pt2)"
   ]
  },
  {
   "cell_type": "code",
   "execution_count": 63,
   "id": "e056b661-9a14-45f0-96be-033d6f32b3ef",
   "metadata": {},
   "outputs": [
    {
     "data": {
      "text/plain": [
       "13"
      ]
     },
     "execution_count": 63,
     "metadata": {},
     "output_type": "execute_result"
    }
   ],
   "source": [
    "np.sum(np.square(pt1 - pt2))"
   ]
  },
  {
   "cell_type": "code",
   "execution_count": 64,
   "id": "bac4f75a-a30d-4494-b97e-e64874548916",
   "metadata": {},
   "outputs": [
    {
     "data": {
      "text/plain": [
       "3.605551275463989"
      ]
     },
     "execution_count": 64,
     "metadata": {},
     "output_type": "execute_result"
    }
   ],
   "source": [
    "np.sqrt(np.sum(np.square(pt1 - pt2)))"
   ]
  },
  {
   "cell_type": "code",
   "execution_count": 65,
   "id": "70ef6376-6d30-4ce1-9be8-cc1dce2f4766",
   "metadata": {},
   "outputs": [
    {
     "data": {
      "text/plain": [
       "3.605551275463989"
      ]
     },
     "execution_count": 65,
     "metadata": {},
     "output_type": "execute_result"
    }
   ],
   "source": [
    "np.linalg.norm(pt1 - pt2)"
   ]
  },
  {
   "cell_type": "code",
   "execution_count": 66,
   "id": "e5fe1a7d-1379-41e0-a6c1-58f00013529f",
   "metadata": {},
   "outputs": [
    {
     "data": {
      "text/plain": [
       "array([[-2, -2],\n",
       "       [-4, -2]])"
      ]
     },
     "execution_count": 66,
     "metadata": {},
     "output_type": "execute_result"
    }
   ],
   "source": [
    "np.array([[2,3],[4,5]]) - np.array([[4,5],[8,7]]) "
   ]
  },
  {
   "cell_type": "code",
   "execution_count": 67,
   "id": "0c351d01-8d30-473a-b0db-24bb28a0a9f9",
   "metadata": {},
   "outputs": [
    {
     "data": {
      "text/plain": [
       "array([[ 6,  8],\n",
       "       [12, 12]])"
      ]
     },
     "execution_count": 67,
     "metadata": {},
     "output_type": "execute_result"
    }
   ],
   "source": [
    "np.array([[2,3],[4,5]]) + np.array([[4,5],[8,7]]) "
   ]
  },
  {
   "cell_type": "code",
   "execution_count": 69,
   "id": "14c6b667-8c7f-4ae0-9d79-814449c5adc4",
   "metadata": {},
   "outputs": [
    {
     "data": {
      "text/plain": [
       "array([[ 2, 16, 15],\n",
       "       [ 1,  2,  3]])"
      ]
     },
     "execution_count": 69,
     "metadata": {},
     "output_type": "execute_result"
    }
   ],
   "source": [
    "np.dot(np.array([[2,3],[1,0]]),np.array([[1,2,3],[0,4,3]]))"
   ]
  },
  {
   "cell_type": "code",
   "execution_count": 70,
   "id": "67342b45-ef64-4cbd-92c3-ad378b247a57",
   "metadata": {},
   "outputs": [],
   "source": [
    "mtrx1 = np.dot(np.array([[2,3],[1,0]]),np.array([[1,2,3],[0,4,3]]))"
   ]
  },
  {
   "cell_type": "code",
   "execution_count": 72,
   "id": "f71ab6c9-c17c-44b5-bb39-03c55507074b",
   "metadata": {},
   "outputs": [
    {
     "data": {
      "text/plain": [
       "array([[ 2, 16, 15],\n",
       "       [ 1,  2,  3]])"
      ]
     },
     "execution_count": 72,
     "metadata": {},
     "output_type": "execute_result"
    }
   ],
   "source": [
    "mtrx1"
   ]
  },
  {
   "cell_type": "code",
   "execution_count": 71,
   "id": "374d31cb-d22b-4196-8301-c2e7e948aaea",
   "metadata": {},
   "outputs": [
    {
     "data": {
      "text/plain": [
       "array([[ 2,  1],\n",
       "       [16,  2],\n",
       "       [15,  3]])"
      ]
     },
     "execution_count": 71,
     "metadata": {},
     "output_type": "execute_result"
    }
   ],
   "source": [
    "np.transpose(mtrx1)"
   ]
  },
  {
   "cell_type": "code",
   "execution_count": 73,
   "id": "52b5f794-f327-4e37-bd87-48483a8e44ac",
   "metadata": {},
   "outputs": [],
   "source": [
    "arr_2d = np.array([[2,4,7],[8,3,9],[12,1,8]])"
   ]
  },
  {
   "cell_type": "code",
   "execution_count": 74,
   "id": "5b95d11c-ecf2-4d1d-b472-04e7e069e799",
   "metadata": {},
   "outputs": [
    {
     "data": {
      "text/plain": [
       "array([[ 2,  4,  7],\n",
       "       [ 8,  3,  9],\n",
       "       [12,  1,  8]])"
      ]
     },
     "execution_count": 74,
     "metadata": {},
     "output_type": "execute_result"
    }
   ],
   "source": [
    "arr_2d"
   ]
  },
  {
   "cell_type": "code",
   "execution_count": 75,
   "id": "d017729f-bc44-4a48-bec8-3a73ecf3a65f",
   "metadata": {},
   "outputs": [
    {
     "data": {
      "text/plain": [
       "array([[ 1.5, -2.5,  1.5],\n",
       "       [ 4.4, -6.8,  3.8],\n",
       "       [-2.8,  4.6, -2.6]])"
      ]
     },
     "execution_count": 75,
     "metadata": {},
     "output_type": "execute_result"
    }
   ],
   "source": [
    "np.linalg.inv(arr_2d)"
   ]
  },
  {
   "cell_type": "code",
   "execution_count": 76,
   "id": "092ab2aa-3ba3-4410-a018-27e5271ebf0f",
   "metadata": {},
   "outputs": [
    {
     "data": {
      "text/plain": [
       "array([[ 1.00000000e+00,  2.66453526e-15,  1.33226763e-15],\n",
       "       [ 1.33226763e-15,  1.00000000e+00, -1.33226763e-15],\n",
       "       [-3.55271368e-15,  0.00000000e+00,  1.00000000e+00]])"
      ]
     },
     "execution_count": 76,
     "metadata": {},
     "output_type": "execute_result"
    }
   ],
   "source": [
    "np.dot(arr_2d, np.linalg.inv(arr_2d))"
   ]
  },
  {
   "cell_type": "code",
   "execution_count": 77,
   "id": "baa46ba8-8011-4d59-9914-a1776761b2ad",
   "metadata": {},
   "outputs": [
    {
     "data": {
      "text/plain": [
       "13"
      ]
     },
     "execution_count": 77,
     "metadata": {},
     "output_type": "execute_result"
    }
   ],
   "source": [
    "np.trace(arr_2d)"
   ]
  },
  {
   "cell_type": "markdown",
   "id": "7bcb62f4-becd-4720-938a-a9724aac6982",
   "metadata": {},
   "source": [
    "## Pandas series and dataframe"
   ]
  },
  {
   "cell_type": "code",
   "execution_count": 78,
   "id": "57e987ad-6322-4496-a138-86f64381cc8d",
   "metadata": {},
   "outputs": [],
   "source": [
    "import pandas as pd"
   ]
  },
  {
   "cell_type": "code",
   "execution_count": 80,
   "id": "07f7580f-8b03-4232-813b-8ba92d85d58c",
   "metadata": {},
   "outputs": [],
   "source": [
    "name_age = pd.Series({'a':30,'b':40,'c':15,'d':50,'e':25,'f':20})"
   ]
  },
  {
   "cell_type": "code",
   "execution_count": 81,
   "id": "d07fddc2-33a2-46bd-b855-1b0c9091d04c",
   "metadata": {},
   "outputs": [
    {
     "data": {
      "text/plain": [
       "pandas.core.series.Series"
      ]
     },
     "execution_count": 81,
     "metadata": {},
     "output_type": "execute_result"
    }
   ],
   "source": [
    "type(name_age)"
   ]
  },
  {
   "cell_type": "code",
   "execution_count": null,
   "id": "9ddc9cce-25c6-4684-a3f6-a1da7f346398",
   "metadata": {},
   "outputs": [],
   "source": [
    "Series: One-dimensional ndarray with axis labels (including time series)."
   ]
  },
  {
   "cell_type": "code",
   "execution_count": 82,
   "id": "8b33713b-3921-4798-a822-c35a25856743",
   "metadata": {},
   "outputs": [
    {
     "data": {
      "text/plain": [
       "a    30\n",
       "b    40\n",
       "c    15\n",
       "d    50\n",
       "e    25\n",
       "f    20\n",
       "dtype: int64"
      ]
     },
     "execution_count": 82,
     "metadata": {},
     "output_type": "execute_result"
    }
   ],
   "source": [
    "name_age"
   ]
  },
  {
   "cell_type": "code",
   "execution_count": 83,
   "id": "429c7ee1-0f59-42da-b9ea-9880bf29dce6",
   "metadata": {},
   "outputs": [
    {
     "data": {
      "text/plain": [
       "Index(['a', 'b', 'c', 'd', 'e', 'f'], dtype='object')"
      ]
     },
     "execution_count": 83,
     "metadata": {},
     "output_type": "execute_result"
    }
   ],
   "source": [
    "name_age.index"
   ]
  },
  {
   "cell_type": "code",
   "execution_count": 84,
   "id": "a04f9359-082e-4a1e-8d5b-1871054f521e",
   "metadata": {},
   "outputs": [
    {
     "data": {
      "text/plain": [
       "array([30, 40, 15, 50, 25, 20])"
      ]
     },
     "execution_count": 84,
     "metadata": {},
     "output_type": "execute_result"
    }
   ],
   "source": [
    "name_age.values"
   ]
  },
  {
   "cell_type": "code",
   "execution_count": 85,
   "id": "c23e9b4e-5f8f-42fc-9d95-e19784e74105",
   "metadata": {},
   "outputs": [
    {
     "data": {
      "text/plain": [
       "30"
      ]
     },
     "execution_count": 85,
     "metadata": {},
     "output_type": "execute_result"
    }
   ],
   "source": [
    "name_age[0]"
   ]
  },
  {
   "cell_type": "code",
   "execution_count": 86,
   "id": "60a4228e-a15f-46f2-948a-30b9b8385fc1",
   "metadata": {},
   "outputs": [
    {
     "data": {
      "text/plain": [
       "30"
      ]
     },
     "execution_count": 86,
     "metadata": {},
     "output_type": "execute_result"
    }
   ],
   "source": [
    "name_age['a']"
   ]
  },
  {
   "cell_type": "code",
   "execution_count": 87,
   "id": "eebf6109-bba7-4e29-beb0-d5c5a4799108",
   "metadata": {},
   "outputs": [
    {
     "data": {
      "text/plain": [
       "b    40\n",
       "d    50\n",
       "f    20\n",
       "dtype: int64"
      ]
     },
     "execution_count": 87,
     "metadata": {},
     "output_type": "execute_result"
    }
   ],
   "source": [
    "name_age[1:6:2]"
   ]
  },
  {
   "cell_type": "code",
   "execution_count": 88,
   "id": "62d3a1df-b02c-4ebd-bdf5-1ed8a78fd14c",
   "metadata": {},
   "outputs": [
    {
     "data": {
      "text/plain": [
       "a    False\n",
       "b    False\n",
       "c     True\n",
       "d    False\n",
       "e    False\n",
       "f    False\n",
       "dtype: bool"
      ]
     },
     "execution_count": 88,
     "metadata": {},
     "output_type": "execute_result"
    }
   ],
   "source": [
    "name_age<20"
   ]
  },
  {
   "cell_type": "code",
   "execution_count": 89,
   "id": "261dc891-0706-4543-ae1d-6732ea54b8a8",
   "metadata": {},
   "outputs": [
    {
     "data": {
      "text/plain": [
       "c    15\n",
       "dtype: int64"
      ]
     },
     "execution_count": 89,
     "metadata": {},
     "output_type": "execute_result"
    }
   ],
   "source": [
    "name_age[name_age<20]"
   ]
  },
  {
   "cell_type": "code",
   "execution_count": 90,
   "id": "6e25bc8c-bb24-4a29-9c35-f704f6c95f82",
   "metadata": {},
   "outputs": [
    {
     "data": {
      "text/plain": [
       "30.0"
      ]
     },
     "execution_count": 90,
     "metadata": {},
     "output_type": "execute_result"
    }
   ],
   "source": [
    "name_age.mean()"
   ]
  },
  {
   "cell_type": "code",
   "execution_count": 91,
   "id": "22980f3a-4711-4a1d-b7c4-d25fb63f7b07",
   "metadata": {},
   "outputs": [
    {
     "data": {
      "text/plain": [
       "27.5"
      ]
     },
     "execution_count": 91,
     "metadata": {},
     "output_type": "execute_result"
    }
   ],
   "source": [
    "name_age.median()"
   ]
  },
  {
   "cell_type": "code",
   "execution_count": 92,
   "id": "b96691bf-a148-46d8-aed9-b7d4bc85aed8",
   "metadata": {},
   "outputs": [
    {
     "data": {
      "text/plain": [
       "count     6.000000\n",
       "mean     30.000000\n",
       "std      13.038405\n",
       "min      15.000000\n",
       "25%      21.250000\n",
       "50%      27.500000\n",
       "75%      37.500000\n",
       "max      50.000000\n",
       "dtype: float64"
      ]
     },
     "execution_count": 92,
     "metadata": {},
     "output_type": "execute_result"
    }
   ],
   "source": [
    "name_age.describe()"
   ]
  },
  {
   "cell_type": "code",
   "execution_count": 93,
   "id": "c28adbf3-2952-4c33-b42a-c00c2b17cde9",
   "metadata": {},
   "outputs": [],
   "source": [
    "name_age = pd.Series({'a':30,'b':40,'c':15,'d':50,'e':25,'f':20, 'g':50,'h':30,'i':50})"
   ]
  },
  {
   "cell_type": "code",
   "execution_count": 94,
   "id": "7983d2e5-837c-4f60-aa7c-d5dbaaca3ca8",
   "metadata": {},
   "outputs": [
    {
     "data": {
      "text/plain": [
       "a    30\n",
       "b    40\n",
       "c    15\n",
       "d    50\n",
       "e    25\n",
       "f    20\n",
       "g    50\n",
       "h    30\n",
       "i    50\n",
       "dtype: int64"
      ]
     },
     "execution_count": 94,
     "metadata": {},
     "output_type": "execute_result"
    }
   ],
   "source": [
    "name_age"
   ]
  },
  {
   "cell_type": "code",
   "execution_count": 95,
   "id": "d90046ca-d89e-4915-8d4d-3418e312dc42",
   "metadata": {},
   "outputs": [
    {
     "data": {
      "text/plain": [
       "50    3\n",
       "30    2\n",
       "40    1\n",
       "15    1\n",
       "25    1\n",
       "20    1\n",
       "dtype: int64"
      ]
     },
     "execution_count": 95,
     "metadata": {},
     "output_type": "execute_result"
    }
   ],
   "source": [
    "name_age.value_counts()"
   ]
  },
  {
   "cell_type": "code",
   "execution_count": 96,
   "id": "bf4b5ee7-5fa7-44e6-9668-912ca53b6dc6",
   "metadata": {},
   "outputs": [
    {
     "data": {
      "text/plain": [
       "40    1\n",
       "15    1\n",
       "25    1\n",
       "20    1\n",
       "30    2\n",
       "50    3\n",
       "dtype: int64"
      ]
     },
     "execution_count": 96,
     "metadata": {},
     "output_type": "execute_result"
    }
   ],
   "source": [
    "name_age.value_counts(ascending=True)"
   ]
  },
  {
   "cell_type": "code",
   "execution_count": 97,
   "id": "d76587bf-59f5-41e2-8e85-63c926a788da",
   "metadata": {},
   "outputs": [
    {
     "data": {
      "text/plain": [
       "50    0.333333\n",
       "30    0.222222\n",
       "40    0.111111\n",
       "15    0.111111\n",
       "25    0.111111\n",
       "20    0.111111\n",
       "dtype: float64"
      ]
     },
     "execution_count": 97,
     "metadata": {},
     "output_type": "execute_result"
    }
   ],
   "source": [
    "name_age.value_counts(normalize=True)"
   ]
  },
  {
   "cell_type": "code",
   "execution_count": 98,
   "id": "340c8df5-a1f5-4cd8-922a-d399dd2e77ad",
   "metadata": {},
   "outputs": [
    {
     "data": {
      "text/plain": [
       "50    33.333333\n",
       "30    22.222222\n",
       "40    11.111111\n",
       "15    11.111111\n",
       "25    11.111111\n",
       "20    11.111111\n",
       "dtype: float64"
      ]
     },
     "execution_count": 98,
     "metadata": {},
     "output_type": "execute_result"
    }
   ],
   "source": [
    "(name_age.value_counts(normalize=True))*100"
   ]
  },
  {
   "cell_type": "code",
   "execution_count": 100,
   "id": "3a4b1c9f-b03b-417b-9fd4-92edf9b36169",
   "metadata": {},
   "outputs": [
    {
     "data": {
      "text/plain": [
       "50    33.33\n",
       "30    22.22\n",
       "40    11.11\n",
       "15    11.11\n",
       "25    11.11\n",
       "20    11.11\n",
       "dtype: float64"
      ]
     },
     "execution_count": 100,
     "metadata": {},
     "output_type": "execute_result"
    }
   ],
   "source": [
    "round((name_age.value_counts(normalize=True))*100, 2)"
   ]
  },
  {
   "cell_type": "markdown",
   "id": "f11ac546-c3e4-45fc-885e-25394de1bb6b",
   "metadata": {},
   "source": [
    "### Dataframe"
   ]
  },
  {
   "cell_type": "code",
   "execution_count": 135,
   "id": "78db62e0-35d9-4bd8-8f10-f98edd15d6eb",
   "metadata": {},
   "outputs": [],
   "source": [
    "df = pd.DataFrame({'col1':['item'+str(i) for i in range(1,6)], 'col2': [23, 24, 28, 30, 32], 'col3': [98,92,94,91,90], 'col4': ['a', 'b', 'b', 'a', 'a']})"
   ]
  },
  {
   "cell_type": "code",
   "execution_count": 136,
   "id": "0b76871b-f7c6-4eb2-8ba6-ae81ba26f862",
   "metadata": {},
   "outputs": [
    {
     "data": {
      "text/html": [
       "<div>\n",
       "<style scoped>\n",
       "    .dataframe tbody tr th:only-of-type {\n",
       "        vertical-align: middle;\n",
       "    }\n",
       "\n",
       "    .dataframe tbody tr th {\n",
       "        vertical-align: top;\n",
       "    }\n",
       "\n",
       "    .dataframe thead th {\n",
       "        text-align: right;\n",
       "    }\n",
       "</style>\n",
       "<table border=\"1\" class=\"dataframe\">\n",
       "  <thead>\n",
       "    <tr style=\"text-align: right;\">\n",
       "      <th></th>\n",
       "      <th>col1</th>\n",
       "      <th>col2</th>\n",
       "      <th>col3</th>\n",
       "      <th>col4</th>\n",
       "    </tr>\n",
       "  </thead>\n",
       "  <tbody>\n",
       "    <tr>\n",
       "      <th>0</th>\n",
       "      <td>item1</td>\n",
       "      <td>23</td>\n",
       "      <td>98</td>\n",
       "      <td>a</td>\n",
       "    </tr>\n",
       "    <tr>\n",
       "      <th>1</th>\n",
       "      <td>item2</td>\n",
       "      <td>24</td>\n",
       "      <td>92</td>\n",
       "      <td>b</td>\n",
       "    </tr>\n",
       "    <tr>\n",
       "      <th>2</th>\n",
       "      <td>item3</td>\n",
       "      <td>28</td>\n",
       "      <td>94</td>\n",
       "      <td>b</td>\n",
       "    </tr>\n",
       "    <tr>\n",
       "      <th>3</th>\n",
       "      <td>item4</td>\n",
       "      <td>30</td>\n",
       "      <td>91</td>\n",
       "      <td>a</td>\n",
       "    </tr>\n",
       "    <tr>\n",
       "      <th>4</th>\n",
       "      <td>item5</td>\n",
       "      <td>32</td>\n",
       "      <td>90</td>\n",
       "      <td>a</td>\n",
       "    </tr>\n",
       "  </tbody>\n",
       "</table>\n",
       "</div>"
      ],
      "text/plain": [
       "    col1  col2  col3 col4\n",
       "0  item1    23    98    a\n",
       "1  item2    24    92    b\n",
       "2  item3    28    94    b\n",
       "3  item4    30    91    a\n",
       "4  item5    32    90    a"
      ]
     },
     "execution_count": 136,
     "metadata": {},
     "output_type": "execute_result"
    }
   ],
   "source": [
    "df"
   ]
  },
  {
   "cell_type": "code",
   "execution_count": 137,
   "id": "7bc842b3-1d12-414f-b9ad-01549fc20b1b",
   "metadata": {},
   "outputs": [
    {
     "data": {
      "text/plain": [
       "pandas.core.frame.DataFrame"
      ]
     },
     "execution_count": 137,
     "metadata": {},
     "output_type": "execute_result"
    }
   ],
   "source": [
    "type(df)"
   ]
  },
  {
   "cell_type": "code",
   "execution_count": 138,
   "id": "834b0655-36cb-4906-984a-48e7b58e804a",
   "metadata": {},
   "outputs": [
    {
     "data": {
      "text/plain": [
       "0    item1\n",
       "1    item2\n",
       "2    item3\n",
       "3    item4\n",
       "4    item5\n",
       "Name: col1, dtype: object"
      ]
     },
     "execution_count": 138,
     "metadata": {},
     "output_type": "execute_result"
    }
   ],
   "source": [
    "df.col1"
   ]
  },
  {
   "cell_type": "code",
   "execution_count": 139,
   "id": "3db447d7-260f-4f32-86ba-57f81d157179",
   "metadata": {},
   "outputs": [
    {
     "data": {
      "text/plain": [
       "pandas.core.series.Series"
      ]
     },
     "execution_count": 139,
     "metadata": {},
     "output_type": "execute_result"
    }
   ],
   "source": [
    "type(df.col1)"
   ]
  },
  {
   "cell_type": "code",
   "execution_count": 140,
   "id": "601fb535-bd5d-4cb4-b5e1-50bb63406d5a",
   "metadata": {},
   "outputs": [
    {
     "data": {
      "text/plain": [
       "0    item1\n",
       "1    item2\n",
       "2    item3\n",
       "3    item4\n",
       "4    item5\n",
       "Name: col1, dtype: object"
      ]
     },
     "execution_count": 140,
     "metadata": {},
     "output_type": "execute_result"
    }
   ],
   "source": [
    "df['col1']"
   ]
  },
  {
   "cell_type": "code",
   "execution_count": 141,
   "id": "b413ce61-2ce0-41fc-a5c2-af02e1240a41",
   "metadata": {},
   "outputs": [
    {
     "data": {
      "text/plain": [
       "pandas.core.series.Series"
      ]
     },
     "execution_count": 141,
     "metadata": {},
     "output_type": "execute_result"
    }
   ],
   "source": [
    "type(df['col1'])"
   ]
  },
  {
   "cell_type": "code",
   "execution_count": 142,
   "id": "eaa16210-55d6-4977-8aa1-df3fa6d5c577",
   "metadata": {},
   "outputs": [
    {
     "data": {
      "text/plain": [
       "0    item1\n",
       "1    item2\n",
       "2    item3\n",
       "3    item4\n",
       "4    item5\n",
       "Name: col1, dtype: object"
      ]
     },
     "execution_count": 142,
     "metadata": {},
     "output_type": "execute_result"
    }
   ],
   "source": [
    "df['col1']"
   ]
  },
  {
   "cell_type": "code",
   "execution_count": 144,
   "id": "661a8bda-642c-4bd9-a72a-5414c9a8f9bc",
   "metadata": {},
   "outputs": [
    {
     "data": {
      "text/html": [
       "<div>\n",
       "<style scoped>\n",
       "    .dataframe tbody tr th:only-of-type {\n",
       "        vertical-align: middle;\n",
       "    }\n",
       "\n",
       "    .dataframe tbody tr th {\n",
       "        vertical-align: top;\n",
       "    }\n",
       "\n",
       "    .dataframe thead th {\n",
       "        text-align: right;\n",
       "    }\n",
       "</style>\n",
       "<table border=\"1\" class=\"dataframe\">\n",
       "  <thead>\n",
       "    <tr style=\"text-align: right;\">\n",
       "      <th></th>\n",
       "      <th>col1</th>\n",
       "    </tr>\n",
       "  </thead>\n",
       "  <tbody>\n",
       "    <tr>\n",
       "      <th>0</th>\n",
       "      <td>item1</td>\n",
       "    </tr>\n",
       "    <tr>\n",
       "      <th>1</th>\n",
       "      <td>item2</td>\n",
       "    </tr>\n",
       "    <tr>\n",
       "      <th>2</th>\n",
       "      <td>item3</td>\n",
       "    </tr>\n",
       "    <tr>\n",
       "      <th>3</th>\n",
       "      <td>item4</td>\n",
       "    </tr>\n",
       "    <tr>\n",
       "      <th>4</th>\n",
       "      <td>item5</td>\n",
       "    </tr>\n",
       "  </tbody>\n",
       "</table>\n",
       "</div>"
      ],
      "text/plain": [
       "    col1\n",
       "0  item1\n",
       "1  item2\n",
       "2  item3\n",
       "3  item4\n",
       "4  item5"
      ]
     },
     "execution_count": 144,
     "metadata": {},
     "output_type": "execute_result"
    }
   ],
   "source": [
    "df[['col1']]  # dataframe"
   ]
  },
  {
   "cell_type": "code",
   "execution_count": 110,
   "id": "6f633ddc-f600-478c-92f7-f1e2405087f9",
   "metadata": {},
   "outputs": [
    {
     "data": {
      "text/plain": [
       "a    3\n",
       "b    2\n",
       "Name: col4, dtype: int64"
      ]
     },
     "execution_count": 110,
     "metadata": {},
     "output_type": "execute_result"
    }
   ],
   "source": [
    "df.col4.value_counts()"
   ]
  },
  {
   "cell_type": "code",
   "execution_count": 113,
   "id": "0b024b2c-fa6e-4a10-83cf-b311826ddbfc",
   "metadata": {},
   "outputs": [
    {
     "data": {
      "text/plain": [
       "27.4"
      ]
     },
     "execution_count": 113,
     "metadata": {},
     "output_type": "execute_result"
    }
   ],
   "source": [
    "df.col2.mean()"
   ]
  },
  {
   "cell_type": "code",
   "execution_count": 114,
   "id": "8984c0b1-3f7e-485d-aef2-397974b7a6cd",
   "metadata": {},
   "outputs": [
    {
     "data": {
      "text/plain": [
       "28.0"
      ]
     },
     "execution_count": 114,
     "metadata": {},
     "output_type": "execute_result"
    }
   ],
   "source": [
    "df.col2.median()"
   ]
  },
  {
   "cell_type": "code",
   "execution_count": 115,
   "id": "a7f82299-17ea-4f21-9c22-fb5f20518935",
   "metadata": {},
   "outputs": [
    {
     "data": {
      "text/plain": [
       "count     5.000000\n",
       "mean     27.400000\n",
       "std       3.847077\n",
       "min      23.000000\n",
       "25%      24.000000\n",
       "50%      28.000000\n",
       "75%      30.000000\n",
       "max      32.000000\n",
       "Name: col2, dtype: float64"
      ]
     },
     "execution_count": 115,
     "metadata": {},
     "output_type": "execute_result"
    }
   ],
   "source": [
    "df.col2.describe()"
   ]
  },
  {
   "cell_type": "code",
   "execution_count": 117,
   "id": "11b75459-6539-4128-aae5-c0c8f6587357",
   "metadata": {},
   "outputs": [],
   "source": [
    "df = pd.DataFrame({'col1':['item'+str(i) for i in range(1,6)], 'col2': [23, 24, 28, 30, 32], 'col3': [98,92,94,91,90], 'col4': ['a', 'b', 'b', 'a', 'a']}, index = ['ind' + str(i) for i in range(5)])"
   ]
  },
  {
   "cell_type": "code",
   "execution_count": 118,
   "id": "e20ff517-e56f-468e-a2a2-b555452f06ba",
   "metadata": {},
   "outputs": [
    {
     "data": {
      "text/html": [
       "<div>\n",
       "<style scoped>\n",
       "    .dataframe tbody tr th:only-of-type {\n",
       "        vertical-align: middle;\n",
       "    }\n",
       "\n",
       "    .dataframe tbody tr th {\n",
       "        vertical-align: top;\n",
       "    }\n",
       "\n",
       "    .dataframe thead th {\n",
       "        text-align: right;\n",
       "    }\n",
       "</style>\n",
       "<table border=\"1\" class=\"dataframe\">\n",
       "  <thead>\n",
       "    <tr style=\"text-align: right;\">\n",
       "      <th></th>\n",
       "      <th>col1</th>\n",
       "      <th>col2</th>\n",
       "      <th>col3</th>\n",
       "      <th>col4</th>\n",
       "    </tr>\n",
       "  </thead>\n",
       "  <tbody>\n",
       "    <tr>\n",
       "      <th>ind0</th>\n",
       "      <td>item1</td>\n",
       "      <td>23</td>\n",
       "      <td>98</td>\n",
       "      <td>a</td>\n",
       "    </tr>\n",
       "    <tr>\n",
       "      <th>ind1</th>\n",
       "      <td>item2</td>\n",
       "      <td>24</td>\n",
       "      <td>92</td>\n",
       "      <td>b</td>\n",
       "    </tr>\n",
       "    <tr>\n",
       "      <th>ind2</th>\n",
       "      <td>item3</td>\n",
       "      <td>28</td>\n",
       "      <td>94</td>\n",
       "      <td>b</td>\n",
       "    </tr>\n",
       "    <tr>\n",
       "      <th>ind3</th>\n",
       "      <td>item4</td>\n",
       "      <td>30</td>\n",
       "      <td>91</td>\n",
       "      <td>a</td>\n",
       "    </tr>\n",
       "    <tr>\n",
       "      <th>ind4</th>\n",
       "      <td>item5</td>\n",
       "      <td>32</td>\n",
       "      <td>90</td>\n",
       "      <td>a</td>\n",
       "    </tr>\n",
       "  </tbody>\n",
       "</table>\n",
       "</div>"
      ],
      "text/plain": [
       "       col1  col2  col3 col4\n",
       "ind0  item1    23    98    a\n",
       "ind1  item2    24    92    b\n",
       "ind2  item3    28    94    b\n",
       "ind3  item4    30    91    a\n",
       "ind4  item5    32    90    a"
      ]
     },
     "execution_count": 118,
     "metadata": {},
     "output_type": "execute_result"
    }
   ],
   "source": [
    "df"
   ]
  },
  {
   "cell_type": "code",
   "execution_count": 119,
   "id": "60ae8a10-5bc6-43f6-905b-0c88240fc572",
   "metadata": {},
   "outputs": [
    {
     "data": {
      "text/plain": [
       "Index(['ind0', 'ind1', 'ind2', 'ind3', 'ind4'], dtype='object')"
      ]
     },
     "execution_count": 119,
     "metadata": {},
     "output_type": "execute_result"
    }
   ],
   "source": [
    "df.index"
   ]
  },
  {
   "cell_type": "code",
   "execution_count": 120,
   "id": "530aed3e-b992-4fc5-a633-e5cb0d14ae76",
   "metadata": {},
   "outputs": [
    {
     "data": {
      "text/plain": [
       "Index(['col1', 'col2', 'col3', 'col4'], dtype='object')"
      ]
     },
     "execution_count": 120,
     "metadata": {},
     "output_type": "execute_result"
    }
   ],
   "source": [
    "df.columns"
   ]
  },
  {
   "cell_type": "code",
   "execution_count": 121,
   "id": "a6a4f4eb-c878-41ac-b21c-eefe63701263",
   "metadata": {},
   "outputs": [
    {
     "data": {
      "text/plain": [
       "(5, 4)"
      ]
     },
     "execution_count": 121,
     "metadata": {},
     "output_type": "execute_result"
    }
   ],
   "source": [
    "df.shape"
   ]
  },
  {
   "cell_type": "code",
   "execution_count": 122,
   "id": "885acf6a-0111-4ed7-9e53-7e1462459e26",
   "metadata": {},
   "outputs": [
    {
     "name": "stdout",
     "output_type": "stream",
     "text": [
      "<class 'pandas.core.frame.DataFrame'>\n",
      "Index: 5 entries, ind0 to ind4\n",
      "Data columns (total 4 columns):\n",
      " #   Column  Non-Null Count  Dtype \n",
      "---  ------  --------------  ----- \n",
      " 0   col1    5 non-null      object\n",
      " 1   col2    5 non-null      int64 \n",
      " 2   col3    5 non-null      int64 \n",
      " 3   col4    5 non-null      object\n",
      "dtypes: int64(2), object(2)\n",
      "memory usage: 200.0+ bytes\n"
     ]
    }
   ],
   "source": [
    "df.info()"
   ]
  },
  {
   "cell_type": "code",
   "execution_count": 123,
   "id": "3221fc97-21fc-437b-a1d2-1ae2f345526d",
   "metadata": {},
   "outputs": [
    {
     "data": {
      "text/plain": [
       "col1    object\n",
       "col2     int64\n",
       "col3     int64\n",
       "col4    object\n",
       "dtype: object"
      ]
     },
     "execution_count": 123,
     "metadata": {},
     "output_type": "execute_result"
    }
   ],
   "source": [
    "df.dtypes"
   ]
  },
  {
   "cell_type": "code",
   "execution_count": 124,
   "id": "49853ab5-0223-44cf-80b5-5dcbf478f0aa",
   "metadata": {},
   "outputs": [
    {
     "data": {
      "text/html": [
       "<div>\n",
       "<style scoped>\n",
       "    .dataframe tbody tr th:only-of-type {\n",
       "        vertical-align: middle;\n",
       "    }\n",
       "\n",
       "    .dataframe tbody tr th {\n",
       "        vertical-align: top;\n",
       "    }\n",
       "\n",
       "    .dataframe thead th {\n",
       "        text-align: right;\n",
       "    }\n",
       "</style>\n",
       "<table border=\"1\" class=\"dataframe\">\n",
       "  <thead>\n",
       "    <tr style=\"text-align: right;\">\n",
       "      <th></th>\n",
       "      <th>col2</th>\n",
       "      <th>col3</th>\n",
       "    </tr>\n",
       "  </thead>\n",
       "  <tbody>\n",
       "    <tr>\n",
       "      <th>count</th>\n",
       "      <td>5.000000</td>\n",
       "      <td>5.000000</td>\n",
       "    </tr>\n",
       "    <tr>\n",
       "      <th>mean</th>\n",
       "      <td>27.400000</td>\n",
       "      <td>93.000000</td>\n",
       "    </tr>\n",
       "    <tr>\n",
       "      <th>std</th>\n",
       "      <td>3.847077</td>\n",
       "      <td>3.162278</td>\n",
       "    </tr>\n",
       "    <tr>\n",
       "      <th>min</th>\n",
       "      <td>23.000000</td>\n",
       "      <td>90.000000</td>\n",
       "    </tr>\n",
       "    <tr>\n",
       "      <th>25%</th>\n",
       "      <td>24.000000</td>\n",
       "      <td>91.000000</td>\n",
       "    </tr>\n",
       "    <tr>\n",
       "      <th>50%</th>\n",
       "      <td>28.000000</td>\n",
       "      <td>92.000000</td>\n",
       "    </tr>\n",
       "    <tr>\n",
       "      <th>75%</th>\n",
       "      <td>30.000000</td>\n",
       "      <td>94.000000</td>\n",
       "    </tr>\n",
       "    <tr>\n",
       "      <th>max</th>\n",
       "      <td>32.000000</td>\n",
       "      <td>98.000000</td>\n",
       "    </tr>\n",
       "  </tbody>\n",
       "</table>\n",
       "</div>"
      ],
      "text/plain": [
       "            col2       col3\n",
       "count   5.000000   5.000000\n",
       "mean   27.400000  93.000000\n",
       "std     3.847077   3.162278\n",
       "min    23.000000  90.000000\n",
       "25%    24.000000  91.000000\n",
       "50%    28.000000  92.000000\n",
       "75%    30.000000  94.000000\n",
       "max    32.000000  98.000000"
      ]
     },
     "execution_count": 124,
     "metadata": {},
     "output_type": "execute_result"
    }
   ],
   "source": [
    "df.describe()"
   ]
  },
  {
   "cell_type": "code",
   "execution_count": 145,
   "id": "4f253ecb-cc6c-4a90-8274-a46e9468fd3e",
   "metadata": {},
   "outputs": [
    {
     "data": {
      "text/html": [
       "<div>\n",
       "<style scoped>\n",
       "    .dataframe tbody tr th:only-of-type {\n",
       "        vertical-align: middle;\n",
       "    }\n",
       "\n",
       "    .dataframe tbody tr th {\n",
       "        vertical-align: top;\n",
       "    }\n",
       "\n",
       "    .dataframe thead th {\n",
       "        text-align: right;\n",
       "    }\n",
       "</style>\n",
       "<table border=\"1\" class=\"dataframe\">\n",
       "  <thead>\n",
       "    <tr style=\"text-align: right;\">\n",
       "      <th></th>\n",
       "      <th>col1</th>\n",
       "      <th>col2</th>\n",
       "      <th>col3</th>\n",
       "      <th>col4</th>\n",
       "    </tr>\n",
       "  </thead>\n",
       "  <tbody>\n",
       "    <tr>\n",
       "      <th>0</th>\n",
       "      <td>item1</td>\n",
       "      <td>23</td>\n",
       "      <td>98</td>\n",
       "      <td>a</td>\n",
       "    </tr>\n",
       "    <tr>\n",
       "      <th>1</th>\n",
       "      <td>item2</td>\n",
       "      <td>24</td>\n",
       "      <td>92</td>\n",
       "      <td>b</td>\n",
       "    </tr>\n",
       "    <tr>\n",
       "      <th>2</th>\n",
       "      <td>item3</td>\n",
       "      <td>28</td>\n",
       "      <td>94</td>\n",
       "      <td>b</td>\n",
       "    </tr>\n",
       "    <tr>\n",
       "      <th>3</th>\n",
       "      <td>item4</td>\n",
       "      <td>30</td>\n",
       "      <td>91</td>\n",
       "      <td>a</td>\n",
       "    </tr>\n",
       "    <tr>\n",
       "      <th>4</th>\n",
       "      <td>item5</td>\n",
       "      <td>32</td>\n",
       "      <td>90</td>\n",
       "      <td>a</td>\n",
       "    </tr>\n",
       "  </tbody>\n",
       "</table>\n",
       "</div>"
      ],
      "text/plain": [
       "    col1  col2  col3 col4\n",
       "0  item1    23    98    a\n",
       "1  item2    24    92    b\n",
       "2  item3    28    94    b\n",
       "3  item4    30    91    a\n",
       "4  item5    32    90    a"
      ]
     },
     "execution_count": 145,
     "metadata": {},
     "output_type": "execute_result"
    }
   ],
   "source": [
    "df"
   ]
  },
  {
   "cell_type": "code",
   "execution_count": 146,
   "id": "74536a74-567a-427f-bc5d-32425faaf869",
   "metadata": {},
   "outputs": [
    {
     "data": {
      "text/plain": [
       "col1    object\n",
       "col2     int64\n",
       "col3     int64\n",
       "col4    object\n",
       "dtype: object"
      ]
     },
     "execution_count": 146,
     "metadata": {},
     "output_type": "execute_result"
    }
   ],
   "source": [
    "df.dtypes"
   ]
  },
  {
   "cell_type": "code",
   "execution_count": 125,
   "id": "c7c6f264-e651-4ebd-a361-db901bf06c68",
   "metadata": {},
   "outputs": [
    {
     "data": {
      "text/html": [
       "<div>\n",
       "<style scoped>\n",
       "    .dataframe tbody tr th:only-of-type {\n",
       "        vertical-align: middle;\n",
       "    }\n",
       "\n",
       "    .dataframe tbody tr th {\n",
       "        vertical-align: top;\n",
       "    }\n",
       "\n",
       "    .dataframe thead th {\n",
       "        text-align: right;\n",
       "    }\n",
       "</style>\n",
       "<table border=\"1\" class=\"dataframe\">\n",
       "  <thead>\n",
       "    <tr style=\"text-align: right;\">\n",
       "      <th></th>\n",
       "      <th>col1</th>\n",
       "      <th>col4</th>\n",
       "    </tr>\n",
       "  </thead>\n",
       "  <tbody>\n",
       "    <tr>\n",
       "      <th>count</th>\n",
       "      <td>5</td>\n",
       "      <td>5</td>\n",
       "    </tr>\n",
       "    <tr>\n",
       "      <th>unique</th>\n",
       "      <td>5</td>\n",
       "      <td>2</td>\n",
       "    </tr>\n",
       "    <tr>\n",
       "      <th>top</th>\n",
       "      <td>item1</td>\n",
       "      <td>a</td>\n",
       "    </tr>\n",
       "    <tr>\n",
       "      <th>freq</th>\n",
       "      <td>1</td>\n",
       "      <td>3</td>\n",
       "    </tr>\n",
       "  </tbody>\n",
       "</table>\n",
       "</div>"
      ],
      "text/plain": [
       "         col1 col4\n",
       "count       5    5\n",
       "unique      5    2\n",
       "top     item1    a\n",
       "freq        1    3"
      ]
     },
     "execution_count": 125,
     "metadata": {},
     "output_type": "execute_result"
    }
   ],
   "source": [
    "df.describe(include='O')"
   ]
  },
  {
   "cell_type": "code",
   "execution_count": 126,
   "id": "362668b8-45ed-43c7-b9da-1fc0ffe1f48f",
   "metadata": {},
   "outputs": [
    {
     "data": {
      "text/html": [
       "<div>\n",
       "<style scoped>\n",
       "    .dataframe tbody tr th:only-of-type {\n",
       "        vertical-align: middle;\n",
       "    }\n",
       "\n",
       "    .dataframe tbody tr th {\n",
       "        vertical-align: top;\n",
       "    }\n",
       "\n",
       "    .dataframe thead th {\n",
       "        text-align: right;\n",
       "    }\n",
       "</style>\n",
       "<table border=\"1\" class=\"dataframe\">\n",
       "  <thead>\n",
       "    <tr style=\"text-align: right;\">\n",
       "      <th></th>\n",
       "      <th>col1</th>\n",
       "      <th>col4</th>\n",
       "    </tr>\n",
       "  </thead>\n",
       "  <tbody>\n",
       "    <tr>\n",
       "      <th>count</th>\n",
       "      <td>5</td>\n",
       "      <td>5</td>\n",
       "    </tr>\n",
       "    <tr>\n",
       "      <th>unique</th>\n",
       "      <td>5</td>\n",
       "      <td>2</td>\n",
       "    </tr>\n",
       "    <tr>\n",
       "      <th>top</th>\n",
       "      <td>item1</td>\n",
       "      <td>a</td>\n",
       "    </tr>\n",
       "    <tr>\n",
       "      <th>freq</th>\n",
       "      <td>1</td>\n",
       "      <td>3</td>\n",
       "    </tr>\n",
       "  </tbody>\n",
       "</table>\n",
       "</div>"
      ],
      "text/plain": [
       "         col1 col4\n",
       "count       5    5\n",
       "unique      5    2\n",
       "top     item1    a\n",
       "freq        1    3"
      ]
     },
     "execution_count": 126,
     "metadata": {},
     "output_type": "execute_result"
    }
   ],
   "source": [
    "df.describe(include='object')"
   ]
  },
  {
   "cell_type": "code",
   "execution_count": 129,
   "id": "e1708130-21ec-470d-bd42-d0eac3befd92",
   "metadata": {},
   "outputs": [
    {
     "data": {
      "text/html": [
       "<div>\n",
       "<style scoped>\n",
       "    .dataframe tbody tr th:only-of-type {\n",
       "        vertical-align: middle;\n",
       "    }\n",
       "\n",
       "    .dataframe tbody tr th {\n",
       "        vertical-align: top;\n",
       "    }\n",
       "\n",
       "    .dataframe thead th {\n",
       "        text-align: right;\n",
       "    }\n",
       "</style>\n",
       "<table border=\"1\" class=\"dataframe\">\n",
       "  <thead>\n",
       "    <tr style=\"text-align: right;\">\n",
       "      <th></th>\n",
       "      <th>col1</th>\n",
       "      <th>col2</th>\n",
       "      <th>col3</th>\n",
       "      <th>col4</th>\n",
       "    </tr>\n",
       "  </thead>\n",
       "  <tbody>\n",
       "    <tr>\n",
       "      <th>ind0</th>\n",
       "      <td>item1</td>\n",
       "      <td>23</td>\n",
       "      <td>98</td>\n",
       "      <td>a</td>\n",
       "    </tr>\n",
       "    <tr>\n",
       "      <th>ind1</th>\n",
       "      <td>item2</td>\n",
       "      <td>24</td>\n",
       "      <td>92</td>\n",
       "      <td>b</td>\n",
       "    </tr>\n",
       "    <tr>\n",
       "      <th>ind2</th>\n",
       "      <td>item3</td>\n",
       "      <td>28</td>\n",
       "      <td>94</td>\n",
       "      <td>b</td>\n",
       "    </tr>\n",
       "    <tr>\n",
       "      <th>ind3</th>\n",
       "      <td>item4</td>\n",
       "      <td>30</td>\n",
       "      <td>91</td>\n",
       "      <td>a</td>\n",
       "    </tr>\n",
       "    <tr>\n",
       "      <th>ind4</th>\n",
       "      <td>item5</td>\n",
       "      <td>32</td>\n",
       "      <td>90</td>\n",
       "      <td>a</td>\n",
       "    </tr>\n",
       "  </tbody>\n",
       "</table>\n",
       "</div>"
      ],
      "text/plain": [
       "       col1  col2  col3 col4\n",
       "ind0  item1    23    98    a\n",
       "ind1  item2    24    92    b\n",
       "ind2  item3    28    94    b\n",
       "ind3  item4    30    91    a\n",
       "ind4  item5    32    90    a"
      ]
     },
     "execution_count": 129,
     "metadata": {},
     "output_type": "execute_result"
    }
   ],
   "source": [
    "df.head()  # by default first 5 records are populated"
   ]
  },
  {
   "cell_type": "code",
   "execution_count": 131,
   "id": "1776caae-66ba-4199-a450-7ac9c7b265b4",
   "metadata": {},
   "outputs": [
    {
     "data": {
      "text/html": [
       "<div>\n",
       "<style scoped>\n",
       "    .dataframe tbody tr th:only-of-type {\n",
       "        vertical-align: middle;\n",
       "    }\n",
       "\n",
       "    .dataframe tbody tr th {\n",
       "        vertical-align: top;\n",
       "    }\n",
       "\n",
       "    .dataframe thead th {\n",
       "        text-align: right;\n",
       "    }\n",
       "</style>\n",
       "<table border=\"1\" class=\"dataframe\">\n",
       "  <thead>\n",
       "    <tr style=\"text-align: right;\">\n",
       "      <th></th>\n",
       "      <th>col1</th>\n",
       "      <th>col2</th>\n",
       "      <th>col3</th>\n",
       "      <th>col4</th>\n",
       "    </tr>\n",
       "  </thead>\n",
       "  <tbody>\n",
       "    <tr>\n",
       "      <th>ind0</th>\n",
       "      <td>item1</td>\n",
       "      <td>23</td>\n",
       "      <td>98</td>\n",
       "      <td>a</td>\n",
       "    </tr>\n",
       "    <tr>\n",
       "      <th>ind1</th>\n",
       "      <td>item2</td>\n",
       "      <td>24</td>\n",
       "      <td>92</td>\n",
       "      <td>b</td>\n",
       "    </tr>\n",
       "    <tr>\n",
       "      <th>ind2</th>\n",
       "      <td>item3</td>\n",
       "      <td>28</td>\n",
       "      <td>94</td>\n",
       "      <td>b</td>\n",
       "    </tr>\n",
       "    <tr>\n",
       "      <th>ind3</th>\n",
       "      <td>item4</td>\n",
       "      <td>30</td>\n",
       "      <td>91</td>\n",
       "      <td>a</td>\n",
       "    </tr>\n",
       "    <tr>\n",
       "      <th>ind4</th>\n",
       "      <td>item5</td>\n",
       "      <td>32</td>\n",
       "      <td>90</td>\n",
       "      <td>a</td>\n",
       "    </tr>\n",
       "  </tbody>\n",
       "</table>\n",
       "</div>"
      ],
      "text/plain": [
       "       col1  col2  col3 col4\n",
       "ind0  item1    23    98    a\n",
       "ind1  item2    24    92    b\n",
       "ind2  item3    28    94    b\n",
       "ind3  item4    30    91    a\n",
       "ind4  item5    32    90    a"
      ]
     },
     "execution_count": 131,
     "metadata": {},
     "output_type": "execute_result"
    }
   ],
   "source": [
    "df.tail() # by default last 5 records are populated"
   ]
  },
  {
   "cell_type": "code",
   "execution_count": 132,
   "id": "eeabeaeb-f5fc-42ae-81d4-ab978c6177b8",
   "metadata": {},
   "outputs": [
    {
     "data": {
      "text/html": [
       "<div>\n",
       "<style scoped>\n",
       "    .dataframe tbody tr th:only-of-type {\n",
       "        vertical-align: middle;\n",
       "    }\n",
       "\n",
       "    .dataframe tbody tr th {\n",
       "        vertical-align: top;\n",
       "    }\n",
       "\n",
       "    .dataframe thead th {\n",
       "        text-align: right;\n",
       "    }\n",
       "</style>\n",
       "<table border=\"1\" class=\"dataframe\">\n",
       "  <thead>\n",
       "    <tr style=\"text-align: right;\">\n",
       "      <th></th>\n",
       "      <th>col1</th>\n",
       "      <th>col2</th>\n",
       "      <th>col3</th>\n",
       "      <th>col4</th>\n",
       "    </tr>\n",
       "  </thead>\n",
       "  <tbody>\n",
       "    <tr>\n",
       "      <th>ind0</th>\n",
       "      <td>item1</td>\n",
       "      <td>23</td>\n",
       "      <td>98</td>\n",
       "      <td>a</td>\n",
       "    </tr>\n",
       "    <tr>\n",
       "      <th>ind1</th>\n",
       "      <td>item2</td>\n",
       "      <td>24</td>\n",
       "      <td>92</td>\n",
       "      <td>b</td>\n",
       "    </tr>\n",
       "  </tbody>\n",
       "</table>\n",
       "</div>"
      ],
      "text/plain": [
       "       col1  col2  col3 col4\n",
       "ind0  item1    23    98    a\n",
       "ind1  item2    24    92    b"
      ]
     },
     "execution_count": 132,
     "metadata": {},
     "output_type": "execute_result"
    }
   ],
   "source": [
    "df.head(2)  # by default first 5 records are populated"
   ]
  },
  {
   "cell_type": "code",
   "execution_count": 133,
   "id": "2931e7d6-edf1-4e32-b7bc-a4f950b82672",
   "metadata": {},
   "outputs": [
    {
     "data": {
      "text/html": [
       "<div>\n",
       "<style scoped>\n",
       "    .dataframe tbody tr th:only-of-type {\n",
       "        vertical-align: middle;\n",
       "    }\n",
       "\n",
       "    .dataframe tbody tr th {\n",
       "        vertical-align: top;\n",
       "    }\n",
       "\n",
       "    .dataframe thead th {\n",
       "        text-align: right;\n",
       "    }\n",
       "</style>\n",
       "<table border=\"1\" class=\"dataframe\">\n",
       "  <thead>\n",
       "    <tr style=\"text-align: right;\">\n",
       "      <th></th>\n",
       "      <th>col1</th>\n",
       "      <th>col2</th>\n",
       "      <th>col3</th>\n",
       "      <th>col4</th>\n",
       "    </tr>\n",
       "  </thead>\n",
       "  <tbody>\n",
       "    <tr>\n",
       "      <th>ind2</th>\n",
       "      <td>item3</td>\n",
       "      <td>28</td>\n",
       "      <td>94</td>\n",
       "      <td>b</td>\n",
       "    </tr>\n",
       "    <tr>\n",
       "      <th>ind3</th>\n",
       "      <td>item4</td>\n",
       "      <td>30</td>\n",
       "      <td>91</td>\n",
       "      <td>a</td>\n",
       "    </tr>\n",
       "    <tr>\n",
       "      <th>ind4</th>\n",
       "      <td>item5</td>\n",
       "      <td>32</td>\n",
       "      <td>90</td>\n",
       "      <td>a</td>\n",
       "    </tr>\n",
       "  </tbody>\n",
       "</table>\n",
       "</div>"
      ],
      "text/plain": [
       "       col1  col2  col3 col4\n",
       "ind2  item3    28    94    b\n",
       "ind3  item4    30    91    a\n",
       "ind4  item5    32    90    a"
      ]
     },
     "execution_count": 133,
     "metadata": {},
     "output_type": "execute_result"
    }
   ],
   "source": [
    "df.tail(3)  # by default first 5 records are populated"
   ]
  },
  {
   "cell_type": "markdown",
   "id": "9f4d245d-0321-4289-b326-e5615ded69b1",
   "metadata": {},
   "source": [
    "### Subsetting a dataframe"
   ]
  },
  {
   "cell_type": "code",
   "execution_count": 148,
   "id": "0ca34f5c-8faf-4af8-9ffe-dc2f616f48d0",
   "metadata": {},
   "outputs": [],
   "source": [
    "df = pd.DataFrame({'col1':['item'+str(i) for i in range(1,6)], 'col2': [23, 24, 28, 30, 32], 'col3': [98,92,94,91,90], 'col4': ['a', 'b', 'b', 'a', 'a']}, index = ['ind' + str(i) for i in range(5)])"
   ]
  },
  {
   "cell_type": "code",
   "execution_count": 149,
   "id": "1286cbf4-22de-4702-8778-e10c4b207f18",
   "metadata": {},
   "outputs": [
    {
     "data": {
      "text/html": [
       "<div>\n",
       "<style scoped>\n",
       "    .dataframe tbody tr th:only-of-type {\n",
       "        vertical-align: middle;\n",
       "    }\n",
       "\n",
       "    .dataframe tbody tr th {\n",
       "        vertical-align: top;\n",
       "    }\n",
       "\n",
       "    .dataframe thead th {\n",
       "        text-align: right;\n",
       "    }\n",
       "</style>\n",
       "<table border=\"1\" class=\"dataframe\">\n",
       "  <thead>\n",
       "    <tr style=\"text-align: right;\">\n",
       "      <th></th>\n",
       "      <th>col1</th>\n",
       "      <th>col2</th>\n",
       "      <th>col3</th>\n",
       "      <th>col4</th>\n",
       "    </tr>\n",
       "  </thead>\n",
       "  <tbody>\n",
       "    <tr>\n",
       "      <th>ind0</th>\n",
       "      <td>item1</td>\n",
       "      <td>23</td>\n",
       "      <td>98</td>\n",
       "      <td>a</td>\n",
       "    </tr>\n",
       "    <tr>\n",
       "      <th>ind1</th>\n",
       "      <td>item2</td>\n",
       "      <td>24</td>\n",
       "      <td>92</td>\n",
       "      <td>b</td>\n",
       "    </tr>\n",
       "    <tr>\n",
       "      <th>ind2</th>\n",
       "      <td>item3</td>\n",
       "      <td>28</td>\n",
       "      <td>94</td>\n",
       "      <td>b</td>\n",
       "    </tr>\n",
       "    <tr>\n",
       "      <th>ind3</th>\n",
       "      <td>item4</td>\n",
       "      <td>30</td>\n",
       "      <td>91</td>\n",
       "      <td>a</td>\n",
       "    </tr>\n",
       "    <tr>\n",
       "      <th>ind4</th>\n",
       "      <td>item5</td>\n",
       "      <td>32</td>\n",
       "      <td>90</td>\n",
       "      <td>a</td>\n",
       "    </tr>\n",
       "  </tbody>\n",
       "</table>\n",
       "</div>"
      ],
      "text/plain": [
       "       col1  col2  col3 col4\n",
       "ind0  item1    23    98    a\n",
       "ind1  item2    24    92    b\n",
       "ind2  item3    28    94    b\n",
       "ind3  item4    30    91    a\n",
       "ind4  item5    32    90    a"
      ]
     },
     "execution_count": 149,
     "metadata": {},
     "output_type": "execute_result"
    }
   ],
   "source": [
    "df"
   ]
  },
  {
   "cell_type": "code",
   "execution_count": null,
   "id": "923d9406-b5a5-4623-8854-814e4bce742a",
   "metadata": {},
   "outputs": [],
   "source": [
    "loc - to subset based on row and column labels\n",
    "iloc - to subset based on row and column integer index values"
   ]
  },
  {
   "cell_type": "code",
   "execution_count": 150,
   "id": "0c0d04a7-ac32-4125-9040-9860d0a9693b",
   "metadata": {},
   "outputs": [
    {
     "data": {
      "text/html": [
       "<div>\n",
       "<style scoped>\n",
       "    .dataframe tbody tr th:only-of-type {\n",
       "        vertical-align: middle;\n",
       "    }\n",
       "\n",
       "    .dataframe tbody tr th {\n",
       "        vertical-align: top;\n",
       "    }\n",
       "\n",
       "    .dataframe thead th {\n",
       "        text-align: right;\n",
       "    }\n",
       "</style>\n",
       "<table border=\"1\" class=\"dataframe\">\n",
       "  <thead>\n",
       "    <tr style=\"text-align: right;\">\n",
       "      <th></th>\n",
       "      <th>col1</th>\n",
       "      <th>col3</th>\n",
       "    </tr>\n",
       "  </thead>\n",
       "  <tbody>\n",
       "    <tr>\n",
       "      <th>ind1</th>\n",
       "      <td>item2</td>\n",
       "      <td>92</td>\n",
       "    </tr>\n",
       "    <tr>\n",
       "      <th>ind4</th>\n",
       "      <td>item5</td>\n",
       "      <td>90</td>\n",
       "    </tr>\n",
       "  </tbody>\n",
       "</table>\n",
       "</div>"
      ],
      "text/plain": [
       "       col1  col3\n",
       "ind1  item2    92\n",
       "ind4  item5    90"
      ]
     },
     "execution_count": 150,
     "metadata": {},
     "output_type": "execute_result"
    }
   ],
   "source": [
    "df.loc[['ind1', 'ind4'],['col1', 'col3']]"
   ]
  },
  {
   "cell_type": "code",
   "execution_count": 151,
   "id": "7d23c212-86b3-432e-b1c1-4d9cff443072",
   "metadata": {},
   "outputs": [
    {
     "data": {
      "text/html": [
       "<div>\n",
       "<style scoped>\n",
       "    .dataframe tbody tr th:only-of-type {\n",
       "        vertical-align: middle;\n",
       "    }\n",
       "\n",
       "    .dataframe tbody tr th {\n",
       "        vertical-align: top;\n",
       "    }\n",
       "\n",
       "    .dataframe thead th {\n",
       "        text-align: right;\n",
       "    }\n",
       "</style>\n",
       "<table border=\"1\" class=\"dataframe\">\n",
       "  <thead>\n",
       "    <tr style=\"text-align: right;\">\n",
       "      <th></th>\n",
       "      <th>col1</th>\n",
       "      <th>col3</th>\n",
       "    </tr>\n",
       "  </thead>\n",
       "  <tbody>\n",
       "    <tr>\n",
       "      <th>ind1</th>\n",
       "      <td>item2</td>\n",
       "      <td>92</td>\n",
       "    </tr>\n",
       "    <tr>\n",
       "      <th>ind4</th>\n",
       "      <td>item5</td>\n",
       "      <td>90</td>\n",
       "    </tr>\n",
       "  </tbody>\n",
       "</table>\n",
       "</div>"
      ],
      "text/plain": [
       "       col1  col3\n",
       "ind1  item2    92\n",
       "ind4  item5    90"
      ]
     },
     "execution_count": 151,
     "metadata": {},
     "output_type": "execute_result"
    }
   ],
   "source": [
    "df.iloc[[1,4],[0,2]]"
   ]
  },
  {
   "cell_type": "code",
   "execution_count": 152,
   "id": "ccdb7851-2d7b-4570-ac7c-4a94e59623de",
   "metadata": {},
   "outputs": [
    {
     "data": {
      "text/html": [
       "<div>\n",
       "<style scoped>\n",
       "    .dataframe tbody tr th:only-of-type {\n",
       "        vertical-align: middle;\n",
       "    }\n",
       "\n",
       "    .dataframe tbody tr th {\n",
       "        vertical-align: top;\n",
       "    }\n",
       "\n",
       "    .dataframe thead th {\n",
       "        text-align: right;\n",
       "    }\n",
       "</style>\n",
       "<table border=\"1\" class=\"dataframe\">\n",
       "  <thead>\n",
       "    <tr style=\"text-align: right;\">\n",
       "      <th></th>\n",
       "      <th>col1</th>\n",
       "      <th>col2</th>\n",
       "      <th>col3</th>\n",
       "      <th>col4</th>\n",
       "    </tr>\n",
       "  </thead>\n",
       "  <tbody>\n",
       "    <tr>\n",
       "      <th>ind1</th>\n",
       "      <td>item2</td>\n",
       "      <td>24</td>\n",
       "      <td>92</td>\n",
       "      <td>b</td>\n",
       "    </tr>\n",
       "    <tr>\n",
       "      <th>ind4</th>\n",
       "      <td>item5</td>\n",
       "      <td>32</td>\n",
       "      <td>90</td>\n",
       "      <td>a</td>\n",
       "    </tr>\n",
       "  </tbody>\n",
       "</table>\n",
       "</div>"
      ],
      "text/plain": [
       "       col1  col2  col3 col4\n",
       "ind1  item2    24    92    b\n",
       "ind4  item5    32    90    a"
      ]
     },
     "execution_count": 152,
     "metadata": {},
     "output_type": "execute_result"
    }
   ],
   "source": [
    "df.iloc[[1,4],:]"
   ]
  },
  {
   "cell_type": "code",
   "execution_count": 153,
   "id": "44218496-0674-4b80-a466-1a47b05d157f",
   "metadata": {},
   "outputs": [
    {
     "data": {
      "text/html": [
       "<div>\n",
       "<style scoped>\n",
       "    .dataframe tbody tr th:only-of-type {\n",
       "        vertical-align: middle;\n",
       "    }\n",
       "\n",
       "    .dataframe tbody tr th {\n",
       "        vertical-align: top;\n",
       "    }\n",
       "\n",
       "    .dataframe thead th {\n",
       "        text-align: right;\n",
       "    }\n",
       "</style>\n",
       "<table border=\"1\" class=\"dataframe\">\n",
       "  <thead>\n",
       "    <tr style=\"text-align: right;\">\n",
       "      <th></th>\n",
       "      <th>col1</th>\n",
       "      <th>col3</th>\n",
       "    </tr>\n",
       "  </thead>\n",
       "  <tbody>\n",
       "    <tr>\n",
       "      <th>ind0</th>\n",
       "      <td>item1</td>\n",
       "      <td>98</td>\n",
       "    </tr>\n",
       "    <tr>\n",
       "      <th>ind1</th>\n",
       "      <td>item2</td>\n",
       "      <td>92</td>\n",
       "    </tr>\n",
       "    <tr>\n",
       "      <th>ind2</th>\n",
       "      <td>item3</td>\n",
       "      <td>94</td>\n",
       "    </tr>\n",
       "    <tr>\n",
       "      <th>ind3</th>\n",
       "      <td>item4</td>\n",
       "      <td>91</td>\n",
       "    </tr>\n",
       "    <tr>\n",
       "      <th>ind4</th>\n",
       "      <td>item5</td>\n",
       "      <td>90</td>\n",
       "    </tr>\n",
       "  </tbody>\n",
       "</table>\n",
       "</div>"
      ],
      "text/plain": [
       "       col1  col3\n",
       "ind0  item1    98\n",
       "ind1  item2    92\n",
       "ind2  item3    94\n",
       "ind3  item4    91\n",
       "ind4  item5    90"
      ]
     },
     "execution_count": 153,
     "metadata": {},
     "output_type": "execute_result"
    }
   ],
   "source": [
    "df.iloc[:,[0,2]]"
   ]
  },
  {
   "cell_type": "code",
   "execution_count": 155,
   "id": "4cb03e18-3fb0-49b2-83df-c9f9b88bf444",
   "metadata": {},
   "outputs": [
    {
     "data": {
      "text/html": [
       "<div>\n",
       "<style scoped>\n",
       "    .dataframe tbody tr th:only-of-type {\n",
       "        vertical-align: middle;\n",
       "    }\n",
       "\n",
       "    .dataframe tbody tr th {\n",
       "        vertical-align: top;\n",
       "    }\n",
       "\n",
       "    .dataframe thead th {\n",
       "        text-align: right;\n",
       "    }\n",
       "</style>\n",
       "<table border=\"1\" class=\"dataframe\">\n",
       "  <thead>\n",
       "    <tr style=\"text-align: right;\">\n",
       "      <th></th>\n",
       "      <th>col2</th>\n",
       "      <th>col3</th>\n",
       "      <th>col4</th>\n",
       "    </tr>\n",
       "  </thead>\n",
       "  <tbody>\n",
       "    <tr>\n",
       "      <th>ind1</th>\n",
       "      <td>24</td>\n",
       "      <td>92</td>\n",
       "      <td>b</td>\n",
       "    </tr>\n",
       "    <tr>\n",
       "      <th>ind4</th>\n",
       "      <td>32</td>\n",
       "      <td>90</td>\n",
       "      <td>a</td>\n",
       "    </tr>\n",
       "  </tbody>\n",
       "</table>\n",
       "</div>"
      ],
      "text/plain": [
       "      col2  col3 col4\n",
       "ind1    24    92    b\n",
       "ind4    32    90    a"
      ]
     },
     "execution_count": 155,
     "metadata": {},
     "output_type": "execute_result"
    }
   ],
   "source": [
    "df.iloc[[1,4],1:]"
   ]
  },
  {
   "cell_type": "code",
   "execution_count": 156,
   "id": "2e678607-9e15-4040-a69e-ce7ddca65097",
   "metadata": {},
   "outputs": [
    {
     "data": {
      "text/html": [
       "<div>\n",
       "<style scoped>\n",
       "    .dataframe tbody tr th:only-of-type {\n",
       "        vertical-align: middle;\n",
       "    }\n",
       "\n",
       "    .dataframe tbody tr th {\n",
       "        vertical-align: top;\n",
       "    }\n",
       "\n",
       "    .dataframe thead th {\n",
       "        text-align: right;\n",
       "    }\n",
       "</style>\n",
       "<table border=\"1\" class=\"dataframe\">\n",
       "  <thead>\n",
       "    <tr style=\"text-align: right;\">\n",
       "      <th></th>\n",
       "      <th>col1</th>\n",
       "      <th>col2</th>\n",
       "      <th>col3</th>\n",
       "    </tr>\n",
       "  </thead>\n",
       "  <tbody>\n",
       "    <tr>\n",
       "      <th>ind1</th>\n",
       "      <td>item2</td>\n",
       "      <td>24</td>\n",
       "      <td>92</td>\n",
       "    </tr>\n",
       "    <tr>\n",
       "      <th>ind4</th>\n",
       "      <td>item5</td>\n",
       "      <td>32</td>\n",
       "      <td>90</td>\n",
       "    </tr>\n",
       "  </tbody>\n",
       "</table>\n",
       "</div>"
      ],
      "text/plain": [
       "       col1  col2  col3\n",
       "ind1  item2    24    92\n",
       "ind4  item5    32    90"
      ]
     },
     "execution_count": 156,
     "metadata": {},
     "output_type": "execute_result"
    }
   ],
   "source": [
    "df.iloc[[1,4],:3]"
   ]
  },
  {
   "cell_type": "code",
   "execution_count": 158,
   "id": "a6d4afb0-019c-45a9-a241-e176369d2b2c",
   "metadata": {},
   "outputs": [
    {
     "data": {
      "text/html": [
       "<div>\n",
       "<style scoped>\n",
       "    .dataframe tbody tr th:only-of-type {\n",
       "        vertical-align: middle;\n",
       "    }\n",
       "\n",
       "    .dataframe tbody tr th {\n",
       "        vertical-align: top;\n",
       "    }\n",
       "\n",
       "    .dataframe thead th {\n",
       "        text-align: right;\n",
       "    }\n",
       "</style>\n",
       "<table border=\"1\" class=\"dataframe\">\n",
       "  <thead>\n",
       "    <tr style=\"text-align: right;\">\n",
       "      <th></th>\n",
       "      <th>col1</th>\n",
       "      <th>col3</th>\n",
       "    </tr>\n",
       "  </thead>\n",
       "  <tbody>\n",
       "    <tr>\n",
       "      <th>ind2</th>\n",
       "      <td>item3</td>\n",
       "      <td>94</td>\n",
       "    </tr>\n",
       "    <tr>\n",
       "      <th>ind3</th>\n",
       "      <td>item4</td>\n",
       "      <td>91</td>\n",
       "    </tr>\n",
       "    <tr>\n",
       "      <th>ind4</th>\n",
       "      <td>item5</td>\n",
       "      <td>90</td>\n",
       "    </tr>\n",
       "  </tbody>\n",
       "</table>\n",
       "</div>"
      ],
      "text/plain": [
       "       col1  col3\n",
       "ind2  item3    94\n",
       "ind3  item4    91\n",
       "ind4  item5    90"
      ]
     },
     "execution_count": 158,
     "metadata": {},
     "output_type": "execute_result"
    }
   ],
   "source": [
    "df.loc[df.col2>25,['col1', 'col3']]"
   ]
  },
  {
   "cell_type": "code",
   "execution_count": 159,
   "id": "c07c2159-44eb-4e63-a2c8-d74a7415f490",
   "metadata": {},
   "outputs": [
    {
     "data": {
      "text/plain": [
       "ind0    23\n",
       "ind1    24\n",
       "ind2    28\n",
       "ind3    30\n",
       "ind4    32\n",
       "Name: col2, dtype: int64"
      ]
     },
     "execution_count": 159,
     "metadata": {},
     "output_type": "execute_result"
    }
   ],
   "source": [
    "df.col2"
   ]
  },
  {
   "cell_type": "code",
   "execution_count": 160,
   "id": "61c693dc-5965-4456-94a9-60de6da3c0df",
   "metadata": {},
   "outputs": [
    {
     "data": {
      "text/plain": [
       "ind0    False\n",
       "ind1    False\n",
       "ind2     True\n",
       "ind3     True\n",
       "ind4     True\n",
       "Name: col2, dtype: bool"
      ]
     },
     "execution_count": 160,
     "metadata": {},
     "output_type": "execute_result"
    }
   ],
   "source": [
    "df.col2>25"
   ]
  },
  {
   "cell_type": "code",
   "execution_count": 161,
   "id": "1e1f036a-e0d4-4cf8-9da3-741ab6df08bb",
   "metadata": {},
   "outputs": [
    {
     "data": {
      "text/plain": [
       "ind2    28\n",
       "ind3    30\n",
       "ind4    32\n",
       "Name: col2, dtype: int64"
      ]
     },
     "execution_count": 161,
     "metadata": {},
     "output_type": "execute_result"
    }
   ],
   "source": [
    "df.col2[df.col2>25]"
   ]
  },
  {
   "cell_type": "code",
   "execution_count": 162,
   "id": "0a3c8118-1b44-4585-ae2b-21e49bdcc7fb",
   "metadata": {},
   "outputs": [
    {
     "data": {
      "text/html": [
       "<div>\n",
       "<style scoped>\n",
       "    .dataframe tbody tr th:only-of-type {\n",
       "        vertical-align: middle;\n",
       "    }\n",
       "\n",
       "    .dataframe tbody tr th {\n",
       "        vertical-align: top;\n",
       "    }\n",
       "\n",
       "    .dataframe thead th {\n",
       "        text-align: right;\n",
       "    }\n",
       "</style>\n",
       "<table border=\"1\" class=\"dataframe\">\n",
       "  <thead>\n",
       "    <tr style=\"text-align: right;\">\n",
       "      <th></th>\n",
       "      <th>col1</th>\n",
       "      <th>col2</th>\n",
       "      <th>col3</th>\n",
       "      <th>col4</th>\n",
       "    </tr>\n",
       "  </thead>\n",
       "  <tbody>\n",
       "    <tr>\n",
       "      <th>ind2</th>\n",
       "      <td>item3</td>\n",
       "      <td>28</td>\n",
       "      <td>94</td>\n",
       "      <td>b</td>\n",
       "    </tr>\n",
       "    <tr>\n",
       "      <th>ind3</th>\n",
       "      <td>item4</td>\n",
       "      <td>30</td>\n",
       "      <td>91</td>\n",
       "      <td>a</td>\n",
       "    </tr>\n",
       "    <tr>\n",
       "      <th>ind4</th>\n",
       "      <td>item5</td>\n",
       "      <td>32</td>\n",
       "      <td>90</td>\n",
       "      <td>a</td>\n",
       "    </tr>\n",
       "  </tbody>\n",
       "</table>\n",
       "</div>"
      ],
      "text/plain": [
       "       col1  col2  col3 col4\n",
       "ind2  item3    28    94    b\n",
       "ind3  item4    30    91    a\n",
       "ind4  item5    32    90    a"
      ]
     },
     "execution_count": 162,
     "metadata": {},
     "output_type": "execute_result"
    }
   ],
   "source": [
    "df.loc[df.col2>25,:]"
   ]
  },
  {
   "cell_type": "code",
   "execution_count": 163,
   "id": "f4ed86ed-6486-4d56-a559-31d9259b0c59",
   "metadata": {},
   "outputs": [
    {
     "data": {
      "text/html": [
       "<div>\n",
       "<style scoped>\n",
       "    .dataframe tbody tr th:only-of-type {\n",
       "        vertical-align: middle;\n",
       "    }\n",
       "\n",
       "    .dataframe tbody tr th {\n",
       "        vertical-align: top;\n",
       "    }\n",
       "\n",
       "    .dataframe thead th {\n",
       "        text-align: right;\n",
       "    }\n",
       "</style>\n",
       "<table border=\"1\" class=\"dataframe\">\n",
       "  <thead>\n",
       "    <tr style=\"text-align: right;\">\n",
       "      <th></th>\n",
       "      <th>col1</th>\n",
       "      <th>col2</th>\n",
       "      <th>col3</th>\n",
       "      <th>col4</th>\n",
       "    </tr>\n",
       "  </thead>\n",
       "  <tbody>\n",
       "    <tr>\n",
       "      <th>ind3</th>\n",
       "      <td>item4</td>\n",
       "      <td>30</td>\n",
       "      <td>91</td>\n",
       "      <td>a</td>\n",
       "    </tr>\n",
       "    <tr>\n",
       "      <th>ind4</th>\n",
       "      <td>item5</td>\n",
       "      <td>32</td>\n",
       "      <td>90</td>\n",
       "      <td>a</td>\n",
       "    </tr>\n",
       "  </tbody>\n",
       "</table>\n",
       "</div>"
      ],
      "text/plain": [
       "       col1  col2  col3 col4\n",
       "ind3  item4    30    91    a\n",
       "ind4  item5    32    90    a"
      ]
     },
     "execution_count": 163,
     "metadata": {},
     "output_type": "execute_result"
    }
   ],
   "source": [
    "# subset df for those records where col2 has values more than 25, and col4 values should be 'a' only\n",
    "\n",
    "df.loc[(df.col2>25) & (df.col4=='a'),:]"
   ]
  },
  {
   "cell_type": "code",
   "execution_count": null,
   "id": "b8e48742-5dc7-4e39-9c2f-b55f2768f942",
   "metadata": {},
   "outputs": [],
   "source": []
  }
 ],
 "metadata": {
  "kernelspec": {
   "display_name": "Python 3 [3.10]",
   "language": "python",
   "name": "python3"
  },
  "language_info": {
   "codemirror_mode": {
    "name": "ipython",
    "version": 3
   },
   "file_extension": ".py",
   "mimetype": "text/x-python",
   "name": "python",
   "nbconvert_exporter": "python",
   "pygments_lexer": "ipython3",
   "version": "3.10.2"
  }
 },
 "nbformat": 4,
 "nbformat_minor": 5
}
