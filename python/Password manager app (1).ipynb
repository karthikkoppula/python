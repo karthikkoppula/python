{
 "cells": [
  {
   "cell_type": "code",
   "execution_count": 25,
   "id": "f8486ae1-68e2-4ea9-9b29-2f929454dafb",
   "metadata": {},
   "outputs": [],
   "source": [
    "def menu():\n",
    "    print(\"IT Support Password Management Application\")\n",
    "    print(\"*\"*50)\n",
    "    \n",
    "    print(\"\\t1. Display all use accounts\")\n",
    "    print(\"\\t2. Create new user accounts\")\n",
    "    print(\"\\t3. Update user password\")\n",
    "    print(\"\\t4. Unlock user account\")\n",
    "    print(\"\\t5. Exit application\")\n",
    "    \n",
    "    option = int(input(\"Enter your option [1-5]: \"))\n",
    "    \n",
    "    return option"
   ]
  },
  {
   "cell_type": "code",
   "execution_count": 6,
   "id": "01b42d98-b760-4c07-869b-28d951c0e709",
   "metadata": {},
   "outputs": [
    {
     "name": "stdout",
     "output_type": "stream",
     "text": [
      "IT Support Password Management Application\n",
      "**************************************************\n",
      "\t1. Display all use accounts\n",
      "\t2. Create new user accounts\n",
      "\t3. Update user password\n",
      "\t4. Unlock user account\n",
      "\t5. Exit application\n"
     ]
    },
    {
     "name": "stdin",
     "output_type": "stream",
     "text": [
      "Enter your option [1-5]:  1\n"
     ]
    },
    {
     "data": {
      "text/plain": [
       "'1'"
      ]
     },
     "execution_count": 6,
     "metadata": {},
     "output_type": "execute_result"
    }
   ],
   "source": [
    "menu()"
   ]
  },
  {
   "cell_type": "code",
   "execution_count": 13,
   "id": "ab6f7be9-81dd-4a7f-b7d4-cdb9e7f2b0b0",
   "metadata": {},
   "outputs": [],
   "source": [
    "def display_users():\n",
    "    \n",
    "    print(\"-\"*50)\n",
    "    \n",
    "    print(\"{0:<15} {1:<15} {2:<20}\".format(\"Use ID\",\"Password\",\"Account Status\"))\n",
    "    \n",
    "    print(\"-\"*50)\n",
    "\n",
    "    for user in users:\n",
    "        \n",
    "        print(\"{0:<15} {1:<15} {2:<20}\".format(user, users[user][0], users[user][1]))\n"
   ]
  },
  {
   "cell_type": "code",
   "execution_count": 15,
   "id": "6b241921-ca75-4741-ba55-977c22b31449",
   "metadata": {},
   "outputs": [],
   "source": [
    "def create_user():\n",
    "    \n",
    "    userID = input(\"Enter new user ID: \")\n",
    "    password = \"p@ssw0rd\"\n",
    "    status = \"active\"\n",
    "    \n",
    "    users[userID] = [password, status]"
   ]
  },
  {
   "cell_type": "code",
   "execution_count": 16,
   "id": "0f2ea807-2b68-4c5a-87f4-b6060a2c5793",
   "metadata": {},
   "outputs": [],
   "source": [
    "def update_pw():\n",
    "    \n",
    "    userID = check_user()\n",
    "    \n",
    "    while userID != \"exit\":\n",
    "        \n",
    "        password = input(\"Enter new password: \")\n",
    "        \n",
    "        if len(password) < 6:\n",
    "            \n",
    "            print(\"Password must contain at least 6 characters.\")\n",
    "        else:\n",
    "            users[userID][0] = password\n",
    "            break"
   ]
  },
  {
   "cell_type": "code",
   "execution_count": 17,
   "id": "e398c68f-3176-4270-8c29-c42efc70abf8",
   "metadata": {},
   "outputs": [],
   "source": [
    "def unlock_account():\n",
    "    \n",
    "    userID = check_user()\n",
    "    \n",
    "    if userID == \"exit\":\n",
    "        pass\n",
    "    elif users[userID][1] == \"locked\":\n",
    "        users[userID][1] == \"active\"\n",
    "        print(\"Account for {} has been unlocked successfully.\".format(userID))\n",
    "    else:\n",
    "        print(\"Account for {} is already active.\".format(userID))"
   ]
  },
  {
   "cell_type": "code",
   "execution_count": 18,
   "id": "3d1481c3-8914-40ce-8efc-6479558351e6",
   "metadata": {},
   "outputs": [],
   "source": [
    "def check_user():\n",
    "    \n",
    "    while True:\n",
    "        \n",
    "        userID = input(\"Enter new user ID: \")\n",
    "        \n",
    "        if userID == 'exit':\n",
    "            return userID\n",
    "        elif userID not in users:\n",
    "            print(\"Invalid user ID.\")\n",
    "        else:\n",
    "            return userID"
   ]
  },
  {
   "cell_type": "code",
   "execution_count": 29,
   "id": "8e8bc159-51bb-495a-bea0-400f93928396",
   "metadata": {},
   "outputs": [],
   "source": [
    "option = 0\n",
    "\n",
    "users = {'abc':['234599','active'],'pqr':['884599','active'],'xyz':['777777','locked']}"
   ]
  },
  {
   "cell_type": "code",
   "execution_count": 30,
   "id": "bcedf13f-ee5c-4af7-a6e9-5c5e44fae6a5",
   "metadata": {},
   "outputs": [
    {
     "name": "stdout",
     "output_type": "stream",
     "text": [
      "IT Support Password Management Application\n",
      "**************************************************\n",
      "\t1. Display all use accounts\n",
      "\t2. Create new user accounts\n",
      "\t3. Update user password\n",
      "\t4. Unlock user account\n",
      "\t5. Exit application\n"
     ]
    },
    {
     "name": "stdin",
     "output_type": "stream",
     "text": [
      "Enter your option [1-5]:  1\n"
     ]
    },
    {
     "name": "stdout",
     "output_type": "stream",
     "text": [
      "\n",
      "--------------------------------------------------\n",
      "Use ID          Password        Account Status      \n",
      "--------------------------------------------------\n",
      "abc             234599          active              \n",
      "pqr             884599          active              \n",
      "xyz             777777          locked              \n",
      "\n",
      "IT Support Password Management Application\n",
      "**************************************************\n",
      "\t1. Display all use accounts\n",
      "\t2. Create new user accounts\n",
      "\t3. Update user password\n",
      "\t4. Unlock user account\n",
      "\t5. Exit application\n"
     ]
    },
    {
     "name": "stdin",
     "output_type": "stream",
     "text": [
      "Enter your option [1-5]:  2\n"
     ]
    },
    {
     "name": "stdout",
     "output_type": "stream",
     "text": [
      "\n"
     ]
    },
    {
     "name": "stdin",
     "output_type": "stream",
     "text": [
      "Enter new user ID:  abc\n"
     ]
    },
    {
     "name": "stdout",
     "output_type": "stream",
     "text": [
      "\n",
      "IT Support Password Management Application\n",
      "**************************************************\n",
      "\t1. Display all use accounts\n",
      "\t2. Create new user accounts\n",
      "\t3. Update user password\n",
      "\t4. Unlock user account\n",
      "\t5. Exit application\n"
     ]
    },
    {
     "name": "stdin",
     "output_type": "stream",
     "text": [
      "Enter your option [1-5]:  5\n"
     ]
    },
    {
     "name": "stdout",
     "output_type": "stream",
     "text": [
      "\n"
     ]
    }
   ],
   "source": [
    "while option != 5:\n",
    "    \n",
    "    option = menu()\n",
    "    \n",
    "    print()\n",
    "    \n",
    "    if option == 1:\n",
    "        display_users()\n",
    "    elif option == 2:\n",
    "        create_user()\n",
    "    elif option == 3:\n",
    "        update_pw()\n",
    "    elif option == 4:\n",
    "        unlock_account()\n",
    "    else:\n",
    "        continue\n",
    "    print()"
   ]
  },
  {
   "cell_type": "code",
   "execution_count": 31,
   "id": "a695b51a-6c62-47df-98a3-a56832c529cf",
   "metadata": {},
   "outputs": [],
   "source": [
    "import os"
   ]
  },
  {
   "cell_type": "code",
   "execution_count": 34,
   "id": "c9ba6c14-a63d-4386-9963-3fd12521260d",
   "metadata": {},
   "outputs": [
    {
     "data": {
      "text/plain": [
       "'/Users/learnersgalaxy/Downloads'"
      ]
     },
     "execution_count": 34,
     "metadata": {},
     "output_type": "execute_result"
    }
   ],
   "source": [
    "os.getcwd()"
   ]
  },
  {
   "cell_type": "code",
   "execution_count": null,
   "id": "feb00e8f-555b-4c09-a4f0-006b9b17a6f7",
   "metadata": {},
   "outputs": [],
   "source": []
  }
 ],
 "metadata": {
  "kernelspec": {
   "display_name": "Python 3",
   "language": "python",
   "name": "python3"
  },
  "language_info": {
   "codemirror_mode": {
    "name": "ipython",
    "version": 3
   },
   "file_extension": ".py",
   "mimetype": "text/x-python",
   "name": "python",
   "nbconvert_exporter": "python",
   "pygments_lexer": "ipython3",
   "version": "3.8.5"
  }
 },
 "nbformat": 4,
 "nbformat_minor": 5
}
