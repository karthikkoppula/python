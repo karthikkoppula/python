{
 "cells": [
  {
   "cell_type": "markdown",
   "id": "9a896f63-97e8-4bda-817f-37950c0336d6",
   "metadata": {},
   "source": [
    "Python Basics"
   ]
  },
  {
   "cell_type": "markdown",
   "id": "e5525efa-f0c7-4657-a05c-3556de62184c",
   "metadata": {},
   "source": [
    "# Python Basics"
   ]
  },
  {
   "cell_type": "markdown",
   "id": "55c2cb5b-829f-41b5-81b1-3f07c4f88e26",
   "metadata": {},
   "source": [
    "## Python Basics"
   ]
  },
  {
   "cell_type": "code",
   "execution_count": null,
   "id": "ad39c82e-914f-4574-891c-c9e8e2038e94",
   "metadata": {},
   "outputs": [],
   "source": [
    "keyboard shortcuts\n",
    "\n",
    "a - to create a cell above any selected cell\n",
    "b - to create a cell below any selected cell\n",
    "dd - to delete a selected cell \n",
    "Esc + m - to convert a cell to markdown"
   ]
  },
  {
   "cell_type": "code",
   "execution_count": 2,
   "id": "4d137f81-796c-4f9b-9663-63fdd83b6608",
   "metadata": {},
   "outputs": [
    {
     "data": {
      "text/plain": [
       "202"
      ]
     },
     "execution_count": 2,
     "metadata": {},
     "output_type": "execute_result"
    }
   ],
   "source": [
    "12+23+89+78  # shift + enter to execute codes"
   ]
  },
  {
   "cell_type": "code",
   "execution_count": 4,
   "id": "20c7da1c-550d-4944-ade2-748b828018f6",
   "metadata": {},
   "outputs": [
    {
     "data": {
      "text/plain": [
       "218"
      ]
     },
     "execution_count": 4,
     "metadata": {},
     "output_type": "execute_result"
    }
   ],
   "source": [
    "12+23+89+78\n",
    "+98+78+42\n",
    "\n",
    "# One instruction in mutltiple lines - only last line is printed"
   ]
  },
  {
   "cell_type": "code",
   "execution_count": 7,
   "id": "85ea5fdd-4f17-4298-bbf6-6d867e004d61",
   "metadata": {},
   "outputs": [
    {
     "data": {
      "text/plain": [
       "420"
      ]
     },
     "execution_count": 7,
     "metadata": {},
     "output_type": "execute_result"
    }
   ],
   "source": [
    "# Line continuation operator\n",
    "# multiline comments -  use ctrl + /\n",
    "# addition of numbers - operation\n",
    "# spead in multiple lines\n",
    "\n",
    "12+23+89+78\\\n",
    "+98+78+42"
   ]
  },
  {
   "cell_type": "code",
   "execution_count": 8,
   "id": "20f674d5-0d34-49cc-aa71-8b71a62ae5f2",
   "metadata": {},
   "outputs": [
    {
     "data": {
      "text/plain": [
       "420"
      ]
     },
     "execution_count": 8,
     "metadata": {},
     "output_type": "execute_result"
    }
   ],
   "source": [
    "(12+23+89+78\n",
    "+98+78+42)"
   ]
  },
  {
   "cell_type": "code",
   "execution_count": 9,
   "id": "9ec598f6-0724-40aa-ab3f-3a89667346b5",
   "metadata": {},
   "outputs": [
    {
     "data": {
      "text/plain": [
       "[420]"
      ]
     },
     "execution_count": 9,
     "metadata": {},
     "output_type": "execute_result"
    }
   ],
   "source": [
    "[12+23+89+78\n",
    "+98+78+42]"
   ]
  },
  {
   "cell_type": "code",
   "execution_count": 10,
   "id": "cbd0b6fb-240b-4561-844f-1307c9f3ab1d",
   "metadata": {},
   "outputs": [
    {
     "data": {
      "text/plain": [
       "{420}"
      ]
     },
     "execution_count": 10,
     "metadata": {},
     "output_type": "execute_result"
    }
   ],
   "source": [
    "{12+23+89+78\n",
    "+98+78+42}"
   ]
  },
  {
   "cell_type": "markdown",
   "id": "4668b0d5-7060-4bc3-b166-a726810c1e43",
   "metadata": {},
   "source": [
    "## Assignment Operation"
   ]
  },
  {
   "cell_type": "code",
   "execution_count": 11,
   "id": "45e68477-edea-497d-a090-e64efc75004d",
   "metadata": {},
   "outputs": [],
   "source": [
    "x = 2"
   ]
  },
  {
   "cell_type": "code",
   "execution_count": 12,
   "id": "b3c1b346-ea04-4bb7-8ed8-461a34e11a3b",
   "metadata": {},
   "outputs": [],
   "source": [
    "x = x + 2"
   ]
  },
  {
   "cell_type": "code",
   "execution_count": 14,
   "id": "e248e918-7f6f-42bc-a57a-2b9c0acc588e",
   "metadata": {},
   "outputs": [
    {
     "name": "stdout",
     "output_type": "stream",
     "text": [
      "4\n"
     ]
    }
   ],
   "source": [
    "print(x)  # explicit printing"
   ]
  },
  {
   "cell_type": "code",
   "execution_count": 15,
   "id": "1c93dbc2-eda1-4c2c-8be5-4e6a38e851a2",
   "metadata": {},
   "outputs": [
    {
     "data": {
      "text/plain": [
       "4"
      ]
     },
     "execution_count": 15,
     "metadata": {},
     "output_type": "execute_result"
    }
   ],
   "source": [
    "x"
   ]
  },
  {
   "cell_type": "code",
   "execution_count": 16,
   "id": "9332c2ba-eb7b-46ee-a386-4255faf0e261",
   "metadata": {},
   "outputs": [],
   "source": [
    "y = 5"
   ]
  },
  {
   "cell_type": "code",
   "execution_count": 17,
   "id": "0b988a9d-7473-41c4-a3d2-e2fc4a23d0df",
   "metadata": {},
   "outputs": [
    {
     "data": {
      "text/plain": [
       "5"
      ]
     },
     "execution_count": 17,
     "metadata": {},
     "output_type": "execute_result"
    }
   ],
   "source": [
    "x\n",
    "y"
   ]
  },
  {
   "cell_type": "code",
   "execution_count": 18,
   "id": "774fbc06-29ff-4e7d-9f12-ba5148c4c66f",
   "metadata": {},
   "outputs": [
    {
     "name": "stdout",
     "output_type": "stream",
     "text": [
      "4\n",
      "5\n"
     ]
    }
   ],
   "source": [
    "print(x)\n",
    "print(y)"
   ]
  },
  {
   "cell_type": "code",
   "execution_count": null,
   "id": "c202a35f-231a-4b49-ba16-ae5fb7d9d3e5",
   "metadata": {},
   "outputs": [],
   "source": [
    "Identifier naming convention\n",
    "\n",
    "1. case sensitive\n",
    "2. may start from small/capital alphabets or an underscore\n",
    "3. cannt start with numbers\n",
    "4. dont have to declare explicitly"
   ]
  },
  {
   "cell_type": "code",
   "execution_count": 20,
   "id": "d9f0d786-f879-45ea-9409-a5ac815c746e",
   "metadata": {},
   "outputs": [],
   "source": [
    "x = 4\n",
    "a = b = c = 'Python'  # text(string) values are specified within single(double) quotes\n",
    "p, q, r = \"Shubham\", 40, True\n",
    "\n",
    "s = 15; t = 18; u = 89  # 3(mutiple) instructions in one line"
   ]
  },
  {
   "cell_type": "code",
   "execution_count": 21,
   "id": "e4dbdef2-7045-431c-93bf-e0da05030603",
   "metadata": {},
   "outputs": [
    {
     "name": "stdout",
     "output_type": "stream",
     "text": [
      "4 Python Python Python Shubham 40 True 15 18 89\n"
     ]
    }
   ],
   "source": [
    "print(x, a, b, c, p, q, r, s, t, u)"
   ]
  },
  {
   "cell_type": "code",
   "execution_count": 22,
   "id": "72ae4fc9-a1f8-4e9f-8adf-cd6b64846709",
   "metadata": {},
   "outputs": [
    {
     "name": "stdout",
     "output_type": "stream",
     "text": [
      "Shubham Pandey\n"
     ]
    }
   ],
   "source": [
    "print('Shubham', 'Pandey')"
   ]
  },
  {
   "cell_type": "code",
   "execution_count": 23,
   "id": "dd05dc46-2940-4576-9d4a-4fe767974eb7",
   "metadata": {},
   "outputs": [
    {
     "data": {
      "text/plain": [
       "\u001b[0;31mDocstring:\u001b[0m\n",
       "print(value, ..., sep=' ', end='\\n', file=sys.stdout, flush=False)\n",
       "\n",
       "Prints the values to a stream, or to sys.stdout by default.\n",
       "Optional keyword arguments:\n",
       "file:  a file-like object (stream); defaults to the current sys.stdout.\n",
       "sep:   string inserted between values, default a space.\n",
       "end:   string appended after the last value, default a newline.\n",
       "flush: whether to forcibly flush the stream.\n",
       "\u001b[0;31mType:\u001b[0m      builtin_function_or_method\n"
      ]
     },
     "metadata": {},
     "output_type": "display_data"
    }
   ],
   "source": [
    "?print"
   ]
  },
  {
   "cell_type": "code",
   "execution_count": 24,
   "id": "4934ca97-d0d6-4571-b13d-d189abb153b5",
   "metadata": {},
   "outputs": [
    {
     "name": "stdout",
     "output_type": "stream",
     "text": [
      "ShubhamPandey\n"
     ]
    }
   ],
   "source": [
    "print('Shubham', 'Pandey', sep = '')"
   ]
  },
  {
   "cell_type": "code",
   "execution_count": null,
   "id": "b669b412-528c-4c77-862f-20ff27c47d66",
   "metadata": {},
   "outputs": [],
   "source": [
    "To get the documentation popped up - keep your cursor with in parenthesis and hit  - shift + tab"
   ]
  },
  {
   "cell_type": "markdown",
   "id": "be564cb6-8cf7-41d9-96d1-ac89b52da155",
   "metadata": {},
   "source": [
    "### Basic Data Types"
   ]
  },
  {
   "cell_type": "code",
   "execution_count": 25,
   "id": "2df19c17-c925-403a-bb5c-20e0ffad11c0",
   "metadata": {},
   "outputs": [],
   "source": [
    "a = 5          # int\n",
    "b = 5.0        # float\n",
    "c = 4 + 1j     # complex\n",
    "d = 'hello'    # str\n",
    "e = False      # boolean"
   ]
  },
  {
   "cell_type": "code",
   "execution_count": 26,
   "id": "b4de2ae3-cc5b-4616-ae19-e123e3825d2f",
   "metadata": {},
   "outputs": [
    {
     "data": {
      "text/plain": [
       "int"
      ]
     },
     "execution_count": 26,
     "metadata": {},
     "output_type": "execute_result"
    }
   ],
   "source": [
    "type(a)"
   ]
  },
  {
   "cell_type": "markdown",
   "id": "9420fa56-4213-4e15-82d8-818234cbbb81",
   "metadata": {},
   "source": [
    "## Arithmetic Operators"
   ]
  },
  {
   "cell_type": "code",
   "execution_count": 29,
   "id": "d9cacf29-186e-46ce-86e7-63a92dbfb653",
   "metadata": {},
   "outputs": [
    {
     "data": {
      "text/plain": [
       "90"
      ]
     },
     "execution_count": 29,
     "metadata": {},
     "output_type": "execute_result"
    }
   ],
   "source": [
    "23 + 67  # addition"
   ]
  },
  {
   "cell_type": "code",
   "execution_count": 30,
   "id": "6c08391a-960b-488f-8c1a-0952d6674a8c",
   "metadata": {},
   "outputs": [
    {
     "data": {
      "text/plain": [
       "'shubhampandey'"
      ]
     },
     "execution_count": 30,
     "metadata": {},
     "output_type": "execute_result"
    }
   ],
   "source": [
    "'shubham' + 'pandey'  # concatenation"
   ]
  },
  {
   "cell_type": "code",
   "execution_count": 31,
   "id": "5fe9da93-0dd7-478b-a4b7-67ab07565709",
   "metadata": {},
   "outputs": [
    {
     "data": {
      "text/plain": [
       "6"
      ]
     },
     "execution_count": 31,
     "metadata": {},
     "output_type": "execute_result"
    }
   ],
   "source": [
    "2*3"
   ]
  },
  {
   "cell_type": "code",
   "execution_count": 32,
   "id": "f4d0c213-4838-48a7-82f5-b1c48f17344a",
   "metadata": {},
   "outputs": [
    {
     "data": {
      "text/plain": [
       "'aaaaaa'"
      ]
     },
     "execution_count": 32,
     "metadata": {},
     "output_type": "execute_result"
    }
   ],
   "source": [
    "'a'*6"
   ]
  },
  {
   "cell_type": "code",
   "execution_count": 34,
   "id": "7e6ef173-6b6a-4b8a-b869-86666c4580a8",
   "metadata": {},
   "outputs": [
    {
     "data": {
      "text/plain": [
       "2"
      ]
     },
     "execution_count": 34,
     "metadata": {},
     "output_type": "execute_result"
    }
   ],
   "source": [
    "12%5"
   ]
  },
  {
   "cell_type": "code",
   "execution_count": null,
   "id": "5de153db-7a96-4db0-bc32-cbd154fba0fd",
   "metadata": {},
   "outputs": [],
   "source": [
    "12"
   ]
  },
  {
   "cell_type": "code",
   "execution_count": 35,
   "id": "f72d7cdc-249b-4caa-821b-2161e9074fb0",
   "metadata": {},
   "outputs": [
    {
     "data": {
      "text/plain": [
       "2"
      ]
     },
     "execution_count": 35,
     "metadata": {},
     "output_type": "execute_result"
    }
   ],
   "source": [
    "12//5"
   ]
  },
  {
   "cell_type": "code",
   "execution_count": null,
   "id": "a6584e71-f85c-4a57-892e-41711508792f",
   "metadata": {},
   "outputs": [],
   "source": [
    "+   ---  addition/concatenation\n",
    "-   ---  subtraction\n",
    "*\n",
    "/\n",
    "%   ---  modulus operator - remainder\n",
    "//  ---  integer division or floor division or quotient\n",
    "**  ---  exponentiation"
   ]
  },
  {
   "cell_type": "code",
   "execution_count": 36,
   "id": "98c2c6b0-5706-446c-824d-a1fdc3877257",
   "metadata": {},
   "outputs": [
    {
     "data": {
      "text/plain": [
       "32"
      ]
     },
     "execution_count": 36,
     "metadata": {},
     "output_type": "execute_result"
    }
   ],
   "source": [
    "2**5"
   ]
  },
  {
   "cell_type": "code",
   "execution_count": 37,
   "id": "f6a1d27f-9149-4c85-9016-6438abdb1b1b",
   "metadata": {},
   "outputs": [
    {
     "data": {
      "text/plain": [
       "32"
      ]
     },
     "execution_count": 37,
     "metadata": {},
     "output_type": "execute_result"
    }
   ],
   "source": [
    "pow(2,5)"
   ]
  },
  {
   "cell_type": "code",
   "execution_count": 38,
   "id": "be11438d-1d19-4172-b534-4c3c800d7e32",
   "metadata": {},
   "outputs": [
    {
     "ename": "TypeError",
     "evalue": "can only concatenate str (not \"int\") to str",
     "output_type": "error",
     "traceback": [
      "\u001b[0;31m---------------------------------------------------------------------------\u001b[0m",
      "\u001b[0;31mTypeError\u001b[0m                                 Traceback (most recent call last)",
      "\u001b[0;32m/tmp/ipykernel_88/2709448172.py\u001b[0m in \u001b[0;36m<cell line: 1>\u001b[0;34m()\u001b[0m\n\u001b[0;32m----> 1\u001b[0;31m \u001b[0mvar\u001b[0m \u001b[0;34m=\u001b[0m \u001b[0;34m'I have savings for the month as '\u001b[0m \u001b[0;34m+\u001b[0m \u001b[0;36m2300\u001b[0m\u001b[0;34m\u001b[0m\u001b[0;34m\u001b[0m\u001b[0m\n\u001b[0m",
      "\u001b[0;31mTypeError\u001b[0m: can only concatenate str (not \"int\") to str"
     ]
    }
   ],
   "source": [
    "var = 'I have savings for the month as ' + 2300"
   ]
  },
  {
   "cell_type": "code",
   "execution_count": 39,
   "id": "0c5e9561-2b59-4ef0-899f-d17e5edc894e",
   "metadata": {},
   "outputs": [],
   "source": [
    "var = 'I have savings for the month as ' + str(2300)"
   ]
  },
  {
   "cell_type": "code",
   "execution_count": 40,
   "id": "a0d6f460-fc3f-485e-bdea-0dd553b3c297",
   "metadata": {},
   "outputs": [
    {
     "data": {
      "text/plain": [
       "'I have savings for the month as 2300'"
      ]
     },
     "execution_count": 40,
     "metadata": {},
     "output_type": "execute_result"
    }
   ],
   "source": [
    "var"
   ]
  },
  {
   "cell_type": "code",
   "execution_count": 41,
   "id": "574a54ec-24ef-47b5-859b-fefb404ce01b",
   "metadata": {},
   "outputs": [
    {
     "data": {
      "text/plain": [
       "1"
      ]
     },
     "execution_count": 41,
     "metadata": {},
     "output_type": "execute_result"
    }
   ],
   "source": [
    "int(True)"
   ]
  },
  {
   "cell_type": "code",
   "execution_count": 42,
   "id": "ff7b3638-3d07-407b-b67d-60ebdeedb67d",
   "metadata": {},
   "outputs": [
    {
     "data": {
      "text/plain": [
       "0"
      ]
     },
     "execution_count": 42,
     "metadata": {},
     "output_type": "execute_result"
    }
   ],
   "source": [
    "int(False)"
   ]
  },
  {
   "cell_type": "markdown",
   "id": "f96d60ac-6251-48de-aec8-5258d198ad9f",
   "metadata": {},
   "source": [
    "## Data structures"
   ]
  },
  {
   "cell_type": "code",
   "execution_count": null,
   "id": "dc6698f5-0132-4bc4-ac41-3332c88c89dc",
   "metadata": {},
   "outputs": [],
   "source": [
    "1. list - a mutable ordered collection of hetrogenous/homogenous items\n",
    "2. tuple - a immutable ordered collection of hetrogenous/homogenous items\n",
    "3. set - a mutable unordered collection of unique hetrogenous/homogenous items\n",
    "4. dictionary\n",
    "5. array\n",
    "6. series\n",
    "7. dataframe"
   ]
  },
  {
   "cell_type": "code",
   "execution_count": 43,
   "id": "c2d0f18c-d6f4-49df-ad84-56501c8ef627",
   "metadata": {},
   "outputs": [],
   "source": [
    "tpp = 20, True, 'new', 34.8, 89"
   ]
  },
  {
   "cell_type": "code",
   "execution_count": 44,
   "id": "44c3ded4-8f56-49fa-88b7-b45772965f65",
   "metadata": {},
   "outputs": [
    {
     "data": {
      "text/plain": [
       "(20, True, 'new', 34.8, 89)"
      ]
     },
     "execution_count": 44,
     "metadata": {},
     "output_type": "execute_result"
    }
   ],
   "source": [
    "tpp"
   ]
  },
  {
   "cell_type": "code",
   "execution_count": 45,
   "id": "fb001824-453b-4369-a228-81a0ec9eb25e",
   "metadata": {},
   "outputs": [
    {
     "data": {
      "text/plain": [
       "tuple"
      ]
     },
     "execution_count": 45,
     "metadata": {},
     "output_type": "execute_result"
    }
   ],
   "source": [
    "type(tpp)"
   ]
  },
  {
   "cell_type": "code",
   "execution_count": 46,
   "id": "77728e34-76cb-4fdd-b9f5-6fa782931540",
   "metadata": {},
   "outputs": [],
   "source": [
    "lst = [20, True, 'new', 34.8, 89]"
   ]
  },
  {
   "cell_type": "code",
   "execution_count": 47,
   "id": "b15d879e-6bae-4cf4-93fb-d17b130167df",
   "metadata": {},
   "outputs": [
    {
     "data": {
      "text/plain": [
       "list"
      ]
     },
     "execution_count": 47,
     "metadata": {},
     "output_type": "execute_result"
    }
   ],
   "source": [
    "type(lst)"
   ]
  },
  {
   "cell_type": "code",
   "execution_count": 48,
   "id": "e5d42e83-1187-4a74-9a1f-2c0a7afb6418",
   "metadata": {},
   "outputs": [],
   "source": [
    "sst = {20, True, 'new', 34.8, 89}"
   ]
  },
  {
   "cell_type": "code",
   "execution_count": 49,
   "id": "31aa539b-65d9-4465-b5b3-597285138a88",
   "metadata": {},
   "outputs": [
    {
     "data": {
      "text/plain": [
       "set"
      ]
     },
     "execution_count": 49,
     "metadata": {},
     "output_type": "execute_result"
    }
   ],
   "source": [
    "type(sst)"
   ]
  },
  {
   "cell_type": "code",
   "execution_count": 50,
   "id": "423afc91-fc3b-4a2d-825f-01919c414e65",
   "metadata": {},
   "outputs": [
    {
     "name": "stdout",
     "output_type": "stream",
     "text": [
      "['__add__', '__class__', '__class_getitem__', '__contains__', '__delattr__', '__dir__', '__doc__', '__eq__', '__format__', '__ge__', '__getattribute__', '__getitem__', '__getnewargs__', '__gt__', '__hash__', '__init__', '__init_subclass__', '__iter__', '__le__', '__len__', '__lt__', '__mul__', '__ne__', '__new__', '__reduce__', '__reduce_ex__', '__repr__', '__rmul__', '__setattr__', '__sizeof__', '__str__', '__subclasshook__', 'count', 'index']\n"
     ]
    }
   ],
   "source": [
    "print(dir(tpp))"
   ]
  },
  {
   "cell_type": "code",
   "execution_count": 51,
   "id": "19d1d05f-e3d2-4c14-99db-4e252410bafb",
   "metadata": {},
   "outputs": [
    {
     "name": "stdout",
     "output_type": "stream",
     "text": [
      "['__add__', '__class__', '__class_getitem__', '__contains__', '__delattr__', '__delitem__', '__dir__', '__doc__', '__eq__', '__format__', '__ge__', '__getattribute__', '__getitem__', '__gt__', '__hash__', '__iadd__', '__imul__', '__init__', '__init_subclass__', '__iter__', '__le__', '__len__', '__lt__', '__mul__', '__ne__', '__new__', '__reduce__', '__reduce_ex__', '__repr__', '__reversed__', '__rmul__', '__setattr__', '__setitem__', '__sizeof__', '__str__', '__subclasshook__', 'append', 'clear', 'copy', 'count', 'extend', 'index', 'insert', 'pop', 'remove', 'reverse', 'sort']\n"
     ]
    }
   ],
   "source": [
    "print(dir(lst))"
   ]
  },
  {
   "cell_type": "code",
   "execution_count": 52,
   "id": "8cc22251-8ddc-486b-a5e9-e820d8f4701e",
   "metadata": {},
   "outputs": [
    {
     "data": {
      "text/plain": [
       "(20, True, 'new', 34.8, 89)"
      ]
     },
     "execution_count": 52,
     "metadata": {},
     "output_type": "execute_result"
    }
   ],
   "source": [
    "tpp"
   ]
  },
  {
   "cell_type": "code",
   "execution_count": 53,
   "id": "48710f2f-43ba-443d-85b6-177bc4979fb5",
   "metadata": {},
   "outputs": [],
   "source": [
    "tpp = 20, True, 'new', 34.8, 89, 89, 'new', 'new', 20"
   ]
  },
  {
   "cell_type": "code",
   "execution_count": 54,
   "id": "4e4b28ab-f666-40ef-92fa-ac970cbdca94",
   "metadata": {},
   "outputs": [
    {
     "data": {
      "text/plain": [
       "(20, True, 'new', 34.8, 89, 89, 'new', 'new', 20)"
      ]
     },
     "execution_count": 54,
     "metadata": {},
     "output_type": "execute_result"
    }
   ],
   "source": [
    "tpp"
   ]
  },
  {
   "cell_type": "code",
   "execution_count": 55,
   "id": "bc93cf87-a987-491b-85b8-e4e420e4d551",
   "metadata": {},
   "outputs": [
    {
     "data": {
      "text/plain": [
       "4"
      ]
     },
     "execution_count": 55,
     "metadata": {},
     "output_type": "execute_result"
    }
   ],
   "source": [
    "tpp.index(89)"
   ]
  },
  {
   "cell_type": "code",
   "execution_count": 57,
   "id": "71fb0c37-9448-4ac8-82af-6b46669b3c2f",
   "metadata": {},
   "outputs": [
    {
     "data": {
      "text/plain": [
       "4"
      ]
     },
     "execution_count": 57,
     "metadata": {},
     "output_type": "execute_result"
    }
   ],
   "source": [
    "tpp.index(89, 0)"
   ]
  },
  {
   "cell_type": "code",
   "execution_count": 58,
   "id": "b9202dc0-9be4-4820-9253-9f962fb8f62b",
   "metadata": {},
   "outputs": [
    {
     "data": {
      "text/plain": [
       "4"
      ]
     },
     "execution_count": 58,
     "metadata": {},
     "output_type": "execute_result"
    }
   ],
   "source": [
    "tpp.index(89, 1)"
   ]
  },
  {
   "cell_type": "code",
   "execution_count": 59,
   "id": "3b568236-e1f2-4493-a348-f3e01fbbc100",
   "metadata": {},
   "outputs": [
    {
     "data": {
      "text/plain": [
       "5"
      ]
     },
     "execution_count": 59,
     "metadata": {},
     "output_type": "execute_result"
    }
   ],
   "source": [
    "tpp.index(89, 5)"
   ]
  },
  {
   "cell_type": "code",
   "execution_count": 60,
   "id": "5529e476-0463-4a2d-b6ad-bef8252dbb85",
   "metadata": {},
   "outputs": [
    {
     "data": {
      "text/plain": [
       "3"
      ]
     },
     "execution_count": 60,
     "metadata": {},
     "output_type": "execute_result"
    }
   ],
   "source": [
    "tpp.count('new')"
   ]
  },
  {
   "cell_type": "code",
   "execution_count": 62,
   "id": "1a79d333-48f8-4529-9c92-f5e7a97e9f1f",
   "metadata": {},
   "outputs": [
    {
     "data": {
      "text/plain": [
       "(20, True, 'new', 34.8, 89, 89, 'new', 'new', 20)"
      ]
     },
     "execution_count": 62,
     "metadata": {},
     "output_type": "execute_result"
    }
   ],
   "source": [
    "tpp"
   ]
  },
  {
   "cell_type": "code",
   "execution_count": 61,
   "id": "e068e6f6-74ee-4f56-b1d8-bface05c4c12",
   "metadata": {},
   "outputs": [
    {
     "data": {
      "text/plain": [
       "20"
      ]
     },
     "execution_count": 61,
     "metadata": {},
     "output_type": "execute_result"
    }
   ],
   "source": [
    "tpp[0]"
   ]
  },
  {
   "cell_type": "code",
   "execution_count": 63,
   "id": "69c9c22e-7d4a-4512-8af2-8ff71344922c",
   "metadata": {},
   "outputs": [
    {
     "data": {
      "text/plain": [
       "20"
      ]
     },
     "execution_count": 63,
     "metadata": {},
     "output_type": "execute_result"
    }
   ],
   "source": [
    "tpp[-9]"
   ]
  },
  {
   "cell_type": "code",
   "execution_count": 64,
   "id": "ed817731-5866-4759-978b-d1c42129c631",
   "metadata": {},
   "outputs": [
    {
     "data": {
      "text/plain": [
       "9"
      ]
     },
     "execution_count": 64,
     "metadata": {},
     "output_type": "execute_result"
    }
   ],
   "source": [
    "len(tpp)"
   ]
  },
  {
   "cell_type": "code",
   "execution_count": 66,
   "id": "861218a0-628d-4f66-87f2-f36769288687",
   "metadata": {},
   "outputs": [
    {
     "data": {
      "text/plain": [
       "20"
      ]
     },
     "execution_count": 66,
     "metadata": {},
     "output_type": "execute_result"
    }
   ],
   "source": [
    "tpp[len(tpp)-1]"
   ]
  },
  {
   "cell_type": "code",
   "execution_count": 67,
   "id": "670610dd-ac46-4811-ba95-c61d0f7f2473",
   "metadata": {},
   "outputs": [
    {
     "data": {
      "text/plain": [
       "20"
      ]
     },
     "execution_count": 67,
     "metadata": {},
     "output_type": "execute_result"
    }
   ],
   "source": [
    "tpp[-1]"
   ]
  },
  {
   "cell_type": "code",
   "execution_count": 68,
   "id": "0ef2b663-08a0-4220-807f-1727f10270d8",
   "metadata": {},
   "outputs": [
    {
     "data": {
      "text/plain": [
       "[20, True, 'new', 34.8, 89]"
      ]
     },
     "execution_count": 68,
     "metadata": {},
     "output_type": "execute_result"
    }
   ],
   "source": [
    "lst"
   ]
  },
  {
   "cell_type": "code",
   "execution_count": 69,
   "id": "a439f153-ee7d-4193-8fe1-3831f411abf0",
   "metadata": {},
   "outputs": [
    {
     "data": {
      "text/plain": [
       "20"
      ]
     },
     "execution_count": 69,
     "metadata": {},
     "output_type": "execute_result"
    }
   ],
   "source": [
    "lst[0]"
   ]
  },
  {
   "cell_type": "code",
   "execution_count": 70,
   "id": "1e6c70ad-9592-4023-aa42-9f05e8ef42e7",
   "metadata": {},
   "outputs": [
    {
     "data": {
      "text/plain": [
       "89"
      ]
     },
     "execution_count": 70,
     "metadata": {},
     "output_type": "execute_result"
    }
   ],
   "source": [
    "lst[-1]"
   ]
  },
  {
   "cell_type": "code",
   "execution_count": 71,
   "id": "8f13d17a-793f-4616-b766-a2b521be1d62",
   "metadata": {},
   "outputs": [],
   "source": [
    "lst[0] = 55"
   ]
  },
  {
   "cell_type": "code",
   "execution_count": 72,
   "id": "c022d3d5-fe96-4352-8abb-f0c09d7d3bb8",
   "metadata": {},
   "outputs": [
    {
     "data": {
      "text/plain": [
       "[55, True, 'new', 34.8, 89]"
      ]
     },
     "execution_count": 72,
     "metadata": {},
     "output_type": "execute_result"
    }
   ],
   "source": [
    "lst"
   ]
  },
  {
   "cell_type": "code",
   "execution_count": 73,
   "id": "715c344d-fb11-435e-b406-093072fcfb18",
   "metadata": {},
   "outputs": [
    {
     "data": {
      "text/plain": [
       "(20, True, 'new', 34.8, 89, 89, 'new', 'new', 20)"
      ]
     },
     "execution_count": 73,
     "metadata": {},
     "output_type": "execute_result"
    }
   ],
   "source": [
    "tpp"
   ]
  },
  {
   "cell_type": "code",
   "execution_count": 74,
   "id": "d86125dc-bcb3-494e-9555-022ec89f40c6",
   "metadata": {},
   "outputs": [
    {
     "ename": "TypeError",
     "evalue": "'tuple' object does not support item assignment",
     "output_type": "error",
     "traceback": [
      "\u001b[0;31m---------------------------------------------------------------------------\u001b[0m",
      "\u001b[0;31mTypeError\u001b[0m                                 Traceback (most recent call last)",
      "\u001b[0;32m/tmp/ipykernel_88/2387104233.py\u001b[0m in \u001b[0;36m<cell line: 1>\u001b[0;34m()\u001b[0m\n\u001b[0;32m----> 1\u001b[0;31m \u001b[0mtpp\u001b[0m\u001b[0;34m[\u001b[0m\u001b[0;36m1\u001b[0m\u001b[0;34m]\u001b[0m \u001b[0;34m=\u001b[0m \u001b[0;34m\"True\"\u001b[0m\u001b[0;34m\u001b[0m\u001b[0;34m\u001b[0m\u001b[0m\n\u001b[0m",
      "\u001b[0;31mTypeError\u001b[0m: 'tuple' object does not support item assignment"
     ]
    }
   ],
   "source": [
    "tpp[1] = \"True\""
   ]
  },
  {
   "cell_type": "code",
   "execution_count": 75,
   "id": "dba9276b-0400-49ea-983a-de539578baf6",
   "metadata": {},
   "outputs": [],
   "source": [
    "name = \"shubham\""
   ]
  },
  {
   "cell_type": "code",
   "execution_count": 76,
   "id": "2620dcea-bfaf-4720-94e9-9bc41ef4131f",
   "metadata": {},
   "outputs": [
    {
     "data": {
      "text/plain": [
       "'s'"
      ]
     },
     "execution_count": 76,
     "metadata": {},
     "output_type": "execute_result"
    }
   ],
   "source": [
    "name[0]"
   ]
  },
  {
   "cell_type": "code",
   "execution_count": 77,
   "id": "7c4b5b17-2783-4430-b6f9-59374abdac7f",
   "metadata": {},
   "outputs": [
    {
     "data": {
      "text/plain": [
       "'m'"
      ]
     },
     "execution_count": 77,
     "metadata": {},
     "output_type": "execute_result"
    }
   ],
   "source": [
    "name[-1]"
   ]
  },
  {
   "cell_type": "code",
   "execution_count": 78,
   "id": "82f3d116-64d4-4192-b6b9-1c9309c9ebe5",
   "metadata": {},
   "outputs": [
    {
     "ename": "TypeError",
     "evalue": "'str' object does not support item assignment",
     "output_type": "error",
     "traceback": [
      "\u001b[0;31m---------------------------------------------------------------------------\u001b[0m",
      "\u001b[0;31mTypeError\u001b[0m                                 Traceback (most recent call last)",
      "\u001b[0;32m/tmp/ipykernel_88/1142650269.py\u001b[0m in \u001b[0;36m<cell line: 1>\u001b[0;34m()\u001b[0m\n\u001b[0;32m----> 1\u001b[0;31m \u001b[0mname\u001b[0m\u001b[0;34m[\u001b[0m\u001b[0;36m0\u001b[0m\u001b[0;34m]\u001b[0m \u001b[0;34m=\u001b[0m \u001b[0;34m'S'\u001b[0m\u001b[0;34m\u001b[0m\u001b[0;34m\u001b[0m\u001b[0m\n\u001b[0m",
      "\u001b[0;31mTypeError\u001b[0m: 'str' object does not support item assignment"
     ]
    }
   ],
   "source": [
    "name[0] = 'S'"
   ]
  },
  {
   "cell_type": "markdown",
   "id": "44da0cbd-31b1-43a0-996b-665dbf88fbd0",
   "metadata": {},
   "source": [
    "#### subsetting or slicing"
   ]
  },
  {
   "cell_type": "code",
   "execution_count": 79,
   "id": "dad7161c-121e-46cf-9bca-7bb3ec2a4e2d",
   "metadata": {},
   "outputs": [
    {
     "data": {
      "text/plain": [
       "(20, True, 'new', 34.8, 89, 89, 'new', 'new', 20)"
      ]
     },
     "execution_count": 79,
     "metadata": {},
     "output_type": "execute_result"
    }
   ],
   "source": [
    "tpp"
   ]
  },
  {
   "cell_type": "code",
   "execution_count": null,
   "id": "e2aed217-02dd-4fdb-8ef1-8212ac8fd935",
   "metadata": {},
   "outputs": [],
   "source": [
    "syntax:\n",
    "    \n",
    "tpp[<start>:<stop>:<step size>]\n",
    "\n",
    "<start> - included\n",
    "<stop>  - not included"
   ]
  },
  {
   "cell_type": "code",
   "execution_count": 80,
   "id": "ef7804a2-39b5-46be-b5a2-c5d8589cdc35",
   "metadata": {},
   "outputs": [
    {
     "data": {
      "text/plain": [
       "(True, 'new', 34.8, 89, 89)"
      ]
     },
     "execution_count": 80,
     "metadata": {},
     "output_type": "execute_result"
    }
   ],
   "source": [
    "tpp[1:6:1]"
   ]
  },
  {
   "cell_type": "code",
   "execution_count": 81,
   "id": "5df65b91-c863-4d13-9485-2dcb961e5cf8",
   "metadata": {},
   "outputs": [
    {
     "data": {
      "text/plain": [
       "(True, 34.8, 89)"
      ]
     },
     "execution_count": 81,
     "metadata": {},
     "output_type": "execute_result"
    }
   ],
   "source": [
    "tpp[1:6:2]"
   ]
  },
  {
   "cell_type": "code",
   "execution_count": 83,
   "id": "b49810e9-572a-4fbb-9341-01d36b758f9a",
   "metadata": {},
   "outputs": [
    {
     "data": {
      "text/plain": [
       "(True, 'new', 34.8, 89, 89, 'new')"
      ]
     },
     "execution_count": 83,
     "metadata": {},
     "output_type": "execute_result"
    }
   ],
   "source": [
    "tpp[1:7:1]"
   ]
  },
  {
   "cell_type": "code",
   "execution_count": 85,
   "id": "878e3c86-48ec-4b73-9ee5-cc1160ae9465",
   "metadata": {},
   "outputs": [
    {
     "data": {
      "text/plain": [
       "(True, 'new', 34.8, 89, 89, 'new')"
      ]
     },
     "execution_count": 85,
     "metadata": {},
     "output_type": "execute_result"
    }
   ],
   "source": [
    "# if we dont provide step size - 1 step is taken by default\n",
    "\n",
    "tpp[1:7]"
   ]
  },
  {
   "cell_type": "code",
   "execution_count": 87,
   "id": "f09727a5-3549-4c9f-b89f-ad5265fefde4",
   "metadata": {},
   "outputs": [
    {
     "data": {
      "text/plain": [
       "(20, True, 'new', 34.8, 89, 89, 'new')"
      ]
     },
     "execution_count": 87,
     "metadata": {},
     "output_type": "execute_result"
    }
   ],
   "source": [
    "# if we dont provide start - it starts from the begining - begining depends on step size\n",
    "\n",
    "tpp[:7:1]"
   ]
  },
  {
   "cell_type": "code",
   "execution_count": 88,
   "id": "b48cb5bd-4400-4ca2-95b8-a5cb19a2a43b",
   "metadata": {},
   "outputs": [
    {
     "data": {
      "text/plain": [
       "(20,)"
      ]
     },
     "execution_count": 88,
     "metadata": {},
     "output_type": "execute_result"
    }
   ],
   "source": [
    "tpp[:7:-1]"
   ]
  },
  {
   "cell_type": "code",
   "execution_count": 89,
   "id": "f0683950-04d2-4a9a-8bb8-20dbb588bdd9",
   "metadata": {},
   "outputs": [
    {
     "data": {
      "text/plain": [
       "(20, True, 'new', 34.8, 89, 89, 'new', 'new', 20)"
      ]
     },
     "execution_count": 89,
     "metadata": {},
     "output_type": "execute_result"
    }
   ],
   "source": [
    "tpp"
   ]
  },
  {
   "cell_type": "code",
   "execution_count": 90,
   "id": "293cb8aa-c28f-4f91-ab46-abf0a65d1458",
   "metadata": {},
   "outputs": [],
   "source": [
    "tpp = 20, True, 'new', 34.8, 89, 89, 'new', 'new', 78"
   ]
  },
  {
   "cell_type": "code",
   "execution_count": 91,
   "id": "c91480d8-55ad-4c9d-85f2-36df7b33c48c",
   "metadata": {},
   "outputs": [
    {
     "data": {
      "text/plain": [
       "(78, 'new', 'new', 89, 89, 34.8)"
      ]
     },
     "execution_count": 91,
     "metadata": {},
     "output_type": "execute_result"
    }
   ],
   "source": [
    "tpp[:2:-1]"
   ]
  },
  {
   "cell_type": "code",
   "execution_count": 92,
   "id": "af5cad8f-968e-41ef-b9af-9aebfdff7bd5",
   "metadata": {},
   "outputs": [
    {
     "data": {
      "text/plain": [
       "(20, True, 'new', 34.8, 89, 89, 'new', 'new', 78)"
      ]
     },
     "execution_count": 92,
     "metadata": {},
     "output_type": "execute_result"
    }
   ],
   "source": [
    "tpp"
   ]
  },
  {
   "cell_type": "code",
   "execution_count": 93,
   "id": "469b3e1a-1249-4fc8-a242-0c8b24374d77",
   "metadata": {},
   "outputs": [
    {
     "data": {
      "text/plain": [
       "('new', 89, 'new', 78)"
      ]
     },
     "execution_count": 93,
     "metadata": {},
     "output_type": "execute_result"
    }
   ],
   "source": [
    "# if stop position is not given\n",
    "\n",
    "tpp[2::2]"
   ]
  },
  {
   "cell_type": "code",
   "execution_count": 94,
   "id": "17f4390c-8791-4058-8e2b-31b19b753ac5",
   "metadata": {},
   "outputs": [],
   "source": [
    "txt = 'python'"
   ]
  },
  {
   "cell_type": "code",
   "execution_count": 95,
   "id": "e21db2aa-74c8-4e9a-aa27-4324d7c73f61",
   "metadata": {},
   "outputs": [
    {
     "data": {
      "text/plain": [
       "'p'"
      ]
     },
     "execution_count": 95,
     "metadata": {},
     "output_type": "execute_result"
    }
   ],
   "source": [
    "txt[0]"
   ]
  },
  {
   "cell_type": "code",
   "execution_count": 96,
   "id": "09a666d5-dfe1-44d2-bf62-889fe1f042dc",
   "metadata": {},
   "outputs": [
    {
     "data": {
      "text/plain": [
       "'ython'"
      ]
     },
     "execution_count": 96,
     "metadata": {},
     "output_type": "execute_result"
    }
   ],
   "source": [
    "txt[1:]"
   ]
  },
  {
   "cell_type": "code",
   "execution_count": null,
   "id": "983628d7-083b-4ba8-9132-e2320b7398ea",
   "metadata": {},
   "outputs": [],
   "source": [
    "Task:\n",
    "    \n",
    "Using slicing - reverse the text - Python. The result should be - 'nohtyP'"
   ]
  },
  {
   "cell_type": "code",
   "execution_count": 97,
   "id": "52a7dafa-8105-46d2-8edc-b51ebb97d892",
   "metadata": {},
   "outputs": [],
   "source": [
    "txt = 'Python'"
   ]
  },
  {
   "cell_type": "code",
   "execution_count": 98,
   "id": "24ae9ad8-9136-4995-9610-66473fcd88bb",
   "metadata": {},
   "outputs": [
    {
     "data": {
      "text/plain": [
       "'nohtyP'"
      ]
     },
     "execution_count": 98,
     "metadata": {},
     "output_type": "execute_result"
    }
   ],
   "source": [
    "txt[5::-1]"
   ]
  },
  {
   "cell_type": "code",
   "execution_count": 99,
   "id": "5b2ed8c1-2b51-49fb-829c-3ba69f8c430e",
   "metadata": {},
   "outputs": [
    {
     "data": {
      "text/plain": [
       "'nohtyP'"
      ]
     },
     "execution_count": 99,
     "metadata": {},
     "output_type": "execute_result"
    }
   ],
   "source": [
    "txt[-1::-1]"
   ]
  },
  {
   "cell_type": "code",
   "execution_count": 100,
   "id": "eec46601-d48c-4298-80c7-3d684344abda",
   "metadata": {},
   "outputs": [
    {
     "data": {
      "text/plain": [
       "'nohtyP'"
      ]
     },
     "execution_count": 100,
     "metadata": {},
     "output_type": "execute_result"
    }
   ],
   "source": [
    "txt[::-1]"
   ]
  },
  {
   "cell_type": "code",
   "execution_count": 101,
   "id": "25ad31d8-7b89-4e2c-af56-29f581e38c10",
   "metadata": {},
   "outputs": [
    {
     "data": {
      "text/plain": [
       "''"
      ]
     },
     "execution_count": 101,
     "metadata": {},
     "output_type": "execute_result"
    }
   ],
   "source": [
    "txt[5:0]"
   ]
  },
  {
   "cell_type": "markdown",
   "id": "f7039bba-2f0a-46da-9e56-534a4917b0bd",
   "metadata": {},
   "source": [
    "### List methods"
   ]
  },
  {
   "cell_type": "raw",
   "id": "b482b275-f9e8-44bb-88ea-f51d257725f0",
   "metadata": {},
   "source": [
    "append', 'clear', 'copy', 'count', 'extend', 'index', 'insert', 'pop', 'remove', 'reverse', 'sort'"
   ]
  },
  {
   "cell_type": "code",
   "execution_count": null,
   "id": "abde23d2-b812-4a89-97a9-777a61bb330f",
   "metadata": {},
   "outputs": [],
   "source": [
    "Removing items from a list\n",
    "\n",
    "clear - Remove all items from list\n",
    "pop - Remove and return item at index (default last)\n",
    "remove - Remove first occurrence of value"
   ]
  },
  {
   "cell_type": "code",
   "execution_count": 104,
   "id": "a99e4db6-ce9b-4eb0-b3aa-467a255a5fe9",
   "metadata": {},
   "outputs": [],
   "source": [
    "lst = [55, True, 'new', 34.8, 89]"
   ]
  },
  {
   "cell_type": "code",
   "execution_count": 105,
   "id": "af1c5f79-4f45-49fb-9a09-7398450841a6",
   "metadata": {},
   "outputs": [],
   "source": [
    "lst.clear()"
   ]
  },
  {
   "cell_type": "code",
   "execution_count": 106,
   "id": "d1db5566-83eb-46bc-b684-17853bafd09f",
   "metadata": {},
   "outputs": [
    {
     "data": {
      "text/plain": [
       "[]"
      ]
     },
     "execution_count": 106,
     "metadata": {},
     "output_type": "execute_result"
    }
   ],
   "source": [
    "lst"
   ]
  },
  {
   "cell_type": "code",
   "execution_count": 107,
   "id": "3ef0e185-87d1-41f4-b802-9373eb208787",
   "metadata": {},
   "outputs": [],
   "source": [
    "lst = [55, True, 'new', 34.8, 89]"
   ]
  },
  {
   "cell_type": "code",
   "execution_count": 108,
   "id": "b396a268-a56c-43e6-9c9f-4bc09b4243ea",
   "metadata": {},
   "outputs": [
    {
     "data": {
      "text/plain": [
       "89"
      ]
     },
     "execution_count": 108,
     "metadata": {},
     "output_type": "execute_result"
    }
   ],
   "source": [
    "lst.pop()"
   ]
  },
  {
   "cell_type": "code",
   "execution_count": 109,
   "id": "c80b0cf4-9f22-41a8-a385-415107a49f21",
   "metadata": {},
   "outputs": [
    {
     "data": {
      "text/plain": [
       "[55, True, 'new', 34.8]"
      ]
     },
     "execution_count": 109,
     "metadata": {},
     "output_type": "execute_result"
    }
   ],
   "source": [
    "lst"
   ]
  },
  {
   "cell_type": "code",
   "execution_count": 110,
   "id": "b5d0582c-d9b0-4a0a-b7f7-f75dfc18fdda",
   "metadata": {},
   "outputs": [],
   "source": [
    "lst = [55, True, 'new', 34.8, 89]"
   ]
  },
  {
   "cell_type": "code",
   "execution_count": 111,
   "id": "3dceffe0-9d50-47d0-a903-9925687e3461",
   "metadata": {},
   "outputs": [
    {
     "data": {
      "text/plain": [
       "'new'"
      ]
     },
     "execution_count": 111,
     "metadata": {},
     "output_type": "execute_result"
    }
   ],
   "source": [
    "lst.pop(2)"
   ]
  },
  {
   "cell_type": "code",
   "execution_count": 112,
   "id": "e1fde9dc-a996-47ee-ac5e-21534324cc92",
   "metadata": {},
   "outputs": [
    {
     "data": {
      "text/plain": [
       "[55, True, 34.8, 89]"
      ]
     },
     "execution_count": 112,
     "metadata": {},
     "output_type": "execute_result"
    }
   ],
   "source": [
    "lst"
   ]
  },
  {
   "cell_type": "code",
   "execution_count": 113,
   "id": "7c267ac3-20ab-4833-8efa-77520492fcdb",
   "metadata": {},
   "outputs": [],
   "source": [
    "lst = [55, True, 'new', 34.8, 89]"
   ]
  },
  {
   "cell_type": "code",
   "execution_count": 116,
   "id": "cfd04d9c-d739-41b4-af23-92a28d581fd0",
   "metadata": {},
   "outputs": [
    {
     "data": {
      "text/plain": [
       "\u001b[0;31mSignature:\u001b[0m \u001b[0mlst\u001b[0m\u001b[0;34m.\u001b[0m\u001b[0mremove\u001b[0m\u001b[0;34m(\u001b[0m\u001b[0mvalue\u001b[0m\u001b[0;34m,\u001b[0m \u001b[0;34m/\u001b[0m\u001b[0;34m)\u001b[0m\u001b[0;34m\u001b[0m\u001b[0;34m\u001b[0m\u001b[0m\n",
       "\u001b[0;31mDocstring:\u001b[0m\n",
       "Remove first occurrence of value.\n",
       "\n",
       "Raises ValueError if the value is not present.\n",
       "\u001b[0;31mType:\u001b[0m      builtin_function_or_method\n"
      ]
     },
     "metadata": {},
     "output_type": "display_data"
    }
   ],
   "source": [
    "?lst.remove"
   ]
  },
  {
   "cell_type": "code",
   "execution_count": 117,
   "id": "5f46c2d1-8db0-4d3e-a072-34097e924c28",
   "metadata": {},
   "outputs": [],
   "source": [
    "lst.remove('new')"
   ]
  },
  {
   "cell_type": "code",
   "execution_count": 118,
   "id": "c5477346-55c7-4507-b5e3-fa81dcd21249",
   "metadata": {},
   "outputs": [
    {
     "data": {
      "text/plain": [
       "[55, True, 34.8, 89]"
      ]
     },
     "execution_count": 118,
     "metadata": {},
     "output_type": "execute_result"
    }
   ],
   "source": [
    "lst"
   ]
  },
  {
   "cell_type": "code",
   "execution_count": 120,
   "id": "0aba26bd-91a3-49a1-a048-d02b84364b05",
   "metadata": {},
   "outputs": [],
   "source": [
    "lst1 = [55, True, 34.8, 89, [55, True, 34.8, 89]]"
   ]
  },
  {
   "cell_type": "code",
   "execution_count": 122,
   "id": "48903087-2226-4b3c-bfed-d306653119f1",
   "metadata": {},
   "outputs": [],
   "source": [
    "lst1[-1].remove(89)"
   ]
  },
  {
   "cell_type": "code",
   "execution_count": null,
   "id": "46a0cc47-3907-490a-be94-f7adc38a4349",
   "metadata": {},
   "outputs": [],
   "source": [
    "Adding items to a list\n",
    "\n",
    "Append - Append object to the end of the list\n",
    "extend - Extend list by appending elements from the iterable\n",
    "insert - Insert object before index"
   ]
  },
  {
   "cell_type": "code",
   "execution_count": 123,
   "id": "f09edfde-92a0-457e-a5d9-93eea83425e7",
   "metadata": {},
   "outputs": [
    {
     "data": {
      "text/plain": [
       "[55, True, 34.8, 89]"
      ]
     },
     "execution_count": 123,
     "metadata": {},
     "output_type": "execute_result"
    }
   ],
   "source": [
    "lst"
   ]
  },
  {
   "cell_type": "code",
   "execution_count": 124,
   "id": "d80846f1-e9b3-4c85-aadb-9e746c88944c",
   "metadata": {},
   "outputs": [
    {
     "data": {
      "text/plain": [
       "\u001b[0;31mSignature:\u001b[0m \u001b[0mlst\u001b[0m\u001b[0;34m.\u001b[0m\u001b[0mappend\u001b[0m\u001b[0;34m(\u001b[0m\u001b[0mobject\u001b[0m\u001b[0;34m,\u001b[0m \u001b[0;34m/\u001b[0m\u001b[0;34m)\u001b[0m\u001b[0;34m\u001b[0m\u001b[0;34m\u001b[0m\u001b[0m\n",
       "\u001b[0;31mDocstring:\u001b[0m Append object to the end of the list.\n",
       "\u001b[0;31mType:\u001b[0m      builtin_function_or_method\n"
      ]
     },
     "metadata": {},
     "output_type": "display_data"
    }
   ],
   "source": [
    "?lst.append"
   ]
  },
  {
   "cell_type": "code",
   "execution_count": 126,
   "id": "9817e0cd-398f-430e-8947-425e1e0e7ad7",
   "metadata": {},
   "outputs": [],
   "source": [
    "lst.append(78)"
   ]
  },
  {
   "cell_type": "code",
   "execution_count": 127,
   "id": "e103da65-1b2c-4539-be9a-6d4254b28b92",
   "metadata": {},
   "outputs": [
    {
     "data": {
      "text/plain": [
       "[55, True, 34.8, 89, 78]"
      ]
     },
     "execution_count": 127,
     "metadata": {},
     "output_type": "execute_result"
    }
   ],
   "source": [
    "lst"
   ]
  },
  {
   "cell_type": "code",
   "execution_count": 128,
   "id": "04991e67-f9e8-46a6-ac0d-f77959ae687e",
   "metadata": {},
   "outputs": [
    {
     "data": {
      "text/plain": [
       "\u001b[0;31mSignature:\u001b[0m \u001b[0mlst\u001b[0m\u001b[0;34m.\u001b[0m\u001b[0mextend\u001b[0m\u001b[0;34m(\u001b[0m\u001b[0miterable\u001b[0m\u001b[0;34m,\u001b[0m \u001b[0;34m/\u001b[0m\u001b[0;34m)\u001b[0m\u001b[0;34m\u001b[0m\u001b[0;34m\u001b[0m\u001b[0m\n",
       "\u001b[0;31mDocstring:\u001b[0m Extend list by appending elements from the iterable.\n",
       "\u001b[0;31mType:\u001b[0m      builtin_function_or_method\n"
      ]
     },
     "metadata": {},
     "output_type": "display_data"
    }
   ],
   "source": [
    "?lst.extend"
   ]
  },
  {
   "cell_type": "code",
   "execution_count": 129,
   "id": "eaa69664-53d8-4e0c-a671-90adca967652",
   "metadata": {},
   "outputs": [
    {
     "ename": "TypeError",
     "evalue": "'int' object is not iterable",
     "output_type": "error",
     "traceback": [
      "\u001b[0;31m---------------------------------------------------------------------------\u001b[0m",
      "\u001b[0;31mTypeError\u001b[0m                                 Traceback (most recent call last)",
      "\u001b[0;32m/tmp/ipykernel_88/3598938716.py\u001b[0m in \u001b[0;36m<cell line: 1>\u001b[0;34m()\u001b[0m\n\u001b[0;32m----> 1\u001b[0;31m \u001b[0mlst\u001b[0m\u001b[0;34m.\u001b[0m\u001b[0mextend\u001b[0m\u001b[0;34m(\u001b[0m\u001b[0;36m34\u001b[0m\u001b[0;34m)\u001b[0m\u001b[0;34m\u001b[0m\u001b[0;34m\u001b[0m\u001b[0m\n\u001b[0m",
      "\u001b[0;31mTypeError\u001b[0m: 'int' object is not iterable"
     ]
    }
   ],
   "source": [
    "lst.extend(34)"
   ]
  },
  {
   "cell_type": "code",
   "execution_count": 130,
   "id": "a7c5dc93-a331-4515-9304-52c2aea021bd",
   "metadata": {},
   "outputs": [],
   "source": [
    "lst.extend('text')"
   ]
  },
  {
   "cell_type": "code",
   "execution_count": 131,
   "id": "cc1f82c5-e84f-420f-9068-b3339f855f9d",
   "metadata": {},
   "outputs": [
    {
     "data": {
      "text/plain": [
       "[55, True, 34.8, 89, 78, 't', 'e', 'x', 't']"
      ]
     },
     "execution_count": 131,
     "metadata": {},
     "output_type": "execute_result"
    }
   ],
   "source": [
    "lst"
   ]
  },
  {
   "cell_type": "code",
   "execution_count": 133,
   "id": "60f2269e-851a-4653-8c4c-94b9b347fd5a",
   "metadata": {},
   "outputs": [],
   "source": [
    "lst.insert(1,'True')"
   ]
  },
  {
   "cell_type": "code",
   "execution_count": 134,
   "id": "ec042f5e-11b7-43b0-a52f-1c14bb011cc5",
   "metadata": {},
   "outputs": [
    {
     "data": {
      "text/plain": [
       "[55, 'True', True, 34.8, 89, 78, 't', 'e', 'x', 't']"
      ]
     },
     "execution_count": 134,
     "metadata": {},
     "output_type": "execute_result"
    }
   ],
   "source": [
    "lst"
   ]
  },
  {
   "cell_type": "code",
   "execution_count": null,
   "id": "d7ae2326-26fa-4baf-877d-b76deaf60001",
   "metadata": {},
   "outputs": [],
   "source": [
    "Ordering items\n",
    "\n",
    "sort\n",
    "reverse"
   ]
  },
  {
   "cell_type": "code",
   "execution_count": 135,
   "id": "dac47994-2182-49b0-a44d-e0de7c57e85a",
   "metadata": {},
   "outputs": [],
   "source": [
    "lst = [2,3,45,67,89,34,23]"
   ]
  },
  {
   "cell_type": "code",
   "execution_count": 136,
   "id": "e6f48955-2c47-4af7-a861-8ce0ba9f0413",
   "metadata": {},
   "outputs": [],
   "source": [
    "lst.sort()"
   ]
  },
  {
   "cell_type": "code",
   "execution_count": 137,
   "id": "efe3e1e3-2013-4c08-89ed-44cf97da2a56",
   "metadata": {},
   "outputs": [
    {
     "data": {
      "text/plain": [
       "[2, 3, 23, 34, 45, 67, 89]"
      ]
     },
     "execution_count": 137,
     "metadata": {},
     "output_type": "execute_result"
    }
   ],
   "source": [
    "lst"
   ]
  },
  {
   "cell_type": "code",
   "execution_count": 142,
   "id": "5bf5ae26-de65-41f1-a429-6f82f8fd1daf",
   "metadata": {},
   "outputs": [],
   "source": [
    "lst.sort(reverse=True)"
   ]
  },
  {
   "cell_type": "code",
   "execution_count": 143,
   "id": "5f3c2644-5cd5-4347-ae42-5d2b2b16d153",
   "metadata": {},
   "outputs": [
    {
     "data": {
      "text/plain": [
       "[89, 67, 45, 34, 23, 3, 2]"
      ]
     },
     "execution_count": 143,
     "metadata": {},
     "output_type": "execute_result"
    }
   ],
   "source": [
    "lst"
   ]
  },
  {
   "cell_type": "code",
   "execution_count": 144,
   "id": "44d7d89b-6f70-4945-a77d-217cd6546b89",
   "metadata": {},
   "outputs": [
    {
     "data": {
      "text/plain": [
       "\u001b[0;31mSignature:\u001b[0m \u001b[0mlst\u001b[0m\u001b[0;34m.\u001b[0m\u001b[0mreverse\u001b[0m\u001b[0;34m(\u001b[0m\u001b[0;34m)\u001b[0m\u001b[0;34m\u001b[0m\u001b[0;34m\u001b[0m\u001b[0m\n",
       "\u001b[0;31mDocstring:\u001b[0m Reverse *IN PLACE*.\n",
       "\u001b[0;31mType:\u001b[0m      builtin_function_or_method\n"
      ]
     },
     "metadata": {},
     "output_type": "display_data"
    }
   ],
   "source": [
    "?lst.reverse"
   ]
  },
  {
   "cell_type": "code",
   "execution_count": 145,
   "id": "ec07e126-4d7c-4829-92bd-63d23baefd7d",
   "metadata": {},
   "outputs": [],
   "source": [
    "lst.reverse()"
   ]
  },
  {
   "cell_type": "code",
   "execution_count": 146,
   "id": "d2e3715f-8033-432e-a702-e0db8f85b00d",
   "metadata": {},
   "outputs": [
    {
     "data": {
      "text/plain": [
       "[2, 3, 23, 34, 45, 67, 89]"
      ]
     },
     "execution_count": 146,
     "metadata": {},
     "output_type": "execute_result"
    }
   ],
   "source": [
    "lst"
   ]
  },
  {
   "cell_type": "code",
   "execution_count": 147,
   "id": "f90b1cd8-d6aa-4c45-94f3-6a84078247da",
   "metadata": {},
   "outputs": [],
   "source": [
    "lst1 = ['a', 'b', 'c', 'd']"
   ]
  },
  {
   "cell_type": "code",
   "execution_count": 149,
   "id": "1c6b59d7-5332-4df2-90bb-c47b2d15fc9f",
   "metadata": {},
   "outputs": [],
   "source": [
    "new_lst1 = lst1"
   ]
  },
  {
   "cell_type": "code",
   "execution_count": 150,
   "id": "f7eee192-7d13-431d-8381-331c65a55911",
   "metadata": {},
   "outputs": [],
   "source": [
    "lst1[1] = 'bbbb'"
   ]
  },
  {
   "cell_type": "code",
   "execution_count": 151,
   "id": "c132d338-a0b8-499f-be86-ec66ee012283",
   "metadata": {},
   "outputs": [
    {
     "data": {
      "text/plain": [
       "['a', 'bbbb', 'c', 'd']"
      ]
     },
     "execution_count": 151,
     "metadata": {},
     "output_type": "execute_result"
    }
   ],
   "source": [
    "lst1"
   ]
  },
  {
   "cell_type": "code",
   "execution_count": 152,
   "id": "8ef80dd7-2be3-425c-88c3-8087236f18fb",
   "metadata": {},
   "outputs": [
    {
     "data": {
      "text/plain": [
       "['a', 'bbbb', 'c', 'd']"
      ]
     },
     "execution_count": 152,
     "metadata": {},
     "output_type": "execute_result"
    }
   ],
   "source": [
    "new_lst1"
   ]
  },
  {
   "cell_type": "code",
   "execution_count": 159,
   "id": "048fe4d6-7a8d-4700-8622-b3f38867a0c4",
   "metadata": {},
   "outputs": [],
   "source": [
    "lst1 = ['a', 'b', 'c', 'd']"
   ]
  },
  {
   "cell_type": "code",
   "execution_count": 158,
   "id": "0ad36604-c3eb-49df-a89b-93a5ccd690c1",
   "metadata": {},
   "outputs": [],
   "source": [
    "new_lst1 = lst1.copy()"
   ]
  },
  {
   "cell_type": "code",
   "execution_count": 160,
   "id": "55e22409-35c7-4bc7-9496-729f0cf564cd",
   "metadata": {},
   "outputs": [],
   "source": [
    "lst1[1] = 'bbbb'"
   ]
  },
  {
   "cell_type": "code",
   "execution_count": 161,
   "id": "eba560fc-418d-4dbf-b9eb-ae9a2759549a",
   "metadata": {},
   "outputs": [
    {
     "data": {
      "text/plain": [
       "['a', 'b', 'c', 'd']"
      ]
     },
     "execution_count": 161,
     "metadata": {},
     "output_type": "execute_result"
    }
   ],
   "source": [
    "new_lst1"
   ]
  },
  {
   "cell_type": "markdown",
   "id": "a62f45ae-aa84-4759-aad7-b03fbb5a4533",
   "metadata": {},
   "source": [
    "## working with sets"
   ]
  },
  {
   "cell_type": "code",
   "execution_count": 162,
   "id": "237a0563-a95d-4f31-9b6b-594b2aa3d2bd",
   "metadata": {},
   "outputs": [],
   "source": [
    "sst = {12,'item1', True, 12, 'item2'}"
   ]
  },
  {
   "cell_type": "code",
   "execution_count": 163,
   "id": "469e1f11-9dc0-40bb-844c-b95e7f8243b6",
   "metadata": {},
   "outputs": [
    {
     "name": "stdout",
     "output_type": "stream",
     "text": [
      "['__and__', '__class__', '__class_getitem__', '__contains__', '__delattr__', '__dir__', '__doc__', '__eq__', '__format__', '__ge__', '__getattribute__', '__gt__', '__hash__', '__iand__', '__init__', '__init_subclass__', '__ior__', '__isub__', '__iter__', '__ixor__', '__le__', '__len__', '__lt__', '__ne__', '__new__', '__or__', '__rand__', '__reduce__', '__reduce_ex__', '__repr__', '__ror__', '__rsub__', '__rxor__', '__setattr__', '__sizeof__', '__str__', '__sub__', '__subclasshook__', '__xor__', 'add', 'clear', 'copy', 'difference', 'difference_update', 'discard', 'intersection', 'intersection_update', 'isdisjoint', 'issubset', 'issuperset', 'pop', 'remove', 'symmetric_difference', 'symmetric_difference_update', 'union', 'update']\n"
     ]
    }
   ],
   "source": [
    "print(dir(sst))"
   ]
  },
  {
   "cell_type": "code",
   "execution_count": null,
   "id": "171a49e7-a7ca-475d-a5dd-3182b32cd64c",
   "metadata": {},
   "outputs": [],
   "source": [
    "??? Which functions are not present here in sets which are present in tuple as well as list???"
   ]
  },
  {
   "cell_type": "code",
   "execution_count": null,
   "id": "5f4c615b-a4ab-45fd-942f-d27cdc0b1cf2",
   "metadata": {},
   "outputs": [],
   "source": [
    "count\n",
    "index"
   ]
  },
  {
   "cell_type": "code",
   "execution_count": 164,
   "id": "f8055e15-3878-43ec-a46d-7c9aaebadb16",
   "metadata": {},
   "outputs": [
    {
     "data": {
      "text/plain": [
       "{12, True, 'item1', 'item2'}"
      ]
     },
     "execution_count": 164,
     "metadata": {},
     "output_type": "execute_result"
    }
   ],
   "source": [
    "sst"
   ]
  },
  {
   "cell_type": "code",
   "execution_count": null,
   "id": "de3c833b-e827-49e4-a0bb-3c1b795872a4",
   "metadata": {},
   "outputs": [],
   "source": [
    "a set cannot have duplicates"
   ]
  },
  {
   "cell_type": "code",
   "execution_count": null,
   "id": "61c48294-66af-4fcf-a395-a0d1e0fd2c61",
   "metadata": {},
   "outputs": [],
   "source": [
    "set is unordered - no specific position(index) is decided for items"
   ]
  },
  {
   "cell_type": "code",
   "execution_count": 165,
   "id": "2508e170-82c7-4e8f-89a6-4ba78ac9ccf0",
   "metadata": {},
   "outputs": [],
   "source": [
    "set1 = {'a', 'b', 'c', 'd'}"
   ]
  },
  {
   "cell_type": "code",
   "execution_count": 166,
   "id": "484b8dbb-9a21-4d5b-8d9d-22be948e8a3a",
   "metadata": {},
   "outputs": [],
   "source": [
    "set1.clear()"
   ]
  },
  {
   "cell_type": "code",
   "execution_count": 167,
   "id": "2ca43ba2-a057-4ce2-99e8-7f4c6a365073",
   "metadata": {},
   "outputs": [
    {
     "data": {
      "text/plain": [
       "set()"
      ]
     },
     "execution_count": 167,
     "metadata": {},
     "output_type": "execute_result"
    }
   ],
   "source": [
    "set1"
   ]
  },
  {
   "cell_type": "code",
   "execution_count": 170,
   "id": "831fb978-7310-4d1b-8238-8e652b41f2a3",
   "metadata": {},
   "outputs": [
    {
     "data": {
      "text/plain": [
       "list"
      ]
     },
     "execution_count": 170,
     "metadata": {},
     "output_type": "execute_result"
    }
   ],
   "source": [
    "type([])  # empty list"
   ]
  },
  {
   "cell_type": "code",
   "execution_count": 172,
   "id": "78b1b06e-e75c-4eca-8ed6-cfeac313b0c0",
   "metadata": {},
   "outputs": [
    {
     "data": {
      "text/plain": [
       "tuple"
      ]
     },
     "execution_count": 172,
     "metadata": {},
     "output_type": "execute_result"
    }
   ],
   "source": [
    "type(())  # empty tuple"
   ]
  },
  {
   "cell_type": "code",
   "execution_count": 174,
   "id": "71788cfc-f713-4aad-98a8-3a6117c570c4",
   "metadata": {},
   "outputs": [
    {
     "data": {
      "text/plain": [
       "set"
      ]
     },
     "execution_count": 174,
     "metadata": {},
     "output_type": "execute_result"
    }
   ],
   "source": [
    "type(set())  # empty set"
   ]
  },
  {
   "cell_type": "code",
   "execution_count": 175,
   "id": "a70e5afe-2dbc-40dd-9947-c3acfb485215",
   "metadata": {},
   "outputs": [
    {
     "data": {
      "text/plain": [
       "dict"
      ]
     },
     "execution_count": 175,
     "metadata": {},
     "output_type": "execute_result"
    }
   ],
   "source": [
    "type({})  # empty dictionary"
   ]
  },
  {
   "cell_type": "code",
   "execution_count": 176,
   "id": "643bd61a-40d9-418c-b51b-adc34c25f1b4",
   "metadata": {},
   "outputs": [],
   "source": [
    "set1 = {'a', 'b', 'c', 'd'}\n",
    "set2 = {'p', 'q', 'r', 'b', 'd'}"
   ]
  },
  {
   "cell_type": "code",
   "execution_count": 178,
   "id": "213b0cc3-56ee-4e30-81c0-984411003b34",
   "metadata": {},
   "outputs": [
    {
     "data": {
      "text/plain": [
       "{'a', 'b', 'c', 'd', 'p', 'q', 'r'}"
      ]
     },
     "execution_count": 178,
     "metadata": {},
     "output_type": "execute_result"
    }
   ],
   "source": [
    "set1.union(set2)"
   ]
  },
  {
   "cell_type": "code",
   "execution_count": 179,
   "id": "7e1112c9-f549-4367-91ab-2eb5c19d872b",
   "metadata": {},
   "outputs": [
    {
     "data": {
      "text/plain": [
       "{'b', 'd'}"
      ]
     },
     "execution_count": 179,
     "metadata": {},
     "output_type": "execute_result"
    }
   ],
   "source": [
    "set1.intersection(set2)"
   ]
  },
  {
   "cell_type": "code",
   "execution_count": 180,
   "id": "63b52242-e01d-4deb-9fbb-0a9908304af6",
   "metadata": {},
   "outputs": [
    {
     "data": {
      "text/plain": [
       "{'a', 'c', 'p', 'q', 'r'}"
      ]
     },
     "execution_count": 180,
     "metadata": {},
     "output_type": "execute_result"
    }
   ],
   "source": [
    "set1.symmetric_difference(set2)"
   ]
  },
  {
   "cell_type": "code",
   "execution_count": null,
   "id": "88a46ee4-cee7-429a-be41-115ddcca2383",
   "metadata": {},
   "outputs": [],
   "source": []
  }
 ],
 "metadata": {
  "kernelspec": {
   "display_name": "Python 3 [3.10]",
   "language": "python",
   "name": "python3"
  },
  "language_info": {
   "codemirror_mode": {
    "name": "ipython",
    "version": 3
   },
   "file_extension": ".py",
   "mimetype": "text/x-python",
   "name": "python",
   "nbconvert_exporter": "python",
   "pygments_lexer": "ipython3",
   "version": "3.10.2"
  }
 },
 "nbformat": 4,
 "nbformat_minor": 5
}
