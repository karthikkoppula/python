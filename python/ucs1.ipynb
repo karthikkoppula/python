{
 "cells": [
  {
   "cell_type": "code",
   "execution_count": 1,
   "id": "36452ece",
   "metadata": {},
   "outputs": [],
   "source": [
    "import os\n",
    "import requests\n",
    "from pprint import pprint\n",
    "import json\n",
    "import re\n",
    "import pandas as pd\n",
    "# from github import Github\n",
    "import pdb\n",
    "import yaml\n",
    "import plotly.express as px\n",
    "from datetime import datetime, date, timedelta\n",
    "from ast import literal_eval\n",
    "import PyPDF2"
   ]
  },
  {
   "cell_type": "code",
   "execution_count": 2,
   "id": "4da5db22",
   "metadata": {},
   "outputs": [],
   "source": [
    "import pandas as pd"
   ]
  },
  {
   "cell_type": "code",
   "execution_count": 3,
   "id": "af79cfc1",
   "metadata": {},
   "outputs": [],
   "source": [
    "def laas_yaml():\n",
    "    laas_excel = \"Device_pool_updated.xlsx\"\n",
    "    ucs_info = pd.read_excel(laas_excel, sheet_name = \"UCS\")\n",
    "#     print(ucs_info)\n",
    "    rack_numbers = ['PP27','PP28']\n",
    "    \n",
    "    \n",
    "    for rack_number in rack_numbers:\n",
    "        rack_info = pd.read_excel(laas_excel, sheet_name=rack_number)\n",
    "#         print(rack_info)\n",
    "        routers = [48,56,64]\n",
    "    \n",
    "        \n",
    "        for router in routers:\n",
    "            try:\n",
    "                with open('dev_ENG-RTP-VTST-52_2345.yaml','r') as file:\n",
    "#                     print(file)\n",
    "                    demo_yaml=yaml.safe_load(file)\n",
    "#                     print(demo_yaml)\n",
    "                    \n",
    "                print(\"Router number is {}\".format(router))\n",
    "                ucs_peer = rack_info['Peer'][router]\n",
    "                print(ucs_peer)\n",
    "                \n",
    "                ucs_details = ucs_info[ucs_info['Hostname']==ucs_peer]\n",
    "                print(ucs_details)\n",
    "                \n",
    "                \n",
    "                core=ucs_info('Cores').iloc[0]\n",
    "                #print(core)\n",
    "                memory=ucs_info('Memory').iloc[0]\n",
    "                #print(memory)\n",
    "                \n",
    "                name = 'SDWAN-POOL/SDWAN-VTEST/SDWAN-VTEST-L1SW/SDWAN-VTEST-RACK{}CORE/{}'.format(cores,peer)\n",
    "#                 print(name)\n",
    "                location = 'BGL11/3/{}/{}'.format(rack_number[0]+rack_number[1],rack_number[2]+rack_number[3])\n",
    "                email = 'eng-bgl-laas-admin@cisco.com'\n",
    "                             \n",
    "                host_ip = ucs_details['Host IP'].iloc[0].strip()              \n",
    "                netmask = 22\n",
    "                gateway = '10.104.33.1'\n",
    "                tags=[core,memory,peer]\n",
    "                \n",
    "                ucs_yaml = demo_yaml\n",
    "                ucs_yaml['name'] = name\n",
    "#                 print(name)\n",
    "                ucs_yaml['location'] = location\n",
    "                ucs_yaml['owner']['email'] = email\n",
    "#                 router_yaml['management']['ip-address'] = mgmt_ip\n",
    "                ucs_yaml['management']['gateway'] = gateway \n",
    "                ucs_yaml['management']['ip-address']=host_ip\n",
    "                ucs_yaml['management']['netmask-bits']=netmask\n",
    "                \n",
    "                ucs_yaml['tags'][1]['tags']=\"Cores - \"+str(tag[0])\n",
    "                ucs_yaml['tags'][2]['tags']=\"memory - \"+str(tag[1])\n",
    "                ucs_yaml['tags'][3]['tags']=\"Peer - \"+str(tag[2])                \n",
    "                ucs_yaml['misc'] = ''\n",
    "                ucs_yaml['tftp'] = ''\n",
    "                \n",
    "                ucs_yaml['connections'][0]['TenGigabitEthernet 0/0/0']['eng-blr-aci-spine1'] = rack_info[' Leaf Node# and Intf'][0+router]\n",
    "                ucs_yaml['connections'][1]['TenGigabitEthernet 0/0/1']['eng-blr-aci-spine1'] = rack_info[' Leaf Node# and Intf'][1+router]\n",
    "                ucs_yaml['connections'][2]['TenGigabitEthernet 0/0/2']['eng-blr-aci-spine1'] = rack_info[' Leaf Node# and Intf'][2+router]\n",
    "                ucs_yaml['connections'][3]['TenGigabitEthernet 0/0/3']['eng-blr-aci-spine1'] = rack_info[' Leaf Node# and Intf'][3+router]\n",
    "                ucs_yaml['connections'][4]['TenGigabitEthernet 0/0/4']['eng-blr-aci-spine1'] = rack_info[' Leaf Node# and Intf'][4+router]\n",
    "                ucs_yaml['connections'][5]['TenGigabitEthernet 0/0/5']['eng-blr-aci-spine1'] = rack_info[' Leaf Node# and Intf'][5+router]\n",
    "                ucs_yaml['connections'][6]['TenGigabitEthernet 0/0/6']['eng-blr-aci-spine1'] = rack_info[' Leaf Node# and Intf'][6+router]\n",
    "                ucs_yaml['connections'][7]['TenGigabitEthernet 0/0/7']['eng-blr-aci-spine1'] = rack_info[' Leaf Node# and Intf'][7+router]\n",
    "\n",
    "                yaml_filename = \"Junk/LaaS/Outfiles/dev_ENG-BGL-POOL-{}.yaml\".format(ucs_peer)\n",
    "                with open(yaml_filename, 'w') as file:\n",
    "                    yaml.dump(ucs_yaml, file,default_flow_style=False)\n",
    "                    print(\"yaml file generated\",yaml_filename)\n",
    "            except:\n",
    "                print(\"router not found\")\n",
    "                "
   ]
  },
  {
   "cell_type": "code",
   "execution_count": 4,
   "id": "92448ade",
   "metadata": {},
   "outputs": [
    {
     "name": "stdout",
     "output_type": "stream",
     "text": [
      "router not found\n",
      "router not found\n",
      "router not found\n",
      "router not found\n",
      "router not found\n",
      "router not found\n"
     ]
    }
   ],
   "source": [
    "laas_yaml()"
   ]
  },
  {
   "cell_type": "code",
   "execution_count": null,
   "id": "a086a4ff",
   "metadata": {},
   "outputs": [],
   "source": []
  }
 ],
 "metadata": {
  "kernelspec": {
   "display_name": "Python 3 (ipykernel)",
   "language": "python",
   "name": "python3"
  },
  "language_info": {
   "codemirror_mode": {
    "name": "ipython",
    "version": 3
   },
   "file_extension": ".py",
   "mimetype": "text/x-python",
   "name": "python",
   "nbconvert_exporter": "python",
   "pygments_lexer": "ipython3",
   "version": "3.11.5"
  }
 },
 "nbformat": 4,
 "nbformat_minor": 5
}
