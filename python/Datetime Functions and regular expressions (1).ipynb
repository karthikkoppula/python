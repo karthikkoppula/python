{
 "cells": [
  {
   "cell_type": "code",
   "execution_count": 2,
   "id": "989d01cf-69e2-43a1-a230-8f836a69faeb",
   "metadata": {},
   "outputs": [],
   "source": [
    "import pandas as pd"
   ]
  },
  {
   "cell_type": "code",
   "execution_count": 3,
   "id": "54507527-d5a8-42aa-b5a5-6e009adba8b4",
   "metadata": {},
   "outputs": [],
   "source": [
    "ss = pd.Series(['20221031', '12102021', '10-31-2022', '31JAN2022', '121211'])"
   ]
  },
  {
   "cell_type": "code",
   "execution_count": 4,
   "id": "fb4fa304-12df-406f-b5ec-b3c6399e631a",
   "metadata": {},
   "outputs": [
    {
     "data": {
      "text/plain": [
       "'20221031'"
      ]
     },
     "execution_count": 4,
     "metadata": {},
     "output_type": "execute_result"
    }
   ],
   "source": [
    "ss[0]"
   ]
  },
  {
   "cell_type": "code",
   "execution_count": 6,
   "id": "2b7e0313-2d20-4c9f-b24f-9dea88820e64",
   "metadata": {},
   "outputs": [
    {
     "data": {
      "text/plain": [
       "pandas.core.series.Series"
      ]
     },
     "execution_count": 6,
     "metadata": {},
     "output_type": "execute_result"
    }
   ],
   "source": [
    "type(ss)"
   ]
  },
  {
   "cell_type": "code",
   "execution_count": 7,
   "id": "3ddfc45b-062e-4969-9f25-f5e814b07d21",
   "metadata": {},
   "outputs": [
    {
     "data": {
      "text/plain": [
       "Timestamp('2022-10-31 00:00:00')"
      ]
     },
     "execution_count": 7,
     "metadata": {},
     "output_type": "execute_result"
    }
   ],
   "source": [
    "pd.to_datetime(ss[0])"
   ]
  },
  {
   "cell_type": "code",
   "execution_count": 9,
   "id": "7fb946fd-9a6e-47a6-9b14-2c9773762dbf",
   "metadata": {},
   "outputs": [
    {
     "data": {
      "text/plain": [
       "Timestamp('2021-10-12 00:00:00')"
      ]
     },
     "execution_count": 9,
     "metadata": {},
     "output_type": "execute_result"
    }
   ],
   "source": [
    "pd.to_datetime(ss[1], format = '%d%m%Y')"
   ]
  },
  {
   "cell_type": "code",
   "execution_count": 10,
   "id": "dc8ebea1-ff17-4e4a-9580-f455b549bd1e",
   "metadata": {},
   "outputs": [
    {
     "data": {
      "text/plain": [
       "Timestamp('2022-10-31 00:00:00')"
      ]
     },
     "execution_count": 10,
     "metadata": {},
     "output_type": "execute_result"
    }
   ],
   "source": [
    "pd.to_datetime(ss[2], format = '%m-%d-%Y')"
   ]
  },
  {
   "cell_type": "code",
   "execution_count": 11,
   "id": "021c66dd-6cbd-4ee4-81f7-800952e1e5a9",
   "metadata": {},
   "outputs": [
    {
     "data": {
      "text/plain": [
       "Timestamp('2022-01-31 00:00:00')"
      ]
     },
     "execution_count": 11,
     "metadata": {},
     "output_type": "execute_result"
    }
   ],
   "source": [
    "pd.to_datetime(ss[3], format = '%d%b%Y')"
   ]
  },
  {
   "cell_type": "code",
   "execution_count": 12,
   "id": "55800153-d0de-4aee-b59e-4c07223d2add",
   "metadata": {},
   "outputs": [
    {
     "data": {
      "text/plain": [
       "Timestamp('2012-12-11 00:00:00')"
      ]
     },
     "execution_count": 12,
     "metadata": {},
     "output_type": "execute_result"
    }
   ],
   "source": [
    "pd.to_datetime(ss[4], format = '%y%m%d')"
   ]
  },
  {
   "cell_type": "code",
   "execution_count": 15,
   "id": "aa5dea5b-d01c-4f74-9fd2-329482da1d61",
   "metadata": {},
   "outputs": [],
   "source": [
    "import datetime as dt\n",
    "import dateutil"
   ]
  },
  {
   "cell_type": "code",
   "execution_count": 16,
   "id": "3068afc9-b5cb-47b3-a5f2-19b267ac93a9",
   "metadata": {},
   "outputs": [
    {
     "data": {
      "text/plain": [
       "datetime.datetime(2023, 8, 30, 6, 38, 55, 85092)"
      ]
     },
     "execution_count": 16,
     "metadata": {},
     "output_type": "execute_result"
    }
   ],
   "source": [
    "dt.datetime.today()"
   ]
  },
  {
   "cell_type": "code",
   "execution_count": 18,
   "id": "13bb8916-a7ea-4589-aeb6-b7421729bc48",
   "metadata": {},
   "outputs": [
    {
     "data": {
      "text/plain": [
       "datetime.datetime(2023, 8, 30, 6, 39, 14, 183913)"
      ]
     },
     "execution_count": 18,
     "metadata": {},
     "output_type": "execute_result"
    }
   ],
   "source": [
    "dt.datetime.utcnow()"
   ]
  },
  {
   "cell_type": "code",
   "execution_count": 21,
   "id": "2dc043ea-c62d-478d-b2ed-f54151d51c00",
   "metadata": {},
   "outputs": [
    {
     "data": {
      "text/plain": [
       "datetime.date(1984, 4, 2)"
      ]
     },
     "execution_count": 21,
     "metadata": {},
     "output_type": "execute_result"
    }
   ],
   "source": [
    "my_dob = dt.date(1984,4,2)\n",
    "my_dob"
   ]
  },
  {
   "cell_type": "code",
   "execution_count": 23,
   "id": "4d721f2e-30c8-4b3c-b16d-259a8a4293c9",
   "metadata": {},
   "outputs": [
    {
     "data": {
      "text/plain": [
       "datetime.datetime(1984, 4, 2, 0, 0)"
      ]
     },
     "execution_count": 23,
     "metadata": {},
     "output_type": "execute_result"
    }
   ],
   "source": [
    "date_f_birth = dt.datetime(1984,4,2)\n",
    "date_f_birth"
   ]
  },
  {
   "cell_type": "markdown",
   "id": "bb61fa39-989e-4a57-a691-b514d18e3f8d",
   "metadata": {},
   "source": [
    "### How to calculate age"
   ]
  },
  {
   "cell_type": "code",
   "execution_count": 25,
   "id": "e8385f0d-5323-4a44-beed-276114f235e9",
   "metadata": {},
   "outputs": [
    {
     "data": {
      "text/plain": [
       "datetime.timedelta(days=14394, seconds=24165, microseconds=78595)"
      ]
     },
     "execution_count": 25,
     "metadata": {},
     "output_type": "execute_result"
    }
   ],
   "source": [
    "dt.datetime.today() - date_f_birth"
   ]
  },
  {
   "cell_type": "code",
   "execution_count": 26,
   "id": "cb797e8c-510c-4c7a-ad7a-f018e34feefd",
   "metadata": {},
   "outputs": [],
   "source": [
    "diff = dt.datetime.today() - date_f_birth"
   ]
  },
  {
   "cell_type": "code",
   "execution_count": 27,
   "id": "04ffbfd9-8300-47d5-9348-1071164d1e1f",
   "metadata": {},
   "outputs": [
    {
     "data": {
      "text/plain": [
       "1243665784.824222"
      ]
     },
     "execution_count": 27,
     "metadata": {},
     "output_type": "execute_result"
    }
   ],
   "source": [
    "diff.total_seconds()"
   ]
  },
  {
   "cell_type": "code",
   "execution_count": 28,
   "id": "2886962f-a19a-4604-a4ef-6b232d693207",
   "metadata": {},
   "outputs": [
    {
     "data": {
      "text/plain": [
       "24184"
      ]
     },
     "execution_count": 28,
     "metadata": {},
     "output_type": "execute_result"
    }
   ],
   "source": [
    "diff.seconds"
   ]
  },
  {
   "cell_type": "code",
   "execution_count": null,
   "id": "525dbd3a-e862-42b1-bfb3-5f0606ad47a1",
   "metadata": {},
   "outputs": [],
   "source": [
    "Age in months"
   ]
  },
  {
   "cell_type": "code",
   "execution_count": 31,
   "id": "59ee0f00-8b20-4ef1-8672-1778f16f870f",
   "metadata": {},
   "outputs": [
    {
     "data": {
      "text/plain": [
       "472"
      ]
     },
     "execution_count": 31,
     "metadata": {},
     "output_type": "execute_result"
    }
   ],
   "source": [
    "(dt.datetime.today().year - date_f_birth.year)*12 + (dt.datetime.today().month - date_f_birth.month)"
   ]
  },
  {
   "cell_type": "code",
   "execution_count": 32,
   "id": "184e12fa-5cff-4c17-8473-2837a49e5c54",
   "metadata": {},
   "outputs": [
    {
     "data": {
      "text/plain": [
       "relativedelta(years=+39, months=+4, days=+28, hours=+6, minutes=+47, seconds=+42, microseconds=+630092)"
      ]
     },
     "execution_count": 32,
     "metadata": {},
     "output_type": "execute_result"
    }
   ],
   "source": [
    "dateutil.relativedelta.relativedelta(dt.datetime.today(), date_f_birth)"
   ]
  },
  {
   "cell_type": "code",
   "execution_count": 36,
   "id": "c98df5bb-d111-43bd-8b1b-dcb5aae5180e",
   "metadata": {},
   "outputs": [
    {
     "data": {
      "text/plain": [
       "datetime.datetime(2023, 8, 30, 0, 0)"
      ]
     },
     "execution_count": 36,
     "metadata": {},
     "output_type": "execute_result"
    }
   ],
   "source": [
    "date1 = dt.datetime(2023, 8, 30)\n",
    "date1"
   ]
  },
  {
   "cell_type": "code",
   "execution_count": 37,
   "id": "f5ff039b-2335-4f03-bbd3-02b9c11387f9",
   "metadata": {},
   "outputs": [
    {
     "data": {
      "text/plain": [
       "datetime.datetime(2018, 4, 28, 0, 0)"
      ]
     },
     "execution_count": 37,
     "metadata": {},
     "output_type": "execute_result"
    }
   ],
   "source": [
    "# find date 5 years, 4 months and 2 days before date1 \n",
    "\n",
    "date1 + dateutil.relativedelta.relativedelta(years = -5, months = -4, days = -2)"
   ]
  },
  {
   "cell_type": "code",
   "execution_count": 38,
   "id": "892acfe6-d5a5-4b72-9402-40a9b5c20300",
   "metadata": {},
   "outputs": [
    {
     "data": {
      "text/plain": [
       "datetime.datetime(2016, 5, 1, 0, 0)"
      ]
     },
     "execution_count": 38,
     "metadata": {},
     "output_type": "execute_result"
    }
   ],
   "source": [
    "# get the 1st day of the month 7 years and 3 months back\n",
    "\n",
    "date1 + dateutil.relativedelta.relativedelta(years = -7, months = -3, day = 1)"
   ]
  },
  {
   "cell_type": "markdown",
   "id": "6a0a2657-1337-4ee7-971e-da5263f7c576",
   "metadata": {},
   "source": [
    "## Regular Expressions"
   ]
  },
  {
   "cell_type": "raw",
   "id": "30777e10-82bf-4822-95db-8fd065727166",
   "metadata": {},
   "source": [
    "Overview of text functions"
   ]
  },
  {
   "cell_type": "code",
   "execution_count": 1,
   "id": "9e6c8822-9514-4b52-b5cf-717bfa4e7c36",
   "metadata": {},
   "outputs": [],
   "source": [
    "name = ' sHubham pAndeY'"
   ]
  },
  {
   "cell_type": "code",
   "execution_count": 2,
   "id": "02c0682b-eedb-4236-bc5f-393878179814",
   "metadata": {},
   "outputs": [
    {
     "data": {
      "text/plain": [
       "'sHubham pAndeY'"
      ]
     },
     "execution_count": 2,
     "metadata": {},
     "output_type": "execute_result"
    }
   ],
   "source": [
    "name.strip()"
   ]
  },
  {
   "cell_type": "code",
   "execution_count": 3,
   "id": "8f394b94-a1b2-45aa-ae2b-e939ddc9b521",
   "metadata": {},
   "outputs": [
    {
     "data": {
      "text/plain": [
       "'Shubham Pandey'"
      ]
     },
     "execution_count": 3,
     "metadata": {},
     "output_type": "execute_result"
    }
   ],
   "source": [
    "name.strip().title()"
   ]
  },
  {
   "cell_type": "code",
   "execution_count": 4,
   "id": "7006a4ff-3743-4687-8fdd-9c5a56d2b63a",
   "metadata": {},
   "outputs": [
    {
     "data": {
      "text/plain": [
       "'a_b_c'"
      ]
     },
     "execution_count": 4,
     "metadata": {},
     "output_type": "execute_result"
    }
   ],
   "source": [
    "'_'.join(['a','b','c'])"
   ]
  },
  {
   "cell_type": "code",
   "execution_count": 5,
   "id": "ff827795-5d2e-4619-8207-9bbd02678d81",
   "metadata": {},
   "outputs": [
    {
     "data": {
      "text/plain": [
       "'s_h_u_b_h_a_m'"
      ]
     },
     "execution_count": 5,
     "metadata": {},
     "output_type": "execute_result"
    }
   ],
   "source": [
    "'_'.join('shubham')"
   ]
  },
  {
   "cell_type": "code",
   "execution_count": 6,
   "id": "9a7254b4-fdfd-4c48-8520-4064076f6de0",
   "metadata": {},
   "outputs": [
    {
     "data": {
      "text/plain": [
       "['shubham', 'pandey']"
      ]
     },
     "execution_count": 6,
     "metadata": {},
     "output_type": "execute_result"
    }
   ],
   "source": [
    "'shubham pandey'.split()"
   ]
  },
  {
   "cell_type": "code",
   "execution_count": 7,
   "id": "a97fb4e0-b4eb-4e2e-adf5-fc11a9d61f4d",
   "metadata": {},
   "outputs": [
    {
     "data": {
      "text/plain": [
       "'shubham pandey'"
      ]
     },
     "execution_count": 7,
     "metadata": {},
     "output_type": "execute_result"
    }
   ],
   "source": [
    "'{} {}'.format('shubham','pandey')"
   ]
  },
  {
   "cell_type": "code",
   "execution_count": 8,
   "id": "f3c519f0-c2ce-4760-b304-a745e7d63cc0",
   "metadata": {},
   "outputs": [
    {
     "data": {
      "text/plain": [
       "'shubham 40'"
      ]
     },
     "execution_count": 8,
     "metadata": {},
     "output_type": "execute_result"
    }
   ],
   "source": [
    "'{} {}'.format('shubham',40)"
   ]
  },
  {
   "cell_type": "code",
   "execution_count": 9,
   "id": "59897e63-5a18-471d-b683-98aa59ec7846",
   "metadata": {},
   "outputs": [
    {
     "data": {
      "text/plain": [
       "'40 shubham'"
      ]
     },
     "execution_count": 9,
     "metadata": {},
     "output_type": "execute_result"
    }
   ],
   "source": [
    "'{1} {0}'.format('shubham',40)"
   ]
  },
  {
   "cell_type": "code",
   "execution_count": 10,
   "id": "872378f6-f24e-4dcf-8116-594bbe5d7314",
   "metadata": {},
   "outputs": [],
   "source": [
    "descr = 'My name is {} and I am a {}'"
   ]
  },
  {
   "cell_type": "code",
   "execution_count": 11,
   "id": "70b7c935-5a26-4210-9987-f78c0f81841c",
   "metadata": {},
   "outputs": [
    {
     "data": {
      "text/plain": [
       "'My name is shubham and I am a teacher'"
      ]
     },
     "execution_count": 11,
     "metadata": {},
     "output_type": "execute_result"
    }
   ],
   "source": [
    "descr.format('shubham', 'teacher')"
   ]
  },
  {
   "cell_type": "code",
   "execution_count": 12,
   "id": "7b1ce749-8998-44a7-9229-b19d4b9eaba5",
   "metadata": {},
   "outputs": [],
   "source": [
    "txt = \"It is a big 15000 lines of program and I'll surely work to reduce it below 1000 lines\""
   ]
  },
  {
   "cell_type": "code",
   "execution_count": null,
   "id": "8e5be796-8c8f-4b04-98e5-a25c59362689",
   "metadata": {},
   "outputs": [],
   "source": [
    "Find all the numbers in the text above"
   ]
  },
  {
   "cell_type": "code",
   "execution_count": 13,
   "id": "acc6cab1-c19b-46fb-8068-2d1a19aacaee",
   "metadata": {},
   "outputs": [
    {
     "data": {
      "text/plain": [
       "False"
      ]
     },
     "execution_count": 13,
     "metadata": {},
     "output_type": "execute_result"
    }
   ],
   "source": [
    "'It'.isdigit()"
   ]
  },
  {
   "cell_type": "code",
   "execution_count": 14,
   "id": "55a02990-dc3e-400b-b9f7-f5f424197b27",
   "metadata": {},
   "outputs": [
    {
     "data": {
      "text/plain": [
       "True"
      ]
     },
     "execution_count": 14,
     "metadata": {},
     "output_type": "execute_result"
    }
   ],
   "source": [
    "'15000'.isdigit()"
   ]
  },
  {
   "cell_type": "code",
   "execution_count": 18,
   "id": "81d5ef4c-e478-498d-9032-1cd9ece831a9",
   "metadata": {},
   "outputs": [],
   "source": [
    "numbers = []\n",
    "\n",
    "for i in txt.split():\n",
    "    \n",
    "    if i.isdigit():\n",
    "        numbers.append(i)      "
   ]
  },
  {
   "cell_type": "code",
   "execution_count": 19,
   "id": "2e4f0e7a-30b1-416e-9259-ed52e37cba13",
   "metadata": {},
   "outputs": [
    {
     "data": {
      "text/plain": [
       "['15000', '1000']"
      ]
     },
     "execution_count": 19,
     "metadata": {},
     "output_type": "execute_result"
    }
   ],
   "source": [
    "numbers"
   ]
  },
  {
   "cell_type": "code",
   "execution_count": null,
   "id": "2b957938-c293-4ae1-90f0-e4743305247b",
   "metadata": {},
   "outputs": [],
   "source": [
    "123344            \\d*\n",
    "1234.5666         \\d*\\.\\d*\n",
    "1234.5666         \\d{4}\\.\\d{4}\n",
    "$1234.5666        \\$\\d{4}\\.\\d{4}\n",
    "1234-123-122      \\d{4}\\d{3}\\d{3}\n",
    "\n",
    "Australia         [A-Z]\\w*\n",
    "Europe"
   ]
  },
  {
   "cell_type": "code",
   "execution_count": 20,
   "id": "d30a775c-7e90-494d-bd9b-0a074fd5a1c3",
   "metadata": {},
   "outputs": [],
   "source": [
    "txt = \"It is a big 15000 lines of program and I'll surely work to reduce it below 1000 lines\""
   ]
  },
  {
   "cell_type": "code",
   "execution_count": 21,
   "id": "ef35ef09-83e3-40a2-bb3c-42b590af2508",
   "metadata": {},
   "outputs": [],
   "source": [
    "import re"
   ]
  },
  {
   "cell_type": "code",
   "execution_count": 25,
   "id": "0d814399-696b-4d53-b9c3-77a31cc80030",
   "metadata": {},
   "outputs": [
    {
     "name": "stdout",
     "output_type": "stream",
     "text": [
      "['', '', '', '', '', '', '', '', '', '', '', '', '15000', '', '', '', '', '', '', '', '', '', '', '', '', '', '', '', '', '', '', '', '', '', '', '', '', '', '', '', '', '', '', '', '', '', '', '', '', '', '', '', '', '', '', '', '', '', '', '', '', '', '', '', '', '', '', '', '', '', '', '1000', '', '', '', '', '', '', '']\n"
     ]
    }
   ],
   "source": [
    "print(re.findall('\\d*',txt))"
   ]
  },
  {
   "cell_type": "code",
   "execution_count": null,
   "id": "1e929980-694d-4b27-ac70-0886ac4ffde4",
   "metadata": {},
   "outputs": [],
   "source": [
    "x* - matches zero or more x's\n",
    "x+ - matches one or more x's\n",
    "x? - matches zero or one x\n",
    "x{m,n} - matches i x's where m<=i<=n\n",
    "x|y - matches x or y\n",
    "\"[x]\" - matches any one of a list of characters - \"[abc]\" matches 'a', 'b' or 'c'\n",
    "\"[^x]\" - matches any one character that is not included in x - \"[^abc]\" matches any single character except 'a', 'b' or 'c'\n",
    "\n",
    "parenthesis can be used for grouping\n",
    "\"(abc)+\" matches 'abc', 'abcabc', 'abcabcabc' etc."
   ]
  },
  {
   "cell_type": "code",
   "execution_count": 26,
   "id": "6ef19dc3-93cd-4c02-b73a-702496163953",
   "metadata": {},
   "outputs": [
    {
     "name": "stdout",
     "output_type": "stream",
     "text": [
      "['15000', '1000']\n"
     ]
    }
   ],
   "source": [
    "print(re.findall('\\d+',txt))"
   ]
  },
  {
   "cell_type": "code",
   "execution_count": 27,
   "id": "fdecad82-c0f6-4132-b666-45afbef6f484",
   "metadata": {},
   "outputs": [],
   "source": [
    "txt = 'I_love_excel; but_python_is_much_better_tool_for_AI, you know'"
   ]
  },
  {
   "cell_type": "code",
   "execution_count": 104,
   "id": "551604fb-f07d-4298-8b0f-da82208ff50a",
   "metadata": {},
   "outputs": [
    {
     "data": {
      "text/plain": [
       "['I_love_excel; but_python_is_much_better_tool_for_AI, you know']"
      ]
     },
     "execution_count": 104,
     "metadata": {},
     "output_type": "execute_result"
    }
   ],
   "source": [
    "txt.split(sep='; | ,')"
   ]
  },
  {
   "cell_type": "code",
   "execution_count": 105,
   "id": "f7d3ed92-ccc1-4ed6-b38c-705f6526231f",
   "metadata": {},
   "outputs": [],
   "source": [
    "import re"
   ]
  },
  {
   "cell_type": "code",
   "execution_count": 107,
   "id": "8ead0b31-7bd0-4c6f-9281-d34eafb227ba",
   "metadata": {},
   "outputs": [
    {
     "data": {
      "text/plain": [
       "['I_love_excel', ' but_python_is_much_better_tool_for_AI', ' you know']"
      ]
     },
     "execution_count": 107,
     "metadata": {},
     "output_type": "execute_result"
    }
   ],
   "source": [
    "re.split(';|,',txt)"
   ]
  },
  {
   "cell_type": "code",
   "execution_count": null,
   "id": "68224f2b-cad8-47fe-9262-cfc8c8d8f226",
   "metadata": {},
   "outputs": [],
   "source": [
    "Basic RE functions:\n",
    "    \n",
    "findall\n",
    "split\n",
    "search\n",
    "match\n",
    "sub\n",
    "compile"
   ]
  },
  {
   "cell_type": "code",
   "execution_count": null,
   "id": "30b49ac3-1bea-4ea2-ae93-c2d3971d3088",
   "metadata": {},
   "outputs": [],
   "source": [
    "search and match"
   ]
  },
  {
   "cell_type": "code",
   "execution_count": 29,
   "id": "552f2f0f-6e31-4b66-b375-71b208648c70",
   "metadata": {},
   "outputs": [
    {
     "data": {
      "text/plain": [
       "<re.Match object; span=(11, 13), match='ab'>"
      ]
     },
     "execution_count": 29,
     "metadata": {},
     "output_type": "execute_result"
    }
   ],
   "source": [
    "re.search('ab', 'here is an absolute string')  # looks for a pattern anywhere in the string"
   ]
  },
  {
   "cell_type": "code",
   "execution_count": 30,
   "id": "79222493-0b6d-459c-8d2b-8548a897f8f0",
   "metadata": {},
   "outputs": [],
   "source": [
    "re.match('ab', 'here is an absolute string')"
   ]
  },
  {
   "cell_type": "code",
   "execution_count": 32,
   "id": "e72b90bc-65d1-452f-8761-260821ba373c",
   "metadata": {},
   "outputs": [
    {
     "name": "stdout",
     "output_type": "stream",
     "text": [
      "None\n"
     ]
    }
   ],
   "source": [
    "print(re.match('ab', 'here is an absolute string')) # Match looks for a match at the begining of the string\n",
    "\n",
    "# Try to apply the pattern at the start of the string, returning\n",
    "# a Match object, or None if no match was found."
   ]
  },
  {
   "cell_type": "code",
   "execution_count": null,
   "id": "7a1e8384-23c3-4462-9acd-ae308551b3d6",
   "metadata": {},
   "outputs": [],
   "source": []
  }
 ],
 "metadata": {
  "kernelspec": {
   "display_name": "Python 3 [3.10]",
   "language": "python",
   "name": "python3"
  },
  "language_info": {
   "codemirror_mode": {
    "name": "ipython",
    "version": 3
   },
   "file_extension": ".py",
   "mimetype": "text/x-python",
   "name": "python",
   "nbconvert_exporter": "python",
   "pygments_lexer": "ipython3",
   "version": "3.10.2"
  }
 },
 "nbformat": 4,
 "nbformat_minor": 5
}
