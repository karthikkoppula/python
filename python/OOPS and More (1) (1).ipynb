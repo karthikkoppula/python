{
 "cells": [
  {
   "cell_type": "code",
   "execution_count": 1,
   "id": "bd612a35-3b68-44ef-88d7-20e427e005fd",
   "metadata": {},
   "outputs": [],
   "source": [
    "import os"
   ]
  },
  {
   "cell_type": "code",
   "execution_count": null,
   "id": "408a0cf8-9fb4-40f4-a7cd-46b86d9b5db2",
   "metadata": {},
   "outputs": [],
   "source": [
    "os.chdir('') # Change the current working directory to the specified path"
   ]
  },
  {
   "cell_type": "code",
   "execution_count": null,
   "id": "0f2da267-65e4-4e46-b539-708835c87fe6",
   "metadata": {},
   "outputs": [],
   "source": [
    "Classes and Objects"
   ]
  },
  {
   "cell_type": "code",
   "execution_count": null,
   "id": "b521b61f-5705-458e-8234-6565d04e5947",
   "metadata": {},
   "outputs": [],
   "source": [
    "Object: an entity in the real-world which can be distinctly identified\n",
    "\n",
    "1. indentity: it gives unique name to an object\n",
    "2. state/attribute: it reflects the properties of an object\n",
    "3. behavior: it reflects the response of an object with other objects"
   ]
  },
  {
   "cell_type": "code",
   "execution_count": null,
   "id": "a1460b13-e43f-4d82-bea4-3f0f56b7b6ea",
   "metadata": {},
   "outputs": [],
   "source": [
    "Object: car\n",
    "\n",
    "identity: reg no\n",
    "state/attribute: make/model/mileage/no of seats\n",
    "behavior/methods: drive, park, accelerate"
   ]
  },
  {
   "cell_type": "code",
   "execution_count": null,
   "id": "cacce567-0f8e-4940-8c34-aabaf4325f11",
   "metadata": {},
   "outputs": [],
   "source": [
    "Class - A class is a blueprint of an object. \n",
    "Objects with same property and methods are defined within one class"
   ]
  },
  {
   "cell_type": "code",
   "execution_count": null,
   "id": "72248770-3fa7-42ca-bea2-edcb442ecaf9",
   "metadata": {},
   "outputs": [],
   "source": [
    "Ex: you can have cars of same model within same class"
   ]
  },
  {
   "cell_type": "code",
   "execution_count": 1,
   "id": "be094b5b-60e5-4114-a3da-99e309359783",
   "metadata": {},
   "outputs": [],
   "source": [
    "class Employee:\n",
    "    \n",
    "    pass"
   ]
  },
  {
   "cell_type": "code",
   "execution_count": 2,
   "id": "50c8538f-b441-42b6-9329-8af53b1d7ee8",
   "metadata": {},
   "outputs": [],
   "source": [
    "employee1 = Employee()"
   ]
  },
  {
   "cell_type": "code",
   "execution_count": 3,
   "id": "682c98bf-3e90-44b1-80f5-c7eec701c8c2",
   "metadata": {},
   "outputs": [],
   "source": [
    "employee1.first = 'Shubham'\n",
    "employee1.last = 'Pandey'\n",
    "employee1.email = 'pandey.shubham@ymail.com'\n",
    "employee1.pay = 5000"
   ]
  },
  {
   "cell_type": "code",
   "execution_count": 4,
   "id": "bc67dcbb-80f8-4526-a1ec-56ab8ffb7930",
   "metadata": {},
   "outputs": [],
   "source": [
    "employee2 = Employee()"
   ]
  },
  {
   "cell_type": "code",
   "execution_count": 5,
   "id": "1b53740a-cbc1-4d1c-9e44-d550bdc903d0",
   "metadata": {},
   "outputs": [],
   "source": [
    "employee2.first = 'Yashwant'\n",
    "employee2.last = 'Mohan'\n",
    "employee2.email = 'yashwant.m@ymail.com'\n",
    "employee2.pay = 3000"
   ]
  },
  {
   "cell_type": "code",
   "execution_count": 7,
   "id": "c2cf5b70-4893-4832-add2-9d1740db5b3b",
   "metadata": {},
   "outputs": [
    {
     "data": {
      "text/plain": [
       "'Shubham'"
      ]
     },
     "execution_count": 7,
     "metadata": {},
     "output_type": "execute_result"
    }
   ],
   "source": [
    "employee1.first"
   ]
  },
  {
   "cell_type": "code",
   "execution_count": 8,
   "id": "a5d6dafe-d6b2-4613-8a70-f5084ca6e8ff",
   "metadata": {},
   "outputs": [],
   "source": [
    "class Employee:\n",
    "\n",
    "# we are going to create __init__ method within the class\n",
    "# it is used to instantiate and intialize. They are termed as constructors\n",
    "    \n",
    "    \n",
    "    def __init__(self, first, last, pay):\n",
    "        \n",
    "        self.first = first\n",
    "        self.last = last\n",
    "        self.pay = pay\n",
    "        self.email = last + '.' + first + \"@ymail.com\"\n",
    "        \n",
    "# when we create a method within a class\n",
    "# they receive the instance as the first argument automatically\n",
    "# by convention we should call it self"
   ]
  },
  {
   "cell_type": "code",
   "execution_count": 9,
   "id": "4c69bd6c-a2c8-4f4e-a807-6b0ce3bf3d1c",
   "metadata": {},
   "outputs": [],
   "source": [
    "emp1 = Employee('shubham','pandey', 5000)"
   ]
  },
  {
   "cell_type": "code",
   "execution_count": null,
   "id": "cb5e3b9d-314c-41f3-9aa1-a905532dccb9",
   "metadata": {},
   "outputs": [
    {
     "data": {
      "text/plain": [
       "'pandey.shubham@ymail.com'"
      ]
     },
     "execution_count": 10,
     "metadata": {},
     "output_type": "execute_result"
    }
   ],
   "source": [
    "emp1.email"
   ]
  },
  {
   "cell_type": "code",
   "execution_count": 11,
   "id": "8865258c-67bf-4593-a0d2-62b9502fbf64",
   "metadata": {},
   "outputs": [],
   "source": [
    "class Employee:\n",
    "   \n",
    "    def __init__(self, first, last, pay):\n",
    "        \n",
    "        self.first = first\n",
    "        self.last = last\n",
    "        self.pay = pay\n",
    "        self.email = last + '.' + first + \"@ymail.com\"\n",
    "        \n",
    "    def full_name(self):\n",
    "        \n",
    "        return '{} {}'.format(self.first, self.last)"
   ]
  },
  {
   "cell_type": "code",
   "execution_count": 3,
   "id": "82d29847-f174-44a3-a633-5a0cfb1173ab",
   "metadata": {},
   "outputs": [
    {
     "ename": "NameError",
     "evalue": "name 'Employee' is not defined",
     "output_type": "error",
     "traceback": [
      "\u001b[0;31m---------------------------------------------------------------------------\u001b[0m",
      "\u001b[0;31mNameError\u001b[0m                                 Traceback (most recent call last)",
      "Cell \u001b[0;32mIn[3], line 1\u001b[0m\n\u001b[0;32m----> 1\u001b[0m employee1 \u001b[39m=\u001b[39m Employee(\u001b[39m'\u001b[39m\u001b[39mShubham\u001b[39m\u001b[39m'\u001b[39m, \u001b[39m\"\u001b[39m\u001b[39mPandey\u001b[39m\u001b[39m\"\u001b[39m, \u001b[39m5000\u001b[39m)\n\u001b[1;32m      2\u001b[0m employee2 \u001b[39m=\u001b[39m Employee(\u001b[39m'\u001b[39m\u001b[39mAshutosh\u001b[39m\u001b[39m'\u001b[39m, \u001b[39m\"\u001b[39m\u001b[39mChauhan\u001b[39m\u001b[39m\"\u001b[39m, \u001b[39m1000\u001b[39m)\n",
      "\u001b[0;31mNameError\u001b[0m: name 'Employee' is not defined"
     ]
    }
   ],
   "source": [
    "employee1 = Employee('Shubham', \"Pandey\", 5000)\n",
    "employee2 = Employee('Ashutosh', \"Chauhan\", 1000)"
   ]
  },
  {
   "cell_type": "code",
   "execution_count": 2,
   "id": "202e3ae4-c047-4482-ac90-146cb48974e7",
   "metadata": {},
   "outputs": [
    {
     "ename": "NameError",
     "evalue": "name 'employee1' is not defined",
     "output_type": "error",
     "traceback": [
      "\u001b[0;31m---------------------------------------------------------------------------\u001b[0m",
      "\u001b[0;31mNameError\u001b[0m                                 Traceback (most recent call last)",
      "Cell \u001b[0;32mIn[2], line 1\u001b[0m\n\u001b[0;32m----> 1\u001b[0m employee1\u001b[39m.\u001b[39memail\n",
      "\u001b[0;31mNameError\u001b[0m: name 'employee1' is not defined"
     ]
    }
   ],
   "source": [
    "employee1.email"
   ]
  },
  {
   "cell_type": "code",
   "execution_count": 16,
   "id": "a8c05ebc-f6d4-4876-a50a-858c789e19c0",
   "metadata": {},
   "outputs": [
    {
     "data": {
      "text/plain": [
       "'Shubham Pandey'"
      ]
     },
     "execution_count": 16,
     "metadata": {},
     "output_type": "execute_result"
    }
   ],
   "source": [
    "employee1.full_name()"
   ]
  },
  {
   "cell_type": "code",
   "execution_count": 18,
   "id": "30d07e2e-ddfb-4673-8c86-4327e64b90c1",
   "metadata": {},
   "outputs": [
    {
     "data": {
      "text/plain": [
       "'Shubham Pandey'"
      ]
     },
     "execution_count": 18,
     "metadata": {},
     "output_type": "execute_result"
    }
   ],
   "source": [
    "Employee.full_name(employee1)"
   ]
  },
  {
   "cell_type": "code",
   "execution_count": 19,
   "id": "54e2cafb-287b-4333-a840-433f88b238fe",
   "metadata": {},
   "outputs": [
    {
     "data": {
      "text/plain": [
       "'Ashutosh Chauhan'"
      ]
     },
     "execution_count": 19,
     "metadata": {},
     "output_type": "execute_result"
    }
   ],
   "source": [
    "Employee.full_name(employee2)"
   ]
  },
  {
   "cell_type": "code",
   "execution_count": 20,
   "id": "1a24b24a-0822-4ca7-9754-0345ab1225e9",
   "metadata": {},
   "outputs": [
    {
     "name": "stdout",
     "output_type": "stream",
     "text": [
      "Shubham Pandey \n",
      " Shubham Pandey\n"
     ]
    }
   ],
   "source": [
    "print(Employee.full_name(employee1),'\\n', employee1.full_name())"
   ]
  },
  {
   "cell_type": "raw",
   "id": "7e7e61b4-5855-4857-9ab0-5bbea824f70e",
   "metadata": {},
   "source": [
    "In the first case - we are calling the method from the class - it does not know the instance"
   ]
  },
  {
   "cell_type": "markdown",
   "id": "fd936a8e-aa0e-4f9a-ab01-50d9e4e64cbf",
   "metadata": {},
   "source": [
    "### Constructors"
   ]
  },
  {
   "cell_type": "markdown",
   "id": "325ca800-75d5-40b4-b7f3-6075bca2142a",
   "metadata": {},
   "source": [
    "##  __init__\n",
    "\n",
    "- This is invoked everytime an object of that class is created\n",
    "- It initializes the object attributes and can take any no of arguments\n",
    "- It is used within the class"
   ]
  },
  {
   "cell_type": "code",
   "execution_count": null,
   "id": "998df52a-d02d-467a-9617-bcbb6bc97c9a",
   "metadata": {},
   "outputs": [],
   "source": [
    "1. Default constructors\n",
    "\n",
    "which dont accept any argument. It's definition has only one argument - which is a reference to th instance being contructed\n",
    "\n",
    "2. Parameterized constructors\n",
    "\n",
    "Constrctors with parameters. First arg is self. Rest are provided by the programmer"
   ]
  },
  {
   "cell_type": "code",
   "execution_count": 21,
   "id": "98850585-4a03-43cc-a892-782b81878710",
   "metadata": {},
   "outputs": [],
   "source": [
    "class simplilearn:\n",
    "    \n",
    "    # default constrcutor\n",
    "    \n",
    "    def __init__(self):\n",
    "        \n",
    "        self.learn = 'simplilearn'\n",
    "    \n",
    "    # a method for printing data members\n",
    "    \n",
    "    def print_learn(self):\n",
    "        \n",
    "        print(self.learn)"
   ]
  },
  {
   "cell_type": "code",
   "execution_count": 22,
   "id": "da5317be-78d5-4829-a361-8b8cd8378cf9",
   "metadata": {},
   "outputs": [],
   "source": [
    "# create object of the class\n",
    "\n",
    "obj = simplilearn()"
   ]
  },
  {
   "cell_type": "code",
   "execution_count": 23,
   "id": "950f2662-57b5-4c12-838f-4c016de8b8fa",
   "metadata": {},
   "outputs": [
    {
     "name": "stdout",
     "output_type": "stream",
     "text": [
      "simplilearn\n"
     ]
    }
   ],
   "source": [
    "obj.print_learn()"
   ]
  },
  {
   "cell_type": "code",
   "execution_count": 25,
   "id": "852502dd-acd6-4db7-a8f4-a23ca9bf107a",
   "metadata": {},
   "outputs": [],
   "source": [
    "# Example of parametrized constructor\n",
    "\n",
    "class addition:\n",
    "    \n",
    "    first = 0\n",
    "    second = 0\n",
    "    answer = 0\n",
    "    \n",
    "    def __init__(self, f, s):\n",
    "        \n",
    "        self.first = f\n",
    "        self.second = s\n",
    "        \n",
    "    def display(self):\n",
    "        print(self.first)\n",
    "        print(self.second)\n",
    "        print(self.answer)\n",
    "        \n",
    "    def calculate(self):\n",
    "        self.answer = self.first + self.second"
   ]
  },
  {
   "cell_type": "code",
   "execution_count": 26,
   "id": "c444e296-7164-49fe-8106-7ed105266837",
   "metadata": {},
   "outputs": [],
   "source": [
    "obj = addition(150, 250)"
   ]
  },
  {
   "cell_type": "code",
   "execution_count": 27,
   "id": "41909259-9239-4938-afc0-d1738cc59d0b",
   "metadata": {},
   "outputs": [
    {
     "name": "stdout",
     "output_type": "stream",
     "text": [
      "150\n",
      "250\n",
      "0\n"
     ]
    }
   ],
   "source": [
    "obj.display()"
   ]
  },
  {
   "cell_type": "code",
   "execution_count": 28,
   "id": "bc7e9553-90bf-4497-bbff-68864266db2f",
   "metadata": {},
   "outputs": [],
   "source": [
    "obj.calculate()"
   ]
  },
  {
   "cell_type": "code",
   "execution_count": 29,
   "id": "2d5a96ac-ae38-4902-bcc2-fed0cf55c01d",
   "metadata": {},
   "outputs": [
    {
     "name": "stdout",
     "output_type": "stream",
     "text": [
      "150\n",
      "250\n",
      "400\n"
     ]
    }
   ],
   "source": [
    "obj.display()"
   ]
  },
  {
   "cell_type": "code",
   "execution_count": 30,
   "id": "af7ee236-8ef2-4bdd-808e-4ccf7db5d8f6",
   "metadata": {},
   "outputs": [],
   "source": [
    "class addition:\n",
    "    \n",
    "    first = 0\n",
    "    second = 0\n",
    "    answer = 0\n",
    "    \n",
    "    def __init__(self, f, s):\n",
    "        \n",
    "        self.first = f\n",
    "        self.second = s\n",
    "        \n",
    "    def display(self):\n",
    "        print(self.first)\n",
    "        print(self.second)\n",
    "        print(self.answer)\n",
    "        \n",
    "    def calculate(self):\n",
    "        self.answer = self.first + self.second"
   ]
  },
  {
   "cell_type": "code",
   "execution_count": 31,
   "id": "0c473c7a-7f88-4df1-8125-08f65c4dd263",
   "metadata": {},
   "outputs": [
    {
     "name": "stdout",
     "output_type": "stream",
     "text": [
      "150\n",
      "250\n",
      "400\n"
     ]
    }
   ],
   "source": [
    "addition.display(obj)"
   ]
  },
  {
   "cell_type": "markdown",
   "id": "eeab03a7-b999-4766-bf49-879dbc7b471c",
   "metadata": {},
   "source": [
    "## Class variable and instance variable"
   ]
  },
  {
   "cell_type": "code",
   "execution_count": null,
   "id": "b9c888fc-59aa-46f5-9b9a-f5f33682bc9b",
   "metadata": {},
   "outputs": [],
   "source": [
    "Class variables are same for each instance\n",
    "instance variables are unique for each instance"
   ]
  },
  {
   "cell_type": "code",
   "execution_count": 32,
   "id": "be5f8501-7b25-4532-909c-a537e171c11d",
   "metadata": {},
   "outputs": [],
   "source": [
    "class Employee:\n",
    "    \n",
    "    def __init__(self, first, last, pay):\n",
    "        self.first = first\n",
    "        self.last = last\n",
    "        self.pay = pay\n",
    "        self.email = 'last' + '.' + 'first' + \"@ymail.com\"\n",
    "    \n",
    "    def full_name(self):\n",
    "        return '{} {}'.format(self.first, self.last)\n",
    "    \n",
    "    def raise_pay(self):\n",
    "        self.pay1 = int(self.pay * 1.05)\n",
    "        return self.pay1"
   ]
  },
  {
   "cell_type": "code",
   "execution_count": 33,
   "id": "0d5e2e72-78d6-474b-9769-7f3437e61781",
   "metadata": {},
   "outputs": [],
   "source": [
    "employee1 = Employee('Shubham', 'Pandey', 5000)\n",
    "employee2 = Employee('Ashutosh', 'Chauhan', 3000)"
   ]
  },
  {
   "cell_type": "code",
   "execution_count": 34,
   "id": "97297d9f-da69-47e4-ab8a-d6e0742b3adb",
   "metadata": {},
   "outputs": [
    {
     "data": {
      "text/plain": [
       "5250"
      ]
     },
     "execution_count": 34,
     "metadata": {},
     "output_type": "execute_result"
    }
   ],
   "source": [
    "Employee.raise_pay(employee1)"
   ]
  },
  {
   "cell_type": "code",
   "execution_count": 35,
   "id": "c7f987bb-602b-4e2f-a2a8-6d41ec2f0b7e",
   "metadata": {},
   "outputs": [
    {
     "data": {
      "text/plain": [
       "3150"
      ]
     },
     "execution_count": 35,
     "metadata": {},
     "output_type": "execute_result"
    }
   ],
   "source": [
    "Employee.raise_pay(employee2)"
   ]
  },
  {
   "cell_type": "code",
   "execution_count": 36,
   "id": "7c419c84-cf82-4077-99cd-1bc36931fd0e",
   "metadata": {},
   "outputs": [],
   "source": [
    "class Employee:\n",
    "    \n",
    "    raise_amount = 1.5\n",
    "    \n",
    "    def __init__(self, first, last, pay):\n",
    "        self.first = first\n",
    "        self.last = last\n",
    "        self.pay = pay\n",
    "        self.email = 'last' + '.' + 'first' + \"@ymail.com\"\n",
    "    \n",
    "    def full_name(self):\n",
    "        return '{} {}'.format(self.first, self.last)\n",
    "    \n",
    "    def raise_pay(self):\n",
    "        self.pay1 = int(self.pay * raise_amount)\n",
    "        return self.pay1"
   ]
  },
  {
   "cell_type": "code",
   "execution_count": 37,
   "id": "dfb5ba4a-ef87-4370-a538-7aafafaf48fb",
   "metadata": {},
   "outputs": [],
   "source": [
    "employee1 = Employee('Shubham', 'Pandey', 5000)\n",
    "employee2 = Employee('Ashutosh', 'Chauhan', 3000)"
   ]
  },
  {
   "cell_type": "code",
   "execution_count": 38,
   "id": "3a31b919-96f5-48da-a133-94a41766d1a4",
   "metadata": {},
   "outputs": [
    {
     "data": {
      "text/plain": [
       "1.5"
      ]
     },
     "execution_count": 38,
     "metadata": {},
     "output_type": "execute_result"
    }
   ],
   "source": [
    "Employee.raise_amount"
   ]
  },
  {
   "cell_type": "code",
   "execution_count": 39,
   "id": "a9f02048-0def-4100-a622-fc6f6fedd3f4",
   "metadata": {},
   "outputs": [
    {
     "data": {
      "text/plain": [
       "1.5"
      ]
     },
     "execution_count": 39,
     "metadata": {},
     "output_type": "execute_result"
    }
   ],
   "source": [
    "employee1.raise_amount"
   ]
  },
  {
   "cell_type": "code",
   "execution_count": 40,
   "id": "fe94271a-142d-476f-8ae9-8dba58f5988a",
   "metadata": {},
   "outputs": [
    {
     "data": {
      "text/plain": [
       "1.5"
      ]
     },
     "execution_count": 40,
     "metadata": {},
     "output_type": "execute_result"
    }
   ],
   "source": [
    "employee2.raise_amount"
   ]
  },
  {
   "cell_type": "code",
   "execution_count": 41,
   "id": "f1348d26-ea55-4e4a-abc4-b2b8d5da084f",
   "metadata": {},
   "outputs": [],
   "source": [
    "employee1.raise_amount = 1.1"
   ]
  },
  {
   "cell_type": "code",
   "execution_count": 42,
   "id": "67131c45-cd22-423e-b785-d1c70d536831",
   "metadata": {},
   "outputs": [
    {
     "name": "stdout",
     "output_type": "stream",
     "text": [
      "1.5 1.1 1.5\n"
     ]
    }
   ],
   "source": [
    "print(Employee.raise_amount, employee1.raise_amount, employee2.raise_amount)"
   ]
  },
  {
   "cell_type": "code",
   "execution_count": 43,
   "id": "1069c67c-0138-4dee-94b7-118e0e7deeb5",
   "metadata": {},
   "outputs": [
    {
     "ename": "NameError",
     "evalue": "name 'raise_amount' is not defined",
     "output_type": "error",
     "traceback": [
      "\u001b[0;31m---------------------------------------------------------------------------\u001b[0m",
      "\u001b[0;31mNameError\u001b[0m                                 Traceback (most recent call last)",
      "\u001b[0;32m/tmp/ipykernel_120/2459445043.py\u001b[0m in \u001b[0;36m<cell line: 1>\u001b[0;34m()\u001b[0m\n\u001b[0;32m----> 1\u001b[0;31m \u001b[0mEmployee\u001b[0m\u001b[0;34m.\u001b[0m\u001b[0mraise_pay\u001b[0m\u001b[0;34m(\u001b[0m\u001b[0memployee1\u001b[0m\u001b[0;34m)\u001b[0m\u001b[0;34m\u001b[0m\u001b[0;34m\u001b[0m\u001b[0m\n\u001b[0m",
      "\u001b[0;32m/tmp/ipykernel_120/2175675425.py\u001b[0m in \u001b[0;36mraise_pay\u001b[0;34m(self)\u001b[0m\n\u001b[1;32m     13\u001b[0m \u001b[0;34m\u001b[0m\u001b[0m\n\u001b[1;32m     14\u001b[0m     \u001b[0;32mdef\u001b[0m \u001b[0mraise_pay\u001b[0m\u001b[0;34m(\u001b[0m\u001b[0mself\u001b[0m\u001b[0;34m)\u001b[0m\u001b[0;34m:\u001b[0m\u001b[0;34m\u001b[0m\u001b[0;34m\u001b[0m\u001b[0m\n\u001b[0;32m---> 15\u001b[0;31m         \u001b[0mself\u001b[0m\u001b[0;34m.\u001b[0m\u001b[0mpay1\u001b[0m \u001b[0;34m=\u001b[0m \u001b[0mint\u001b[0m\u001b[0;34m(\u001b[0m\u001b[0mself\u001b[0m\u001b[0;34m.\u001b[0m\u001b[0mpay\u001b[0m \u001b[0;34m*\u001b[0m \u001b[0mraise_amount\u001b[0m\u001b[0;34m)\u001b[0m\u001b[0;34m\u001b[0m\u001b[0;34m\u001b[0m\u001b[0m\n\u001b[0m\u001b[1;32m     16\u001b[0m         \u001b[0;32mreturn\u001b[0m \u001b[0mself\u001b[0m\u001b[0;34m.\u001b[0m\u001b[0mpay1\u001b[0m\u001b[0;34m\u001b[0m\u001b[0;34m\u001b[0m\u001b[0m\n",
      "\u001b[0;31mNameError\u001b[0m: name 'raise_amount' is not defined"
     ]
    }
   ],
   "source": [
    "Employee.raise_pay(employee1)"
   ]
  },
  {
   "cell_type": "code",
   "execution_count": 44,
   "id": "8e571069-e069-4a47-871c-a9c2d0c42202",
   "metadata": {},
   "outputs": [
    {
     "ename": "NameError",
     "evalue": "name 'raise_amount' is not defined",
     "output_type": "error",
     "traceback": [
      "\u001b[0;31m---------------------------------------------------------------------------\u001b[0m",
      "\u001b[0;31mNameError\u001b[0m                                 Traceback (most recent call last)",
      "\u001b[0;32m/tmp/ipykernel_120/1381940758.py\u001b[0m in \u001b[0;36m<cell line: 1>\u001b[0;34m()\u001b[0m\n\u001b[0;32m----> 1\u001b[0;31m \u001b[0mEmployee\u001b[0m\u001b[0;34m.\u001b[0m\u001b[0mraise_pay\u001b[0m\u001b[0;34m(\u001b[0m\u001b[0memployee2\u001b[0m\u001b[0;34m)\u001b[0m\u001b[0;34m\u001b[0m\u001b[0;34m\u001b[0m\u001b[0m\n\u001b[0m",
      "\u001b[0;32m/tmp/ipykernel_120/2175675425.py\u001b[0m in \u001b[0;36mraise_pay\u001b[0;34m(self)\u001b[0m\n\u001b[1;32m     13\u001b[0m \u001b[0;34m\u001b[0m\u001b[0m\n\u001b[1;32m     14\u001b[0m     \u001b[0;32mdef\u001b[0m \u001b[0mraise_pay\u001b[0m\u001b[0;34m(\u001b[0m\u001b[0mself\u001b[0m\u001b[0;34m)\u001b[0m\u001b[0;34m:\u001b[0m\u001b[0;34m\u001b[0m\u001b[0;34m\u001b[0m\u001b[0m\n\u001b[0;32m---> 15\u001b[0;31m         \u001b[0mself\u001b[0m\u001b[0;34m.\u001b[0m\u001b[0mpay1\u001b[0m \u001b[0;34m=\u001b[0m \u001b[0mint\u001b[0m\u001b[0;34m(\u001b[0m\u001b[0mself\u001b[0m\u001b[0;34m.\u001b[0m\u001b[0mpay\u001b[0m \u001b[0;34m*\u001b[0m \u001b[0mraise_amount\u001b[0m\u001b[0;34m)\u001b[0m\u001b[0;34m\u001b[0m\u001b[0;34m\u001b[0m\u001b[0m\n\u001b[0m\u001b[1;32m     16\u001b[0m         \u001b[0;32mreturn\u001b[0m \u001b[0mself\u001b[0m\u001b[0;34m.\u001b[0m\u001b[0mpay1\u001b[0m\u001b[0;34m\u001b[0m\u001b[0;34m\u001b[0m\u001b[0m\n",
      "\u001b[0;31mNameError\u001b[0m: name 'raise_amount' is not defined"
     ]
    }
   ],
   "source": [
    "Employee.raise_pay(employee2)"
   ]
  },
  {
   "cell_type": "code",
   "execution_count": 45,
   "id": "3b059556-aaa7-49f2-a53f-830ec741fbd4",
   "metadata": {},
   "outputs": [],
   "source": [
    "class Employee:\n",
    "    \n",
    "    raise_amount = 1.5\n",
    "    \n",
    "    def __init__(self, first, last, pay):\n",
    "        self.first = first\n",
    "        self.last = last\n",
    "        self.pay = pay\n",
    "        self.email = 'last' + '.' + 'first' + \"@ymail.com\"\n",
    "    \n",
    "    def full_name(self):\n",
    "        return '{} {}'.format(self.first, self.last)\n",
    "    \n",
    "    def raise_pay(self):\n",
    "        self.pay1 = int(self.pay * raise_amount)\n",
    "        return self.pay1"
   ]
  },
  {
   "cell_type": "code",
   "execution_count": 46,
   "id": "239e9121-3732-4c11-8018-62b62171de60",
   "metadata": {},
   "outputs": [],
   "source": [
    "employee1 = Employee('Shubham', 'Pandey', 5000)\n",
    "employee2 = Employee('Ashutosh', 'Chauhan', 3000)"
   ]
  },
  {
   "cell_type": "code",
   "execution_count": 47,
   "id": "32fe5b91-1eb1-4ec0-a659-3aa08f54bfc7",
   "metadata": {},
   "outputs": [
    {
     "ename": "NameError",
     "evalue": "name 'raise_amount' is not defined",
     "output_type": "error",
     "traceback": [
      "\u001b[0;31m---------------------------------------------------------------------------\u001b[0m",
      "\u001b[0;31mNameError\u001b[0m                                 Traceback (most recent call last)",
      "\u001b[0;32m/tmp/ipykernel_120/2459445043.py\u001b[0m in \u001b[0;36m<cell line: 1>\u001b[0;34m()\u001b[0m\n\u001b[0;32m----> 1\u001b[0;31m \u001b[0mEmployee\u001b[0m\u001b[0;34m.\u001b[0m\u001b[0mraise_pay\u001b[0m\u001b[0;34m(\u001b[0m\u001b[0memployee1\u001b[0m\u001b[0;34m)\u001b[0m\u001b[0;34m\u001b[0m\u001b[0;34m\u001b[0m\u001b[0m\n\u001b[0m",
      "\u001b[0;32m/tmp/ipykernel_120/2175675425.py\u001b[0m in \u001b[0;36mraise_pay\u001b[0;34m(self)\u001b[0m\n\u001b[1;32m     13\u001b[0m \u001b[0;34m\u001b[0m\u001b[0m\n\u001b[1;32m     14\u001b[0m     \u001b[0;32mdef\u001b[0m \u001b[0mraise_pay\u001b[0m\u001b[0;34m(\u001b[0m\u001b[0mself\u001b[0m\u001b[0;34m)\u001b[0m\u001b[0;34m:\u001b[0m\u001b[0;34m\u001b[0m\u001b[0;34m\u001b[0m\u001b[0m\n\u001b[0;32m---> 15\u001b[0;31m         \u001b[0mself\u001b[0m\u001b[0;34m.\u001b[0m\u001b[0mpay1\u001b[0m \u001b[0;34m=\u001b[0m \u001b[0mint\u001b[0m\u001b[0;34m(\u001b[0m\u001b[0mself\u001b[0m\u001b[0;34m.\u001b[0m\u001b[0mpay\u001b[0m \u001b[0;34m*\u001b[0m \u001b[0mraise_amount\u001b[0m\u001b[0;34m)\u001b[0m\u001b[0;34m\u001b[0m\u001b[0;34m\u001b[0m\u001b[0m\n\u001b[0m\u001b[1;32m     16\u001b[0m         \u001b[0;32mreturn\u001b[0m \u001b[0mself\u001b[0m\u001b[0;34m.\u001b[0m\u001b[0mpay1\u001b[0m\u001b[0;34m\u001b[0m\u001b[0;34m\u001b[0m\u001b[0m\n",
      "\u001b[0;31mNameError\u001b[0m: name 'raise_amount' is not defined"
     ]
    }
   ],
   "source": [
    "Employee.raise_pay(employee1)"
   ]
  },
  {
   "cell_type": "code",
   "execution_count": 48,
   "id": "fd86d31b-7032-44cc-b43e-8f0d5ce2df0f",
   "metadata": {},
   "outputs": [
    {
     "ename": "NameError",
     "evalue": "name 'raise_amount' is not defined",
     "output_type": "error",
     "traceback": [
      "\u001b[0;31m---------------------------------------------------------------------------\u001b[0m",
      "\u001b[0;31mNameError\u001b[0m                                 Traceback (most recent call last)",
      "\u001b[0;32m/tmp/ipykernel_120/1381940758.py\u001b[0m in \u001b[0;36m<cell line: 1>\u001b[0;34m()\u001b[0m\n\u001b[0;32m----> 1\u001b[0;31m \u001b[0mEmployee\u001b[0m\u001b[0;34m.\u001b[0m\u001b[0mraise_pay\u001b[0m\u001b[0;34m(\u001b[0m\u001b[0memployee2\u001b[0m\u001b[0;34m)\u001b[0m\u001b[0;34m\u001b[0m\u001b[0;34m\u001b[0m\u001b[0m\n\u001b[0m",
      "\u001b[0;32m/tmp/ipykernel_120/2175675425.py\u001b[0m in \u001b[0;36mraise_pay\u001b[0;34m(self)\u001b[0m\n\u001b[1;32m     13\u001b[0m \u001b[0;34m\u001b[0m\u001b[0m\n\u001b[1;32m     14\u001b[0m     \u001b[0;32mdef\u001b[0m \u001b[0mraise_pay\u001b[0m\u001b[0;34m(\u001b[0m\u001b[0mself\u001b[0m\u001b[0;34m)\u001b[0m\u001b[0;34m:\u001b[0m\u001b[0;34m\u001b[0m\u001b[0;34m\u001b[0m\u001b[0m\n\u001b[0;32m---> 15\u001b[0;31m         \u001b[0mself\u001b[0m\u001b[0;34m.\u001b[0m\u001b[0mpay1\u001b[0m \u001b[0;34m=\u001b[0m \u001b[0mint\u001b[0m\u001b[0;34m(\u001b[0m\u001b[0mself\u001b[0m\u001b[0;34m.\u001b[0m\u001b[0mpay\u001b[0m \u001b[0;34m*\u001b[0m \u001b[0mraise_amount\u001b[0m\u001b[0;34m)\u001b[0m\u001b[0;34m\u001b[0m\u001b[0;34m\u001b[0m\u001b[0m\n\u001b[0m\u001b[1;32m     16\u001b[0m         \u001b[0;32mreturn\u001b[0m \u001b[0mself\u001b[0m\u001b[0;34m.\u001b[0m\u001b[0mpay1\u001b[0m\u001b[0;34m\u001b[0m\u001b[0;34m\u001b[0m\u001b[0m\n",
      "\u001b[0;31mNameError\u001b[0m: name 'raise_amount' is not defined"
     ]
    }
   ],
   "source": [
    "Employee.raise_pay(employee2)"
   ]
  },
  {
   "cell_type": "code",
   "execution_count": null,
   "id": "9de8e8ac-8f91-4e1b-ad7f-514e57ce869c",
   "metadata": {},
   "outputs": [],
   "source": [
    "Error : because raise_amount is local variable for the method raise_pay"
   ]
  },
  {
   "cell_type": "code",
   "execution_count": 49,
   "id": "42af6fee-7eab-4248-98a5-3f478001a351",
   "metadata": {},
   "outputs": [],
   "source": [
    "class Employee:\n",
    "    \n",
    "    raise_amount = 1.5\n",
    "    \n",
    "    def __init__(self, first, last, pay):\n",
    "        self.first = first\n",
    "        self.last = last\n",
    "        self.pay = pay\n",
    "        self.email = 'last' + '.' + 'first' + \"@ymail.com\"\n",
    "    \n",
    "    def full_name(self):\n",
    "        return '{} {}'.format(self.first, self.last)\n",
    "    \n",
    "    def raise_pay(self):\n",
    "        self.pay1 = int(self.pay * Employee.raise_amount)\n",
    "        return self.pay1"
   ]
  },
  {
   "cell_type": "code",
   "execution_count": 51,
   "id": "945a82ed-81ca-480d-8448-3c79c4be52a0",
   "metadata": {},
   "outputs": [
    {
     "data": {
      "text/plain": [
       "(7500, 4500)"
      ]
     },
     "execution_count": 51,
     "metadata": {},
     "output_type": "execute_result"
    }
   ],
   "source": [
    "Employee.raise_pay(employee1), Employee.raise_pay(employee2)"
   ]
  },
  {
   "cell_type": "code",
   "execution_count": 55,
   "id": "1aa3cc37-836e-4476-af2b-3830d85ba5da",
   "metadata": {},
   "outputs": [
    {
     "data": {
      "text/plain": [
       "(1.5, 1.5, 1.5)"
      ]
     },
     "execution_count": 55,
     "metadata": {},
     "output_type": "execute_result"
    }
   ],
   "source": [
    "Employee.raise_amount, employee1.raise_amount, employee2.raise_amount  # class variable is same for all the instances"
   ]
  },
  {
   "cell_type": "code",
   "execution_count": 57,
   "id": "4f7c087a-33a1-420d-91e1-5ff5e87c7571",
   "metadata": {},
   "outputs": [],
   "source": [
    "employee2.raise_amount = 1.2"
   ]
  },
  {
   "cell_type": "code",
   "execution_count": 58,
   "id": "cabb8807-e3b6-43de-b14c-b9a1a081eb0b",
   "metadata": {},
   "outputs": [
    {
     "data": {
      "text/plain": [
       "(1.5, 1.5, 1.2)"
      ]
     },
     "execution_count": 58,
     "metadata": {},
     "output_type": "execute_result"
    }
   ],
   "source": [
    "Employee.raise_amount, employee1.raise_amount, employee2.raise_amount"
   ]
  },
  {
   "cell_type": "code",
   "execution_count": 59,
   "id": "f82e564a-344b-4289-bf9e-d7089e6d947e",
   "metadata": {},
   "outputs": [
    {
     "data": {
      "text/plain": [
       "(7500, 4500)"
      ]
     },
     "execution_count": 59,
     "metadata": {},
     "output_type": "execute_result"
    }
   ],
   "source": [
    "Employee.raise_pay(employee1), Employee.raise_pay(employee2)"
   ]
  },
  {
   "cell_type": "code",
   "execution_count": 60,
   "id": "0fe72542-a034-4fbd-92d1-61c39566da24",
   "metadata": {},
   "outputs": [],
   "source": [
    "class Employee:\n",
    "    \n",
    "    raise_amount = 1.5\n",
    "    \n",
    "    def __init__(self, first, last, pay):\n",
    "        self.first = first\n",
    "        self.last = last\n",
    "        self.pay = pay\n",
    "        self.email = 'last' + '.' + 'first' + \"@ymail.com\"\n",
    "    \n",
    "    def full_name(self):\n",
    "        return '{} {}'.format(self.first, self.last)\n",
    "    \n",
    "    def raise_pay(self):\n",
    "        self.pay1 = int(self.pay * self.raise_amount)\n",
    "        return self.pay1"
   ]
  },
  {
   "cell_type": "code",
   "execution_count": null,
   "id": "45a28f9c-f95a-4b3c-8f03-9c315c22d6f0",
   "metadata": {},
   "outputs": [],
   "source": [
    "??How self.raise_amount is different from Employee.raise_amount???"
   ]
  },
  {
   "cell_type": "code",
   "execution_count": 61,
   "id": "3f3ff213-4a87-4380-a5c5-34ce07a19edc",
   "metadata": {},
   "outputs": [],
   "source": [
    "employee1 = Employee('Shubham', 'Pandey', 5000)\n",
    "employee2 = Employee('Ashutosh', 'Chauhan', 3000)"
   ]
  },
  {
   "cell_type": "code",
   "execution_count": 63,
   "id": "2477247f-c629-4e47-8214-78126fc9208c",
   "metadata": {},
   "outputs": [
    {
     "data": {
      "text/plain": [
       "(1.5, 1.5, 1.5)"
      ]
     },
     "execution_count": 63,
     "metadata": {},
     "output_type": "execute_result"
    }
   ],
   "source": [
    "Employee.raise_amount, employee1.raise_amount, employee2.raise_amount"
   ]
  },
  {
   "cell_type": "code",
   "execution_count": 62,
   "id": "3a248603-8eff-4c74-8f91-bc30308d66d7",
   "metadata": {},
   "outputs": [
    {
     "data": {
      "text/plain": [
       "(7500, 4500)"
      ]
     },
     "execution_count": 62,
     "metadata": {},
     "output_type": "execute_result"
    }
   ],
   "source": [
    "Employee.raise_pay(employee1), Employee.raise_pay(employee2)"
   ]
  },
  {
   "cell_type": "code",
   "execution_count": 64,
   "id": "c5f21a96-e797-476b-840a-6750a1013f85",
   "metadata": {},
   "outputs": [],
   "source": [
    "employee2.raise_amount = 1.2"
   ]
  },
  {
   "cell_type": "code",
   "execution_count": 66,
   "id": "8742f4ed-d389-45d6-af7a-35cd9c8629b6",
   "metadata": {},
   "outputs": [
    {
     "data": {
      "text/plain": [
       "(7500, 3600)"
      ]
     },
     "execution_count": 66,
     "metadata": {},
     "output_type": "execute_result"
    }
   ],
   "source": [
    "Employee.raise_pay(employee1), Employee.raise_pay(employee2)"
   ]
  },
  {
   "cell_type": "code",
   "execution_count": null,
   "id": "757f4bd2-0417-4c6a-a161-9c47e29cbdd9",
   "metadata": {},
   "outputs": [],
   "source": [
    "??How self.raise_amount is different from Employee.raise_amount???\n",
    "\n",
    "instance vs class variable"
   ]
  },
  {
   "cell_type": "code",
   "execution_count": null,
   "id": "006c7549-e4fd-4a27-b908-1d099403c68c",
   "metadata": {},
   "outputs": [],
   "source": [
    "Task: find where we went wrong?"
   ]
  },
  {
   "cell_type": "code",
   "execution_count": 67,
   "id": "3431c3c5-86c8-4f22-aef8-05a578174832",
   "metadata": {},
   "outputs": [],
   "source": [
    "class employee:\n",
    "    \n",
    "    emp_count = 0\n",
    "    organization = 'simplilearn'\n",
    "    \n",
    "    def __init__(self, n, a , s):\n",
    "        \n",
    "        self.name = n\n",
    "        self.age = a\n",
    "        self.salary = s\n",
    "        \n",
    "        employee.emp_count += 1\n",
    "    \n",
    "    def print_data(self):\n",
    "        \n",
    "        print('Name: ', name)\n",
    "        print('Age: ', age)\n",
    "        print('salary: ', salary)"
   ]
  },
  {
   "cell_type": "code",
   "execution_count": 68,
   "id": "8547399c-d235-4b4b-9a17-9ab44d8f909d",
   "metadata": {},
   "outputs": [],
   "source": [
    "emp1 = employee('shubham', 40, 5000)\n",
    "emp2 = employee('Mohan', 35, 3500)\n",
    "emp3 = employee('Satish', 32, 2300)"
   ]
  },
  {
   "cell_type": "code",
   "execution_count": 69,
   "id": "a2812a59-f9c4-42b3-89bc-8ba21890489a",
   "metadata": {},
   "outputs": [
    {
     "ename": "TypeError",
     "evalue": "employee.print_data() missing 1 required positional argument: 'self'",
     "output_type": "error",
     "traceback": [
      "\u001b[0;31m---------------------------------------------------------------------------\u001b[0m",
      "\u001b[0;31mTypeError\u001b[0m                                 Traceback (most recent call last)",
      "\u001b[0;32m/tmp/ipykernel_120/1885173631.py\u001b[0m in \u001b[0;36m<cell line: 1>\u001b[0;34m()\u001b[0m\n\u001b[0;32m----> 1\u001b[0;31m \u001b[0memployee\u001b[0m\u001b[0;34m.\u001b[0m\u001b[0mprint_data\u001b[0m\u001b[0;34m(\u001b[0m\u001b[0;34m)\u001b[0m\u001b[0;34m\u001b[0m\u001b[0;34m\u001b[0m\u001b[0m\n\u001b[0m",
      "\u001b[0;31mTypeError\u001b[0m: employee.print_data() missing 1 required positional argument: 'self'"
     ]
    }
   ],
   "source": [
    "employee.print_data()"
   ]
  },
  {
   "cell_type": "code",
   "execution_count": 70,
   "id": "6a05a391-07e5-49a5-97c5-30cc5db21631",
   "metadata": {},
   "outputs": [
    {
     "ename": "NameError",
     "evalue": "name 'name' is not defined",
     "output_type": "error",
     "traceback": [
      "\u001b[0;31m---------------------------------------------------------------------------\u001b[0m",
      "\u001b[0;31mNameError\u001b[0m                                 Traceback (most recent call last)",
      "\u001b[0;32m/tmp/ipykernel_120/187478835.py\u001b[0m in \u001b[0;36m<cell line: 1>\u001b[0;34m()\u001b[0m\n\u001b[0;32m----> 1\u001b[0;31m \u001b[0memployee\u001b[0m\u001b[0;34m.\u001b[0m\u001b[0mprint_data\u001b[0m\u001b[0;34m(\u001b[0m\u001b[0memp1\u001b[0m\u001b[0;34m)\u001b[0m\u001b[0;34m\u001b[0m\u001b[0;34m\u001b[0m\u001b[0m\n\u001b[0m",
      "\u001b[0;32m/tmp/ipykernel_120/207928390.py\u001b[0m in \u001b[0;36mprint_data\u001b[0;34m(self)\u001b[0m\n\u001b[1;32m     14\u001b[0m     \u001b[0;32mdef\u001b[0m \u001b[0mprint_data\u001b[0m\u001b[0;34m(\u001b[0m\u001b[0mself\u001b[0m\u001b[0;34m)\u001b[0m\u001b[0;34m:\u001b[0m\u001b[0;34m\u001b[0m\u001b[0;34m\u001b[0m\u001b[0m\n\u001b[1;32m     15\u001b[0m \u001b[0;34m\u001b[0m\u001b[0m\n\u001b[0;32m---> 16\u001b[0;31m         \u001b[0mprint\u001b[0m\u001b[0;34m(\u001b[0m\u001b[0;34m'Name: '\u001b[0m\u001b[0;34m,\u001b[0m \u001b[0mname\u001b[0m\u001b[0;34m)\u001b[0m\u001b[0;34m\u001b[0m\u001b[0;34m\u001b[0m\u001b[0m\n\u001b[0m\u001b[1;32m     17\u001b[0m         \u001b[0mprint\u001b[0m\u001b[0;34m(\u001b[0m\u001b[0;34m'Age: '\u001b[0m\u001b[0;34m,\u001b[0m \u001b[0mage\u001b[0m\u001b[0;34m)\u001b[0m\u001b[0;34m\u001b[0m\u001b[0;34m\u001b[0m\u001b[0m\n\u001b[1;32m     18\u001b[0m         \u001b[0mprint\u001b[0m\u001b[0;34m(\u001b[0m\u001b[0;34m'salary: '\u001b[0m\u001b[0;34m,\u001b[0m \u001b[0msalary\u001b[0m\u001b[0;34m)\u001b[0m\u001b[0;34m\u001b[0m\u001b[0;34m\u001b[0m\u001b[0m\n",
      "\u001b[0;31mNameError\u001b[0m: name 'name' is not defined"
     ]
    }
   ],
   "source": [
    "employee.print_data(emp1)"
   ]
  },
  {
   "cell_type": "code",
   "execution_count": null,
   "id": "afbd80d6-fc73-4917-89a5-713d57348ecc",
   "metadata": {},
   "outputs": [],
   "source": [
    " Why this error???"
   ]
  },
  {
   "cell_type": "code",
   "execution_count": 72,
   "id": "6353d69a-9f77-4163-926c-904a316aa4a1",
   "metadata": {},
   "outputs": [],
   "source": [
    "class employee:\n",
    "    \n",
    "    emp_count = 0\n",
    "    organization = 'simplilearn'\n",
    "    \n",
    "    def __init__(self, n, a , s):\n",
    "        \n",
    "        self.name = n\n",
    "        self.age = a\n",
    "        self.salary = s\n",
    "        \n",
    "        employee.emp_count += 1\n",
    "    \n",
    "    def print_data(self):\n",
    "        \n",
    "        print('Name: ', self.name)\n",
    "        print('Age: ', self.age)\n",
    "        print('salary: ', self.salary)"
   ]
  },
  {
   "cell_type": "code",
   "execution_count": 73,
   "id": "088734df-777f-4fb5-be4e-b9525a78c9be",
   "metadata": {},
   "outputs": [],
   "source": [
    "emp1 = employee('shubham', 40, 5000)\n",
    "emp2 = employee('Mohan', 35, 3500)\n",
    "emp3 = employee('Satish', 32, 2300)"
   ]
  },
  {
   "cell_type": "code",
   "execution_count": 76,
   "id": "c563b4fe-9c8e-4f8d-85f1-6f09fd0d6009",
   "metadata": {},
   "outputs": [
    {
     "name": "stdout",
     "output_type": "stream",
     "text": [
      "Name:  shubham\n",
      "Age:  40\n",
      "salary:  5000\n"
     ]
    }
   ],
   "source": [
    "employee.print_data(emp1)"
   ]
  },
  {
   "cell_type": "code",
   "execution_count": 77,
   "id": "ce3c7546-b199-491d-a014-7dc81d812b11",
   "metadata": {},
   "outputs": [
    {
     "name": "stdout",
     "output_type": "stream",
     "text": [
      "Name:  Mohan\n",
      "Age:  35\n",
      "salary:  3500\n"
     ]
    }
   ],
   "source": [
    "employee.print_data(emp2)"
   ]
  },
  {
   "cell_type": "code",
   "execution_count": 78,
   "id": "e55133aa-173a-47ee-9ab2-602bdfe9915c",
   "metadata": {},
   "outputs": [],
   "source": [
    "class employee:\n",
    "    \n",
    "    emp_count = 0\n",
    "    organization = 'simplilearn'\n",
    "    \n",
    "    def __init__(self, n, a , s):\n",
    "        \n",
    "        self.name = n\n",
    "        self.age = a\n",
    "        self.salary = s\n",
    "        \n",
    "        employee.emp_count += 1\n",
    "    \n",
    "    def print_data(self):\n",
    "        \n",
    "        print('Name: ', self.name)\n",
    "        print('Age: ', self.age)\n",
    "        print('salary: ', self.salary)\n",
    "        print('No of employees: ', employee.emp_count)\n",
    "        print('Organization: ', employee.organization)"
   ]
  },
  {
   "cell_type": "code",
   "execution_count": 79,
   "id": "d3ef4fe4-22ea-48e1-8684-7dc78057dc1b",
   "metadata": {},
   "outputs": [],
   "source": [
    "emp1 = employee('shubham', 40, 5000)\n",
    "emp2 = employee('Mohan', 35, 3500)\n",
    "emp3 = employee('Satish', 32, 2300)"
   ]
  },
  {
   "cell_type": "code",
   "execution_count": 80,
   "id": "9992d660-f91b-406b-8625-76587a8668b4",
   "metadata": {},
   "outputs": [
    {
     "name": "stdout",
     "output_type": "stream",
     "text": [
      "Name:  shubham\n",
      "Age:  40\n",
      "salary:  5000\n",
      "No of employees:  3\n",
      "Organization:  simplilearn\n"
     ]
    }
   ],
   "source": [
    "employee.print_data(emp1)"
   ]
  },
  {
   "cell_type": "code",
   "execution_count": 81,
   "id": "1ed08cf3-4492-42a6-8ed3-ab974a8773dc",
   "metadata": {},
   "outputs": [
    {
     "name": "stdout",
     "output_type": "stream",
     "text": [
      "Name:  Mohan\n",
      "Age:  35\n",
      "salary:  3500\n",
      "No of employees:  3\n",
      "Organization:  simplilearn\n"
     ]
    }
   ],
   "source": [
    "employee.print_data(emp2)"
   ]
  },
  {
   "cell_type": "code",
   "execution_count": 82,
   "id": "7b21633a-e737-4f02-aa6d-8652d7869148",
   "metadata": {},
   "outputs": [
    {
     "name": "stdout",
     "output_type": "stream",
     "text": [
      "Name:  Satish\n",
      "Age:  32\n",
      "salary:  2300\n",
      "No of employees:  3\n",
      "Organization:  simplilearn\n"
     ]
    }
   ],
   "source": [
    "employee.print_data(emp3)"
   ]
  },
  {
   "cell_type": "raw",
   "id": "0b29eba8-89c7-449b-b5de-a49eebd63854",
   "metadata": {},
   "source": [
    "Task\n",
    "\n",
    "Create another method within employee class to calculate Bonus\n",
    "\n",
    "if salary > 2000 -- bonus is 10% of salary\n",
    "otherwise bonus is 15% of salary"
   ]
  },
  {
   "cell_type": "code",
   "execution_count": 84,
   "id": "2531a9bb-9998-4ef1-a1a6-0884adce1b37",
   "metadata": {},
   "outputs": [],
   "source": [
    "class employee:\n",
    "    \n",
    "    emp_count = 0\n",
    "    organization = 'simplilearn'\n",
    "    \n",
    "    def __init__(self, n, a , s):\n",
    "        \n",
    "        self.name = n\n",
    "        self.age = a\n",
    "        self.salary = s\n",
    "        \n",
    "        employee.emp_count += 1\n",
    "    \n",
    "    def print_data(self):\n",
    "        \n",
    "        print('Name: ', self.name)\n",
    "        print('Age: ', self.age)\n",
    "        print('salary: ', self.salary)\n",
    "        print('No of employees: ', employee.emp_count)\n",
    "        print('Organization: ', employee.organization)\n",
    "        \n",
    "    def calculate_bonus(self):\n",
    "        \n",
    "        if self.salary > 2000: self.bonus = self.salary * .10\n",
    "        else: self.bonus = self.salary * .15\n",
    "        print('Bonus is: ', self.bonus)"
   ]
  },
  {
   "cell_type": "code",
   "execution_count": 85,
   "id": "ebc9833f-e4dc-4522-a270-74952ac13b82",
   "metadata": {},
   "outputs": [],
   "source": [
    "emp1 = employee('shubham', 40, 5000)\n",
    "emp2 = employee('Mohan', 35, 3500)\n",
    "emp3 = employee('Satish', 32, 2300)"
   ]
  },
  {
   "cell_type": "code",
   "execution_count": 90,
   "id": "cc4458b0-0154-4c4b-a859-c40ca29e6fc9",
   "metadata": {},
   "outputs": [
    {
     "name": "stdout",
     "output_type": "stream",
     "text": [
      "Bonus is:  500.0\n"
     ]
    }
   ],
   "source": [
    "employee.calculate_bonus(emp1)"
   ]
  },
  {
   "cell_type": "code",
   "execution_count": 91,
   "id": "9e2f6030-f29c-4fa3-bc16-9592f2d42fdd",
   "metadata": {},
   "outputs": [
    {
     "name": "stdout",
     "output_type": "stream",
     "text": [
      "Bonus is:  350.0\n"
     ]
    }
   ],
   "source": [
    "employee.calculate_bonus(emp2)"
   ]
  },
  {
   "cell_type": "code",
   "execution_count": 92,
   "id": "6328d2ca-b9bb-4c43-942b-eceed7026da3",
   "metadata": {},
   "outputs": [
    {
     "name": "stdout",
     "output_type": "stream",
     "text": [
      "Bonus is:  500.0\n"
     ]
    }
   ],
   "source": [
    "emp1.calculate_bonus()"
   ]
  },
  {
   "cell_type": "code",
   "execution_count": 94,
   "id": "8b2b44a4-2d75-45af-92ee-ee5c7ccd5a23",
   "metadata": {},
   "outputs": [
    {
     "name": "stdout",
     "output_type": "stream",
     "text": [
      "['__class__', '__delattr__', '__dict__', '__dir__', '__doc__', '__eq__', '__format__', '__ge__', '__getattribute__', '__gt__', '__hash__', '__init__', '__init_subclass__', '__le__', '__lt__', '__module__', '__ne__', '__new__', '__reduce__', '__reduce_ex__', '__repr__', '__setattr__', '__sizeof__', '__str__', '__subclasshook__', '__weakref__', 'calculate_bonus', 'emp_count', 'organization', 'print_data']\n"
     ]
    }
   ],
   "source": [
    "print(dir(employee))"
   ]
  },
  {
   "cell_type": "code",
   "execution_count": null,
   "id": "f1353fbb-99fc-415b-9f83-b6e6445f0704",
   "metadata": {},
   "outputs": [],
   "source": [
    "Modifier types\n",
    "\n",
    "1. Public access modifiers\n",
    "\n",
    "declared pulic\n",
    "easily accessible from any part of the program\n",
    "\n",
    "\n",
    "2. Protected access modifiers\n",
    "\n",
    "Member of a class that are declared protected are only accessible to a class derived from it.\n",
    "Data members of a class are declared protected by adding a single underscore before the data member of the class\n",
    "\n",
    "3. Private access modifiers\n",
    "\n",
    "Members of class that are declared private are only accessible within the class\n",
    "Most secure access modifiers\n",
    "Data members of a class are declared private by adding double underscore before the data member of the class"
   ]
  },
  {
   "cell_type": "markdown",
   "id": "c6ce29b9-fbf1-4735-9685-be8f63887f98",
   "metadata": {},
   "source": [
    "## Inheritance"
   ]
  },
  {
   "cell_type": "code",
   "execution_count": 96,
   "id": "e0ebc697-46dc-4457-a802-f0a9e3e247a4",
   "metadata": {},
   "outputs": [],
   "source": [
    "class developers(employee):\n",
    "    pass"
   ]
  },
  {
   "cell_type": "code",
   "execution_count": 97,
   "id": "24c50a72-1346-46a2-b86a-c3e616857b76",
   "metadata": {},
   "outputs": [
    {
     "name": "stdout",
     "output_type": "stream",
     "text": [
      "Bonus is:  500.0\n"
     ]
    }
   ],
   "source": [
    "developers.calculate_bonus(emp1)"
   ]
  },
  {
   "cell_type": "code",
   "execution_count": null,
   "id": "adcaf007-9cd6-4d03-b05d-9df19271054d",
   "metadata": {},
   "outputs": [],
   "source": [
    "Inheritence:\n",
    "\n",
    "Process of forming a new class from an existing class\n",
    "\n",
    "existing class/base class/parent class/ super class\n",
    "\n",
    "the new class which is formed is called as\n",
    "\n",
    "derived class/child class"
   ]
  },
  {
   "cell_type": "code",
   "execution_count": 114,
   "id": "e202fd58-26e9-4ba8-b822-a453b0d8975d",
   "metadata": {},
   "outputs": [],
   "source": [
    "class employee:\n",
    "    \n",
    "    raise_amount = 1.05\n",
    "    \n",
    "    def __init__(self, f, l , s):\n",
    "        \n",
    "        self.first = f\n",
    "        self.last = l\n",
    "        self.salary = s\n",
    "        self.email = l + '.' + '@simplilearn.net'\n",
    "        \n",
    "    \n",
    "    def full_name(self):\n",
    "        \n",
    "        return '{} {}'.format(self.first, self.last)\n",
    "\n",
    "\n",
    "    def raise_pay(self):\n",
    "        \n",
    "        self.pay = int(self.salary * employee.raise_amount)\n",
    "        return self.pay"
   ]
  },
  {
   "cell_type": "code",
   "execution_count": 122,
   "id": "2690110d-bd34-4d31-98eb-910008c7ad53",
   "metadata": {},
   "outputs": [],
   "source": [
    "class developers(employee):\n",
    "    \n",
    "    raise_amount = 1.1   \n",
    "    \n",
    "    def __init__(self, fst, lst, sal, lan):\n",
    "        \n",
    "        super().__init__(fst, lst, sal)\n",
    "        self.program_lan = lan"
   ]
  },
  {
   "cell_type": "code",
   "execution_count": 123,
   "id": "b90b3d0f-7af0-4444-8daf-d385e60ca845",
   "metadata": {},
   "outputs": [
    {
     "name": "stdout",
     "output_type": "stream",
     "text": [
      "['__class__', '__delattr__', '__dict__', '__dir__', '__doc__', '__eq__', '__format__', '__ge__', '__getattribute__', '__gt__', '__hash__', '__init__', '__init_subclass__', '__le__', '__lt__', '__module__', '__ne__', '__new__', '__reduce__', '__reduce_ex__', '__repr__', '__setattr__', '__sizeof__', '__str__', '__subclasshook__', '__weakref__', 'full_name', 'raise_amount', 'raise_pay']\n"
     ]
    }
   ],
   "source": [
    "print(dir(developers))"
   ]
  },
  {
   "cell_type": "code",
   "execution_count": 124,
   "id": "c4e4dc8e-fd0c-4eac-92e1-5092b88d9184",
   "metadata": {},
   "outputs": [],
   "source": [
    "emp1 = employee('shubham', 'Pandey', 5000)\n",
    "emp2 = employee('Mohan', 'Kiran', 3500)\n",
    "emp3 = employee('Satish', 'Kaushik', 2300)"
   ]
  },
  {
   "cell_type": "code",
   "execution_count": 125,
   "id": "2130ad7d-efd2-499e-91f8-90f8f275358b",
   "metadata": {},
   "outputs": [
    {
     "data": {
      "text/plain": [
       "2415"
      ]
     },
     "execution_count": 125,
     "metadata": {},
     "output_type": "execute_result"
    }
   ],
   "source": [
    "developers.raise_pay(emp3)"
   ]
  },
  {
   "cell_type": "code",
   "execution_count": 126,
   "id": "25cfde39-8faa-4e59-a12e-4360cb451d24",
   "metadata": {},
   "outputs": [
    {
     "data": {
      "text/plain": [
       "'Mohan Kiran'"
      ]
     },
     "execution_count": 126,
     "metadata": {},
     "output_type": "execute_result"
    }
   ],
   "source": [
    "developers.full_name(emp2)"
   ]
  },
  {
   "cell_type": "code",
   "execution_count": 127,
   "id": "a5e1c9da-5ad4-46d5-9c46-7753f5eb8543",
   "metadata": {},
   "outputs": [
    {
     "data": {
      "text/plain": [
       "1.1"
      ]
     },
     "execution_count": 127,
     "metadata": {},
     "output_type": "execute_result"
    }
   ],
   "source": [
    "developers.raise_amount"
   ]
  },
  {
   "cell_type": "code",
   "execution_count": 128,
   "id": "76f378b0-8b85-4050-8867-199828a096e4",
   "metadata": {},
   "outputs": [],
   "source": [
    "dev1 = developers('shu', 'pan', 3500, 'python')"
   ]
  },
  {
   "cell_type": "code",
   "execution_count": 130,
   "id": "20dd4893-e38f-484e-b22c-49fea82eeb71",
   "metadata": {},
   "outputs": [
    {
     "data": {
      "text/plain": [
       "1.1"
      ]
     },
     "execution_count": 130,
     "metadata": {},
     "output_type": "execute_result"
    }
   ],
   "source": [
    "dev1.raise_amount"
   ]
  },
  {
   "cell_type": "code",
   "execution_count": 133,
   "id": "98c41cc6-3988-413c-9f1d-4bafb9cc33a1",
   "metadata": {},
   "outputs": [],
   "source": [
    "class Manager(employee):\n",
    "    \n",
    "    raise_amount = 1.15\n",
    "    \n",
    "    def __init__(self, first, last, pay, employees = None):\n",
    "        \n",
    "        employee.__init__(self, first, last, pay)\n",
    "        \n",
    "        if employees is None:\n",
    "            self.employees = []\n",
    "        else:\n",
    "            self.employees = employees\n",
    "    \n",
    "    def add_emp(self, emp):\n",
    "        \n",
    "        if emp not in self.employees:\n",
    "            \n",
    "            self.employees.append(emp)\n",
    "    \n",
    "    def remove_emp(self, emp):\n",
    "        \n",
    "        if emp in self.employees:\n",
    "            \n",
    "            self.employees.remove(emp)\n",
    "    \n",
    "    def print_emps(self):\n",
    "        \n",
    "        for emp in self.employees:\n",
    "            print(emp.full_name())"
   ]
  },
  {
   "cell_type": "code",
   "execution_count": 134,
   "id": "9cc95976-34b0-4792-9cf1-24108be20874",
   "metadata": {},
   "outputs": [],
   "source": [
    "dev1 = developers('shu', 'pan', 3500, 'python')\n",
    "dev2 = developers('Moh', 'Savit', 2500, 'C#')"
   ]
  },
  {
   "cell_type": "code",
   "execution_count": 135,
   "id": "7e48f34c-b02d-4209-8715-bbf7641116e1",
   "metadata": {},
   "outputs": [],
   "source": [
    "manager1 = Manager('Sarthak', 'Gupta', 8000, [dev1])"
   ]
  },
  {
   "cell_type": "code",
   "execution_count": 136,
   "id": "a119848d-6e69-4aae-871c-eab7d6cce9a3",
   "metadata": {},
   "outputs": [
    {
     "name": "stdout",
     "output_type": "stream",
     "text": [
      "Gupta.@simplilearn.net\n"
     ]
    }
   ],
   "source": [
    "print(manager1.email)"
   ]
  },
  {
   "cell_type": "code",
   "execution_count": null,
   "id": "e7aa0df6-d25e-4d9b-a3e0-be1662b9f5fa",
   "metadata": {},
   "outputs": [],
   "source": [
    "1. Single inheritance\n",
    "2. Multiple inheritence\n",
    "3. Mutilevel inheritence\n",
    "4. Hierarchical inheritence"
   ]
  },
  {
   "cell_type": "markdown",
   "id": "1fe97f66-17bb-4d26-ae35-ef781239eead",
   "metadata": {},
   "source": [
    "## File Handling"
   ]
  },
  {
   "cell_type": "code",
   "execution_count": 5,
   "id": "3cf02a03-3cec-4cd9-b272-9038661adfe5",
   "metadata": {},
   "outputs": [],
   "source": [
    "file = open('newfile.txt', 'w')  # creates a file"
   ]
  },
  {
   "cell_type": "code",
   "execution_count": 6,
   "id": "4ab60e44-2352-4bce-b461-f11051a2956a",
   "metadata": {},
   "outputs": [
    {
     "data": {
      "text/plain": [
       "'/Users/learnersgalaxy/Downloads/Cisco'"
      ]
     },
     "execution_count": 6,
     "metadata": {},
     "output_type": "execute_result"
    }
   ],
   "source": [
    "pwd()"
   ]
  },
  {
   "cell_type": "code",
   "execution_count": 8,
   "id": "fa656d47-b2a7-4032-9fff-87d18a5952f4",
   "metadata": {},
   "outputs": [
    {
     "data": {
      "text/plain": [
       "18"
      ]
     },
     "execution_count": 8,
     "metadata": {},
     "output_type": "execute_result"
    }
   ],
   "source": [
    "file = open('newfile.txt', 'w')\n",
    "file.write('I like programming')"
   ]
  },
  {
   "cell_type": "code",
   "execution_count": 10,
   "id": "bd42791f-cb5e-4912-b6e6-cddf82178e0c",
   "metadata": {},
   "outputs": [],
   "source": [
    "file = open('newfile.txt', 'w')\n",
    "file.write('I like programming')\n",
    "file.write('\\nilove machine learning')\n",
    "file.close()"
   ]
  },
  {
   "cell_type": "code",
   "execution_count": 15,
   "id": "95d52c16-529b-4a2e-b76c-4c81d1f53071",
   "metadata": {},
   "outputs": [],
   "source": [
    "f = open('newfile.txt', 'r')"
   ]
  },
  {
   "cell_type": "code",
   "execution_count": 12,
   "id": "47ae6518-7335-4324-b1ab-5e4c2046c30a",
   "metadata": {},
   "outputs": [
    {
     "data": {
      "text/plain": [
       "'I like programming\\nilove machine learning'"
      ]
     },
     "execution_count": 12,
     "metadata": {},
     "output_type": "execute_result"
    }
   ],
   "source": [
    "f.read()"
   ]
  },
  {
   "cell_type": "code",
   "execution_count": 17,
   "id": "c295782a-3fd3-4639-abe8-b5605b4b8b51",
   "metadata": {},
   "outputs": [
    {
     "name": "stdout",
     "output_type": "stream",
     "text": [
      "I like programming\n",
      "ilove machine learning\n"
     ]
    }
   ],
   "source": [
    "f = open('newfile.txt', 'r')\n",
    "print(f.read())"
   ]
  },
  {
   "cell_type": "code",
   "execution_count": 18,
   "id": "282c4de1-024e-46fe-adfc-e5658cdc0b08",
   "metadata": {},
   "outputs": [
    {
     "data": {
      "text/plain": [
       "'I like programming\\nilove machine learning'"
      ]
     },
     "execution_count": 18,
     "metadata": {},
     "output_type": "execute_result"
    }
   ],
   "source": [
    "f.seek(0)\n",
    "f.read()"
   ]
  },
  {
   "cell_type": "code",
   "execution_count": 19,
   "id": "f62c9e93-59bb-4edb-90d7-c053451de021",
   "metadata": {},
   "outputs": [
    {
     "data": {
      "text/plain": [
       "' like programming\\nilove machine learning'"
      ]
     },
     "execution_count": 19,
     "metadata": {},
     "output_type": "execute_result"
    }
   ],
   "source": [
    "f.seek(1)\n",
    "f.read()"
   ]
  },
  {
   "cell_type": "code",
   "execution_count": 20,
   "id": "56c8f34e-29ad-4a09-9171-2a18b9826a6b",
   "metadata": {},
   "outputs": [
    {
     "data": {
      "text/plain": [
       "'like programming\\nilove machine learning'"
      ]
     },
     "execution_count": 20,
     "metadata": {},
     "output_type": "execute_result"
    }
   ],
   "source": [
    "f.seek(2)\n",
    "f.read()"
   ]
  },
  {
   "cell_type": "code",
   "execution_count": 21,
   "id": "a843dfc6-6bdf-43a8-b966-01072fcaa046",
   "metadata": {},
   "outputs": [
    {
     "data": {
      "text/plain": [
       "'ike programming\\nilove machine learning'"
      ]
     },
     "execution_count": 21,
     "metadata": {},
     "output_type": "execute_result"
    }
   ],
   "source": [
    "f.seek(3)\n",
    "f.read()"
   ]
  },
  {
   "cell_type": "code",
   "execution_count": 25,
   "id": "06b421cc-487e-4ac5-8506-56653312e8b3",
   "metadata": {},
   "outputs": [
    {
     "name": "stdout",
     "output_type": "stream",
     "text": [
      "I like programming\n",
      "\n"
     ]
    }
   ],
   "source": [
    "f = open('newfile.txt', 'r')\n",
    "print(f.readline())"
   ]
  },
  {
   "cell_type": "code",
   "execution_count": 26,
   "id": "733d9201-b6b6-4db2-b034-e5cf9e3af497",
   "metadata": {},
   "outputs": [
    {
     "name": "stdout",
     "output_type": "stream",
     "text": [
      "I like programming\n",
      "\n"
     ]
    }
   ],
   "source": [
    "f = open('newfile.txt', 'r')\n",
    "f.seek(0)\n",
    "print(f.readline())"
   ]
  },
  {
   "cell_type": "code",
   "execution_count": 27,
   "id": "da2bfe1b-652e-43cb-82b0-7c4351e80621",
   "metadata": {},
   "outputs": [
    {
     "name": "stdout",
     "output_type": "stream",
     "text": [
      " like programming\n",
      "\n"
     ]
    }
   ],
   "source": [
    "f = open('newfile.txt', 'r')\n",
    "f.seek(1)\n",
    "print(f.readline())"
   ]
  },
  {
   "cell_type": "code",
   "execution_count": 28,
   "id": "ec8dd483-4e1d-40e6-a20a-21428a1c80ee",
   "metadata": {},
   "outputs": [
    {
     "name": "stdout",
     "output_type": "stream",
     "text": [
      "like programming\n",
      "\n"
     ]
    }
   ],
   "source": [
    "f = open('newfile.txt', 'r')\n",
    "f.seek(2)\n",
    "print(f.readline())"
   ]
  },
  {
   "cell_type": "code",
   "execution_count": 29,
   "id": "aa7e1307-8079-4ed2-9a0f-e583f578b007",
   "metadata": {},
   "outputs": [
    {
     "name": "stdout",
     "output_type": "stream",
     "text": [
      "['like programming\\n', 'ilove machine learning']\n"
     ]
    }
   ],
   "source": [
    "f = open('newfile.txt', 'r')\n",
    "f.seek(2)\n",
    "print(f.readlines())"
   ]
  },
  {
   "cell_type": "code",
   "execution_count": 33,
   "id": "52f6cc06-7f25-4312-a4ab-561e8d151a67",
   "metadata": {},
   "outputs": [],
   "source": [
    "f = open('newfile.txt', 'r')"
   ]
  },
  {
   "cell_type": "code",
   "execution_count": 36,
   "id": "9ae0869e-36d6-48a2-ab2c-b08b2a52c05d",
   "metadata": {},
   "outputs": [
    {
     "data": {
      "text/plain": [
       "['I like programming\\n']"
      ]
     },
     "execution_count": 36,
     "metadata": {},
     "output_type": "execute_result"
    }
   ],
   "source": [
    "f.seek(0)\n",
    "f.readlines(1)"
   ]
  },
  {
   "cell_type": "code",
   "execution_count": 39,
   "id": "7907982a-1506-4596-a344-461265d70281",
   "metadata": {},
   "outputs": [
    {
     "data": {
      "text/plain": [
       "['I like programming\\n', 'ilove machine learning']"
      ]
     },
     "execution_count": 39,
     "metadata": {},
     "output_type": "execute_result"
    }
   ],
   "source": [
    "f.seek(0)\n",
    "f.readlines()"
   ]
  },
  {
   "cell_type": "code",
   "execution_count": null,
   "id": "a2f4574f-53c3-408e-a46b-32256d63d5a9",
   "metadata": {},
   "outputs": [],
   "source": [
    "Need to check"
   ]
  },
  {
   "cell_type": "code",
   "execution_count": 40,
   "id": "ff912f90-bd28-4bae-8211-e51b7777a6ad",
   "metadata": {},
   "outputs": [],
   "source": [
    "# How to get the file size\n",
    "\n",
    "def file_size(file):\n",
    "    \n",
    "    import os\n",
    "    stat_info = os.stat(file)\n",
    "    return stat_info.st_size"
   ]
  },
  {
   "cell_type": "code",
   "execution_count": 41,
   "id": "476016a4-912a-4618-9019-46a198f938fe",
   "metadata": {},
   "outputs": [
    {
     "data": {
      "text/plain": [
       "41"
      ]
     },
     "execution_count": 41,
     "metadata": {},
     "output_type": "execute_result"
    }
   ],
   "source": [
    "file_size('newfile.txt')"
   ]
  },
  {
   "cell_type": "code",
   "execution_count": 42,
   "id": "717ce5f8-0cf4-4bd7-bbb3-b4e1dcf26acd",
   "metadata": {},
   "outputs": [
    {
     "name": "stdout",
     "output_type": "stream",
     "text": [
      "41 bytes\n"
     ]
    }
   ],
   "source": [
    "print(file_size('newfile.txt'), 'bytes')"
   ]
  },
  {
   "cell_type": "code",
   "execution_count": 43,
   "id": "28bf7545-5512-4a1b-91b5-dcc62486e33c",
   "metadata": {},
   "outputs": [
    {
     "name": "stdout",
     "output_type": "stream",
     "text": [
      "11427 bytes\n"
     ]
    }
   ],
   "source": [
    "print(file_size('/Users/learnersgalaxy/Downloads/Next-Gen AI.xlsx'), 'bytes')"
   ]
  },
  {
   "cell_type": "markdown",
   "id": "3992c6db-24f9-422e-8e61-6c9c8cc2b626",
   "metadata": {},
   "source": [
    "# The iterable objects and the iterator"
   ]
  },
  {
   "cell_type": "markdown",
   "id": "21db385b-091f-411e-9416-a1f33fb6a50d",
   "metadata": {},
   "source": [
    "## An object is considered iterable if\n",
    "\n",
    "- it is physically stored sequence\n",
    "- it produces one result at a time in the context of an iteration tool like a for loop"
   ]
  },
  {
   "cell_type": "raw",
   "id": "284aec15-20c4-497c-84e0-ec0aa6af6f58",
   "metadata": {},
   "source": [
    "iterable: an object that supports an iteration call\n",
    "iterator: an object returned by an iterable on iter that support next() call"
   ]
  },
  {
   "cell_type": "code",
   "execution_count": 45,
   "id": "7cd00191-abdc-4058-b122-45f914c1c6b1",
   "metadata": {},
   "outputs": [],
   "source": [
    "file = open('data.txt', 'w')\n",
    "file.write('I like programming')\n",
    "file.write('\\nilove machine learning')\n",
    "file.close()"
   ]
  },
  {
   "cell_type": "code",
   "execution_count": 46,
   "id": "784da9bc-c7b9-4e51-95ab-04017d756171",
   "metadata": {},
   "outputs": [
    {
     "name": "stdout",
     "output_type": "stream",
     "text": [
      "I LIKE PROGRAMMING\n",
      "\n",
      "ILOVE MACHINE LEARNING\n"
     ]
    }
   ],
   "source": [
    "for line in open('data.txt'):\n",
    "    print(line.upper())"
   ]
  },
  {
   "cell_type": "code",
   "execution_count": 54,
   "id": "be873214-cf7d-4f31-b814-9a42f43291d1",
   "metadata": {},
   "outputs": [],
   "source": [
    "l = [11, 22, 33, 44]"
   ]
  },
  {
   "cell_type": "code",
   "execution_count": 55,
   "id": "e7ae5541-e755-4436-83c2-e4cfe9e4f180",
   "metadata": {},
   "outputs": [],
   "source": [
    "i = iter(l)"
   ]
  },
  {
   "cell_type": "code",
   "execution_count": 58,
   "id": "ef57da29-9561-4c3c-83d1-36f153247f1d",
   "metadata": {},
   "outputs": [
    {
     "data": {
      "text/plain": [
       "33"
      ]
     },
     "execution_count": 58,
     "metadata": {},
     "output_type": "execute_result"
    }
   ],
   "source": [
    "i.__next__()"
   ]
  },
  {
   "cell_type": "code",
   "execution_count": 59,
   "id": "9107b87a-0d4a-4208-9cb5-d625bbee5745",
   "metadata": {},
   "outputs": [],
   "source": [
    "f = open('data.txt')"
   ]
  },
  {
   "cell_type": "code",
   "execution_count": 61,
   "id": "6ea7a736-6429-410d-a9cd-e0c05a9c8616",
   "metadata": {},
   "outputs": [
    {
     "data": {
      "text/plain": [
       "'ilove machine learning'"
      ]
     },
     "execution_count": 61,
     "metadata": {},
     "output_type": "execute_result"
    }
   ],
   "source": [
    "f.__next__()"
   ]
  },
  {
   "cell_type": "markdown",
   "id": "a0241276-5810-4cd0-a967-1036ed9a0e7f",
   "metadata": {},
   "source": [
    "- The initial step is not required for file - because a file object is its own iterator\n",
    "- There can be multiple iterators for the same iterable object, each referring to a different location"
   ]
  },
  {
   "cell_type": "markdown",
   "id": "53cb5b49-2853-4c4a-9476-6eda5a914ee8",
   "metadata": {},
   "source": [
    "### Dictionary Iterator:"
   ]
  },
  {
   "cell_type": "code",
   "execution_count": 62,
   "id": "be70c6bb-62e1-4dc8-8663-de0b41305aa3",
   "metadata": {},
   "outputs": [],
   "source": [
    "d = {'a': 10, 'b': 20, 'c': 30, 'd': 40}"
   ]
  },
  {
   "cell_type": "code",
   "execution_count": 63,
   "id": "8e29fe6d-c1a8-4f6f-8b80-ce7ba8a41b7f",
   "metadata": {},
   "outputs": [],
   "source": [
    "i = iter(d)"
   ]
  },
  {
   "cell_type": "code",
   "execution_count": 64,
   "id": "13df5412-7151-47e9-83cf-3eaca253487c",
   "metadata": {},
   "outputs": [
    {
     "data": {
      "text/plain": [
       "'a'"
      ]
     },
     "execution_count": 64,
     "metadata": {},
     "output_type": "execute_result"
    }
   ],
   "source": [
    "i.__next__()"
   ]
  },
  {
   "cell_type": "code",
   "execution_count": 67,
   "id": "a0c8e54e-23aa-41bd-866c-7eecf0f42b31",
   "metadata": {},
   "outputs": [
    {
     "data": {
      "text/plain": [
       "40"
      ]
     },
     "execution_count": 67,
     "metadata": {},
     "output_type": "execute_result"
    }
   ],
   "source": [
    "d[i.__next__()]"
   ]
  },
  {
   "cell_type": "markdown",
   "id": "a3896a8d-9b25-4cf7-9ce2-9bc9c9df8f48",
   "metadata": {},
   "source": [
    "### User defined functions:\n",
    "\n",
    " - def\n",
    " - lambda"
   ]
  },
  {
   "cell_type": "markdown",
   "id": "e1365bdd-b793-4732-b96e-a1d9794aa3d0",
   "metadata": {},
   "source": [
    "### Anonymous function: nameless function"
   ]
  },
  {
   "cell_type": "code",
   "execution_count": 103,
   "id": "4eed106f-5af4-43ad-9499-1b6596d22d56",
   "metadata": {},
   "outputs": [],
   "source": [
    "increment = lambda num, incr = 5: num + incr"
   ]
  },
  {
   "cell_type": "code",
   "execution_count": 104,
   "id": "19a7ab00-0a9e-47db-8b81-f918dc8d12c0",
   "metadata": {},
   "outputs": [
    {
     "data": {
      "text/plain": [
       "10"
      ]
     },
     "execution_count": 104,
     "metadata": {},
     "output_type": "execute_result"
    }
   ],
   "source": [
    "increment(5)"
   ]
  },
  {
   "cell_type": "code",
   "execution_count": 105,
   "id": "4427c7e6-3503-4be5-a93f-c9bd96e25e9a",
   "metadata": {},
   "outputs": [
    {
     "data": {
      "text/plain": [
       "7"
      ]
     },
     "execution_count": 105,
     "metadata": {},
     "output_type": "execute_result"
    }
   ],
   "source": [
    "increment(5,2)"
   ]
  },
  {
   "cell_type": "markdown",
   "id": "bce5ff69-4372-465f-becc-17d0ed40f0f3",
   "metadata": {},
   "source": [
    " -- Lambda function within a function"
   ]
  },
  {
   "cell_type": "code",
   "execution_count": 106,
   "id": "2a38d568-8bdb-42d2-9db2-12ac3239d36c",
   "metadata": {},
   "outputs": [],
   "source": [
    "def Increment():\n",
    "    \n",
    "    return lambda num, incr = 5: num + incr"
   ]
  },
  {
   "cell_type": "code",
   "execution_count": 109,
   "id": "35280125-1978-41c1-a4cf-7cb06e8c7981",
   "metadata": {},
   "outputs": [],
   "source": [
    "ii = Increment()"
   ]
  },
  {
   "cell_type": "code",
   "execution_count": 110,
   "id": "d3610074-e25d-46fa-b644-b80e44808e0f",
   "metadata": {},
   "outputs": [
    {
     "data": {
      "text/plain": [
       "10"
      ]
     },
     "execution_count": 110,
     "metadata": {},
     "output_type": "execute_result"
    }
   ],
   "source": [
    "ii(5)"
   ]
  },
  {
   "cell_type": "markdown",
   "id": "3eda5f1f-d4bf-40da-bbae-aabd5a7b702b",
   "metadata": {},
   "source": [
    "### There are 2 ways to send the results back to callers:\n",
    "\n",
    "  - return\n",
    "  - yield"
   ]
  },
  {
   "cell_type": "markdown",
   "id": "7679987f-d618-4881-9d6a-cef30c6cbcc9",
   "metadata": {},
   "source": [
    " - Yield send a result object back to the caller, but remembers where it left off"
   ]
  },
  {
   "cell_type": "markdown",
   "id": "adbbe74d-40c1-42a4-a7e2-235daa280c75",
   "metadata": {},
   "source": [
    "#### Python Generator function\n",
    "\n",
    " - Python provides a generator to create your own iterator function.\n",
    " - A generator is a special types of function which does not return a single value, \n",
    "   instead it returns an iterator object with a sequence of values\n",
    " - In a generator function, 'yield' statement is used instead of return statement"
   ]
  },
  {
   "cell_type": "code",
   "execution_count": 96,
   "id": "b95dc57b-d39d-411c-abc3-fd1df9a94847",
   "metadata": {},
   "outputs": [],
   "source": [
    "def my_gen_func():\n",
    "    \n",
    "    print('first print')\n",
    "    yield 10\n",
    "\n",
    "    print('second print')\n",
    "    yield 20\n",
    "\n",
    "    print('third print')\n",
    "    yield 30\n",
    "    "
   ]
  },
  {
   "cell_type": "code",
   "execution_count": null,
   "id": "6ee74a3a-c50a-444c-99d5-1c50e2102c45",
   "metadata": {},
   "outputs": [],
   "source": [
    "This function will return the value against yield keyword each time it is called"
   ]
  },
  {
   "cell_type": "code",
   "execution_count": 97,
   "id": "f35a0411-ee36-4b98-b78b-2bc8286ab90e",
   "metadata": {},
   "outputs": [],
   "source": [
    "gen = my_gen_func()"
   ]
  },
  {
   "cell_type": "code",
   "execution_count": 101,
   "id": "916814cb-70ec-4901-bfc0-cf7003cd1a6b",
   "metadata": {},
   "outputs": [
    {
     "name": "stdout",
     "output_type": "stream",
     "text": [
      "third print\n"
     ]
    },
    {
     "data": {
      "text/plain": [
       "30"
      ]
     },
     "execution_count": 101,
     "metadata": {},
     "output_type": "execute_result"
    }
   ],
   "source": [
    "next(gen)"
   ]
  },
  {
   "cell_type": "raw",
   "id": "6468c0fa-5aa3-4b06-b01c-39dcdd5405f5",
   "metadata": {},
   "source": [
    "Functions are first citizen: \n",
    "\n",
    "functions are first class objects which means that functions in Python can be used or passed as arguments\n",
    "\n",
    "A Python function is an object that encapsulates code. \n",
    "Calling the function will execute the encapsulated code and return an object\n"
   ]
  },
  {
   "cell_type": "code",
   "execution_count": 68,
   "id": "235a09ce-fef6-42b4-961b-b19828a0872b",
   "metadata": {},
   "outputs": [],
   "source": [
    "def mul(x, y):\n",
    "    print('in mul')\n",
    "    return x*y"
   ]
  },
  {
   "cell_type": "code",
   "execution_count": 69,
   "id": "5057d47e-ea4d-4a06-adef-c11b2b345cb2",
   "metadata": {},
   "outputs": [
    {
     "name": "stdout",
     "output_type": "stream",
     "text": [
      "in mul\n"
     ]
    },
    {
     "data": {
      "text/plain": [
       "8"
      ]
     },
     "execution_count": 69,
     "metadata": {},
     "output_type": "execute_result"
    }
   ],
   "source": [
    "mul(2, 4)"
   ]
  },
  {
   "cell_type": "code",
   "execution_count": 70,
   "id": "56507b4a-5bed-43f4-89e0-2dde73712c3d",
   "metadata": {},
   "outputs": [],
   "source": [
    "x = mul"
   ]
  },
  {
   "cell_type": "code",
   "execution_count": 71,
   "id": "ccbeceee-07f8-4b74-9571-44c6d33cfae9",
   "metadata": {},
   "outputs": [
    {
     "name": "stdout",
     "output_type": "stream",
     "text": [
      "in mul\n"
     ]
    },
    {
     "data": {
      "text/plain": [
       "150"
      ]
     },
     "execution_count": 71,
     "metadata": {},
     "output_type": "execute_result"
    }
   ],
   "source": [
    "x(10,15)"
   ]
  },
  {
   "cell_type": "markdown",
   "id": "c16cd316-dd72-48f2-8496-0a5fdc380724",
   "metadata": {},
   "source": [
    " - Functions can be stored in a data structure such as list"
   ]
  },
  {
   "cell_type": "code",
   "execution_count": 73,
   "id": "462c8872-6c16-4c29-a740-c407cf30755c",
   "metadata": {},
   "outputs": [],
   "source": [
    "def mul(x,y): print('in mul',x,y)\n",
    "def abc(): print('func abc')\n",
    "def xyz(): print('func xyz')"
   ]
  },
  {
   "cell_type": "code",
   "execution_count": 74,
   "id": "1cd20b91-54a1-4608-945f-0505425057ab",
   "metadata": {},
   "outputs": [
    {
     "name": "stdout",
     "output_type": "stream",
     "text": [
      "in mul 10 20\n",
      "func abc\n",
      "func xyz\n"
     ]
    }
   ],
   "source": [
    "mul(10,20); abc(); xyz() # normal function calls"
   ]
  },
  {
   "cell_type": "code",
   "execution_count": 75,
   "id": "f9d32537-7b5d-4e10-ace8-703ee3e7644b",
   "metadata": {},
   "outputs": [],
   "source": [
    "l = [mul, abc, xyz]"
   ]
  },
  {
   "cell_type": "code",
   "execution_count": 77,
   "id": "1ad71eba-b811-4407-a31a-9e8a3758b2dc",
   "metadata": {},
   "outputs": [
    {
     "name": "stdout",
     "output_type": "stream",
     "text": [
      "in mul 2 6\n"
     ]
    }
   ],
   "source": [
    "l[0](2,6)"
   ]
  },
  {
   "cell_type": "code",
   "execution_count": 78,
   "id": "6d38454f-f19c-4d5b-82d6-f398ccb0388e",
   "metadata": {},
   "outputs": [
    {
     "name": "stdout",
     "output_type": "stream",
     "text": [
      "func abc\n"
     ]
    }
   ],
   "source": [
    "l[1]()"
   ]
  },
  {
   "cell_type": "markdown",
   "id": "82171640-aeb6-4795-9532-a822eda85a0c",
   "metadata": {},
   "source": [
    " - Function objects may be passed to other functions"
   ]
  },
  {
   "cell_type": "code",
   "execution_count": 83,
   "id": "ac936dc5-29fa-4603-80a5-ab91114a8525",
   "metadata": {},
   "outputs": [],
   "source": [
    "def mul(x, y):\n",
    "    print('in mul')\n",
    "    return x*y"
   ]
  },
  {
   "cell_type": "code",
   "execution_count": 84,
   "id": "96a754a7-80af-4294-b5c2-a610b657e0f5",
   "metadata": {},
   "outputs": [],
   "source": [
    "def f1(a,b): print('f1 called')\n",
    "def f2(mul, x, y): mul(x,y)"
   ]
  },
  {
   "cell_type": "code",
   "execution_count": 85,
   "id": "b1e6f1eb-5afb-4c86-853c-8e7b7cf6f9f1",
   "metadata": {},
   "outputs": [
    {
     "name": "stdout",
     "output_type": "stream",
     "text": [
      "f1 called\n"
     ]
    }
   ],
   "source": [
    "f2(f1, 2,10)"
   ]
  },
  {
   "cell_type": "code",
   "execution_count": 86,
   "id": "718a0977-4526-4f85-8781-f4c8a64c99e5",
   "metadata": {},
   "outputs": [
    {
     "name": "stdout",
     "output_type": "stream",
     "text": [
      "in mul\n"
     ]
    }
   ],
   "source": [
    "f2(mul, 2,10)"
   ]
  },
  {
   "cell_type": "markdown",
   "id": "f2555fd1-e56b-4707-b2e3-0cc7089b3b9f",
   "metadata": {},
   "source": [
    " - they can be embedded in data structures"
   ]
  },
  {
   "cell_type": "code",
   "execution_count": 87,
   "id": "fa2bd1bf-ef23-41b2-ab0c-43acd220bb5c",
   "metadata": {},
   "outputs": [],
   "source": [
    "def f1(a): print('f1', a)\n",
    "def f2(a): print('f2', a)\n",
    "\n",
    "list_functions = [(f1,'hi'), (f2,'bye')]"
   ]
  },
  {
   "cell_type": "code",
   "execution_count": 88,
   "id": "7a714df0-3741-4cc5-b5e3-6ec815aa6177",
   "metadata": {},
   "outputs": [
    {
     "name": "stdout",
     "output_type": "stream",
     "text": [
      "f1 hi\n",
      "f2 bye\n"
     ]
    }
   ],
   "source": [
    "for (f, arg) in list_functions:\n",
    "    f(arg)"
   ]
  },
  {
   "cell_type": "markdown",
   "id": "bd339271-4657-458f-93ed-09a0fc1ae734",
   "metadata": {},
   "source": [
    " - they can be returned from one function to another"
   ]
  },
  {
   "cell_type": "code",
   "execution_count": 90,
   "id": "ea4319fa-ff7f-44ed-b8e8-68b66775c90d",
   "metadata": {},
   "outputs": [],
   "source": [
    "def varFunc(value):\n",
    "    \n",
    "    def f1(): print('f1 called')\n",
    "    def f2(): print('f2 called')\n",
    "    def f3(): print('f3 called')\n",
    "    \n",
    "    if value == 1: return f1\n",
    "    elif value == 2: return f2\n",
    "    else: return f3"
   ]
  },
  {
   "cell_type": "code",
   "execution_count": 91,
   "id": "046a51be-d288-41d7-ad3a-e22103dc4f95",
   "metadata": {},
   "outputs": [
    {
     "data": {
      "text/plain": [
       "<function __main__.varFunc.<locals>.f3()>"
      ]
     },
     "execution_count": 91,
     "metadata": {},
     "output_type": "execute_result"
    }
   ],
   "source": [
    "varFunc(4)"
   ]
  },
  {
   "cell_type": "code",
   "execution_count": 92,
   "id": "928c0fac-e266-42cd-a0b4-263645506e68",
   "metadata": {},
   "outputs": [],
   "source": [
    "f = varFunc(4)"
   ]
  },
  {
   "cell_type": "code",
   "execution_count": 93,
   "id": "86375d9d-7eb2-4d63-8126-fff26e3022b9",
   "metadata": {},
   "outputs": [
    {
     "name": "stdout",
     "output_type": "stream",
     "text": [
      "f3 called\n"
     ]
    }
   ],
   "source": [
    "f()"
   ]
  },
  {
   "cell_type": "code",
   "execution_count": 94,
   "id": "add8f08c-619d-431c-a883-8ea526d165ba",
   "metadata": {},
   "outputs": [],
   "source": [
    "def varFunc(value):\n",
    "    \n",
    "    def f1(): print('f1 called')\n",
    "    def f2(): print('f2 called')\n",
    "    def f3(): print('f3 called')\n",
    "    \n",
    "    if value == 1: return f1()\n",
    "    elif value == 2: return f2()\n",
    "    else: return f3()"
   ]
  },
  {
   "cell_type": "code",
   "execution_count": 95,
   "id": "d244727c-beef-4a54-bfc3-7d72b643b303",
   "metadata": {},
   "outputs": [
    {
     "name": "stdout",
     "output_type": "stream",
     "text": [
      "f3 called\n"
     ]
    }
   ],
   "source": [
    "varFunc(4)"
   ]
  },
  {
   "cell_type": "markdown",
   "id": "f52902f5-7a96-48d3-a646-75dda5670017",
   "metadata": {},
   "source": [
    "#### Function Attributes\n",
    "\n",
    " - Function attributes can be listed via dir built-in function : dir(funcname)\n",
    " - can be system defined\n",
    " - can be user-defined\n",
    "   - user-defined attributes will also be listed via dir\n"
   ]
  },
  {
   "cell_type": "code",
   "execution_count": 112,
   "id": "6bcae6b1-c71c-4427-b976-de184bf4c9f0",
   "metadata": {},
   "outputs": [],
   "source": [
    "def f():\n",
    "    print('test function')"
   ]
  },
  {
   "cell_type": "code",
   "execution_count": 113,
   "id": "6852001a-c4aa-4bc6-aed7-80a8441fd19e",
   "metadata": {},
   "outputs": [],
   "source": [
    "f.attr1 = 'abc'\n",
    "f.attr2 = 100"
   ]
  },
  {
   "cell_type": "code",
   "execution_count": 115,
   "id": "3aae4895-e0a0-42a6-82b6-ec540195f459",
   "metadata": {},
   "outputs": [
    {
     "name": "stdout",
     "output_type": "stream",
     "text": [
      "['__annotations__', '__call__', '__class__', '__closure__', '__code__', '__defaults__', '__delattr__', '__dict__', '__dir__', '__doc__', '__eq__', '__format__', '__ge__', '__get__', '__getattribute__', '__globals__', '__gt__', '__hash__', '__init__', '__init_subclass__', '__kwdefaults__', '__le__', '__lt__', '__module__', '__name__', '__ne__', '__new__', '__qualname__', '__reduce__', '__reduce_ex__', '__repr__', '__setattr__', '__sizeof__', '__str__', '__subclasshook__', 'attr1', 'attr2']\n"
     ]
    }
   ],
   "source": [
    "print(dir(f))"
   ]
  },
  {
   "cell_type": "markdown",
   "id": "b1a73206-bcb6-4785-8d76-01d7940ceeec",
   "metadata": {},
   "source": [
    "# Decorators"
   ]
  },
  {
   "cell_type": "raw",
   "id": "7fab20b9-010a-4232-9b20-da23a281c24b",
   "metadata": {},
   "source": [
    "Decorators are used to modify the behavior of a function or class\n",
    "\n",
    "In decorators, functions are taken as the argument into another function and then\n",
    "called inside the wrapper function."
   ]
  },
  {
   "cell_type": "code",
   "execution_count": 119,
   "id": "8112630e-bc91-479f-b98b-40b45f70370d",
   "metadata": {},
   "outputs": [],
   "source": [
    "def add(a, b):\n",
    "    \n",
    "    return a + b"
   ]
  },
  {
   "cell_type": "code",
   "execution_count": 122,
   "id": "c9e36aff-4b89-4f50-9f49-c6354c2abe18",
   "metadata": {},
   "outputs": [],
   "source": [
    "# passing a Functiona as Argument\n",
    "def calculate(func, x, y):\n",
    "    \n",
    "    return func(x,y)"
   ]
  },
  {
   "cell_type": "code",
   "execution_count": 123,
   "id": "7dd423eb-c29c-4f5a-9a15-cc8abc6d4327",
   "metadata": {},
   "outputs": [
    {
     "name": "stdout",
     "output_type": "stream",
     "text": [
      "12\n"
     ]
    }
   ],
   "source": [
    "result = calculate(add, 4, 8)\n",
    "print(result)"
   ]
  },
  {
   "cell_type": "code",
   "execution_count": 124,
   "id": "a9212396-b51c-4905-b199-aba82136b361",
   "metadata": {},
   "outputs": [],
   "source": [
    "# Return a Function as a Value\n",
    "\n",
    "def greeting(name):\n",
    "    \n",
    "    def hello():\n",
    "        \n",
    "        return \"Hello, \" + name + '!'\n",
    "    \n",
    "    return hello"
   ]
  },
  {
   "cell_type": "code",
   "execution_count": 126,
   "id": "91629c6d-0851-4163-9f2a-d0876e26fa2d",
   "metadata": {},
   "outputs": [],
   "source": [
    "greet = greeting('Shubham')"
   ]
  },
  {
   "cell_type": "code",
   "execution_count": 127,
   "id": "6a0bee32-5098-46b5-849c-f20ef9a0f753",
   "metadata": {},
   "outputs": [
    {
     "name": "stdout",
     "output_type": "stream",
     "text": [
      "Hello, Shubham!\n"
     ]
    }
   ],
   "source": [
    "print(greet())"
   ]
  },
  {
   "cell_type": "code",
   "execution_count": 128,
   "id": "edf959ef-3398-444f-9de4-0e0772695771",
   "metadata": {},
   "outputs": [],
   "source": [
    "def make_pretty(func):\n",
    "    \n",
    "    def inner():\n",
    "        \n",
    "        print('I got decorated')\n",
    "        func()\n",
    "    return inner"
   ]
  },
  {
   "cell_type": "code",
   "execution_count": 129,
   "id": "aa41a3e6-4708-4e81-8e94-b724e1120de0",
   "metadata": {},
   "outputs": [],
   "source": [
    "def ordinary():\n",
    "    \n",
    "    print('I am ordinary')"
   ]
  },
  {
   "cell_type": "code",
   "execution_count": 136,
   "id": "befe2723-db88-4d77-ad78-50a72b70351c",
   "metadata": {},
   "outputs": [
    {
     "name": "stdout",
     "output_type": "stream",
     "text": [
      "I got decorated\n",
      "I am ordinary\n"
     ]
    }
   ],
   "source": [
    "def make_pretty(func):\n",
    "    \n",
    "    # defining the inner function\n",
    "    def inner():\n",
    "        \n",
    "        # add some additional behavior to decored function\n",
    "        print('I got decorated')\n",
    "        \n",
    "        # call the original function \n",
    "        func()\n",
    "    # return the inner function    \n",
    "    return inner\n",
    "\n",
    "# define ordinary function\n",
    "def ordinary():\n",
    "    \n",
    "    print('I am ordinary')\n",
    "    \n",
    "# decorate the ordinary function\n",
    "decorated_fun = make_pretty(ordinary)\n",
    "\n",
    "decorated_fun()"
   ]
  },
  {
   "cell_type": "code",
   "execution_count": null,
   "id": "32f3a24d-6d8c-4553-bcf1-59ad6c42b475",
   "metadata": {},
   "outputs": [],
   "source": [
    "In the example above\n",
    "\n",
    "make_pretty is a decorator\n",
    "\n",
    "we are passing ordinary to decorator function, make_pretty, as an arg\n",
    "\n",
    "The make_pretty() returns the inner function(wrapper function), and it is now assigned \n",
    "to the decorated_fun variable\n",
    "\n",
    "when we call decorated_fun() - we actually are calling the inner() - when we are printing"
   ]
  },
  {
   "cell_type": "code",
   "execution_count": 133,
   "id": "b13c8aeb-bab7-4093-becf-ab92395bde4f",
   "metadata": {},
   "outputs": [],
   "source": [
    "def make_pretty(func):\n",
    "    def inner():\n",
    "        print('I got decorated')\n",
    "        func()   \n",
    "    return inner"
   ]
  },
  {
   "cell_type": "code",
   "execution_count": 134,
   "id": "8539b2ac-ee5d-4eeb-b9a6-70ab9a5ef926",
   "metadata": {},
   "outputs": [],
   "source": [
    "@make_pretty\n",
    "def ordinary():\n",
    "    print('I am ordinary')"
   ]
  },
  {
   "cell_type": "code",
   "execution_count": 135,
   "id": "85d5a90d-d7d8-48d9-b565-d61dd9113efb",
   "metadata": {},
   "outputs": [
    {
     "name": "stdout",
     "output_type": "stream",
     "text": [
      "I got decorated\n",
      "I am ordinary\n"
     ]
    }
   ],
   "source": [
    "ordinary()"
   ]
  },
  {
   "cell_type": "code",
   "execution_count": 137,
   "id": "96c545f0-e0c3-485f-8724-071ff45e0b86",
   "metadata": {},
   "outputs": [],
   "source": [
    "@make_pretty\n",
    "def ord2():\n",
    "    print(len('I got decorated'))"
   ]
  },
  {
   "cell_type": "code",
   "execution_count": 138,
   "id": "4afa9548-070e-4760-86c6-e7201b8465c0",
   "metadata": {},
   "outputs": [
    {
     "name": "stdout",
     "output_type": "stream",
     "text": [
      "I got decorated\n",
      "15\n"
     ]
    }
   ],
   "source": [
    "ord2()"
   ]
  },
  {
   "cell_type": "markdown",
   "id": "371f71cc-e58a-4b61-91dd-1907d935b0dd",
   "metadata": {},
   "source": [
    "- Decorator Functions with Parameters"
   ]
  },
  {
   "cell_type": "code",
   "execution_count": 139,
   "id": "ea8e9c5e-8b79-473d-b123-53ebe0076522",
   "metadata": {},
   "outputs": [],
   "source": [
    "def smart_divide(func):\n",
    "    \n",
    "    def inner(a,b):\n",
    "        print(\"I am going to divide\", a, 'and', b)\n",
    "        if b == 0:\n",
    "            print(\"Div by zero error\")\n",
    "            return\n",
    "        return func(a,b)\n",
    "    return inner"
   ]
  },
  {
   "cell_type": "code",
   "execution_count": 140,
   "id": "6fa3e7fd-6a9d-4073-b98c-be642c8de19e",
   "metadata": {},
   "outputs": [],
   "source": [
    "def divide(a,b):\n",
    "    return a/b"
   ]
  },
  {
   "cell_type": "code",
   "execution_count": 141,
   "id": "42c1e89c-4eb9-4609-b9d0-852acee21d02",
   "metadata": {},
   "outputs": [
    {
     "data": {
      "text/plain": [
       "0.6666666666666666"
      ]
     },
     "execution_count": 141,
     "metadata": {},
     "output_type": "execute_result"
    }
   ],
   "source": [
    "divide(2,3)"
   ]
  },
  {
   "cell_type": "code",
   "execution_count": 142,
   "id": "672c3cd2-12e4-4886-b3cb-b6c0cc2f946c",
   "metadata": {},
   "outputs": [
    {
     "ename": "ZeroDivisionError",
     "evalue": "division by zero",
     "output_type": "error",
     "traceback": [
      "\u001b[0;31m---------------------------------------------------------------------------\u001b[0m",
      "\u001b[0;31mZeroDivisionError\u001b[0m                         Traceback (most recent call last)",
      "\u001b[0;32m<ipython-input-142-030e2eec799d>\u001b[0m in \u001b[0;36m<module>\u001b[0;34m\u001b[0m\n\u001b[0;32m----> 1\u001b[0;31m \u001b[0mdivide\u001b[0m\u001b[0;34m(\u001b[0m\u001b[0;36m2\u001b[0m\u001b[0;34m,\u001b[0m\u001b[0;36m0\u001b[0m\u001b[0;34m)\u001b[0m\u001b[0;34m\u001b[0m\u001b[0;34m\u001b[0m\u001b[0m\n\u001b[0m",
      "\u001b[0;32m<ipython-input-140-bdcf7ebb454f>\u001b[0m in \u001b[0;36mdivide\u001b[0;34m(a, b)\u001b[0m\n\u001b[1;32m      1\u001b[0m \u001b[0;32mdef\u001b[0m \u001b[0mdivide\u001b[0m\u001b[0;34m(\u001b[0m\u001b[0ma\u001b[0m\u001b[0;34m,\u001b[0m\u001b[0mb\u001b[0m\u001b[0;34m)\u001b[0m\u001b[0;34m:\u001b[0m\u001b[0;34m\u001b[0m\u001b[0;34m\u001b[0m\u001b[0m\n\u001b[0;32m----> 2\u001b[0;31m     \u001b[0;32mreturn\u001b[0m \u001b[0ma\u001b[0m\u001b[0;34m/\u001b[0m\u001b[0mb\u001b[0m\u001b[0;34m\u001b[0m\u001b[0;34m\u001b[0m\u001b[0m\n\u001b[0m",
      "\u001b[0;31mZeroDivisionError\u001b[0m: division by zero"
     ]
    }
   ],
   "source": [
    "divide(2,0)"
   ]
  },
  {
   "cell_type": "code",
   "execution_count": 143,
   "id": "f45d499d-aa1c-4982-8dfa-6305d1c0f53e",
   "metadata": {},
   "outputs": [],
   "source": [
    "@smart_divide\n",
    "def divide(a,b):\n",
    "    return a/b"
   ]
  },
  {
   "cell_type": "code",
   "execution_count": 144,
   "id": "d5cfc0b8-fd06-4add-baf0-6d9fbf138bce",
   "metadata": {},
   "outputs": [
    {
     "name": "stdout",
     "output_type": "stream",
     "text": [
      "I am going to divide 2 and 0\n",
      "Div by zero error\n"
     ]
    }
   ],
   "source": [
    "divide(2,0)"
   ]
  },
  {
   "cell_type": "markdown",
   "id": "5d0f5768-ea9c-423a-8977-af53117fc2f2",
   "metadata": {},
   "source": [
    "- Chaining Decorators"
   ]
  },
  {
   "cell_type": "code",
   "execution_count": 145,
   "id": "47ede807-54ac-47c4-b0bf-18d8393c6e15",
   "metadata": {},
   "outputs": [],
   "source": [
    "def star(func):\n",
    "    \n",
    "    def inner(*args, **kwrgs):\n",
    "        \n",
    "        print('*' * 15)\n",
    "        \n",
    "        func(*args, **kwrgs)\n",
    "        \n",
    "        print('*' * 15)\n",
    "    \n",
    "    return inner "
   ]
  },
  {
   "cell_type": "code",
   "execution_count": 146,
   "id": "646fcaf5-717d-408c-97f0-64712bae80a6",
   "metadata": {},
   "outputs": [],
   "source": [
    "def percent(func):\n",
    "    \n",
    "    def inner(*args, **kwrgs):\n",
    "        \n",
    "        print('%' * 15)\n",
    "        \n",
    "        func(*args, **kwrgs)\n",
    "        \n",
    "        print('%' * 15)\n",
    "    \n",
    "    return inner         "
   ]
  },
  {
   "cell_type": "code",
   "execution_count": 147,
   "id": "aa32c017-ee59-4f97-adc4-59fad8aa2f67",
   "metadata": {},
   "outputs": [],
   "source": [
    "def printer(msg):\n",
    "    \n",
    "    print(msg)"
   ]
  },
  {
   "cell_type": "code",
   "execution_count": 148,
   "id": "e75ef866-1dd2-4008-9ebe-bef142cbea67",
   "metadata": {},
   "outputs": [
    {
     "name": "stdout",
     "output_type": "stream",
     "text": [
      "my message is nothing\n"
     ]
    }
   ],
   "source": [
    "printer('my message is nothing')"
   ]
  },
  {
   "cell_type": "code",
   "execution_count": 149,
   "id": "bd6277d9-4327-43f6-8f22-3e37a83c0371",
   "metadata": {},
   "outputs": [],
   "source": [
    "@star\n",
    "@percent\n",
    "def printer(msg):\n",
    "    \n",
    "    print(msg)"
   ]
  },
  {
   "cell_type": "code",
   "execution_count": 150,
   "id": "184b6330-9396-4b33-8776-d7d7a8dc0826",
   "metadata": {},
   "outputs": [
    {
     "name": "stdout",
     "output_type": "stream",
     "text": [
      "***************\n",
      "%%%%%%%%%%%%%%%\n",
      "It has been 4 hours and we are hungry\n",
      "%%%%%%%%%%%%%%%\n",
      "***************\n"
     ]
    }
   ],
   "source": [
    "printer('It has been 4 hours and we are hungry')"
   ]
  },
  {
   "cell_type": "code",
   "execution_count": 151,
   "id": "44979077-37e7-4953-9b32-7ac50055aef2",
   "metadata": {},
   "outputs": [],
   "source": [
    "# Order matters\n",
    "@percent\n",
    "@star\n",
    "def printer(msg):\n",
    "    \n",
    "    print(msg)"
   ]
  },
  {
   "cell_type": "code",
   "execution_count": 152,
   "id": "71e82b66-7913-4c43-8acf-ad1609ef1151",
   "metadata": {},
   "outputs": [
    {
     "name": "stdout",
     "output_type": "stream",
     "text": [
      "%%%%%%%%%%%%%%%\n",
      "***************\n",
      "It has been 4 hours and we are hungry\n",
      "***************\n",
      "%%%%%%%%%%%%%%%\n"
     ]
    }
   ],
   "source": [
    "printer('It has been 4 hours and we are hungry')"
   ]
  },
  {
   "cell_type": "markdown",
   "id": "1b73c29d-8e31-47db-b52c-fc8dd27a06fc",
   "metadata": {},
   "source": [
    "## Exception Handling"
   ]
  },
  {
   "cell_type": "code",
   "execution_count": 153,
   "id": "a4e11cbe-82d0-48dc-9701-a57d34bdd21f",
   "metadata": {},
   "outputs": [
    {
     "ename": "NameError",
     "evalue": "name 'X' is not defined",
     "output_type": "error",
     "traceback": [
      "\u001b[0;31m---------------------------------------------------------------------------\u001b[0m",
      "\u001b[0;31mNameError\u001b[0m                                 Traceback (most recent call last)",
      "\u001b[0;32m<ipython-input-153-fa0134f942c4>\u001b[0m in \u001b[0;36m<module>\u001b[0;34m\u001b[0m\n\u001b[0;32m----> 1\u001b[0;31m \u001b[0mprint\u001b[0m\u001b[0;34m(\u001b[0m\u001b[0mX\u001b[0m\u001b[0;34m)\u001b[0m\u001b[0;34m\u001b[0m\u001b[0;34m\u001b[0m\u001b[0m\n\u001b[0m",
      "\u001b[0;31mNameError\u001b[0m: name 'X' is not defined"
     ]
    }
   ],
   "source": [
    "print(X)"
   ]
  },
  {
   "cell_type": "code",
   "execution_count": 154,
   "id": "b0927071-f4cd-481d-97f1-f2002e1c29bc",
   "metadata": {},
   "outputs": [
    {
     "ename": "ZeroDivisionError",
     "evalue": "division by zero",
     "output_type": "error",
     "traceback": [
      "\u001b[0;31m---------------------------------------------------------------------------\u001b[0m",
      "\u001b[0;31mZeroDivisionError\u001b[0m                         Traceback (most recent call last)",
      "\u001b[0;32m<ipython-input-154-e8326a161779>\u001b[0m in \u001b[0;36m<module>\u001b[0;34m\u001b[0m\n\u001b[0;32m----> 1\u001b[0;31m \u001b[0;36m2\u001b[0m\u001b[0;34m/\u001b[0m\u001b[0;36m0\u001b[0m\u001b[0;34m\u001b[0m\u001b[0;34m\u001b[0m\u001b[0m\n\u001b[0m",
      "\u001b[0;31mZeroDivisionError\u001b[0m: division by zero"
     ]
    }
   ],
   "source": [
    "2/0"
   ]
  },
  {
   "cell_type": "code",
   "execution_count": null,
   "id": "9e9a7cad-914f-4bca-81b7-90e1e24a611f",
   "metadata": {},
   "outputs": [],
   "source": [
    "try: this block tests the excepted error to occur\n",
    "except: handle the error\n",
    "else:if there is no error - what to do\n",
    "finally: this block is always used whther exception occurs or not"
   ]
  },
  {
   "cell_type": "code",
   "execution_count": 157,
   "id": "9c8f9aad-c8ac-4bc9-97b0-d7ee298ced50",
   "metadata": {},
   "outputs": [
    {
     "name": "stdout",
     "output_type": "stream",
     "text": [
      "Enter the first number:  4\n",
      "Enter the second number:  6\n"
     ]
    },
    {
     "name": "stdout",
     "output_type": "stream",
     "text": [
      "0.6666666666666666\n",
      "Execution is done\n"
     ]
    }
   ],
   "source": [
    "try:\n",
    "    \n",
    "    a = int(input('Enter the first number: '))\n",
    "    b = int(input('Enter the second number: '))\n",
    "    c = a/b\n",
    "\n",
    "except ZeroDivisionError as ex1:\n",
    "    print(\" Check the denominator if the value is zero\")\n",
    "\n",
    "else:\n",
    "    print(c)\n",
    "    \n",
    "\n",
    "finally:\n",
    "    print('Execution is done')"
   ]
  },
  {
   "cell_type": "markdown",
   "id": "1ea6c168-c109-4ae6-b483-2d56cea826d9",
   "metadata": {},
   "source": [
    "## Mapping functions over Iterables"
   ]
  },
  {
   "cell_type": "code",
   "execution_count": 158,
   "id": "ed692586-3c37-4121-87af-ca0406297208",
   "metadata": {},
   "outputs": [],
   "source": [
    "def f(a,b): return 20+a+b\n",
    "def g(a): return a*a"
   ]
  },
  {
   "cell_type": "code",
   "execution_count": 160,
   "id": "29ce6f2e-7b84-426b-9997-6e1422a71ee1",
   "metadata": {},
   "outputs": [
    {
     "data": {
      "text/plain": [
       "[1, 4, 9, 16]"
      ]
     },
     "execution_count": 160,
     "metadata": {},
     "output_type": "execute_result"
    }
   ],
   "source": [
    "list(map(g,[1,2,3,4]))"
   ]
  },
  {
   "cell_type": "code",
   "execution_count": 161,
   "id": "eaa8f221-ed95-43d1-85b4-2e50c21ed93e",
   "metadata": {},
   "outputs": [
    {
     "data": {
      "text/plain": [
       "[31, 42, 53, 64]"
      ]
     },
     "execution_count": 161,
     "metadata": {},
     "output_type": "execute_result"
    }
   ],
   "source": [
    "list(map(f,[1,2,3,4],[10,20,30,40]))"
   ]
  },
  {
   "cell_type": "code",
   "execution_count": 162,
   "id": "31063416-a56a-4280-af09-2644e2f514d6",
   "metadata": {},
   "outputs": [
    {
     "data": {
      "text/plain": [
       "[23, 441, 13824, 456976]"
      ]
     },
     "execution_count": 162,
     "metadata": {},
     "output_type": "execute_result"
    }
   ],
   "source": [
    "list(map(lambda x, y: pow(x,y), [23,21,24,26],[1,2,3,4]))"
   ]
  },
  {
   "cell_type": "markdown",
   "id": "c68b98ce-b3b9-4e33-8f3a-2e23f39313b6",
   "metadata": {},
   "source": [
    "## Combining Items in Iterables: reduce"
   ]
  },
  {
   "cell_type": "code",
   "execution_count": 163,
   "id": "32c6615f-b41a-4488-b015-599b5ac74181",
   "metadata": {},
   "outputs": [],
   "source": [
    "from functools import reduce"
   ]
  },
  {
   "cell_type": "code",
   "execution_count": 164,
   "id": "cc662e44-5174-467e-be97-72822b014519",
   "metadata": {},
   "outputs": [
    {
     "name": "stdout",
     "output_type": "stream",
     "text": [
      "10\n"
     ]
    }
   ],
   "source": [
    "print(reduce((lambda x, y: x + y),[1, 2, 3, 4]))"
   ]
  },
  {
   "cell_type": "code",
   "execution_count": 165,
   "id": "ea490c4a-aa35-49b7-b0be-d34e7ca3a9fa",
   "metadata": {},
   "outputs": [],
   "source": [
    "def f(a,b): return a*b"
   ]
  },
  {
   "cell_type": "code",
   "execution_count": 166,
   "id": "b239828f-47e9-492d-8d54-0a711a18746d",
   "metadata": {},
   "outputs": [
    {
     "name": "stdout",
     "output_type": "stream",
     "text": [
      "24\n"
     ]
    }
   ],
   "source": [
    "print(reduce(f,[1,2,3,4]))"
   ]
  },
  {
   "cell_type": "markdown",
   "id": "fdfb6376-b112-498f-8a41-8eba7e6dd495",
   "metadata": {},
   "source": [
    "## Selecting Items in Iterables: filter"
   ]
  },
  {
   "cell_type": "markdown",
   "id": "1a8f5f0e-2712-412d-93b7-4dafb38df9c8",
   "metadata": {},
   "source": [
    " - filter selects an iterable's items based on test function"
   ]
  },
  {
   "cell_type": "code",
   "execution_count": 168,
   "id": "610327d5-a22b-44da-b5e4-550903e05917",
   "metadata": {},
   "outputs": [
    {
     "data": {
      "text/plain": [
       "[1, 2, 3, 4]"
      ]
     },
     "execution_count": 168,
     "metadata": {},
     "output_type": "execute_result"
    }
   ],
   "source": [
    "list(filter(lambda x: x>0, range(-5,5)))"
   ]
  },
  {
   "cell_type": "code",
   "execution_count": 169,
   "id": "f02c744b-17af-4388-8d33-a00ab266b600",
   "metadata": {},
   "outputs": [
    {
     "data": {
      "text/plain": [
       "[-5, -4, -3, -2, -1]"
      ]
     },
     "execution_count": 169,
     "metadata": {},
     "output_type": "execute_result"
    }
   ],
   "source": [
    "list(filter(lambda x: x<0, range(-5,5)))"
   ]
  },
  {
   "cell_type": "code",
   "execution_count": 170,
   "id": "5aec9bab-7f61-4237-bf4d-56b093d3a41a",
   "metadata": {},
   "outputs": [],
   "source": [
    "def f(a):\n",
    "    if a%2 == 0:\n",
    "        return True\n",
    "    else:\n",
    "        return False"
   ]
  },
  {
   "cell_type": "code",
   "execution_count": 172,
   "id": "6e6d4684-1a51-4ada-8ebd-7bee7d463d8d",
   "metadata": {},
   "outputs": [
    {
     "data": {
      "text/plain": [
       "[-4, -2, 0, 2, 4]"
      ]
     },
     "execution_count": 172,
     "metadata": {},
     "output_type": "execute_result"
    }
   ],
   "source": [
    "list(filter(f, range(-5,5)))"
   ]
  },
  {
   "cell_type": "code",
   "execution_count": null,
   "id": "5f64e1dd-bef0-468f-8ee3-24241b99db15",
   "metadata": {},
   "outputs": [],
   "source": []
  }
 ],
 "metadata": {
  "kernelspec": {
   "display_name": "Python 3",
   "language": "python",
   "name": "python3"
  },
  "language_info": {
   "codemirror_mode": {
    "name": "ipython",
    "version": 3
   },
   "file_extension": ".py",
   "mimetype": "text/x-python",
   "name": "python",
   "nbconvert_exporter": "python",
   "pygments_lexer": "ipython3",
   "version": "3.9.6"
  }
 },
 "nbformat": 4,
 "nbformat_minor": 5
}
